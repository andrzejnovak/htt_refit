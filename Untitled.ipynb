{
 "cells": [
  {
   "cell_type": "code",
   "execution_count": 190,
   "id": "0bc7d7b2-98ce-4a52-ac27-38bdb52fbd3a",
   "metadata": {},
   "outputs": [],
   "source": [
    "import rhalphalib as rl\n",
    "# import coffea\n",
    "import uproot\n",
    "import hist\n",
    "import mplhep as hep\n",
    "import numpy as np\n",
    "import matplotlib.pyplot as plt\n",
    "import json, yaml\n",
    "import pickle\n",
    "import tqdm\n",
    "import logging\n",
    "from rich.logging import RichHandler\n",
    "\n",
    "FORMAT = \"%(message)s\"\n",
    "logging.basicConfig(\n",
    "    level=logging.INFO, format=FORMAT, datefmt=\"[%X]\", handlers=[RichHandler()]\n",
    ")\n",
    "\n",
    "log = logging.getLogger(\"rich\")"
   ]
  },
  {
   "cell_type": "code",
   "execution_count": 2,
   "id": "1a931858-5851-4774-8860-ec728084b024",
   "metadata": {},
   "outputs": [],
   "source": [
    "import samplelists\n",
    "import processmap"
   ]
  },
  {
   "cell_type": "code",
   "execution_count": 3,
   "id": "2afa5b6f-368c-4c5c-b48b-0993996d17f8",
   "metadata": {},
   "outputs": [
    {
     "data": {
      "text/plain": [
       "odict_keys(['zll', 'zee', 'zem', 'zmm', 'ztt', 'wjets', 'vqq', 'qcd', 'tt-dilep', 'tt-semilep', 'tt-had', 'st', 'vv', 'h125', 'phi10', 'phi20', 'phi30', 'phi40', 'phi50', 'phi75', 'phi100', 'phi125', 'phi150', 'phi200', 'phi250', 'phi300', 'data'])"
      ]
     },
     "execution_count": 3,
     "metadata": {},
     "output_type": "execute_result"
    }
   ],
   "source": [
    "processmap.process_map.keys()"
   ]
  },
  {
   "cell_type": "code",
   "execution_count": 4,
   "id": "b5f779b2-8929-45b5-8b84-88e15e2bd495",
   "metadata": {},
   "outputs": [],
   "source": [
    "import yaml, os, copy\n",
    "\n",
    "with open(\"metadata/xs.yml\") as stream:\n",
    "    xs_dict = yaml.safe_load(stream)\n",
    "# xs_dict"
   ]
  },
  {
   "cell_type": "code",
   "execution_count": 5,
   "id": "929b589e-7076-44dc-8ea9-982b82dae56d",
   "metadata": {},
   "outputs": [
    {
     "data": {
      "text/plain": [
       "['SingleElectron_Run2017B',\n",
       " 'SingleElectron_Run2017C',\n",
       " 'SingleElectron_Run2017D',\n",
       " 'SingleElectron_Run2017E',\n",
       " 'SingleElectron_Run2017F',\n",
       " 'SingleMuon_Run2017B',\n",
       " 'SingleMuon_Run2017C',\n",
       " 'SingleMuon_Run2017D',\n",
       " 'SingleMuon_Run2017E',\n",
       " 'SingleMuon_Run2017F',\n",
       " 'MET_Run2017B',\n",
       " 'MET_Run2017C',\n",
       " 'MET_Run2017D',\n",
       " 'MET_Run2017E',\n",
       " 'MET_Run2017F']"
      ]
     },
     "execution_count": 5,
     "metadata": {},
     "output_type": "execute_result"
    }
   ],
   "source": [
    "samplelists.getSamplesData(\"2017\")"
   ]
  },
  {
   "cell_type": "code",
   "execution_count": 109,
   "id": "67792450-28bb-463b-8f35-92385dc4e989",
   "metadata": {
    "scrolled": true
   },
   "outputs": [
    {
     "name": "stdout",
     "output_type": "stream",
     "text": [
      "DYJetsToLL_Pt-100To250_TuneCP5_13TeV-amcatnloFXFX-pythia8_Zem\n"
     ]
    },
    {
     "data": {
      "text/html": [
       "<pre style=\"white-space:pre;overflow-x:auto;line-height:normal;font-family:Menlo,'DejaVu Sans Mono',consolas,'Courier New',monospace\"><span style=\"color: #7fbfbf; text-decoration-color: #7fbfbf\">[15:02:45] </span><span style=\"color: #000080; text-decoration-color: #000080\">INFO    </span> Readign sample: DYJetsToLL_Pt-100To250_TuneCP5_13TeV-amcatnloFXFX-pythia8_Zem, <a href=\"file:///tmp/ipykernel_18646/2088555353.py\" target=\"_blank\"><span style=\"color: #7f7f7f; text-decoration-color: #7f7f7f\">2088555353.py</span></a><span style=\"color: #7f7f7f; text-decoration-color: #7f7f7f\">:</span><a href=\"file:///tmp/ipykernel_18646/2088555353.py#23\" target=\"_blank\"><span style=\"color: #7f7f7f; text-decoration-color: #7f7f7f\">23</span></a>\n",
       "<span style=\"color: #7fbfbf; text-decoration-color: #7fbfbf\">           </span>         from:                                                                          <span style=\"color: #7f7f7f; text-decoration-color: #7f7f7f\">                </span>\n",
       "<span style=\"color: #7fbfbf; text-decoration-color: #7fbfbf\">           </span>         inputs16APV/hists_sum_DYJetsToLL_Pt-100To250_TuneCP5_13TeV-amcatnloFXFX-pythia <span style=\"color: #7f7f7f; text-decoration-color: #7f7f7f\">                </span>\n",
       "<span style=\"color: #7fbfbf; text-decoration-color: #7fbfbf\">           </span>         8.hist                                                                         <span style=\"color: #7f7f7f; text-decoration-color: #7f7f7f\">                </span>\n",
       "</pre>\n"
      ],
      "text/plain": [
       "\u001b[2;36m[15:02:45]\u001b[0m\u001b[2;36m \u001b[0m\u001b[34mINFO    \u001b[0m Readign sample: DYJetsToLL_Pt-100To250_TuneCP5_13TeV-amcatnloFXFX-pythia8_Zem, \u001b]8;id=999391;file:///tmp/ipykernel_18646/2088555353.py\u001b\\\u001b[2m2088555353.py\u001b[0m\u001b]8;;\u001b\\\u001b[2m:\u001b[0m\u001b]8;id=707334;file:///tmp/ipykernel_18646/2088555353.py#23\u001b\\\u001b[2m23\u001b[0m\u001b]8;;\u001b\\\n",
       "\u001b[2;36m           \u001b[0m         from:                                                                          \u001b[2m                \u001b[0m\n",
       "\u001b[2;36m           \u001b[0m         inputs16APV/hists_sum_DYJetsToLL_Pt-100To250_TuneCP5_13TeV-amcatnloFXFX-pythia \u001b[2m                \u001b[0m\n",
       "\u001b[2;36m           \u001b[0m         8.hist                                                                         \u001b[2m                \u001b[0m\n"
      ]
     },
     "metadata": {},
     "output_type": "display_data"
    },
    {
     "name": "stdout",
     "output_type": "stream",
     "text": [
      "DYJetsToLL_Pt-250To400_TuneCP5_13TeV-amcatnloFXFX-pythia8_Zem\n"
     ]
    },
    {
     "data": {
      "text/html": [
       "<pre style=\"white-space:pre;overflow-x:auto;line-height:normal;font-family:Menlo,'DejaVu Sans Mono',consolas,'Courier New',monospace\"><span style=\"color: #7fbfbf; text-decoration-color: #7fbfbf\">           </span><span style=\"color: #000080; text-decoration-color: #000080\">INFO    </span> Readign sample: DYJetsToLL_Pt-250To400_TuneCP5_13TeV-amcatnloFXFX-pythia8_Zem, <a href=\"file:///tmp/ipykernel_18646/2088555353.py\" target=\"_blank\"><span style=\"color: #7f7f7f; text-decoration-color: #7f7f7f\">2088555353.py</span></a><span style=\"color: #7f7f7f; text-decoration-color: #7f7f7f\">:</span><a href=\"file:///tmp/ipykernel_18646/2088555353.py#23\" target=\"_blank\"><span style=\"color: #7f7f7f; text-decoration-color: #7f7f7f\">23</span></a>\n",
       "<span style=\"color: #7fbfbf; text-decoration-color: #7fbfbf\">           </span>         from:                                                                          <span style=\"color: #7f7f7f; text-decoration-color: #7f7f7f\">                </span>\n",
       "<span style=\"color: #7fbfbf; text-decoration-color: #7fbfbf\">           </span>         inputs16APV/hists_sum_DYJetsToLL_Pt-250To400_TuneCP5_13TeV-amcatnloFXFX-pythia <span style=\"color: #7f7f7f; text-decoration-color: #7f7f7f\">                </span>\n",
       "<span style=\"color: #7fbfbf; text-decoration-color: #7fbfbf\">           </span>         8.hist                                                                         <span style=\"color: #7f7f7f; text-decoration-color: #7f7f7f\">                </span>\n",
       "</pre>\n"
      ],
      "text/plain": [
       "\u001b[2;36m          \u001b[0m\u001b[2;36m \u001b[0m\u001b[34mINFO    \u001b[0m Readign sample: DYJetsToLL_Pt-250To400_TuneCP5_13TeV-amcatnloFXFX-pythia8_Zem, \u001b]8;id=630738;file:///tmp/ipykernel_18646/2088555353.py\u001b\\\u001b[2m2088555353.py\u001b[0m\u001b]8;;\u001b\\\u001b[2m:\u001b[0m\u001b]8;id=203314;file:///tmp/ipykernel_18646/2088555353.py#23\u001b\\\u001b[2m23\u001b[0m\u001b]8;;\u001b\\\n",
       "\u001b[2;36m           \u001b[0m         from:                                                                          \u001b[2m                \u001b[0m\n",
       "\u001b[2;36m           \u001b[0m         inputs16APV/hists_sum_DYJetsToLL_Pt-250To400_TuneCP5_13TeV-amcatnloFXFX-pythia \u001b[2m                \u001b[0m\n",
       "\u001b[2;36m           \u001b[0m         8.hist                                                                         \u001b[2m                \u001b[0m\n"
      ]
     },
     "metadata": {},
     "output_type": "display_data"
    },
    {
     "name": "stdout",
     "output_type": "stream",
     "text": [
      "DYJetsToLL_Pt-400To650_TuneCP5_13TeV-amcatnloFXFX-pythia8_Zem\n"
     ]
    },
    {
     "data": {
      "text/html": [
       "<pre style=\"white-space:pre;overflow-x:auto;line-height:normal;font-family:Menlo,'DejaVu Sans Mono',consolas,'Courier New',monospace\"><span style=\"color: #7fbfbf; text-decoration-color: #7fbfbf\">           </span><span style=\"color: #000080; text-decoration-color: #000080\">INFO    </span> Readign sample: DYJetsToLL_Pt-400To650_TuneCP5_13TeV-amcatnloFXFX-pythia8_Zem, <a href=\"file:///tmp/ipykernel_18646/2088555353.py\" target=\"_blank\"><span style=\"color: #7f7f7f; text-decoration-color: #7f7f7f\">2088555353.py</span></a><span style=\"color: #7f7f7f; text-decoration-color: #7f7f7f\">:</span><a href=\"file:///tmp/ipykernel_18646/2088555353.py#23\" target=\"_blank\"><span style=\"color: #7f7f7f; text-decoration-color: #7f7f7f\">23</span></a>\n",
       "<span style=\"color: #7fbfbf; text-decoration-color: #7fbfbf\">           </span>         from:                                                                          <span style=\"color: #7f7f7f; text-decoration-color: #7f7f7f\">                </span>\n",
       "<span style=\"color: #7fbfbf; text-decoration-color: #7fbfbf\">           </span>         inputs16APV/hists_sum_DYJetsToLL_Pt-400To650_TuneCP5_13TeV-amcatnloFXFX-pythia <span style=\"color: #7f7f7f; text-decoration-color: #7f7f7f\">                </span>\n",
       "<span style=\"color: #7fbfbf; text-decoration-color: #7fbfbf\">           </span>         8.hist                                                                         <span style=\"color: #7f7f7f; text-decoration-color: #7f7f7f\">                </span>\n",
       "</pre>\n"
      ],
      "text/plain": [
       "\u001b[2;36m          \u001b[0m\u001b[2;36m \u001b[0m\u001b[34mINFO    \u001b[0m Readign sample: DYJetsToLL_Pt-400To650_TuneCP5_13TeV-amcatnloFXFX-pythia8_Zem, \u001b]8;id=121901;file:///tmp/ipykernel_18646/2088555353.py\u001b\\\u001b[2m2088555353.py\u001b[0m\u001b]8;;\u001b\\\u001b[2m:\u001b[0m\u001b]8;id=457309;file:///tmp/ipykernel_18646/2088555353.py#23\u001b\\\u001b[2m23\u001b[0m\u001b]8;;\u001b\\\n",
       "\u001b[2;36m           \u001b[0m         from:                                                                          \u001b[2m                \u001b[0m\n",
       "\u001b[2;36m           \u001b[0m         inputs16APV/hists_sum_DYJetsToLL_Pt-400To650_TuneCP5_13TeV-amcatnloFXFX-pythia \u001b[2m                \u001b[0m\n",
       "\u001b[2;36m           \u001b[0m         8.hist                                                                         \u001b[2m                \u001b[0m\n"
      ]
     },
     "metadata": {},
     "output_type": "display_data"
    },
    {
     "name": "stdout",
     "output_type": "stream",
     "text": [
      "DYJetsToLL_Pt-650ToInf_TuneCP5_13TeV-amcatnloFXFX-pythia8_Zem\n"
     ]
    },
    {
     "data": {
      "text/html": [
       "<pre style=\"white-space:pre;overflow-x:auto;line-height:normal;font-family:Menlo,'DejaVu Sans Mono',consolas,'Courier New',monospace\"><span style=\"color: #7fbfbf; text-decoration-color: #7fbfbf\">           </span><span style=\"color: #000080; text-decoration-color: #000080\">INFO    </span> Readign sample: DYJetsToLL_Pt-650ToInf_TuneCP5_13TeV-amcatnloFXFX-pythia8_Zem, <a href=\"file:///tmp/ipykernel_18646/2088555353.py\" target=\"_blank\"><span style=\"color: #7f7f7f; text-decoration-color: #7f7f7f\">2088555353.py</span></a><span style=\"color: #7f7f7f; text-decoration-color: #7f7f7f\">:</span><a href=\"file:///tmp/ipykernel_18646/2088555353.py#23\" target=\"_blank\"><span style=\"color: #7f7f7f; text-decoration-color: #7f7f7f\">23</span></a>\n",
       "<span style=\"color: #7fbfbf; text-decoration-color: #7fbfbf\">           </span>         from:                                                                          <span style=\"color: #7f7f7f; text-decoration-color: #7f7f7f\">                </span>\n",
       "<span style=\"color: #7fbfbf; text-decoration-color: #7fbfbf\">           </span>         inputs16APV/hists_sum_DYJetsToLL_Pt-650ToInf_TuneCP5_13TeV-amcatnloFXFX-pythia <span style=\"color: #7f7f7f; text-decoration-color: #7f7f7f\">                </span>\n",
       "<span style=\"color: #7fbfbf; text-decoration-color: #7fbfbf\">           </span>         8.hist                                                                         <span style=\"color: #7f7f7f; text-decoration-color: #7f7f7f\">                </span>\n",
       "</pre>\n"
      ],
      "text/plain": [
       "\u001b[2;36m          \u001b[0m\u001b[2;36m \u001b[0m\u001b[34mINFO    \u001b[0m Readign sample: DYJetsToLL_Pt-650ToInf_TuneCP5_13TeV-amcatnloFXFX-pythia8_Zem, \u001b]8;id=753182;file:///tmp/ipykernel_18646/2088555353.py\u001b\\\u001b[2m2088555353.py\u001b[0m\u001b]8;;\u001b\\\u001b[2m:\u001b[0m\u001b]8;id=107530;file:///tmp/ipykernel_18646/2088555353.py#23\u001b\\\u001b[2m23\u001b[0m\u001b]8;;\u001b\\\n",
       "\u001b[2;36m           \u001b[0m         from:                                                                          \u001b[2m                \u001b[0m\n",
       "\u001b[2;36m           \u001b[0m         inputs16APV/hists_sum_DYJetsToLL_Pt-650ToInf_TuneCP5_13TeV-amcatnloFXFX-pythia \u001b[2m                \u001b[0m\n",
       "\u001b[2;36m           \u001b[0m         8.hist                                                                         \u001b[2m                \u001b[0m\n"
      ]
     },
     "metadata": {},
     "output_type": "display_data"
    },
    {
     "name": "stdout",
     "output_type": "stream",
     "text": [
      "DYJetsToLL_Pt-50To100_Zem\n"
     ]
    },
    {
     "data": {
      "text/html": [
       "<pre style=\"white-space:pre;overflow-x:auto;line-height:normal;font-family:Menlo,'DejaVu Sans Mono',consolas,'Courier New',monospace\"><span style=\"color: #7fbfbf; text-decoration-color: #7fbfbf\">           </span><span style=\"color: #000080; text-decoration-color: #000080\">INFO    </span> Readign sample: DYJetsToLL_Pt-50To100_Zem, from:                               <a href=\"file:///tmp/ipykernel_18646/2088555353.py\" target=\"_blank\"><span style=\"color: #7f7f7f; text-decoration-color: #7f7f7f\">2088555353.py</span></a><span style=\"color: #7f7f7f; text-decoration-color: #7f7f7f\">:</span><a href=\"file:///tmp/ipykernel_18646/2088555353.py#23\" target=\"_blank\"><span style=\"color: #7f7f7f; text-decoration-color: #7f7f7f\">23</span></a>\n",
       "<span style=\"color: #7fbfbf; text-decoration-color: #7fbfbf\">           </span>         inputs16APV/hists_sum_DYJetsToLL_Pt-50To100.hist                               <span style=\"color: #7f7f7f; text-decoration-color: #7f7f7f\">                </span>\n",
       "</pre>\n"
      ],
      "text/plain": [
       "\u001b[2;36m          \u001b[0m\u001b[2;36m \u001b[0m\u001b[34mINFO    \u001b[0m Readign sample: DYJetsToLL_Pt-50To100_Zem, from:                               \u001b]8;id=511749;file:///tmp/ipykernel_18646/2088555353.py\u001b\\\u001b[2m2088555353.py\u001b[0m\u001b]8;;\u001b\\\u001b[2m:\u001b[0m\u001b]8;id=938485;file:///tmp/ipykernel_18646/2088555353.py#23\u001b\\\u001b[2m23\u001b[0m\u001b]8;;\u001b\\\n",
       "\u001b[2;36m           \u001b[0m         inputs16APV/hists_sum_DYJetsToLL_Pt-50To100.hist                               \u001b[2m                \u001b[0m\n"
      ]
     },
     "metadata": {},
     "output_type": "display_data"
    },
    {
     "data": {
      "text/html": [
       "<pre style=\"white-space:pre;overflow-x:auto;line-height:normal;font-family:Menlo,'DejaVu Sans Mono',consolas,'Courier New',monospace\"><span style=\"color: #7fbfbf; text-decoration-color: #7fbfbf\">           </span><span style=\"color: #000080; text-decoration-color: #000080\">INFO    </span> Scaling DYJetsToLL_Pt-50To100_Zem by <span style=\"color: #008080; text-decoration-color: #008080; font-weight: bold\">19.520000000</span> <span style=\"font-weight: bold\">(</span>lumi = <span style=\"color: #008080; text-decoration-color: #008080; font-weight: bold\">19.52</span>, xs = nan,     <a href=\"file:///tmp/ipykernel_18646/2088555353.py\" target=\"_blank\"><span style=\"color: #7f7f7f; text-decoration-color: #7f7f7f\">2088555353.py</span></a><span style=\"color: #7f7f7f; text-decoration-color: #7f7f7f\">:</span><a href=\"file:///tmp/ipykernel_18646/2088555353.py#34\" target=\"_blank\"><span style=\"color: #7f7f7f; text-decoration-color: #7f7f7f\">34</span></a>\n",
       "<span style=\"color: #7fbfbf; text-decoration-color: #7fbfbf\">           </span>         sumw = <span style=\"color: #008080; text-decoration-color: #008080; font-weight: bold\">80418940473.000</span><span style=\"font-weight: bold\">)</span>                                                        <span style=\"color: #7f7f7f; text-decoration-color: #7f7f7f\">                </span>\n",
       "</pre>\n"
      ],
      "text/plain": [
       "\u001b[2;36m          \u001b[0m\u001b[2;36m \u001b[0m\u001b[34mINFO    \u001b[0m Scaling DYJetsToLL_Pt-50To100_Zem by \u001b[1;36m19.520000000\u001b[0m \u001b[1m(\u001b[0mlumi = \u001b[1;36m19.52\u001b[0m, xs = nan,     \u001b]8;id=598145;file:///tmp/ipykernel_18646/2088555353.py\u001b\\\u001b[2m2088555353.py\u001b[0m\u001b]8;;\u001b\\\u001b[2m:\u001b[0m\u001b]8;id=259601;file:///tmp/ipykernel_18646/2088555353.py#34\u001b\\\u001b[2m34\u001b[0m\u001b]8;;\u001b\\\n",
       "\u001b[2;36m           \u001b[0m         sumw = \u001b[1;36m80418940473.000\u001b[0m\u001b[1m)\u001b[0m                                                        \u001b[2m                \u001b[0m\n"
      ]
     },
     "metadata": {},
     "output_type": "display_data"
    },
    {
     "name": "stdout",
     "output_type": "stream",
     "text": [
      "DYJetsToLL_Pt-100To250_Zem\n"
     ]
    },
    {
     "data": {
      "text/html": [
       "<pre style=\"white-space:pre;overflow-x:auto;line-height:normal;font-family:Menlo,'DejaVu Sans Mono',consolas,'Courier New',monospace\"><span style=\"color: #7fbfbf; text-decoration-color: #7fbfbf\">           </span><span style=\"color: #000080; text-decoration-color: #000080\">INFO    </span> Readign sample: DYJetsToLL_Pt-100To250_Zem, from:                              <a href=\"file:///tmp/ipykernel_18646/2088555353.py\" target=\"_blank\"><span style=\"color: #7f7f7f; text-decoration-color: #7f7f7f\">2088555353.py</span></a><span style=\"color: #7f7f7f; text-decoration-color: #7f7f7f\">:</span><a href=\"file:///tmp/ipykernel_18646/2088555353.py#23\" target=\"_blank\"><span style=\"color: #7f7f7f; text-decoration-color: #7f7f7f\">23</span></a>\n",
       "<span style=\"color: #7fbfbf; text-decoration-color: #7fbfbf\">           </span>         inputs16APV/hists_sum_DYJetsToLL_Pt-100To250.hist                              <span style=\"color: #7f7f7f; text-decoration-color: #7f7f7f\">                </span>\n",
       "</pre>\n"
      ],
      "text/plain": [
       "\u001b[2;36m          \u001b[0m\u001b[2;36m \u001b[0m\u001b[34mINFO    \u001b[0m Readign sample: DYJetsToLL_Pt-100To250_Zem, from:                              \u001b]8;id=74702;file:///tmp/ipykernel_18646/2088555353.py\u001b\\\u001b[2m2088555353.py\u001b[0m\u001b]8;;\u001b\\\u001b[2m:\u001b[0m\u001b]8;id=591287;file:///tmp/ipykernel_18646/2088555353.py#23\u001b\\\u001b[2m23\u001b[0m\u001b]8;;\u001b\\\n",
       "\u001b[2;36m           \u001b[0m         inputs16APV/hists_sum_DYJetsToLL_Pt-100To250.hist                              \u001b[2m                \u001b[0m\n"
      ]
     },
     "metadata": {},
     "output_type": "display_data"
    },
    {
     "data": {
      "text/html": [
       "<pre style=\"white-space:pre;overflow-x:auto;line-height:normal;font-family:Menlo,'DejaVu Sans Mono',consolas,'Courier New',monospace\"><span style=\"color: #7fbfbf; text-decoration-color: #7fbfbf\">           </span><span style=\"color: #000080; text-decoration-color: #000080\">INFO    </span> Scaling DYJetsToLL_Pt-100To250_Zem by <span style=\"color: #008080; text-decoration-color: #008080; font-weight: bold\">19.520000000</span> <span style=\"font-weight: bold\">(</span>lumi = <span style=\"color: #008080; text-decoration-color: #008080; font-weight: bold\">19.52</span>, xs = nan,    <a href=\"file:///tmp/ipykernel_18646/2088555353.py\" target=\"_blank\"><span style=\"color: #7f7f7f; text-decoration-color: #7f7f7f\">2088555353.py</span></a><span style=\"color: #7f7f7f; text-decoration-color: #7f7f7f\">:</span><a href=\"file:///tmp/ipykernel_18646/2088555353.py#34\" target=\"_blank\"><span style=\"color: #7f7f7f; text-decoration-color: #7f7f7f\">34</span></a>\n",
       "<span style=\"color: #7fbfbf; text-decoration-color: #7fbfbf\">           </span>         sumw = <span style=\"color: #008080; text-decoration-color: #008080; font-weight: bold\">16698299921.156</span><span style=\"font-weight: bold\">)</span>                                                        <span style=\"color: #7f7f7f; text-decoration-color: #7f7f7f\">                </span>\n",
       "</pre>\n"
      ],
      "text/plain": [
       "\u001b[2;36m          \u001b[0m\u001b[2;36m \u001b[0m\u001b[34mINFO    \u001b[0m Scaling DYJetsToLL_Pt-100To250_Zem by \u001b[1;36m19.520000000\u001b[0m \u001b[1m(\u001b[0mlumi = \u001b[1;36m19.52\u001b[0m, xs = nan,    \u001b]8;id=876590;file:///tmp/ipykernel_18646/2088555353.py\u001b\\\u001b[2m2088555353.py\u001b[0m\u001b]8;;\u001b\\\u001b[2m:\u001b[0m\u001b]8;id=420764;file:///tmp/ipykernel_18646/2088555353.py#34\u001b\\\u001b[2m34\u001b[0m\u001b]8;;\u001b\\\n",
       "\u001b[2;36m           \u001b[0m         sumw = \u001b[1;36m16698299921.156\u001b[0m\u001b[1m)\u001b[0m                                                        \u001b[2m                \u001b[0m\n"
      ]
     },
     "metadata": {},
     "output_type": "display_data"
    },
    {
     "name": "stdout",
     "output_type": "stream",
     "text": [
      "DYJetsToLL_Pt-250To400_Zem\n"
     ]
    },
    {
     "data": {
      "text/html": [
       "<pre style=\"white-space:pre;overflow-x:auto;line-height:normal;font-family:Menlo,'DejaVu Sans Mono',consolas,'Courier New',monospace\"><span style=\"color: #7fbfbf; text-decoration-color: #7fbfbf\">           </span><span style=\"color: #000080; text-decoration-color: #000080\">INFO    </span> Readign sample: DYJetsToLL_Pt-250To400_Zem, from:                              <a href=\"file:///tmp/ipykernel_18646/2088555353.py\" target=\"_blank\"><span style=\"color: #7f7f7f; text-decoration-color: #7f7f7f\">2088555353.py</span></a><span style=\"color: #7f7f7f; text-decoration-color: #7f7f7f\">:</span><a href=\"file:///tmp/ipykernel_18646/2088555353.py#23\" target=\"_blank\"><span style=\"color: #7f7f7f; text-decoration-color: #7f7f7f\">23</span></a>\n",
       "<span style=\"color: #7fbfbf; text-decoration-color: #7fbfbf\">           </span>         inputs16APV/hists_sum_DYJetsToLL_Pt-250To400.hist                              <span style=\"color: #7f7f7f; text-decoration-color: #7f7f7f\">                </span>\n",
       "</pre>\n"
      ],
      "text/plain": [
       "\u001b[2;36m          \u001b[0m\u001b[2;36m \u001b[0m\u001b[34mINFO    \u001b[0m Readign sample: DYJetsToLL_Pt-250To400_Zem, from:                              \u001b]8;id=355637;file:///tmp/ipykernel_18646/2088555353.py\u001b\\\u001b[2m2088555353.py\u001b[0m\u001b]8;;\u001b\\\u001b[2m:\u001b[0m\u001b]8;id=795907;file:///tmp/ipykernel_18646/2088555353.py#23\u001b\\\u001b[2m23\u001b[0m\u001b]8;;\u001b\\\n",
       "\u001b[2;36m           \u001b[0m         inputs16APV/hists_sum_DYJetsToLL_Pt-250To400.hist                              \u001b[2m                \u001b[0m\n"
      ]
     },
     "metadata": {},
     "output_type": "display_data"
    },
    {
     "data": {
      "text/html": [
       "<pre style=\"white-space:pre;overflow-x:auto;line-height:normal;font-family:Menlo,'DejaVu Sans Mono',consolas,'Courier New',monospace\"><span style=\"color: #7fbfbf; text-decoration-color: #7fbfbf\">           </span><span style=\"color: #000080; text-decoration-color: #000080\">INFO    </span> Scaling DYJetsToLL_Pt-250To400_Zem by <span style=\"color: #008080; text-decoration-color: #008080; font-weight: bold\">19.520000000</span> <span style=\"font-weight: bold\">(</span>lumi = <span style=\"color: #008080; text-decoration-color: #008080; font-weight: bold\">19.52</span>, xs = nan,    <a href=\"file:///tmp/ipykernel_18646/2088555353.py\" target=\"_blank\"><span style=\"color: #7f7f7f; text-decoration-color: #7f7f7f\">2088555353.py</span></a><span style=\"color: #7f7f7f; text-decoration-color: #7f7f7f\">:</span><a href=\"file:///tmp/ipykernel_18646/2088555353.py#34\" target=\"_blank\"><span style=\"color: #7f7f7f; text-decoration-color: #7f7f7f\">34</span></a>\n",
       "<span style=\"color: #7fbfbf; text-decoration-color: #7fbfbf\">           </span>         sumw = <span style=\"color: #008080; text-decoration-color: #008080; font-weight: bold\">136064737.492</span><span style=\"font-weight: bold\">)</span>                                                          <span style=\"color: #7f7f7f; text-decoration-color: #7f7f7f\">                </span>\n",
       "</pre>\n"
      ],
      "text/plain": [
       "\u001b[2;36m          \u001b[0m\u001b[2;36m \u001b[0m\u001b[34mINFO    \u001b[0m Scaling DYJetsToLL_Pt-250To400_Zem by \u001b[1;36m19.520000000\u001b[0m \u001b[1m(\u001b[0mlumi = \u001b[1;36m19.52\u001b[0m, xs = nan,    \u001b]8;id=410524;file:///tmp/ipykernel_18646/2088555353.py\u001b\\\u001b[2m2088555353.py\u001b[0m\u001b]8;;\u001b\\\u001b[2m:\u001b[0m\u001b]8;id=696236;file:///tmp/ipykernel_18646/2088555353.py#34\u001b\\\u001b[2m34\u001b[0m\u001b]8;;\u001b\\\n",
       "\u001b[2;36m           \u001b[0m         sumw = \u001b[1;36m136064737.492\u001b[0m\u001b[1m)\u001b[0m                                                          \u001b[2m                \u001b[0m\n"
      ]
     },
     "metadata": {},
     "output_type": "display_data"
    },
    {
     "name": "stdout",
     "output_type": "stream",
     "text": [
      "DYJetsToLL_Pt-400To650_Zem\n"
     ]
    },
    {
     "data": {
      "text/html": [
       "<pre style=\"white-space:pre;overflow-x:auto;line-height:normal;font-family:Menlo,'DejaVu Sans Mono',consolas,'Courier New',monospace\"><span style=\"color: #7fbfbf; text-decoration-color: #7fbfbf\">           </span><span style=\"color: #000080; text-decoration-color: #000080\">INFO    </span> Readign sample: DYJetsToLL_Pt-400To650_Zem, from:                              <a href=\"file:///tmp/ipykernel_18646/2088555353.py\" target=\"_blank\"><span style=\"color: #7f7f7f; text-decoration-color: #7f7f7f\">2088555353.py</span></a><span style=\"color: #7f7f7f; text-decoration-color: #7f7f7f\">:</span><a href=\"file:///tmp/ipykernel_18646/2088555353.py#23\" target=\"_blank\"><span style=\"color: #7f7f7f; text-decoration-color: #7f7f7f\">23</span></a>\n",
       "<span style=\"color: #7fbfbf; text-decoration-color: #7fbfbf\">           </span>         inputs16APV/hists_sum_DYJetsToLL_Pt-400To650.hist                              <span style=\"color: #7f7f7f; text-decoration-color: #7f7f7f\">                </span>\n",
       "</pre>\n"
      ],
      "text/plain": [
       "\u001b[2;36m          \u001b[0m\u001b[2;36m \u001b[0m\u001b[34mINFO    \u001b[0m Readign sample: DYJetsToLL_Pt-400To650_Zem, from:                              \u001b]8;id=331804;file:///tmp/ipykernel_18646/2088555353.py\u001b\\\u001b[2m2088555353.py\u001b[0m\u001b]8;;\u001b\\\u001b[2m:\u001b[0m\u001b]8;id=256681;file:///tmp/ipykernel_18646/2088555353.py#23\u001b\\\u001b[2m23\u001b[0m\u001b]8;;\u001b\\\n",
       "\u001b[2;36m           \u001b[0m         inputs16APV/hists_sum_DYJetsToLL_Pt-400To650.hist                              \u001b[2m                \u001b[0m\n"
      ]
     },
     "metadata": {},
     "output_type": "display_data"
    },
    {
     "data": {
      "text/html": [
       "<pre style=\"white-space:pre;overflow-x:auto;line-height:normal;font-family:Menlo,'DejaVu Sans Mono',consolas,'Courier New',monospace\"><span style=\"color: #7fbfbf; text-decoration-color: #7fbfbf\">           </span><span style=\"color: #000080; text-decoration-color: #000080\">INFO    </span> Scaling DYJetsToLL_Pt-400To650_Zem by <span style=\"color: #008080; text-decoration-color: #008080; font-weight: bold\">19.520000000</span> <span style=\"font-weight: bold\">(</span>lumi = <span style=\"color: #008080; text-decoration-color: #008080; font-weight: bold\">19.52</span>, xs = nan,    <a href=\"file:///tmp/ipykernel_18646/2088555353.py\" target=\"_blank\"><span style=\"color: #7f7f7f; text-decoration-color: #7f7f7f\">2088555353.py</span></a><span style=\"color: #7f7f7f; text-decoration-color: #7f7f7f\">:</span><a href=\"file:///tmp/ipykernel_18646/2088555353.py#34\" target=\"_blank\"><span style=\"color: #7f7f7f; text-decoration-color: #7f7f7f\">34</span></a>\n",
       "<span style=\"color: #7fbfbf; text-decoration-color: #7fbfbf\">           </span>         sumw = <span style=\"color: #008080; text-decoration-color: #008080; font-weight: bold\">2056857.216</span><span style=\"font-weight: bold\">)</span>                                                            <span style=\"color: #7f7f7f; text-decoration-color: #7f7f7f\">                </span>\n",
       "</pre>\n"
      ],
      "text/plain": [
       "\u001b[2;36m          \u001b[0m\u001b[2;36m \u001b[0m\u001b[34mINFO    \u001b[0m Scaling DYJetsToLL_Pt-400To650_Zem by \u001b[1;36m19.520000000\u001b[0m \u001b[1m(\u001b[0mlumi = \u001b[1;36m19.52\u001b[0m, xs = nan,    \u001b]8;id=572416;file:///tmp/ipykernel_18646/2088555353.py\u001b\\\u001b[2m2088555353.py\u001b[0m\u001b]8;;\u001b\\\u001b[2m:\u001b[0m\u001b]8;id=110436;file:///tmp/ipykernel_18646/2088555353.py#34\u001b\\\u001b[2m34\u001b[0m\u001b]8;;\u001b\\\n",
       "\u001b[2;36m           \u001b[0m         sumw = \u001b[1;36m2056857.216\u001b[0m\u001b[1m)\u001b[0m                                                            \u001b[2m                \u001b[0m\n"
      ]
     },
     "metadata": {},
     "output_type": "display_data"
    },
    {
     "name": "stdout",
     "output_type": "stream",
     "text": [
      "DYJetsToLL_Pt-650ToInf_Zem\n"
     ]
    },
    {
     "data": {
      "text/html": [
       "<pre style=\"white-space:pre;overflow-x:auto;line-height:normal;font-family:Menlo,'DejaVu Sans Mono',consolas,'Courier New',monospace\"><span style=\"color: #7fbfbf; text-decoration-color: #7fbfbf\">           </span><span style=\"color: #000080; text-decoration-color: #000080\">INFO    </span> Readign sample: DYJetsToLL_Pt-650ToInf_Zem, from:                              <a href=\"file:///tmp/ipykernel_18646/2088555353.py\" target=\"_blank\"><span style=\"color: #7f7f7f; text-decoration-color: #7f7f7f\">2088555353.py</span></a><span style=\"color: #7f7f7f; text-decoration-color: #7f7f7f\">:</span><a href=\"file:///tmp/ipykernel_18646/2088555353.py#23\" target=\"_blank\"><span style=\"color: #7f7f7f; text-decoration-color: #7f7f7f\">23</span></a>\n",
       "<span style=\"color: #7fbfbf; text-decoration-color: #7fbfbf\">           </span>         inputs16APV/hists_sum_DYJetsToLL_Pt-650ToInf.hist                              <span style=\"color: #7f7f7f; text-decoration-color: #7f7f7f\">                </span>\n",
       "</pre>\n"
      ],
      "text/plain": [
       "\u001b[2;36m          \u001b[0m\u001b[2;36m \u001b[0m\u001b[34mINFO    \u001b[0m Readign sample: DYJetsToLL_Pt-650ToInf_Zem, from:                              \u001b]8;id=670056;file:///tmp/ipykernel_18646/2088555353.py\u001b\\\u001b[2m2088555353.py\u001b[0m\u001b]8;;\u001b\\\u001b[2m:\u001b[0m\u001b]8;id=406367;file:///tmp/ipykernel_18646/2088555353.py#23\u001b\\\u001b[2m23\u001b[0m\u001b]8;;\u001b\\\n",
       "\u001b[2;36m           \u001b[0m         inputs16APV/hists_sum_DYJetsToLL_Pt-650ToInf.hist                              \u001b[2m                \u001b[0m\n"
      ]
     },
     "metadata": {},
     "output_type": "display_data"
    },
    {
     "data": {
      "text/html": [
       "<pre style=\"white-space:pre;overflow-x:auto;line-height:normal;font-family:Menlo,'DejaVu Sans Mono',consolas,'Courier New',monospace\"><span style=\"color: #7fbfbf; text-decoration-color: #7fbfbf\">           </span><span style=\"color: #000080; text-decoration-color: #000080\">INFO    </span> Scaling DYJetsToLL_Pt-650ToInf_Zem by <span style=\"color: #008080; text-decoration-color: #008080; font-weight: bold\">19.520000000</span> <span style=\"font-weight: bold\">(</span>lumi = <span style=\"color: #008080; text-decoration-color: #008080; font-weight: bold\">19.52</span>, xs = nan,    <a href=\"file:///tmp/ipykernel_18646/2088555353.py\" target=\"_blank\"><span style=\"color: #7f7f7f; text-decoration-color: #7f7f7f\">2088555353.py</span></a><span style=\"color: #7f7f7f; text-decoration-color: #7f7f7f\">:</span><a href=\"file:///tmp/ipykernel_18646/2088555353.py#34\" target=\"_blank\"><span style=\"color: #7f7f7f; text-decoration-color: #7f7f7f\">34</span></a>\n",
       "<span style=\"color: #7fbfbf; text-decoration-color: #7fbfbf\">           </span>         sumw = <span style=\"color: #008080; text-decoration-color: #008080; font-weight: bold\">166327.735</span><span style=\"font-weight: bold\">)</span>                                                             <span style=\"color: #7f7f7f; text-decoration-color: #7f7f7f\">                </span>\n",
       "</pre>\n"
      ],
      "text/plain": [
       "\u001b[2;36m          \u001b[0m\u001b[2;36m \u001b[0m\u001b[34mINFO    \u001b[0m Scaling DYJetsToLL_Pt-650ToInf_Zem by \u001b[1;36m19.520000000\u001b[0m \u001b[1m(\u001b[0mlumi = \u001b[1;36m19.52\u001b[0m, xs = nan,    \u001b]8;id=212231;file:///tmp/ipykernel_18646/2088555353.py\u001b\\\u001b[2m2088555353.py\u001b[0m\u001b]8;;\u001b\\\u001b[2m:\u001b[0m\u001b]8;id=885111;file:///tmp/ipykernel_18646/2088555353.py#34\u001b\\\u001b[2m34\u001b[0m\u001b]8;;\u001b\\\n",
       "\u001b[2;36m           \u001b[0m         sumw = \u001b[1;36m166327.735\u001b[0m\u001b[1m)\u001b[0m                                                             \u001b[2m                \u001b[0m\n"
      ]
     },
     "metadata": {},
     "output_type": "display_data"
    },
    {
     "name": "stdout",
     "output_type": "stream",
     "text": [
      "DYJetsToLL_Pt-100To250_TuneCP5_13TeV-amcatnloFXFX-pythia8_Ztt\n"
     ]
    },
    {
     "data": {
      "text/html": [
       "<pre style=\"white-space:pre;overflow-x:auto;line-height:normal;font-family:Menlo,'DejaVu Sans Mono',consolas,'Courier New',monospace\"><span style=\"color: #7fbfbf; text-decoration-color: #7fbfbf\">           </span><span style=\"color: #000080; text-decoration-color: #000080\">INFO    </span> Readign sample: DYJetsToLL_Pt-100To250_TuneCP5_13TeV-amcatnloFXFX-pythia8_Ztt, <a href=\"file:///tmp/ipykernel_18646/2088555353.py\" target=\"_blank\"><span style=\"color: #7f7f7f; text-decoration-color: #7f7f7f\">2088555353.py</span></a><span style=\"color: #7f7f7f; text-decoration-color: #7f7f7f\">:</span><a href=\"file:///tmp/ipykernel_18646/2088555353.py#23\" target=\"_blank\"><span style=\"color: #7f7f7f; text-decoration-color: #7f7f7f\">23</span></a>\n",
       "<span style=\"color: #7fbfbf; text-decoration-color: #7fbfbf\">           </span>         from:                                                                          <span style=\"color: #7f7f7f; text-decoration-color: #7f7f7f\">                </span>\n",
       "<span style=\"color: #7fbfbf; text-decoration-color: #7fbfbf\">           </span>         inputs16APV/hists_sum_DYJetsToLL_Pt-100To250_TuneCP5_13TeV-amcatnloFXFX-pythia <span style=\"color: #7f7f7f; text-decoration-color: #7f7f7f\">                </span>\n",
       "<span style=\"color: #7fbfbf; text-decoration-color: #7fbfbf\">           </span>         8.hist                                                                         <span style=\"color: #7f7f7f; text-decoration-color: #7f7f7f\">                </span>\n",
       "</pre>\n"
      ],
      "text/plain": [
       "\u001b[2;36m          \u001b[0m\u001b[2;36m \u001b[0m\u001b[34mINFO    \u001b[0m Readign sample: DYJetsToLL_Pt-100To250_TuneCP5_13TeV-amcatnloFXFX-pythia8_Ztt, \u001b]8;id=97932;file:///tmp/ipykernel_18646/2088555353.py\u001b\\\u001b[2m2088555353.py\u001b[0m\u001b]8;;\u001b\\\u001b[2m:\u001b[0m\u001b]8;id=574779;file:///tmp/ipykernel_18646/2088555353.py#23\u001b\\\u001b[2m23\u001b[0m\u001b]8;;\u001b\\\n",
       "\u001b[2;36m           \u001b[0m         from:                                                                          \u001b[2m                \u001b[0m\n",
       "\u001b[2;36m           \u001b[0m         inputs16APV/hists_sum_DYJetsToLL_Pt-100To250_TuneCP5_13TeV-amcatnloFXFX-pythia \u001b[2m                \u001b[0m\n",
       "\u001b[2;36m           \u001b[0m         8.hist                                                                         \u001b[2m                \u001b[0m\n"
      ]
     },
     "metadata": {},
     "output_type": "display_data"
    },
    {
     "name": "stdout",
     "output_type": "stream",
     "text": [
      "DYJetsToLL_Pt-250To400_TuneCP5_13TeV-amcatnloFXFX-pythia8_Ztt\n"
     ]
    },
    {
     "data": {
      "text/html": [
       "<pre style=\"white-space:pre;overflow-x:auto;line-height:normal;font-family:Menlo,'DejaVu Sans Mono',consolas,'Courier New',monospace\"><span style=\"color: #7fbfbf; text-decoration-color: #7fbfbf\">           </span><span style=\"color: #000080; text-decoration-color: #000080\">INFO    </span> Readign sample: DYJetsToLL_Pt-250To400_TuneCP5_13TeV-amcatnloFXFX-pythia8_Ztt, <a href=\"file:///tmp/ipykernel_18646/2088555353.py\" target=\"_blank\"><span style=\"color: #7f7f7f; text-decoration-color: #7f7f7f\">2088555353.py</span></a><span style=\"color: #7f7f7f; text-decoration-color: #7f7f7f\">:</span><a href=\"file:///tmp/ipykernel_18646/2088555353.py#23\" target=\"_blank\"><span style=\"color: #7f7f7f; text-decoration-color: #7f7f7f\">23</span></a>\n",
       "<span style=\"color: #7fbfbf; text-decoration-color: #7fbfbf\">           </span>         from:                                                                          <span style=\"color: #7f7f7f; text-decoration-color: #7f7f7f\">                </span>\n",
       "<span style=\"color: #7fbfbf; text-decoration-color: #7fbfbf\">           </span>         inputs16APV/hists_sum_DYJetsToLL_Pt-250To400_TuneCP5_13TeV-amcatnloFXFX-pythia <span style=\"color: #7f7f7f; text-decoration-color: #7f7f7f\">                </span>\n",
       "<span style=\"color: #7fbfbf; text-decoration-color: #7fbfbf\">           </span>         8.hist                                                                         <span style=\"color: #7f7f7f; text-decoration-color: #7f7f7f\">                </span>\n",
       "</pre>\n"
      ],
      "text/plain": [
       "\u001b[2;36m          \u001b[0m\u001b[2;36m \u001b[0m\u001b[34mINFO    \u001b[0m Readign sample: DYJetsToLL_Pt-250To400_TuneCP5_13TeV-amcatnloFXFX-pythia8_Ztt, \u001b]8;id=638186;file:///tmp/ipykernel_18646/2088555353.py\u001b\\\u001b[2m2088555353.py\u001b[0m\u001b]8;;\u001b\\\u001b[2m:\u001b[0m\u001b]8;id=984993;file:///tmp/ipykernel_18646/2088555353.py#23\u001b\\\u001b[2m23\u001b[0m\u001b]8;;\u001b\\\n",
       "\u001b[2;36m           \u001b[0m         from:                                                                          \u001b[2m                \u001b[0m\n",
       "\u001b[2;36m           \u001b[0m         inputs16APV/hists_sum_DYJetsToLL_Pt-250To400_TuneCP5_13TeV-amcatnloFXFX-pythia \u001b[2m                \u001b[0m\n",
       "\u001b[2;36m           \u001b[0m         8.hist                                                                         \u001b[2m                \u001b[0m\n"
      ]
     },
     "metadata": {},
     "output_type": "display_data"
    },
    {
     "name": "stdout",
     "output_type": "stream",
     "text": [
      "DYJetsToLL_Pt-400To650_TuneCP5_13TeV-amcatnloFXFX-pythia8_Ztt\n"
     ]
    },
    {
     "data": {
      "text/html": [
       "<pre style=\"white-space:pre;overflow-x:auto;line-height:normal;font-family:Menlo,'DejaVu Sans Mono',consolas,'Courier New',monospace\"><span style=\"color: #7fbfbf; text-decoration-color: #7fbfbf\">           </span><span style=\"color: #000080; text-decoration-color: #000080\">INFO    </span> Readign sample: DYJetsToLL_Pt-400To650_TuneCP5_13TeV-amcatnloFXFX-pythia8_Ztt, <a href=\"file:///tmp/ipykernel_18646/2088555353.py\" target=\"_blank\"><span style=\"color: #7f7f7f; text-decoration-color: #7f7f7f\">2088555353.py</span></a><span style=\"color: #7f7f7f; text-decoration-color: #7f7f7f\">:</span><a href=\"file:///tmp/ipykernel_18646/2088555353.py#23\" target=\"_blank\"><span style=\"color: #7f7f7f; text-decoration-color: #7f7f7f\">23</span></a>\n",
       "<span style=\"color: #7fbfbf; text-decoration-color: #7fbfbf\">           </span>         from:                                                                          <span style=\"color: #7f7f7f; text-decoration-color: #7f7f7f\">                </span>\n",
       "<span style=\"color: #7fbfbf; text-decoration-color: #7fbfbf\">           </span>         inputs16APV/hists_sum_DYJetsToLL_Pt-400To650_TuneCP5_13TeV-amcatnloFXFX-pythia <span style=\"color: #7f7f7f; text-decoration-color: #7f7f7f\">                </span>\n",
       "<span style=\"color: #7fbfbf; text-decoration-color: #7fbfbf\">           </span>         8.hist                                                                         <span style=\"color: #7f7f7f; text-decoration-color: #7f7f7f\">                </span>\n",
       "</pre>\n"
      ],
      "text/plain": [
       "\u001b[2;36m          \u001b[0m\u001b[2;36m \u001b[0m\u001b[34mINFO    \u001b[0m Readign sample: DYJetsToLL_Pt-400To650_TuneCP5_13TeV-amcatnloFXFX-pythia8_Ztt, \u001b]8;id=19451;file:///tmp/ipykernel_18646/2088555353.py\u001b\\\u001b[2m2088555353.py\u001b[0m\u001b]8;;\u001b\\\u001b[2m:\u001b[0m\u001b]8;id=600819;file:///tmp/ipykernel_18646/2088555353.py#23\u001b\\\u001b[2m23\u001b[0m\u001b]8;;\u001b\\\n",
       "\u001b[2;36m           \u001b[0m         from:                                                                          \u001b[2m                \u001b[0m\n",
       "\u001b[2;36m           \u001b[0m         inputs16APV/hists_sum_DYJetsToLL_Pt-400To650_TuneCP5_13TeV-amcatnloFXFX-pythia \u001b[2m                \u001b[0m\n",
       "\u001b[2;36m           \u001b[0m         8.hist                                                                         \u001b[2m                \u001b[0m\n"
      ]
     },
     "metadata": {},
     "output_type": "display_data"
    },
    {
     "name": "stdout",
     "output_type": "stream",
     "text": [
      "DYJetsToLL_Pt-650ToInf_TuneCP5_13TeV-amcatnloFXFX-pythia8_Ztt\n"
     ]
    },
    {
     "data": {
      "text/html": [
       "<pre style=\"white-space:pre;overflow-x:auto;line-height:normal;font-family:Menlo,'DejaVu Sans Mono',consolas,'Courier New',monospace\"><span style=\"color: #7fbfbf; text-decoration-color: #7fbfbf\">           </span><span style=\"color: #000080; text-decoration-color: #000080\">INFO    </span> Readign sample: DYJetsToLL_Pt-650ToInf_TuneCP5_13TeV-amcatnloFXFX-pythia8_Ztt, <a href=\"file:///tmp/ipykernel_18646/2088555353.py\" target=\"_blank\"><span style=\"color: #7f7f7f; text-decoration-color: #7f7f7f\">2088555353.py</span></a><span style=\"color: #7f7f7f; text-decoration-color: #7f7f7f\">:</span><a href=\"file:///tmp/ipykernel_18646/2088555353.py#23\" target=\"_blank\"><span style=\"color: #7f7f7f; text-decoration-color: #7f7f7f\">23</span></a>\n",
       "<span style=\"color: #7fbfbf; text-decoration-color: #7fbfbf\">           </span>         from:                                                                          <span style=\"color: #7f7f7f; text-decoration-color: #7f7f7f\">                </span>\n",
       "<span style=\"color: #7fbfbf; text-decoration-color: #7fbfbf\">           </span>         inputs16APV/hists_sum_DYJetsToLL_Pt-650ToInf_TuneCP5_13TeV-amcatnloFXFX-pythia <span style=\"color: #7f7f7f; text-decoration-color: #7f7f7f\">                </span>\n",
       "<span style=\"color: #7fbfbf; text-decoration-color: #7fbfbf\">           </span>         8.hist                                                                         <span style=\"color: #7f7f7f; text-decoration-color: #7f7f7f\">                </span>\n",
       "</pre>\n"
      ],
      "text/plain": [
       "\u001b[2;36m          \u001b[0m\u001b[2;36m \u001b[0m\u001b[34mINFO    \u001b[0m Readign sample: DYJetsToLL_Pt-650ToInf_TuneCP5_13TeV-amcatnloFXFX-pythia8_Ztt, \u001b]8;id=857645;file:///tmp/ipykernel_18646/2088555353.py\u001b\\\u001b[2m2088555353.py\u001b[0m\u001b]8;;\u001b\\\u001b[2m:\u001b[0m\u001b]8;id=834869;file:///tmp/ipykernel_18646/2088555353.py#23\u001b\\\u001b[2m23\u001b[0m\u001b]8;;\u001b\\\n",
       "\u001b[2;36m           \u001b[0m         from:                                                                          \u001b[2m                \u001b[0m\n",
       "\u001b[2;36m           \u001b[0m         inputs16APV/hists_sum_DYJetsToLL_Pt-650ToInf_TuneCP5_13TeV-amcatnloFXFX-pythia \u001b[2m                \u001b[0m\n",
       "\u001b[2;36m           \u001b[0m         8.hist                                                                         \u001b[2m                \u001b[0m\n"
      ]
     },
     "metadata": {},
     "output_type": "display_data"
    },
    {
     "name": "stdout",
     "output_type": "stream",
     "text": [
      "DYJetsToLL_Pt-50To100_Ztt\n"
     ]
    },
    {
     "data": {
      "text/html": [
       "<pre style=\"white-space:pre;overflow-x:auto;line-height:normal;font-family:Menlo,'DejaVu Sans Mono',consolas,'Courier New',monospace\"><span style=\"color: #7fbfbf; text-decoration-color: #7fbfbf\">           </span><span style=\"color: #000080; text-decoration-color: #000080\">INFO    </span> Readign sample: DYJetsToLL_Pt-50To100_Ztt, from:                               <a href=\"file:///tmp/ipykernel_18646/2088555353.py\" target=\"_blank\"><span style=\"color: #7f7f7f; text-decoration-color: #7f7f7f\">2088555353.py</span></a><span style=\"color: #7f7f7f; text-decoration-color: #7f7f7f\">:</span><a href=\"file:///tmp/ipykernel_18646/2088555353.py#23\" target=\"_blank\"><span style=\"color: #7f7f7f; text-decoration-color: #7f7f7f\">23</span></a>\n",
       "<span style=\"color: #7fbfbf; text-decoration-color: #7fbfbf\">           </span>         inputs16APV/hists_sum_DYJetsToLL_Pt-50To100.hist                               <span style=\"color: #7f7f7f; text-decoration-color: #7f7f7f\">                </span>\n",
       "</pre>\n"
      ],
      "text/plain": [
       "\u001b[2;36m          \u001b[0m\u001b[2;36m \u001b[0m\u001b[34mINFO    \u001b[0m Readign sample: DYJetsToLL_Pt-50To100_Ztt, from:                               \u001b]8;id=428173;file:///tmp/ipykernel_18646/2088555353.py\u001b\\\u001b[2m2088555353.py\u001b[0m\u001b]8;;\u001b\\\u001b[2m:\u001b[0m\u001b]8;id=171761;file:///tmp/ipykernel_18646/2088555353.py#23\u001b\\\u001b[2m23\u001b[0m\u001b]8;;\u001b\\\n",
       "\u001b[2;36m           \u001b[0m         inputs16APV/hists_sum_DYJetsToLL_Pt-50To100.hist                               \u001b[2m                \u001b[0m\n"
      ]
     },
     "metadata": {},
     "output_type": "display_data"
    },
    {
     "data": {
      "text/html": [
       "<pre style=\"white-space:pre;overflow-x:auto;line-height:normal;font-family:Menlo,'DejaVu Sans Mono',consolas,'Courier New',monospace\"><span style=\"color: #7fbfbf; text-decoration-color: #7fbfbf\">           </span><span style=\"color: #000080; text-decoration-color: #000080\">INFO    </span> Scaling DYJetsToLL_Pt-50To100_Ztt by <span style=\"color: #008080; text-decoration-color: #008080; font-weight: bold\">19.520000000</span> <span style=\"font-weight: bold\">(</span>lumi = <span style=\"color: #008080; text-decoration-color: #008080; font-weight: bold\">19.52</span>, xs = nan,     <a href=\"file:///tmp/ipykernel_18646/2088555353.py\" target=\"_blank\"><span style=\"color: #7f7f7f; text-decoration-color: #7f7f7f\">2088555353.py</span></a><span style=\"color: #7f7f7f; text-decoration-color: #7f7f7f\">:</span><a href=\"file:///tmp/ipykernel_18646/2088555353.py#34\" target=\"_blank\"><span style=\"color: #7f7f7f; text-decoration-color: #7f7f7f\">34</span></a>\n",
       "<span style=\"color: #7fbfbf; text-decoration-color: #7fbfbf\">           </span>         sumw = <span style=\"color: #008080; text-decoration-color: #008080; font-weight: bold\">80418940473.000</span><span style=\"font-weight: bold\">)</span>                                                        <span style=\"color: #7f7f7f; text-decoration-color: #7f7f7f\">                </span>\n",
       "</pre>\n"
      ],
      "text/plain": [
       "\u001b[2;36m          \u001b[0m\u001b[2;36m \u001b[0m\u001b[34mINFO    \u001b[0m Scaling DYJetsToLL_Pt-50To100_Ztt by \u001b[1;36m19.520000000\u001b[0m \u001b[1m(\u001b[0mlumi = \u001b[1;36m19.52\u001b[0m, xs = nan,     \u001b]8;id=390578;file:///tmp/ipykernel_18646/2088555353.py\u001b\\\u001b[2m2088555353.py\u001b[0m\u001b]8;;\u001b\\\u001b[2m:\u001b[0m\u001b]8;id=283509;file:///tmp/ipykernel_18646/2088555353.py#34\u001b\\\u001b[2m34\u001b[0m\u001b]8;;\u001b\\\n",
       "\u001b[2;36m           \u001b[0m         sumw = \u001b[1;36m80418940473.000\u001b[0m\u001b[1m)\u001b[0m                                                        \u001b[2m                \u001b[0m\n"
      ]
     },
     "metadata": {},
     "output_type": "display_data"
    },
    {
     "name": "stdout",
     "output_type": "stream",
     "text": [
      "DYJetsToLL_Pt-100To250_Ztt\n"
     ]
    },
    {
     "data": {
      "text/html": [
       "<pre style=\"white-space:pre;overflow-x:auto;line-height:normal;font-family:Menlo,'DejaVu Sans Mono',consolas,'Courier New',monospace\"><span style=\"color: #7fbfbf; text-decoration-color: #7fbfbf\">           </span><span style=\"color: #000080; text-decoration-color: #000080\">INFO    </span> Readign sample: DYJetsToLL_Pt-100To250_Ztt, from:                              <a href=\"file:///tmp/ipykernel_18646/2088555353.py\" target=\"_blank\"><span style=\"color: #7f7f7f; text-decoration-color: #7f7f7f\">2088555353.py</span></a><span style=\"color: #7f7f7f; text-decoration-color: #7f7f7f\">:</span><a href=\"file:///tmp/ipykernel_18646/2088555353.py#23\" target=\"_blank\"><span style=\"color: #7f7f7f; text-decoration-color: #7f7f7f\">23</span></a>\n",
       "<span style=\"color: #7fbfbf; text-decoration-color: #7fbfbf\">           </span>         inputs16APV/hists_sum_DYJetsToLL_Pt-100To250.hist                              <span style=\"color: #7f7f7f; text-decoration-color: #7f7f7f\">                </span>\n",
       "</pre>\n"
      ],
      "text/plain": [
       "\u001b[2;36m          \u001b[0m\u001b[2;36m \u001b[0m\u001b[34mINFO    \u001b[0m Readign sample: DYJetsToLL_Pt-100To250_Ztt, from:                              \u001b]8;id=470100;file:///tmp/ipykernel_18646/2088555353.py\u001b\\\u001b[2m2088555353.py\u001b[0m\u001b]8;;\u001b\\\u001b[2m:\u001b[0m\u001b]8;id=595554;file:///tmp/ipykernel_18646/2088555353.py#23\u001b\\\u001b[2m23\u001b[0m\u001b]8;;\u001b\\\n",
       "\u001b[2;36m           \u001b[0m         inputs16APV/hists_sum_DYJetsToLL_Pt-100To250.hist                              \u001b[2m                \u001b[0m\n"
      ]
     },
     "metadata": {},
     "output_type": "display_data"
    },
    {
     "data": {
      "text/html": [
       "<pre style=\"white-space:pre;overflow-x:auto;line-height:normal;font-family:Menlo,'DejaVu Sans Mono',consolas,'Courier New',monospace\"><span style=\"color: #7fbfbf; text-decoration-color: #7fbfbf\">           </span><span style=\"color: #000080; text-decoration-color: #000080\">INFO    </span> Scaling DYJetsToLL_Pt-100To250_Ztt by <span style=\"color: #008080; text-decoration-color: #008080; font-weight: bold\">19.520000000</span> <span style=\"font-weight: bold\">(</span>lumi = <span style=\"color: #008080; text-decoration-color: #008080; font-weight: bold\">19.52</span>, xs = nan,    <a href=\"file:///tmp/ipykernel_18646/2088555353.py\" target=\"_blank\"><span style=\"color: #7f7f7f; text-decoration-color: #7f7f7f\">2088555353.py</span></a><span style=\"color: #7f7f7f; text-decoration-color: #7f7f7f\">:</span><a href=\"file:///tmp/ipykernel_18646/2088555353.py#34\" target=\"_blank\"><span style=\"color: #7f7f7f; text-decoration-color: #7f7f7f\">34</span></a>\n",
       "<span style=\"color: #7fbfbf; text-decoration-color: #7fbfbf\">           </span>         sumw = <span style=\"color: #008080; text-decoration-color: #008080; font-weight: bold\">16698299921.156</span><span style=\"font-weight: bold\">)</span>                                                        <span style=\"color: #7f7f7f; text-decoration-color: #7f7f7f\">                </span>\n",
       "</pre>\n"
      ],
      "text/plain": [
       "\u001b[2;36m          \u001b[0m\u001b[2;36m \u001b[0m\u001b[34mINFO    \u001b[0m Scaling DYJetsToLL_Pt-100To250_Ztt by \u001b[1;36m19.520000000\u001b[0m \u001b[1m(\u001b[0mlumi = \u001b[1;36m19.52\u001b[0m, xs = nan,    \u001b]8;id=975790;file:///tmp/ipykernel_18646/2088555353.py\u001b\\\u001b[2m2088555353.py\u001b[0m\u001b]8;;\u001b\\\u001b[2m:\u001b[0m\u001b]8;id=706938;file:///tmp/ipykernel_18646/2088555353.py#34\u001b\\\u001b[2m34\u001b[0m\u001b]8;;\u001b\\\n",
       "\u001b[2;36m           \u001b[0m         sumw = \u001b[1;36m16698299921.156\u001b[0m\u001b[1m)\u001b[0m                                                        \u001b[2m                \u001b[0m\n"
      ]
     },
     "metadata": {},
     "output_type": "display_data"
    },
    {
     "name": "stdout",
     "output_type": "stream",
     "text": [
      "DYJetsToLL_Pt-250To400_Ztt\n"
     ]
    },
    {
     "data": {
      "text/html": [
       "<pre style=\"white-space:pre;overflow-x:auto;line-height:normal;font-family:Menlo,'DejaVu Sans Mono',consolas,'Courier New',monospace\"><span style=\"color: #7fbfbf; text-decoration-color: #7fbfbf\">           </span><span style=\"color: #000080; text-decoration-color: #000080\">INFO    </span> Readign sample: DYJetsToLL_Pt-250To400_Ztt, from:                              <a href=\"file:///tmp/ipykernel_18646/2088555353.py\" target=\"_blank\"><span style=\"color: #7f7f7f; text-decoration-color: #7f7f7f\">2088555353.py</span></a><span style=\"color: #7f7f7f; text-decoration-color: #7f7f7f\">:</span><a href=\"file:///tmp/ipykernel_18646/2088555353.py#23\" target=\"_blank\"><span style=\"color: #7f7f7f; text-decoration-color: #7f7f7f\">23</span></a>\n",
       "<span style=\"color: #7fbfbf; text-decoration-color: #7fbfbf\">           </span>         inputs16APV/hists_sum_DYJetsToLL_Pt-250To400.hist                              <span style=\"color: #7f7f7f; text-decoration-color: #7f7f7f\">                </span>\n",
       "</pre>\n"
      ],
      "text/plain": [
       "\u001b[2;36m          \u001b[0m\u001b[2;36m \u001b[0m\u001b[34mINFO    \u001b[0m Readign sample: DYJetsToLL_Pt-250To400_Ztt, from:                              \u001b]8;id=287432;file:///tmp/ipykernel_18646/2088555353.py\u001b\\\u001b[2m2088555353.py\u001b[0m\u001b]8;;\u001b\\\u001b[2m:\u001b[0m\u001b]8;id=592369;file:///tmp/ipykernel_18646/2088555353.py#23\u001b\\\u001b[2m23\u001b[0m\u001b]8;;\u001b\\\n",
       "\u001b[2;36m           \u001b[0m         inputs16APV/hists_sum_DYJetsToLL_Pt-250To400.hist                              \u001b[2m                \u001b[0m\n"
      ]
     },
     "metadata": {},
     "output_type": "display_data"
    },
    {
     "data": {
      "text/html": [
       "<pre style=\"white-space:pre;overflow-x:auto;line-height:normal;font-family:Menlo,'DejaVu Sans Mono',consolas,'Courier New',monospace\"><span style=\"color: #7fbfbf; text-decoration-color: #7fbfbf\">           </span><span style=\"color: #000080; text-decoration-color: #000080\">INFO    </span> Scaling DYJetsToLL_Pt-250To400_Ztt by <span style=\"color: #008080; text-decoration-color: #008080; font-weight: bold\">19.520000000</span> <span style=\"font-weight: bold\">(</span>lumi = <span style=\"color: #008080; text-decoration-color: #008080; font-weight: bold\">19.52</span>, xs = nan,    <a href=\"file:///tmp/ipykernel_18646/2088555353.py\" target=\"_blank\"><span style=\"color: #7f7f7f; text-decoration-color: #7f7f7f\">2088555353.py</span></a><span style=\"color: #7f7f7f; text-decoration-color: #7f7f7f\">:</span><a href=\"file:///tmp/ipykernel_18646/2088555353.py#34\" target=\"_blank\"><span style=\"color: #7f7f7f; text-decoration-color: #7f7f7f\">34</span></a>\n",
       "<span style=\"color: #7fbfbf; text-decoration-color: #7fbfbf\">           </span>         sumw = <span style=\"color: #008080; text-decoration-color: #008080; font-weight: bold\">136064737.492</span><span style=\"font-weight: bold\">)</span>                                                          <span style=\"color: #7f7f7f; text-decoration-color: #7f7f7f\">                </span>\n",
       "</pre>\n"
      ],
      "text/plain": [
       "\u001b[2;36m          \u001b[0m\u001b[2;36m \u001b[0m\u001b[34mINFO    \u001b[0m Scaling DYJetsToLL_Pt-250To400_Ztt by \u001b[1;36m19.520000000\u001b[0m \u001b[1m(\u001b[0mlumi = \u001b[1;36m19.52\u001b[0m, xs = nan,    \u001b]8;id=637059;file:///tmp/ipykernel_18646/2088555353.py\u001b\\\u001b[2m2088555353.py\u001b[0m\u001b]8;;\u001b\\\u001b[2m:\u001b[0m\u001b]8;id=952847;file:///tmp/ipykernel_18646/2088555353.py#34\u001b\\\u001b[2m34\u001b[0m\u001b]8;;\u001b\\\n",
       "\u001b[2;36m           \u001b[0m         sumw = \u001b[1;36m136064737.492\u001b[0m\u001b[1m)\u001b[0m                                                          \u001b[2m                \u001b[0m\n"
      ]
     },
     "metadata": {},
     "output_type": "display_data"
    },
    {
     "name": "stdout",
     "output_type": "stream",
     "text": [
      "DYJetsToLL_Pt-400To650_Ztt\n"
     ]
    },
    {
     "data": {
      "text/html": [
       "<pre style=\"white-space:pre;overflow-x:auto;line-height:normal;font-family:Menlo,'DejaVu Sans Mono',consolas,'Courier New',monospace\"><span style=\"color: #7fbfbf; text-decoration-color: #7fbfbf\">           </span><span style=\"color: #000080; text-decoration-color: #000080\">INFO    </span> Readign sample: DYJetsToLL_Pt-400To650_Ztt, from:                              <a href=\"file:///tmp/ipykernel_18646/2088555353.py\" target=\"_blank\"><span style=\"color: #7f7f7f; text-decoration-color: #7f7f7f\">2088555353.py</span></a><span style=\"color: #7f7f7f; text-decoration-color: #7f7f7f\">:</span><a href=\"file:///tmp/ipykernel_18646/2088555353.py#23\" target=\"_blank\"><span style=\"color: #7f7f7f; text-decoration-color: #7f7f7f\">23</span></a>\n",
       "<span style=\"color: #7fbfbf; text-decoration-color: #7fbfbf\">           </span>         inputs16APV/hists_sum_DYJetsToLL_Pt-400To650.hist                              <span style=\"color: #7f7f7f; text-decoration-color: #7f7f7f\">                </span>\n",
       "</pre>\n"
      ],
      "text/plain": [
       "\u001b[2;36m          \u001b[0m\u001b[2;36m \u001b[0m\u001b[34mINFO    \u001b[0m Readign sample: DYJetsToLL_Pt-400To650_Ztt, from:                              \u001b]8;id=919946;file:///tmp/ipykernel_18646/2088555353.py\u001b\\\u001b[2m2088555353.py\u001b[0m\u001b]8;;\u001b\\\u001b[2m:\u001b[0m\u001b]8;id=656087;file:///tmp/ipykernel_18646/2088555353.py#23\u001b\\\u001b[2m23\u001b[0m\u001b]8;;\u001b\\\n",
       "\u001b[2;36m           \u001b[0m         inputs16APV/hists_sum_DYJetsToLL_Pt-400To650.hist                              \u001b[2m                \u001b[0m\n"
      ]
     },
     "metadata": {},
     "output_type": "display_data"
    },
    {
     "data": {
      "text/html": [
       "<pre style=\"white-space:pre;overflow-x:auto;line-height:normal;font-family:Menlo,'DejaVu Sans Mono',consolas,'Courier New',monospace\"><span style=\"color: #7fbfbf; text-decoration-color: #7fbfbf\">[15:02:46] </span><span style=\"color: #000080; text-decoration-color: #000080\">INFO    </span> Scaling DYJetsToLL_Pt-400To650_Ztt by <span style=\"color: #008080; text-decoration-color: #008080; font-weight: bold\">19.520000000</span> <span style=\"font-weight: bold\">(</span>lumi = <span style=\"color: #008080; text-decoration-color: #008080; font-weight: bold\">19.52</span>, xs = nan,    <a href=\"file:///tmp/ipykernel_18646/2088555353.py\" target=\"_blank\"><span style=\"color: #7f7f7f; text-decoration-color: #7f7f7f\">2088555353.py</span></a><span style=\"color: #7f7f7f; text-decoration-color: #7f7f7f\">:</span><a href=\"file:///tmp/ipykernel_18646/2088555353.py#34\" target=\"_blank\"><span style=\"color: #7f7f7f; text-decoration-color: #7f7f7f\">34</span></a>\n",
       "<span style=\"color: #7fbfbf; text-decoration-color: #7fbfbf\">           </span>         sumw = <span style=\"color: #008080; text-decoration-color: #008080; font-weight: bold\">2056857.216</span><span style=\"font-weight: bold\">)</span>                                                            <span style=\"color: #7f7f7f; text-decoration-color: #7f7f7f\">                </span>\n",
       "</pre>\n"
      ],
      "text/plain": [
       "\u001b[2;36m[15:02:46]\u001b[0m\u001b[2;36m \u001b[0m\u001b[34mINFO    \u001b[0m Scaling DYJetsToLL_Pt-400To650_Ztt by \u001b[1;36m19.520000000\u001b[0m \u001b[1m(\u001b[0mlumi = \u001b[1;36m19.52\u001b[0m, xs = nan,    \u001b]8;id=508296;file:///tmp/ipykernel_18646/2088555353.py\u001b\\\u001b[2m2088555353.py\u001b[0m\u001b]8;;\u001b\\\u001b[2m:\u001b[0m\u001b]8;id=720776;file:///tmp/ipykernel_18646/2088555353.py#34\u001b\\\u001b[2m34\u001b[0m\u001b]8;;\u001b\\\n",
       "\u001b[2;36m           \u001b[0m         sumw = \u001b[1;36m2056857.216\u001b[0m\u001b[1m)\u001b[0m                                                            \u001b[2m                \u001b[0m\n"
      ]
     },
     "metadata": {},
     "output_type": "display_data"
    },
    {
     "name": "stdout",
     "output_type": "stream",
     "text": [
      "DYJetsToLL_Pt-650ToInf_Ztt\n"
     ]
    },
    {
     "data": {
      "text/html": [
       "<pre style=\"white-space:pre;overflow-x:auto;line-height:normal;font-family:Menlo,'DejaVu Sans Mono',consolas,'Courier New',monospace\"><span style=\"color: #7fbfbf; text-decoration-color: #7fbfbf\">           </span><span style=\"color: #000080; text-decoration-color: #000080\">INFO    </span> Readign sample: DYJetsToLL_Pt-650ToInf_Ztt, from:                              <a href=\"file:///tmp/ipykernel_18646/2088555353.py\" target=\"_blank\"><span style=\"color: #7f7f7f; text-decoration-color: #7f7f7f\">2088555353.py</span></a><span style=\"color: #7f7f7f; text-decoration-color: #7f7f7f\">:</span><a href=\"file:///tmp/ipykernel_18646/2088555353.py#23\" target=\"_blank\"><span style=\"color: #7f7f7f; text-decoration-color: #7f7f7f\">23</span></a>\n",
       "<span style=\"color: #7fbfbf; text-decoration-color: #7fbfbf\">           </span>         inputs16APV/hists_sum_DYJetsToLL_Pt-650ToInf.hist                              <span style=\"color: #7f7f7f; text-decoration-color: #7f7f7f\">                </span>\n",
       "</pre>\n"
      ],
      "text/plain": [
       "\u001b[2;36m          \u001b[0m\u001b[2;36m \u001b[0m\u001b[34mINFO    \u001b[0m Readign sample: DYJetsToLL_Pt-650ToInf_Ztt, from:                              \u001b]8;id=106157;file:///tmp/ipykernel_18646/2088555353.py\u001b\\\u001b[2m2088555353.py\u001b[0m\u001b]8;;\u001b\\\u001b[2m:\u001b[0m\u001b]8;id=284239;file:///tmp/ipykernel_18646/2088555353.py#23\u001b\\\u001b[2m23\u001b[0m\u001b]8;;\u001b\\\n",
       "\u001b[2;36m           \u001b[0m         inputs16APV/hists_sum_DYJetsToLL_Pt-650ToInf.hist                              \u001b[2m                \u001b[0m\n"
      ]
     },
     "metadata": {},
     "output_type": "display_data"
    },
    {
     "data": {
      "text/html": [
       "<pre style=\"white-space:pre;overflow-x:auto;line-height:normal;font-family:Menlo,'DejaVu Sans Mono',consolas,'Courier New',monospace\"><span style=\"color: #7fbfbf; text-decoration-color: #7fbfbf\">           </span><span style=\"color: #000080; text-decoration-color: #000080\">INFO    </span> Scaling DYJetsToLL_Pt-650ToInf_Ztt by <span style=\"color: #008080; text-decoration-color: #008080; font-weight: bold\">19.520000000</span> <span style=\"font-weight: bold\">(</span>lumi = <span style=\"color: #008080; text-decoration-color: #008080; font-weight: bold\">19.52</span>, xs = nan,    <a href=\"file:///tmp/ipykernel_18646/2088555353.py\" target=\"_blank\"><span style=\"color: #7f7f7f; text-decoration-color: #7f7f7f\">2088555353.py</span></a><span style=\"color: #7f7f7f; text-decoration-color: #7f7f7f\">:</span><a href=\"file:///tmp/ipykernel_18646/2088555353.py#34\" target=\"_blank\"><span style=\"color: #7f7f7f; text-decoration-color: #7f7f7f\">34</span></a>\n",
       "<span style=\"color: #7fbfbf; text-decoration-color: #7fbfbf\">           </span>         sumw = <span style=\"color: #008080; text-decoration-color: #008080; font-weight: bold\">166327.735</span><span style=\"font-weight: bold\">)</span>                                                             <span style=\"color: #7f7f7f; text-decoration-color: #7f7f7f\">                </span>\n",
       "</pre>\n"
      ],
      "text/plain": [
       "\u001b[2;36m          \u001b[0m\u001b[2;36m \u001b[0m\u001b[34mINFO    \u001b[0m Scaling DYJetsToLL_Pt-650ToInf_Ztt by \u001b[1;36m19.520000000\u001b[0m \u001b[1m(\u001b[0mlumi = \u001b[1;36m19.52\u001b[0m, xs = nan,    \u001b]8;id=288870;file:///tmp/ipykernel_18646/2088555353.py\u001b\\\u001b[2m2088555353.py\u001b[0m\u001b]8;;\u001b\\\u001b[2m:\u001b[0m\u001b]8;id=221998;file:///tmp/ipykernel_18646/2088555353.py#34\u001b\\\u001b[2m34\u001b[0m\u001b]8;;\u001b\\\n",
       "\u001b[2;36m           \u001b[0m         sumw = \u001b[1;36m166327.735\u001b[0m\u001b[1m)\u001b[0m                                                             \u001b[2m                \u001b[0m\n"
      ]
     },
     "metadata": {},
     "output_type": "display_data"
    },
    {
     "name": "stdout",
     "output_type": "stream",
     "text": [
      "WJetsToLNu_HT-100To200_TuneCP5_13TeV-madgraphMLM-pythia8\n"
     ]
    },
    {
     "data": {
      "text/html": [
       "<pre style=\"white-space:pre;overflow-x:auto;line-height:normal;font-family:Menlo,'DejaVu Sans Mono',consolas,'Courier New',monospace\"><span style=\"color: #7fbfbf; text-decoration-color: #7fbfbf\">           </span><span style=\"color: #000080; text-decoration-color: #000080\">INFO    </span> Readign sample: WJetsToLNu_HT-100To200_TuneCP5_13TeV-madgraphMLM-pythia8,      <a href=\"file:///tmp/ipykernel_18646/2088555353.py\" target=\"_blank\"><span style=\"color: #7f7f7f; text-decoration-color: #7f7f7f\">2088555353.py</span></a><span style=\"color: #7f7f7f; text-decoration-color: #7f7f7f\">:</span><a href=\"file:///tmp/ipykernel_18646/2088555353.py#23\" target=\"_blank\"><span style=\"color: #7f7f7f; text-decoration-color: #7f7f7f\">23</span></a>\n",
       "<span style=\"color: #7fbfbf; text-decoration-color: #7fbfbf\">           </span>         from:                                                                          <span style=\"color: #7f7f7f; text-decoration-color: #7f7f7f\">                </span>\n",
       "<span style=\"color: #7fbfbf; text-decoration-color: #7fbfbf\">           </span>         inputs16APV/hists_sum_WJetsToLNu_HT-100To200_TuneCP5_13TeV-madgraphMLM-pythia8 <span style=\"color: #7f7f7f; text-decoration-color: #7f7f7f\">                </span>\n",
       "<span style=\"color: #7fbfbf; text-decoration-color: #7fbfbf\">           </span>         .hist                                                                          <span style=\"color: #7f7f7f; text-decoration-color: #7f7f7f\">                </span>\n",
       "</pre>\n"
      ],
      "text/plain": [
       "\u001b[2;36m          \u001b[0m\u001b[2;36m \u001b[0m\u001b[34mINFO    \u001b[0m Readign sample: WJetsToLNu_HT-100To200_TuneCP5_13TeV-madgraphMLM-pythia8,      \u001b]8;id=27870;file:///tmp/ipykernel_18646/2088555353.py\u001b\\\u001b[2m2088555353.py\u001b[0m\u001b]8;;\u001b\\\u001b[2m:\u001b[0m\u001b]8;id=408503;file:///tmp/ipykernel_18646/2088555353.py#23\u001b\\\u001b[2m23\u001b[0m\u001b]8;;\u001b\\\n",
       "\u001b[2;36m           \u001b[0m         from:                                                                          \u001b[2m                \u001b[0m\n",
       "\u001b[2;36m           \u001b[0m         inputs16APV/hists_sum_WJetsToLNu_HT-100To200_TuneCP5_13TeV-madgraphMLM-pythia8 \u001b[2m                \u001b[0m\n",
       "\u001b[2;36m           \u001b[0m         .hist                                                                          \u001b[2m                \u001b[0m\n"
      ]
     },
     "metadata": {},
     "output_type": "display_data"
    },
    {
     "name": "stdout",
     "output_type": "stream",
     "text": [
      "WJetsToLNu_HT-200To400_TuneCP5_13TeV-madgraphMLM-pythia8\n"
     ]
    },
    {
     "data": {
      "text/html": [
       "<pre style=\"white-space:pre;overflow-x:auto;line-height:normal;font-family:Menlo,'DejaVu Sans Mono',consolas,'Courier New',monospace\"><span style=\"color: #7fbfbf; text-decoration-color: #7fbfbf\">           </span><span style=\"color: #000080; text-decoration-color: #000080\">INFO    </span> Readign sample: WJetsToLNu_HT-200To400_TuneCP5_13TeV-madgraphMLM-pythia8,      <a href=\"file:///tmp/ipykernel_18646/2088555353.py\" target=\"_blank\"><span style=\"color: #7f7f7f; text-decoration-color: #7f7f7f\">2088555353.py</span></a><span style=\"color: #7f7f7f; text-decoration-color: #7f7f7f\">:</span><a href=\"file:///tmp/ipykernel_18646/2088555353.py#23\" target=\"_blank\"><span style=\"color: #7f7f7f; text-decoration-color: #7f7f7f\">23</span></a>\n",
       "<span style=\"color: #7fbfbf; text-decoration-color: #7fbfbf\">           </span>         from:                                                                          <span style=\"color: #7f7f7f; text-decoration-color: #7f7f7f\">                </span>\n",
       "<span style=\"color: #7fbfbf; text-decoration-color: #7fbfbf\">           </span>         inputs16APV/hists_sum_WJetsToLNu_HT-200To400_TuneCP5_13TeV-madgraphMLM-pythia8 <span style=\"color: #7f7f7f; text-decoration-color: #7f7f7f\">                </span>\n",
       "<span style=\"color: #7fbfbf; text-decoration-color: #7fbfbf\">           </span>         .hist                                                                          <span style=\"color: #7f7f7f; text-decoration-color: #7f7f7f\">                </span>\n",
       "</pre>\n"
      ],
      "text/plain": [
       "\u001b[2;36m          \u001b[0m\u001b[2;36m \u001b[0m\u001b[34mINFO    \u001b[0m Readign sample: WJetsToLNu_HT-200To400_TuneCP5_13TeV-madgraphMLM-pythia8,      \u001b]8;id=889554;file:///tmp/ipykernel_18646/2088555353.py\u001b\\\u001b[2m2088555353.py\u001b[0m\u001b]8;;\u001b\\\u001b[2m:\u001b[0m\u001b]8;id=125603;file:///tmp/ipykernel_18646/2088555353.py#23\u001b\\\u001b[2m23\u001b[0m\u001b]8;;\u001b\\\n",
       "\u001b[2;36m           \u001b[0m         from:                                                                          \u001b[2m                \u001b[0m\n",
       "\u001b[2;36m           \u001b[0m         inputs16APV/hists_sum_WJetsToLNu_HT-200To400_TuneCP5_13TeV-madgraphMLM-pythia8 \u001b[2m                \u001b[0m\n",
       "\u001b[2;36m           \u001b[0m         .hist                                                                          \u001b[2m                \u001b[0m\n"
      ]
     },
     "metadata": {},
     "output_type": "display_data"
    },
    {
     "name": "stdout",
     "output_type": "stream",
     "text": [
      "WJetsToLNu_HT-400To600_TuneCP5_13TeV-madgraphMLM-pythia8\n"
     ]
    },
    {
     "data": {
      "text/html": [
       "<pre style=\"white-space:pre;overflow-x:auto;line-height:normal;font-family:Menlo,'DejaVu Sans Mono',consolas,'Courier New',monospace\"><span style=\"color: #7fbfbf; text-decoration-color: #7fbfbf\">           </span><span style=\"color: #000080; text-decoration-color: #000080\">INFO    </span> Readign sample: WJetsToLNu_HT-400To600_TuneCP5_13TeV-madgraphMLM-pythia8,      <a href=\"file:///tmp/ipykernel_18646/2088555353.py\" target=\"_blank\"><span style=\"color: #7f7f7f; text-decoration-color: #7f7f7f\">2088555353.py</span></a><span style=\"color: #7f7f7f; text-decoration-color: #7f7f7f\">:</span><a href=\"file:///tmp/ipykernel_18646/2088555353.py#23\" target=\"_blank\"><span style=\"color: #7f7f7f; text-decoration-color: #7f7f7f\">23</span></a>\n",
       "<span style=\"color: #7fbfbf; text-decoration-color: #7fbfbf\">           </span>         from:                                                                          <span style=\"color: #7f7f7f; text-decoration-color: #7f7f7f\">                </span>\n",
       "<span style=\"color: #7fbfbf; text-decoration-color: #7fbfbf\">           </span>         inputs16APV/hists_sum_WJetsToLNu_HT-400To600_TuneCP5_13TeV-madgraphMLM-pythia8 <span style=\"color: #7f7f7f; text-decoration-color: #7f7f7f\">                </span>\n",
       "<span style=\"color: #7fbfbf; text-decoration-color: #7fbfbf\">           </span>         .hist                                                                          <span style=\"color: #7f7f7f; text-decoration-color: #7f7f7f\">                </span>\n",
       "</pre>\n"
      ],
      "text/plain": [
       "\u001b[2;36m          \u001b[0m\u001b[2;36m \u001b[0m\u001b[34mINFO    \u001b[0m Readign sample: WJetsToLNu_HT-400To600_TuneCP5_13TeV-madgraphMLM-pythia8,      \u001b]8;id=642816;file:///tmp/ipykernel_18646/2088555353.py\u001b\\\u001b[2m2088555353.py\u001b[0m\u001b]8;;\u001b\\\u001b[2m:\u001b[0m\u001b]8;id=378979;file:///tmp/ipykernel_18646/2088555353.py#23\u001b\\\u001b[2m23\u001b[0m\u001b]8;;\u001b\\\n",
       "\u001b[2;36m           \u001b[0m         from:                                                                          \u001b[2m                \u001b[0m\n",
       "\u001b[2;36m           \u001b[0m         inputs16APV/hists_sum_WJetsToLNu_HT-400To600_TuneCP5_13TeV-madgraphMLM-pythia8 \u001b[2m                \u001b[0m\n",
       "\u001b[2;36m           \u001b[0m         .hist                                                                          \u001b[2m                \u001b[0m\n"
      ]
     },
     "metadata": {},
     "output_type": "display_data"
    },
    {
     "name": "stdout",
     "output_type": "stream",
     "text": [
      "WJetsToLNu_HT-600To800_TuneCP5_13TeV-madgraphMLM-pythia8\n"
     ]
    },
    {
     "data": {
      "text/html": [
       "<pre style=\"white-space:pre;overflow-x:auto;line-height:normal;font-family:Menlo,'DejaVu Sans Mono',consolas,'Courier New',monospace\"><span style=\"color: #7fbfbf; text-decoration-color: #7fbfbf\">           </span><span style=\"color: #000080; text-decoration-color: #000080\">INFO    </span> Readign sample: WJetsToLNu_HT-600To800_TuneCP5_13TeV-madgraphMLM-pythia8,      <a href=\"file:///tmp/ipykernel_18646/2088555353.py\" target=\"_blank\"><span style=\"color: #7f7f7f; text-decoration-color: #7f7f7f\">2088555353.py</span></a><span style=\"color: #7f7f7f; text-decoration-color: #7f7f7f\">:</span><a href=\"file:///tmp/ipykernel_18646/2088555353.py#23\" target=\"_blank\"><span style=\"color: #7f7f7f; text-decoration-color: #7f7f7f\">23</span></a>\n",
       "<span style=\"color: #7fbfbf; text-decoration-color: #7fbfbf\">           </span>         from:                                                                          <span style=\"color: #7f7f7f; text-decoration-color: #7f7f7f\">                </span>\n",
       "<span style=\"color: #7fbfbf; text-decoration-color: #7fbfbf\">           </span>         inputs16APV/hists_sum_WJetsToLNu_HT-600To800_TuneCP5_13TeV-madgraphMLM-pythia8 <span style=\"color: #7f7f7f; text-decoration-color: #7f7f7f\">                </span>\n",
       "<span style=\"color: #7fbfbf; text-decoration-color: #7fbfbf\">           </span>         .hist                                                                          <span style=\"color: #7f7f7f; text-decoration-color: #7f7f7f\">                </span>\n",
       "</pre>\n"
      ],
      "text/plain": [
       "\u001b[2;36m          \u001b[0m\u001b[2;36m \u001b[0m\u001b[34mINFO    \u001b[0m Readign sample: WJetsToLNu_HT-600To800_TuneCP5_13TeV-madgraphMLM-pythia8,      \u001b]8;id=955273;file:///tmp/ipykernel_18646/2088555353.py\u001b\\\u001b[2m2088555353.py\u001b[0m\u001b]8;;\u001b\\\u001b[2m:\u001b[0m\u001b]8;id=686381;file:///tmp/ipykernel_18646/2088555353.py#23\u001b\\\u001b[2m23\u001b[0m\u001b]8;;\u001b\\\n",
       "\u001b[2;36m           \u001b[0m         from:                                                                          \u001b[2m                \u001b[0m\n",
       "\u001b[2;36m           \u001b[0m         inputs16APV/hists_sum_WJetsToLNu_HT-600To800_TuneCP5_13TeV-madgraphMLM-pythia8 \u001b[2m                \u001b[0m\n",
       "\u001b[2;36m           \u001b[0m         .hist                                                                          \u001b[2m                \u001b[0m\n"
      ]
     },
     "metadata": {},
     "output_type": "display_data"
    },
    {
     "name": "stdout",
     "output_type": "stream",
     "text": [
      "WJetsToLNu_HT-800To1200_TuneCP5_13TeV-madgraphMLM-pythia8\n"
     ]
    },
    {
     "data": {
      "text/html": [
       "<pre style=\"white-space:pre;overflow-x:auto;line-height:normal;font-family:Menlo,'DejaVu Sans Mono',consolas,'Courier New',monospace\"><span style=\"color: #7fbfbf; text-decoration-color: #7fbfbf\">           </span><span style=\"color: #000080; text-decoration-color: #000080\">INFO    </span> Readign sample: WJetsToLNu_HT-800To1200_TuneCP5_13TeV-madgraphMLM-pythia8,     <a href=\"file:///tmp/ipykernel_18646/2088555353.py\" target=\"_blank\"><span style=\"color: #7f7f7f; text-decoration-color: #7f7f7f\">2088555353.py</span></a><span style=\"color: #7f7f7f; text-decoration-color: #7f7f7f\">:</span><a href=\"file:///tmp/ipykernel_18646/2088555353.py#23\" target=\"_blank\"><span style=\"color: #7f7f7f; text-decoration-color: #7f7f7f\">23</span></a>\n",
       "<span style=\"color: #7fbfbf; text-decoration-color: #7fbfbf\">           </span>         from:                                                                          <span style=\"color: #7f7f7f; text-decoration-color: #7f7f7f\">                </span>\n",
       "<span style=\"color: #7fbfbf; text-decoration-color: #7fbfbf\">           </span>         inputs16APV/hists_sum_WJetsToLNu_HT-800To1200_TuneCP5_13TeV-madgraphMLM-pythia <span style=\"color: #7f7f7f; text-decoration-color: #7f7f7f\">                </span>\n",
       "<span style=\"color: #7fbfbf; text-decoration-color: #7fbfbf\">           </span>         8.hist                                                                         <span style=\"color: #7f7f7f; text-decoration-color: #7f7f7f\">                </span>\n",
       "</pre>\n"
      ],
      "text/plain": [
       "\u001b[2;36m          \u001b[0m\u001b[2;36m \u001b[0m\u001b[34mINFO    \u001b[0m Readign sample: WJetsToLNu_HT-800To1200_TuneCP5_13TeV-madgraphMLM-pythia8,     \u001b]8;id=57959;file:///tmp/ipykernel_18646/2088555353.py\u001b\\\u001b[2m2088555353.py\u001b[0m\u001b]8;;\u001b\\\u001b[2m:\u001b[0m\u001b]8;id=734603;file:///tmp/ipykernel_18646/2088555353.py#23\u001b\\\u001b[2m23\u001b[0m\u001b]8;;\u001b\\\n",
       "\u001b[2;36m           \u001b[0m         from:                                                                          \u001b[2m                \u001b[0m\n",
       "\u001b[2;36m           \u001b[0m         inputs16APV/hists_sum_WJetsToLNu_HT-800To1200_TuneCP5_13TeV-madgraphMLM-pythia \u001b[2m                \u001b[0m\n",
       "\u001b[2;36m           \u001b[0m         8.hist                                                                         \u001b[2m                \u001b[0m\n"
      ]
     },
     "metadata": {},
     "output_type": "display_data"
    },
    {
     "name": "stdout",
     "output_type": "stream",
     "text": [
      "WJetsToLNu_HT-1200To2500_TuneCP5_13TeV-madgraphMLM-pythia8\n"
     ]
    },
    {
     "data": {
      "text/html": [
       "<pre style=\"white-space:pre;overflow-x:auto;line-height:normal;font-family:Menlo,'DejaVu Sans Mono',consolas,'Courier New',monospace\"><span style=\"color: #7fbfbf; text-decoration-color: #7fbfbf\">           </span><span style=\"color: #000080; text-decoration-color: #000080\">INFO    </span> Readign sample: WJetsToLNu_HT-1200To2500_TuneCP5_13TeV-madgraphMLM-pythia8,    <a href=\"file:///tmp/ipykernel_18646/2088555353.py\" target=\"_blank\"><span style=\"color: #7f7f7f; text-decoration-color: #7f7f7f\">2088555353.py</span></a><span style=\"color: #7f7f7f; text-decoration-color: #7f7f7f\">:</span><a href=\"file:///tmp/ipykernel_18646/2088555353.py#23\" target=\"_blank\"><span style=\"color: #7f7f7f; text-decoration-color: #7f7f7f\">23</span></a>\n",
       "<span style=\"color: #7fbfbf; text-decoration-color: #7fbfbf\">           </span>         from:                                                                          <span style=\"color: #7f7f7f; text-decoration-color: #7f7f7f\">                </span>\n",
       "<span style=\"color: #7fbfbf; text-decoration-color: #7fbfbf\">           </span>         inputs16APV/hists_sum_WJetsToLNu_HT-1200To2500_TuneCP5_13TeV-madgraphMLM-pythi <span style=\"color: #7f7f7f; text-decoration-color: #7f7f7f\">                </span>\n",
       "<span style=\"color: #7fbfbf; text-decoration-color: #7fbfbf\">           </span>         a8.hist                                                                        <span style=\"color: #7f7f7f; text-decoration-color: #7f7f7f\">                </span>\n",
       "</pre>\n"
      ],
      "text/plain": [
       "\u001b[2;36m          \u001b[0m\u001b[2;36m \u001b[0m\u001b[34mINFO    \u001b[0m Readign sample: WJetsToLNu_HT-1200To2500_TuneCP5_13TeV-madgraphMLM-pythia8,    \u001b]8;id=378350;file:///tmp/ipykernel_18646/2088555353.py\u001b\\\u001b[2m2088555353.py\u001b[0m\u001b]8;;\u001b\\\u001b[2m:\u001b[0m\u001b]8;id=621415;file:///tmp/ipykernel_18646/2088555353.py#23\u001b\\\u001b[2m23\u001b[0m\u001b]8;;\u001b\\\n",
       "\u001b[2;36m           \u001b[0m         from:                                                                          \u001b[2m                \u001b[0m\n",
       "\u001b[2;36m           \u001b[0m         inputs16APV/hists_sum_WJetsToLNu_HT-1200To2500_TuneCP5_13TeV-madgraphMLM-pythi \u001b[2m                \u001b[0m\n",
       "\u001b[2;36m           \u001b[0m         a8.hist                                                                        \u001b[2m                \u001b[0m\n"
      ]
     },
     "metadata": {},
     "output_type": "display_data"
    },
    {
     "name": "stdout",
     "output_type": "stream",
     "text": [
      "WJetsToLNu_HT-2500ToInf_TuneCP5_13TeV-madgraphMLM-pythia8\n"
     ]
    },
    {
     "data": {
      "text/html": [
       "<pre style=\"white-space:pre;overflow-x:auto;line-height:normal;font-family:Menlo,'DejaVu Sans Mono',consolas,'Courier New',monospace\"><span style=\"color: #7fbfbf; text-decoration-color: #7fbfbf\">           </span><span style=\"color: #000080; text-decoration-color: #000080\">INFO    </span> Readign sample: WJetsToLNu_HT-2500ToInf_TuneCP5_13TeV-madgraphMLM-pythia8,     <a href=\"file:///tmp/ipykernel_18646/2088555353.py\" target=\"_blank\"><span style=\"color: #7f7f7f; text-decoration-color: #7f7f7f\">2088555353.py</span></a><span style=\"color: #7f7f7f; text-decoration-color: #7f7f7f\">:</span><a href=\"file:///tmp/ipykernel_18646/2088555353.py#23\" target=\"_blank\"><span style=\"color: #7f7f7f; text-decoration-color: #7f7f7f\">23</span></a>\n",
       "<span style=\"color: #7fbfbf; text-decoration-color: #7fbfbf\">           </span>         from:                                                                          <span style=\"color: #7f7f7f; text-decoration-color: #7f7f7f\">                </span>\n",
       "<span style=\"color: #7fbfbf; text-decoration-color: #7fbfbf\">           </span>         inputs16APV/hists_sum_WJetsToLNu_HT-2500ToInf_TuneCP5_13TeV-madgraphMLM-pythia <span style=\"color: #7f7f7f; text-decoration-color: #7f7f7f\">                </span>\n",
       "<span style=\"color: #7fbfbf; text-decoration-color: #7fbfbf\">           </span>         8.hist                                                                         <span style=\"color: #7f7f7f; text-decoration-color: #7f7f7f\">                </span>\n",
       "</pre>\n"
      ],
      "text/plain": [
       "\u001b[2;36m          \u001b[0m\u001b[2;36m \u001b[0m\u001b[34mINFO    \u001b[0m Readign sample: WJetsToLNu_HT-2500ToInf_TuneCP5_13TeV-madgraphMLM-pythia8,     \u001b]8;id=829074;file:///tmp/ipykernel_18646/2088555353.py\u001b\\\u001b[2m2088555353.py\u001b[0m\u001b]8;;\u001b\\\u001b[2m:\u001b[0m\u001b]8;id=370444;file:///tmp/ipykernel_18646/2088555353.py#23\u001b\\\u001b[2m23\u001b[0m\u001b]8;;\u001b\\\n",
       "\u001b[2;36m           \u001b[0m         from:                                                                          \u001b[2m                \u001b[0m\n",
       "\u001b[2;36m           \u001b[0m         inputs16APV/hists_sum_WJetsToLNu_HT-2500ToInf_TuneCP5_13TeV-madgraphMLM-pythia \u001b[2m                \u001b[0m\n",
       "\u001b[2;36m           \u001b[0m         8.hist                                                                         \u001b[2m                \u001b[0m\n"
      ]
     },
     "metadata": {},
     "output_type": "display_data"
    },
    {
     "name": "stdout",
     "output_type": "stream",
     "text": [
      "boostedTau_WJetsToLNu_HT-400To600_TuneCP5_13TeV-madgraphMLM-pythia8\n"
     ]
    },
    {
     "data": {
      "text/html": [
       "<pre style=\"white-space:pre;overflow-x:auto;line-height:normal;font-family:Menlo,'DejaVu Sans Mono',consolas,'Courier New',monospace\"><span style=\"color: #7fbfbf; text-decoration-color: #7fbfbf\">           </span><span style=\"color: #000080; text-decoration-color: #000080\">INFO    </span> Readign sample:                                                                <a href=\"file:///tmp/ipykernel_18646/2088555353.py\" target=\"_blank\"><span style=\"color: #7f7f7f; text-decoration-color: #7f7f7f\">2088555353.py</span></a><span style=\"color: #7f7f7f; text-decoration-color: #7f7f7f\">:</span><a href=\"file:///tmp/ipykernel_18646/2088555353.py#23\" target=\"_blank\"><span style=\"color: #7f7f7f; text-decoration-color: #7f7f7f\">23</span></a>\n",
       "<span style=\"color: #7fbfbf; text-decoration-color: #7fbfbf\">           </span>         boostedTau_WJetsToLNu_HT-400To600_TuneCP5_13TeV-madgraphMLM-pythia8, from:     <span style=\"color: #7f7f7f; text-decoration-color: #7f7f7f\">                </span>\n",
       "<span style=\"color: #7fbfbf; text-decoration-color: #7fbfbf\">           </span>         inputs16APV/hists_sum_boostedTau_WJetsToLNu_HT-400To600_TuneCP5_13TeV-madgraph <span style=\"color: #7f7f7f; text-decoration-color: #7f7f7f\">                </span>\n",
       "<span style=\"color: #7fbfbf; text-decoration-color: #7fbfbf\">           </span>         MLM-pythia8.hist                                                               <span style=\"color: #7f7f7f; text-decoration-color: #7f7f7f\">                </span>\n",
       "</pre>\n"
      ],
      "text/plain": [
       "\u001b[2;36m          \u001b[0m\u001b[2;36m \u001b[0m\u001b[34mINFO    \u001b[0m Readign sample:                                                                \u001b]8;id=771276;file:///tmp/ipykernel_18646/2088555353.py\u001b\\\u001b[2m2088555353.py\u001b[0m\u001b]8;;\u001b\\\u001b[2m:\u001b[0m\u001b]8;id=239129;file:///tmp/ipykernel_18646/2088555353.py#23\u001b\\\u001b[2m23\u001b[0m\u001b]8;;\u001b\\\n",
       "\u001b[2;36m           \u001b[0m         boostedTau_WJetsToLNu_HT-400To600_TuneCP5_13TeV-madgraphMLM-pythia8, from:     \u001b[2m                \u001b[0m\n",
       "\u001b[2;36m           \u001b[0m         inputs16APV/hists_sum_boostedTau_WJetsToLNu_HT-400To600_TuneCP5_13TeV-madgraph \u001b[2m                \u001b[0m\n",
       "\u001b[2;36m           \u001b[0m         MLM-pythia8.hist                                                               \u001b[2m                \u001b[0m\n"
      ]
     },
     "metadata": {},
     "output_type": "display_data"
    },
    {
     "name": "stdout",
     "output_type": "stream",
     "text": [
      "WJetsToLNu_HT-100To200\n"
     ]
    },
    {
     "data": {
      "text/html": [
       "<pre style=\"white-space:pre;overflow-x:auto;line-height:normal;font-family:Menlo,'DejaVu Sans Mono',consolas,'Courier New',monospace\"><span style=\"color: #7fbfbf; text-decoration-color: #7fbfbf\">           </span><span style=\"color: #000080; text-decoration-color: #000080\">INFO    </span> Readign sample: WJetsToLNu_HT-100To200, from:                                  <a href=\"file:///tmp/ipykernel_18646/2088555353.py\" target=\"_blank\"><span style=\"color: #7f7f7f; text-decoration-color: #7f7f7f\">2088555353.py</span></a><span style=\"color: #7f7f7f; text-decoration-color: #7f7f7f\">:</span><a href=\"file:///tmp/ipykernel_18646/2088555353.py#23\" target=\"_blank\"><span style=\"color: #7f7f7f; text-decoration-color: #7f7f7f\">23</span></a>\n",
       "<span style=\"color: #7fbfbf; text-decoration-color: #7fbfbf\">           </span>         inputs16APV/hists_sum_WJetsToLNu_HT-100To200.hist                              <span style=\"color: #7f7f7f; text-decoration-color: #7f7f7f\">                </span>\n",
       "</pre>\n"
      ],
      "text/plain": [
       "\u001b[2;36m          \u001b[0m\u001b[2;36m \u001b[0m\u001b[34mINFO    \u001b[0m Readign sample: WJetsToLNu_HT-100To200, from:                                  \u001b]8;id=192206;file:///tmp/ipykernel_18646/2088555353.py\u001b\\\u001b[2m2088555353.py\u001b[0m\u001b]8;;\u001b\\\u001b[2m:\u001b[0m\u001b]8;id=76219;file:///tmp/ipykernel_18646/2088555353.py#23\u001b\\\u001b[2m23\u001b[0m\u001b]8;;\u001b\\\n",
       "\u001b[2;36m           \u001b[0m         inputs16APV/hists_sum_WJetsToLNu_HT-100To200.hist                              \u001b[2m                \u001b[0m\n"
      ]
     },
     "metadata": {},
     "output_type": "display_data"
    },
    {
     "name": "stdout",
     "output_type": "stream",
     "text": [
      "WJetsToLNu_HT-1200To2500\n"
     ]
    },
    {
     "data": {
      "text/html": [
       "<pre style=\"white-space:pre;overflow-x:auto;line-height:normal;font-family:Menlo,'DejaVu Sans Mono',consolas,'Courier New',monospace\"><span style=\"color: #7fbfbf; text-decoration-color: #7fbfbf\">           </span><span style=\"color: #000080; text-decoration-color: #000080\">INFO    </span> Readign sample: WJetsToLNu_HT-1200To2500, from:                                <a href=\"file:///tmp/ipykernel_18646/2088555353.py\" target=\"_blank\"><span style=\"color: #7f7f7f; text-decoration-color: #7f7f7f\">2088555353.py</span></a><span style=\"color: #7f7f7f; text-decoration-color: #7f7f7f\">:</span><a href=\"file:///tmp/ipykernel_18646/2088555353.py#23\" target=\"_blank\"><span style=\"color: #7f7f7f; text-decoration-color: #7f7f7f\">23</span></a>\n",
       "<span style=\"color: #7fbfbf; text-decoration-color: #7fbfbf\">           </span>         inputs16APV/hists_sum_WJetsToLNu_HT-1200To2500.hist                            <span style=\"color: #7f7f7f; text-decoration-color: #7f7f7f\">                </span>\n",
       "</pre>\n"
      ],
      "text/plain": [
       "\u001b[2;36m          \u001b[0m\u001b[2;36m \u001b[0m\u001b[34mINFO    \u001b[0m Readign sample: WJetsToLNu_HT-1200To2500, from:                                \u001b]8;id=170661;file:///tmp/ipykernel_18646/2088555353.py\u001b\\\u001b[2m2088555353.py\u001b[0m\u001b]8;;\u001b\\\u001b[2m:\u001b[0m\u001b]8;id=539781;file:///tmp/ipykernel_18646/2088555353.py#23\u001b\\\u001b[2m23\u001b[0m\u001b]8;;\u001b\\\n",
       "\u001b[2;36m           \u001b[0m         inputs16APV/hists_sum_WJetsToLNu_HT-1200To2500.hist                            \u001b[2m                \u001b[0m\n"
      ]
     },
     "metadata": {},
     "output_type": "display_data"
    },
    {
     "data": {
      "text/html": [
       "<pre style=\"white-space:pre;overflow-x:auto;line-height:normal;font-family:Menlo,'DejaVu Sans Mono',consolas,'Courier New',monospace\"><span style=\"color: #7fbfbf; text-decoration-color: #7fbfbf\">           </span><span style=\"color: #000080; text-decoration-color: #000080\">INFO    </span> Scaling WJetsToLNu_HT-1200To2500 by <span style=\"color: #008080; text-decoration-color: #008080; font-weight: bold\">19.520000000</span> <span style=\"font-weight: bold\">(</span>lumi = <span style=\"color: #008080; text-decoration-color: #008080; font-weight: bold\">19.52</span>, xs = nan, sumw <a href=\"file:///tmp/ipykernel_18646/2088555353.py\" target=\"_blank\"><span style=\"color: #7f7f7f; text-decoration-color: #7f7f7f\">2088555353.py</span></a><span style=\"color: #7f7f7f; text-decoration-color: #7f7f7f\">:</span><a href=\"file:///tmp/ipykernel_18646/2088555353.py#34\" target=\"_blank\"><span style=\"color: #7f7f7f; text-decoration-color: #7f7f7f\">34</span></a>\n",
       "<span style=\"color: #7fbfbf; text-decoration-color: #7fbfbf\">           </span>         = <span style=\"color: #008080; text-decoration-color: #008080; font-weight: bold\">2096969.000</span><span style=\"font-weight: bold\">)</span>                                                                 <span style=\"color: #7f7f7f; text-decoration-color: #7f7f7f\">                </span>\n",
       "</pre>\n"
      ],
      "text/plain": [
       "\u001b[2;36m          \u001b[0m\u001b[2;36m \u001b[0m\u001b[34mINFO    \u001b[0m Scaling WJetsToLNu_HT-1200To2500 by \u001b[1;36m19.520000000\u001b[0m \u001b[1m(\u001b[0mlumi = \u001b[1;36m19.52\u001b[0m, xs = nan, sumw \u001b]8;id=781303;file:///tmp/ipykernel_18646/2088555353.py\u001b\\\u001b[2m2088555353.py\u001b[0m\u001b]8;;\u001b\\\u001b[2m:\u001b[0m\u001b]8;id=185789;file:///tmp/ipykernel_18646/2088555353.py#34\u001b\\\u001b[2m34\u001b[0m\u001b]8;;\u001b\\\n",
       "\u001b[2;36m           \u001b[0m         = \u001b[1;36m2096969.000\u001b[0m\u001b[1m)\u001b[0m                                                                 \u001b[2m                \u001b[0m\n"
      ]
     },
     "metadata": {},
     "output_type": "display_data"
    },
    {
     "name": "stdout",
     "output_type": "stream",
     "text": [
      "WJetsToLNu_HT-800To1200\n"
     ]
    },
    {
     "data": {
      "text/html": [
       "<pre style=\"white-space:pre;overflow-x:auto;line-height:normal;font-family:Menlo,'DejaVu Sans Mono',consolas,'Courier New',monospace\"><span style=\"color: #7fbfbf; text-decoration-color: #7fbfbf\">           </span><span style=\"color: #000080; text-decoration-color: #000080\">INFO    </span> Readign sample: WJetsToLNu_HT-800To1200, from:                                 <a href=\"file:///tmp/ipykernel_18646/2088555353.py\" target=\"_blank\"><span style=\"color: #7f7f7f; text-decoration-color: #7f7f7f\">2088555353.py</span></a><span style=\"color: #7f7f7f; text-decoration-color: #7f7f7f\">:</span><a href=\"file:///tmp/ipykernel_18646/2088555353.py#23\" target=\"_blank\"><span style=\"color: #7f7f7f; text-decoration-color: #7f7f7f\">23</span></a>\n",
       "<span style=\"color: #7fbfbf; text-decoration-color: #7fbfbf\">           </span>         inputs16APV/hists_sum_WJetsToLNu_HT-800To1200.hist                             <span style=\"color: #7f7f7f; text-decoration-color: #7f7f7f\">                </span>\n",
       "</pre>\n"
      ],
      "text/plain": [
       "\u001b[2;36m          \u001b[0m\u001b[2;36m \u001b[0m\u001b[34mINFO    \u001b[0m Readign sample: WJetsToLNu_HT-800To1200, from:                                 \u001b]8;id=682303;file:///tmp/ipykernel_18646/2088555353.py\u001b\\\u001b[2m2088555353.py\u001b[0m\u001b]8;;\u001b\\\u001b[2m:\u001b[0m\u001b]8;id=127617;file:///tmp/ipykernel_18646/2088555353.py#23\u001b\\\u001b[2m23\u001b[0m\u001b]8;;\u001b\\\n",
       "\u001b[2;36m           \u001b[0m         inputs16APV/hists_sum_WJetsToLNu_HT-800To1200.hist                             \u001b[2m                \u001b[0m\n"
      ]
     },
     "metadata": {},
     "output_type": "display_data"
    },
    {
     "data": {
      "text/html": [
       "<pre style=\"white-space:pre;overflow-x:auto;line-height:normal;font-family:Menlo,'DejaVu Sans Mono',consolas,'Courier New',monospace\"><span style=\"color: #7fbfbf; text-decoration-color: #7fbfbf\">           </span><span style=\"color: #000080; text-decoration-color: #000080\">INFO    </span> Scaling WJetsToLNu_HT-800To1200 by <span style=\"color: #008080; text-decoration-color: #008080; font-weight: bold\">19.520000000</span> <span style=\"font-weight: bold\">(</span>lumi = <span style=\"color: #008080; text-decoration-color: #008080; font-weight: bold\">19.52</span>, xs = nan, sumw  <a href=\"file:///tmp/ipykernel_18646/2088555353.py\" target=\"_blank\"><span style=\"color: #7f7f7f; text-decoration-color: #7f7f7f\">2088555353.py</span></a><span style=\"color: #7f7f7f; text-decoration-color: #7f7f7f\">:</span><a href=\"file:///tmp/ipykernel_18646/2088555353.py#34\" target=\"_blank\"><span style=\"color: #7f7f7f; text-decoration-color: #7f7f7f\">34</span></a>\n",
       "<span style=\"color: #7fbfbf; text-decoration-color: #7fbfbf\">           </span>         = <span style=\"color: #008080; text-decoration-color: #008080; font-weight: bold\">2510487.000</span><span style=\"font-weight: bold\">)</span>                                                                 <span style=\"color: #7f7f7f; text-decoration-color: #7f7f7f\">                </span>\n",
       "</pre>\n"
      ],
      "text/plain": [
       "\u001b[2;36m          \u001b[0m\u001b[2;36m \u001b[0m\u001b[34mINFO    \u001b[0m Scaling WJetsToLNu_HT-800To1200 by \u001b[1;36m19.520000000\u001b[0m \u001b[1m(\u001b[0mlumi = \u001b[1;36m19.52\u001b[0m, xs = nan, sumw  \u001b]8;id=778515;file:///tmp/ipykernel_18646/2088555353.py\u001b\\\u001b[2m2088555353.py\u001b[0m\u001b]8;;\u001b\\\u001b[2m:\u001b[0m\u001b]8;id=23684;file:///tmp/ipykernel_18646/2088555353.py#34\u001b\\\u001b[2m34\u001b[0m\u001b]8;;\u001b\\\n",
       "\u001b[2;36m           \u001b[0m         = \u001b[1;36m2510487.000\u001b[0m\u001b[1m)\u001b[0m                                                                 \u001b[2m                \u001b[0m\n"
      ]
     },
     "metadata": {},
     "output_type": "display_data"
    },
    {
     "name": "stdout",
     "output_type": "stream",
     "text": [
      "WJetsToLNu_HT-600To800\n"
     ]
    },
    {
     "data": {
      "text/html": [
       "<pre style=\"white-space:pre;overflow-x:auto;line-height:normal;font-family:Menlo,'DejaVu Sans Mono',consolas,'Courier New',monospace\"><span style=\"color: #7fbfbf; text-decoration-color: #7fbfbf\">           </span><span style=\"color: #000080; text-decoration-color: #000080\">INFO    </span> Readign sample: WJetsToLNu_HT-600To800, from:                                  <a href=\"file:///tmp/ipykernel_18646/2088555353.py\" target=\"_blank\"><span style=\"color: #7f7f7f; text-decoration-color: #7f7f7f\">2088555353.py</span></a><span style=\"color: #7f7f7f; text-decoration-color: #7f7f7f\">:</span><a href=\"file:///tmp/ipykernel_18646/2088555353.py#23\" target=\"_blank\"><span style=\"color: #7f7f7f; text-decoration-color: #7f7f7f\">23</span></a>\n",
       "<span style=\"color: #7fbfbf; text-decoration-color: #7fbfbf\">           </span>         inputs16APV/hists_sum_WJetsToLNu_HT-600To800.hist                              <span style=\"color: #7f7f7f; text-decoration-color: #7f7f7f\">                </span>\n",
       "</pre>\n"
      ],
      "text/plain": [
       "\u001b[2;36m          \u001b[0m\u001b[2;36m \u001b[0m\u001b[34mINFO    \u001b[0m Readign sample: WJetsToLNu_HT-600To800, from:                                  \u001b]8;id=124408;file:///tmp/ipykernel_18646/2088555353.py\u001b\\\u001b[2m2088555353.py\u001b[0m\u001b]8;;\u001b\\\u001b[2m:\u001b[0m\u001b]8;id=481818;file:///tmp/ipykernel_18646/2088555353.py#23\u001b\\\u001b[2m23\u001b[0m\u001b]8;;\u001b\\\n",
       "\u001b[2;36m           \u001b[0m         inputs16APV/hists_sum_WJetsToLNu_HT-600To800.hist                              \u001b[2m                \u001b[0m\n"
      ]
     },
     "metadata": {},
     "output_type": "display_data"
    },
    {
     "data": {
      "text/html": [
       "<pre style=\"white-space:pre;overflow-x:auto;line-height:normal;font-family:Menlo,'DejaVu Sans Mono',consolas,'Courier New',monospace\"><span style=\"color: #7fbfbf; text-decoration-color: #7fbfbf\">           </span><span style=\"color: #000080; text-decoration-color: #000080\">INFO    </span> Scaling WJetsToLNu_HT-600To800 by <span style=\"color: #008080; text-decoration-color: #008080; font-weight: bold\">19.520000000</span> <span style=\"font-weight: bold\">(</span>lumi = <span style=\"color: #008080; text-decoration-color: #008080; font-weight: bold\">19.52</span>, xs = nan, sumw = <a href=\"file:///tmp/ipykernel_18646/2088555353.py\" target=\"_blank\"><span style=\"color: #7f7f7f; text-decoration-color: #7f7f7f\">2088555353.py</span></a><span style=\"color: #7f7f7f; text-decoration-color: #7f7f7f\">:</span><a href=\"file:///tmp/ipykernel_18646/2088555353.py#34\" target=\"_blank\"><span style=\"color: #7f7f7f; text-decoration-color: #7f7f7f\">34</span></a>\n",
       "<span style=\"color: #7fbfbf; text-decoration-color: #7fbfbf\">           </span>         <span style=\"color: #008080; text-decoration-color: #008080; font-weight: bold\">2344130.000</span><span style=\"font-weight: bold\">)</span>                                                                   <span style=\"color: #7f7f7f; text-decoration-color: #7f7f7f\">                </span>\n",
       "</pre>\n"
      ],
      "text/plain": [
       "\u001b[2;36m          \u001b[0m\u001b[2;36m \u001b[0m\u001b[34mINFO    \u001b[0m Scaling WJetsToLNu_HT-600To800 by \u001b[1;36m19.520000000\u001b[0m \u001b[1m(\u001b[0mlumi = \u001b[1;36m19.52\u001b[0m, xs = nan, sumw = \u001b]8;id=727270;file:///tmp/ipykernel_18646/2088555353.py\u001b\\\u001b[2m2088555353.py\u001b[0m\u001b]8;;\u001b\\\u001b[2m:\u001b[0m\u001b]8;id=880753;file:///tmp/ipykernel_18646/2088555353.py#34\u001b\\\u001b[2m34\u001b[0m\u001b]8;;\u001b\\\n",
       "\u001b[2;36m           \u001b[0m         \u001b[1;36m2344130.000\u001b[0m\u001b[1m)\u001b[0m                                                                   \u001b[2m                \u001b[0m\n"
      ]
     },
     "metadata": {},
     "output_type": "display_data"
    },
    {
     "name": "stdout",
     "output_type": "stream",
     "text": [
      "WJetsToLNu_HT-2500ToInf\n"
     ]
    },
    {
     "data": {
      "text/html": [
       "<pre style=\"white-space:pre;overflow-x:auto;line-height:normal;font-family:Menlo,'DejaVu Sans Mono',consolas,'Courier New',monospace\"><span style=\"color: #7fbfbf; text-decoration-color: #7fbfbf\">           </span><span style=\"color: #000080; text-decoration-color: #000080\">INFO    </span> Readign sample: WJetsToLNu_HT-2500ToInf, from:                                 <a href=\"file:///tmp/ipykernel_18646/2088555353.py\" target=\"_blank\"><span style=\"color: #7f7f7f; text-decoration-color: #7f7f7f\">2088555353.py</span></a><span style=\"color: #7f7f7f; text-decoration-color: #7f7f7f\">:</span><a href=\"file:///tmp/ipykernel_18646/2088555353.py#23\" target=\"_blank\"><span style=\"color: #7f7f7f; text-decoration-color: #7f7f7f\">23</span></a>\n",
       "<span style=\"color: #7fbfbf; text-decoration-color: #7fbfbf\">           </span>         inputs16APV/hists_sum_WJetsToLNu_HT-2500ToInf.hist                             <span style=\"color: #7f7f7f; text-decoration-color: #7f7f7f\">                </span>\n",
       "</pre>\n"
      ],
      "text/plain": [
       "\u001b[2;36m          \u001b[0m\u001b[2;36m \u001b[0m\u001b[34mINFO    \u001b[0m Readign sample: WJetsToLNu_HT-2500ToInf, from:                                 \u001b]8;id=865033;file:///tmp/ipykernel_18646/2088555353.py\u001b\\\u001b[2m2088555353.py\u001b[0m\u001b]8;;\u001b\\\u001b[2m:\u001b[0m\u001b]8;id=945806;file:///tmp/ipykernel_18646/2088555353.py#23\u001b\\\u001b[2m23\u001b[0m\u001b]8;;\u001b\\\n",
       "\u001b[2;36m           \u001b[0m         inputs16APV/hists_sum_WJetsToLNu_HT-2500ToInf.hist                             \u001b[2m                \u001b[0m\n"
      ]
     },
     "metadata": {},
     "output_type": "display_data"
    },
    {
     "data": {
      "text/html": [
       "<pre style=\"white-space:pre;overflow-x:auto;line-height:normal;font-family:Menlo,'DejaVu Sans Mono',consolas,'Courier New',monospace\"><span style=\"color: #7fbfbf; text-decoration-color: #7fbfbf\">           </span><span style=\"color: #000080; text-decoration-color: #000080\">INFO    </span> Scaling WJetsToLNu_HT-2500ToInf by <span style=\"color: #008080; text-decoration-color: #008080; font-weight: bold\">19.520000000</span> <span style=\"font-weight: bold\">(</span>lumi = <span style=\"color: #008080; text-decoration-color: #008080; font-weight: bold\">19.52</span>, xs = nan, sumw  <a href=\"file:///tmp/ipykernel_18646/2088555353.py\" target=\"_blank\"><span style=\"color: #7f7f7f; text-decoration-color: #7f7f7f\">2088555353.py</span></a><span style=\"color: #7f7f7f; text-decoration-color: #7f7f7f\">:</span><a href=\"file:///tmp/ipykernel_18646/2088555353.py#34\" target=\"_blank\"><span style=\"color: #7f7f7f; text-decoration-color: #7f7f7f\">34</span></a>\n",
       "<span style=\"color: #7fbfbf; text-decoration-color: #7fbfbf\">           </span>         = <span style=\"color: #008080; text-decoration-color: #008080; font-weight: bold\">808649.000</span><span style=\"font-weight: bold\">)</span>                                                                  <span style=\"color: #7f7f7f; text-decoration-color: #7f7f7f\">                </span>\n",
       "</pre>\n"
      ],
      "text/plain": [
       "\u001b[2;36m          \u001b[0m\u001b[2;36m \u001b[0m\u001b[34mINFO    \u001b[0m Scaling WJetsToLNu_HT-2500ToInf by \u001b[1;36m19.520000000\u001b[0m \u001b[1m(\u001b[0mlumi = \u001b[1;36m19.52\u001b[0m, xs = nan, sumw  \u001b]8;id=566273;file:///tmp/ipykernel_18646/2088555353.py\u001b\\\u001b[2m2088555353.py\u001b[0m\u001b]8;;\u001b\\\u001b[2m:\u001b[0m\u001b]8;id=216000;file:///tmp/ipykernel_18646/2088555353.py#34\u001b\\\u001b[2m34\u001b[0m\u001b]8;;\u001b\\\n",
       "\u001b[2;36m           \u001b[0m         = \u001b[1;36m808649.000\u001b[0m\u001b[1m)\u001b[0m                                                                  \u001b[2m                \u001b[0m\n"
      ]
     },
     "metadata": {},
     "output_type": "display_data"
    },
    {
     "name": "stdout",
     "output_type": "stream",
     "text": [
      "WJetsToLNu_HT-200To400\n"
     ]
    },
    {
     "data": {
      "text/html": [
       "<pre style=\"white-space:pre;overflow-x:auto;line-height:normal;font-family:Menlo,'DejaVu Sans Mono',consolas,'Courier New',monospace\"><span style=\"color: #7fbfbf; text-decoration-color: #7fbfbf\">           </span><span style=\"color: #000080; text-decoration-color: #000080\">INFO    </span> Readign sample: WJetsToLNu_HT-200To400, from:                                  <a href=\"file:///tmp/ipykernel_18646/2088555353.py\" target=\"_blank\"><span style=\"color: #7f7f7f; text-decoration-color: #7f7f7f\">2088555353.py</span></a><span style=\"color: #7f7f7f; text-decoration-color: #7f7f7f\">:</span><a href=\"file:///tmp/ipykernel_18646/2088555353.py#23\" target=\"_blank\"><span style=\"color: #7f7f7f; text-decoration-color: #7f7f7f\">23</span></a>\n",
       "<span style=\"color: #7fbfbf; text-decoration-color: #7fbfbf\">           </span>         inputs16APV/hists_sum_WJetsToLNu_HT-200To400.hist                              <span style=\"color: #7f7f7f; text-decoration-color: #7f7f7f\">                </span>\n",
       "</pre>\n"
      ],
      "text/plain": [
       "\u001b[2;36m          \u001b[0m\u001b[2;36m \u001b[0m\u001b[34mINFO    \u001b[0m Readign sample: WJetsToLNu_HT-200To400, from:                                  \u001b]8;id=628844;file:///tmp/ipykernel_18646/2088555353.py\u001b\\\u001b[2m2088555353.py\u001b[0m\u001b]8;;\u001b\\\u001b[2m:\u001b[0m\u001b]8;id=181048;file:///tmp/ipykernel_18646/2088555353.py#23\u001b\\\u001b[2m23\u001b[0m\u001b]8;;\u001b\\\n",
       "\u001b[2;36m           \u001b[0m         inputs16APV/hists_sum_WJetsToLNu_HT-200To400.hist                              \u001b[2m                \u001b[0m\n"
      ]
     },
     "metadata": {},
     "output_type": "display_data"
    },
    {
     "name": "stdout",
     "output_type": "stream",
     "text": [
      "WJetsToLNu_HT-70To100\n"
     ]
    },
    {
     "data": {
      "text/html": [
       "<pre style=\"white-space:pre;overflow-x:auto;line-height:normal;font-family:Menlo,'DejaVu Sans Mono',consolas,'Courier New',monospace\"><span style=\"color: #7fbfbf; text-decoration-color: #7fbfbf\">           </span><span style=\"color: #000080; text-decoration-color: #000080\">INFO    </span> Readign sample: WJetsToLNu_HT-70To100, from:                                   <a href=\"file:///tmp/ipykernel_18646/2088555353.py\" target=\"_blank\"><span style=\"color: #7f7f7f; text-decoration-color: #7f7f7f\">2088555353.py</span></a><span style=\"color: #7f7f7f; text-decoration-color: #7f7f7f\">:</span><a href=\"file:///tmp/ipykernel_18646/2088555353.py#23\" target=\"_blank\"><span style=\"color: #7f7f7f; text-decoration-color: #7f7f7f\">23</span></a>\n",
       "<span style=\"color: #7fbfbf; text-decoration-color: #7fbfbf\">           </span>         inputs16APV/hists_sum_WJetsToLNu_HT-70To100.hist                               <span style=\"color: #7f7f7f; text-decoration-color: #7f7f7f\">                </span>\n",
       "</pre>\n"
      ],
      "text/plain": [
       "\u001b[2;36m          \u001b[0m\u001b[2;36m \u001b[0m\u001b[34mINFO    \u001b[0m Readign sample: WJetsToLNu_HT-70To100, from:                                   \u001b]8;id=288194;file:///tmp/ipykernel_18646/2088555353.py\u001b\\\u001b[2m2088555353.py\u001b[0m\u001b]8;;\u001b\\\u001b[2m:\u001b[0m\u001b]8;id=97140;file:///tmp/ipykernel_18646/2088555353.py#23\u001b\\\u001b[2m23\u001b[0m\u001b]8;;\u001b\\\n",
       "\u001b[2;36m           \u001b[0m         inputs16APV/hists_sum_WJetsToLNu_HT-70To100.hist                               \u001b[2m                \u001b[0m\n"
      ]
     },
     "metadata": {},
     "output_type": "display_data"
    },
    {
     "name": "stdout",
     "output_type": "stream",
     "text": [
      "WJetsToLNu_HT-400To600\n"
     ]
    },
    {
     "data": {
      "text/html": [
       "<pre style=\"white-space:pre;overflow-x:auto;line-height:normal;font-family:Menlo,'DejaVu Sans Mono',consolas,'Courier New',monospace\"><span style=\"color: #7fbfbf; text-decoration-color: #7fbfbf\">           </span><span style=\"color: #000080; text-decoration-color: #000080\">INFO    </span> Readign sample: WJetsToLNu_HT-400To600, from:                                  <a href=\"file:///tmp/ipykernel_18646/2088555353.py\" target=\"_blank\"><span style=\"color: #7f7f7f; text-decoration-color: #7f7f7f\">2088555353.py</span></a><span style=\"color: #7f7f7f; text-decoration-color: #7f7f7f\">:</span><a href=\"file:///tmp/ipykernel_18646/2088555353.py#23\" target=\"_blank\"><span style=\"color: #7f7f7f; text-decoration-color: #7f7f7f\">23</span></a>\n",
       "<span style=\"color: #7fbfbf; text-decoration-color: #7fbfbf\">           </span>         inputs16APV/hists_sum_WJetsToLNu_HT-400To600.hist                              <span style=\"color: #7f7f7f; text-decoration-color: #7f7f7f\">                </span>\n",
       "</pre>\n"
      ],
      "text/plain": [
       "\u001b[2;36m          \u001b[0m\u001b[2;36m \u001b[0m\u001b[34mINFO    \u001b[0m Readign sample: WJetsToLNu_HT-400To600, from:                                  \u001b]8;id=710588;file:///tmp/ipykernel_18646/2088555353.py\u001b\\\u001b[2m2088555353.py\u001b[0m\u001b]8;;\u001b\\\u001b[2m:\u001b[0m\u001b]8;id=89691;file:///tmp/ipykernel_18646/2088555353.py#23\u001b\\\u001b[2m23\u001b[0m\u001b]8;;\u001b\\\n",
       "\u001b[2;36m           \u001b[0m         inputs16APV/hists_sum_WJetsToLNu_HT-400To600.hist                              \u001b[2m                \u001b[0m\n"
      ]
     },
     "metadata": {},
     "output_type": "display_data"
    },
    {
     "data": {
      "text/html": [
       "<pre style=\"white-space:pre;overflow-x:auto;line-height:normal;font-family:Menlo,'DejaVu Sans Mono',consolas,'Courier New',monospace\"><span style=\"color: #7fbfbf; text-decoration-color: #7fbfbf\">           </span><span style=\"color: #000080; text-decoration-color: #000080\">INFO    </span> Scaling WJetsToLNu_HT-400To600 by <span style=\"color: #008080; text-decoration-color: #008080; font-weight: bold\">19.520000000</span> <span style=\"font-weight: bold\">(</span>lumi = <span style=\"color: #008080; text-decoration-color: #008080; font-weight: bold\">19.52</span>, xs = nan, sumw = <a href=\"file:///tmp/ipykernel_18646/2088555353.py\" target=\"_blank\"><span style=\"color: #7f7f7f; text-decoration-color: #7f7f7f\">2088555353.py</span></a><span style=\"color: #7f7f7f; text-decoration-color: #7f7f7f\">:</span><a href=\"file:///tmp/ipykernel_18646/2088555353.py#34\" target=\"_blank\"><span style=\"color: #7f7f7f; text-decoration-color: #7f7f7f\">34</span></a>\n",
       "<span style=\"color: #7fbfbf; text-decoration-color: #7fbfbf\">           </span>         <span style=\"color: #008080; text-decoration-color: #008080; font-weight: bold\">2447145.000</span><span style=\"font-weight: bold\">)</span>                                                                   <span style=\"color: #7f7f7f; text-decoration-color: #7f7f7f\">                </span>\n",
       "</pre>\n"
      ],
      "text/plain": [
       "\u001b[2;36m          \u001b[0m\u001b[2;36m \u001b[0m\u001b[34mINFO    \u001b[0m Scaling WJetsToLNu_HT-400To600 by \u001b[1;36m19.520000000\u001b[0m \u001b[1m(\u001b[0mlumi = \u001b[1;36m19.52\u001b[0m, xs = nan, sumw = \u001b]8;id=542089;file:///tmp/ipykernel_18646/2088555353.py\u001b\\\u001b[2m2088555353.py\u001b[0m\u001b]8;;\u001b\\\u001b[2m:\u001b[0m\u001b]8;id=512164;file:///tmp/ipykernel_18646/2088555353.py#34\u001b\\\u001b[2m34\u001b[0m\u001b]8;;\u001b\\\n",
       "\u001b[2;36m           \u001b[0m         \u001b[1;36m2447145.000\u001b[0m\u001b[1m)\u001b[0m                                                                   \u001b[2m                \u001b[0m\n"
      ]
     },
     "metadata": {},
     "output_type": "display_data"
    },
    {
     "name": "stdout",
     "output_type": "stream",
     "text": [
      "WJetsToQQ_HT400to600_qc19_3j_TuneCP5_13TeV-madgraphMLM-pythia8\n"
     ]
    },
    {
     "data": {
      "text/html": [
       "<pre style=\"white-space:pre;overflow-x:auto;line-height:normal;font-family:Menlo,'DejaVu Sans Mono',consolas,'Courier New',monospace\"><span style=\"color: #7fbfbf; text-decoration-color: #7fbfbf\">           </span><span style=\"color: #000080; text-decoration-color: #000080\">INFO    </span> Readign sample:                                                                <a href=\"file:///tmp/ipykernel_18646/2088555353.py\" target=\"_blank\"><span style=\"color: #7f7f7f; text-decoration-color: #7f7f7f\">2088555353.py</span></a><span style=\"color: #7f7f7f; text-decoration-color: #7f7f7f\">:</span><a href=\"file:///tmp/ipykernel_18646/2088555353.py#23\" target=\"_blank\"><span style=\"color: #7f7f7f; text-decoration-color: #7f7f7f\">23</span></a>\n",
       "<span style=\"color: #7fbfbf; text-decoration-color: #7fbfbf\">           </span>         WJetsToQQ_HT400to600_qc19_3j_TuneCP5_13TeV-madgraphMLM-pythia8, from:          <span style=\"color: #7f7f7f; text-decoration-color: #7f7f7f\">                </span>\n",
       "<span style=\"color: #7fbfbf; text-decoration-color: #7fbfbf\">           </span>         inputs16APV/hists_sum_WJetsToQQ_HT400to600_qc19_3j_TuneCP5_13TeV-madgraphMLM-p <span style=\"color: #7f7f7f; text-decoration-color: #7f7f7f\">                </span>\n",
       "<span style=\"color: #7fbfbf; text-decoration-color: #7fbfbf\">           </span>         ythia8.hist                                                                    <span style=\"color: #7f7f7f; text-decoration-color: #7f7f7f\">                </span>\n",
       "</pre>\n"
      ],
      "text/plain": [
       "\u001b[2;36m          \u001b[0m\u001b[2;36m \u001b[0m\u001b[34mINFO    \u001b[0m Readign sample:                                                                \u001b]8;id=780896;file:///tmp/ipykernel_18646/2088555353.py\u001b\\\u001b[2m2088555353.py\u001b[0m\u001b]8;;\u001b\\\u001b[2m:\u001b[0m\u001b]8;id=837424;file:///tmp/ipykernel_18646/2088555353.py#23\u001b\\\u001b[2m23\u001b[0m\u001b]8;;\u001b\\\n",
       "\u001b[2;36m           \u001b[0m         WJetsToQQ_HT400to600_qc19_3j_TuneCP5_13TeV-madgraphMLM-pythia8, from:          \u001b[2m                \u001b[0m\n",
       "\u001b[2;36m           \u001b[0m         inputs16APV/hists_sum_WJetsToQQ_HT400to600_qc19_3j_TuneCP5_13TeV-madgraphMLM-p \u001b[2m                \u001b[0m\n",
       "\u001b[2;36m           \u001b[0m         ythia8.hist                                                                    \u001b[2m                \u001b[0m\n"
      ]
     },
     "metadata": {},
     "output_type": "display_data"
    },
    {
     "name": "stdout",
     "output_type": "stream",
     "text": [
      "WJetsToQQ_HT600to800_qc19_3j_TuneCP5_13TeV-madgraphMLM-pythia8\n"
     ]
    },
    {
     "data": {
      "text/html": [
       "<pre style=\"white-space:pre;overflow-x:auto;line-height:normal;font-family:Menlo,'DejaVu Sans Mono',consolas,'Courier New',monospace\"><span style=\"color: #7fbfbf; text-decoration-color: #7fbfbf\">           </span><span style=\"color: #000080; text-decoration-color: #000080\">INFO    </span> Readign sample:                                                                <a href=\"file:///tmp/ipykernel_18646/2088555353.py\" target=\"_blank\"><span style=\"color: #7f7f7f; text-decoration-color: #7f7f7f\">2088555353.py</span></a><span style=\"color: #7f7f7f; text-decoration-color: #7f7f7f\">:</span><a href=\"file:///tmp/ipykernel_18646/2088555353.py#23\" target=\"_blank\"><span style=\"color: #7f7f7f; text-decoration-color: #7f7f7f\">23</span></a>\n",
       "<span style=\"color: #7fbfbf; text-decoration-color: #7fbfbf\">           </span>         WJetsToQQ_HT600to800_qc19_3j_TuneCP5_13TeV-madgraphMLM-pythia8, from:          <span style=\"color: #7f7f7f; text-decoration-color: #7f7f7f\">                </span>\n",
       "<span style=\"color: #7fbfbf; text-decoration-color: #7fbfbf\">           </span>         inputs16APV/hists_sum_WJetsToQQ_HT600to800_qc19_3j_TuneCP5_13TeV-madgraphMLM-p <span style=\"color: #7f7f7f; text-decoration-color: #7f7f7f\">                </span>\n",
       "<span style=\"color: #7fbfbf; text-decoration-color: #7fbfbf\">           </span>         ythia8.hist                                                                    <span style=\"color: #7f7f7f; text-decoration-color: #7f7f7f\">                </span>\n",
       "</pre>\n"
      ],
      "text/plain": [
       "\u001b[2;36m          \u001b[0m\u001b[2;36m \u001b[0m\u001b[34mINFO    \u001b[0m Readign sample:                                                                \u001b]8;id=196903;file:///tmp/ipykernel_18646/2088555353.py\u001b\\\u001b[2m2088555353.py\u001b[0m\u001b]8;;\u001b\\\u001b[2m:\u001b[0m\u001b]8;id=604491;file:///tmp/ipykernel_18646/2088555353.py#23\u001b\\\u001b[2m23\u001b[0m\u001b]8;;\u001b\\\n",
       "\u001b[2;36m           \u001b[0m         WJetsToQQ_HT600to800_qc19_3j_TuneCP5_13TeV-madgraphMLM-pythia8, from:          \u001b[2m                \u001b[0m\n",
       "\u001b[2;36m           \u001b[0m         inputs16APV/hists_sum_WJetsToQQ_HT600to800_qc19_3j_TuneCP5_13TeV-madgraphMLM-p \u001b[2m                \u001b[0m\n",
       "\u001b[2;36m           \u001b[0m         ythia8.hist                                                                    \u001b[2m                \u001b[0m\n"
      ]
     },
     "metadata": {},
     "output_type": "display_data"
    },
    {
     "name": "stdout",
     "output_type": "stream",
     "text": [
      "WJetsToQQ_HT-800toInf_qc19_3j_TuneCP5_13TeV-madgraphMLM-pythia8\n"
     ]
    },
    {
     "data": {
      "text/html": [
       "<pre style=\"white-space:pre;overflow-x:auto;line-height:normal;font-family:Menlo,'DejaVu Sans Mono',consolas,'Courier New',monospace\"><span style=\"color: #7fbfbf; text-decoration-color: #7fbfbf\">           </span><span style=\"color: #000080; text-decoration-color: #000080\">INFO    </span> Readign sample:                                                                <a href=\"file:///tmp/ipykernel_18646/2088555353.py\" target=\"_blank\"><span style=\"color: #7f7f7f; text-decoration-color: #7f7f7f\">2088555353.py</span></a><span style=\"color: #7f7f7f; text-decoration-color: #7f7f7f\">:</span><a href=\"file:///tmp/ipykernel_18646/2088555353.py#23\" target=\"_blank\"><span style=\"color: #7f7f7f; text-decoration-color: #7f7f7f\">23</span></a>\n",
       "<span style=\"color: #7fbfbf; text-decoration-color: #7fbfbf\">           </span>         WJetsToQQ_HT-800toInf_qc19_3j_TuneCP5_13TeV-madgraphMLM-pythia8, from:         <span style=\"color: #7f7f7f; text-decoration-color: #7f7f7f\">                </span>\n",
       "<span style=\"color: #7fbfbf; text-decoration-color: #7fbfbf\">           </span>         inputs16APV/hists_sum_WJetsToQQ_HT-800toInf_qc19_3j_TuneCP5_13TeV-madgraphMLM- <span style=\"color: #7f7f7f; text-decoration-color: #7f7f7f\">                </span>\n",
       "<span style=\"color: #7fbfbf; text-decoration-color: #7fbfbf\">           </span>         pythia8.hist                                                                   <span style=\"color: #7f7f7f; text-decoration-color: #7f7f7f\">                </span>\n",
       "</pre>\n"
      ],
      "text/plain": [
       "\u001b[2;36m          \u001b[0m\u001b[2;36m \u001b[0m\u001b[34mINFO    \u001b[0m Readign sample:                                                                \u001b]8;id=118648;file:///tmp/ipykernel_18646/2088555353.py\u001b\\\u001b[2m2088555353.py\u001b[0m\u001b]8;;\u001b\\\u001b[2m:\u001b[0m\u001b]8;id=843815;file:///tmp/ipykernel_18646/2088555353.py#23\u001b\\\u001b[2m23\u001b[0m\u001b]8;;\u001b\\\n",
       "\u001b[2;36m           \u001b[0m         WJetsToQQ_HT-800toInf_qc19_3j_TuneCP5_13TeV-madgraphMLM-pythia8, from:         \u001b[2m                \u001b[0m\n",
       "\u001b[2;36m           \u001b[0m         inputs16APV/hists_sum_WJetsToQQ_HT-800toInf_qc19_3j_TuneCP5_13TeV-madgraphMLM- \u001b[2m                \u001b[0m\n",
       "\u001b[2;36m           \u001b[0m         pythia8.hist                                                                   \u001b[2m                \u001b[0m\n"
      ]
     },
     "metadata": {},
     "output_type": "display_data"
    },
    {
     "name": "stdout",
     "output_type": "stream",
     "text": [
      "ZJetsToQQ_HT400to600_qc19_4j_TuneCP5_13TeV-madgraphMLM-pythia8\n"
     ]
    },
    {
     "data": {
      "text/html": [
       "<pre style=\"white-space:pre;overflow-x:auto;line-height:normal;font-family:Menlo,'DejaVu Sans Mono',consolas,'Courier New',monospace\"><span style=\"color: #7fbfbf; text-decoration-color: #7fbfbf\">           </span><span style=\"color: #000080; text-decoration-color: #000080\">INFO    </span> Readign sample:                                                                <a href=\"file:///tmp/ipykernel_18646/2088555353.py\" target=\"_blank\"><span style=\"color: #7f7f7f; text-decoration-color: #7f7f7f\">2088555353.py</span></a><span style=\"color: #7f7f7f; text-decoration-color: #7f7f7f\">:</span><a href=\"file:///tmp/ipykernel_18646/2088555353.py#23\" target=\"_blank\"><span style=\"color: #7f7f7f; text-decoration-color: #7f7f7f\">23</span></a>\n",
       "<span style=\"color: #7fbfbf; text-decoration-color: #7fbfbf\">           </span>         ZJetsToQQ_HT400to600_qc19_4j_TuneCP5_13TeV-madgraphMLM-pythia8, from:          <span style=\"color: #7f7f7f; text-decoration-color: #7f7f7f\">                </span>\n",
       "<span style=\"color: #7fbfbf; text-decoration-color: #7fbfbf\">           </span>         inputs16APV/hists_sum_ZJetsToQQ_HT400to600_qc19_4j_TuneCP5_13TeV-madgraphMLM-p <span style=\"color: #7f7f7f; text-decoration-color: #7f7f7f\">                </span>\n",
       "<span style=\"color: #7fbfbf; text-decoration-color: #7fbfbf\">           </span>         ythia8.hist                                                                    <span style=\"color: #7f7f7f; text-decoration-color: #7f7f7f\">                </span>\n",
       "</pre>\n"
      ],
      "text/plain": [
       "\u001b[2;36m          \u001b[0m\u001b[2;36m \u001b[0m\u001b[34mINFO    \u001b[0m Readign sample:                                                                \u001b]8;id=841978;file:///tmp/ipykernel_18646/2088555353.py\u001b\\\u001b[2m2088555353.py\u001b[0m\u001b]8;;\u001b\\\u001b[2m:\u001b[0m\u001b]8;id=217931;file:///tmp/ipykernel_18646/2088555353.py#23\u001b\\\u001b[2m23\u001b[0m\u001b]8;;\u001b\\\n",
       "\u001b[2;36m           \u001b[0m         ZJetsToQQ_HT400to600_qc19_4j_TuneCP5_13TeV-madgraphMLM-pythia8, from:          \u001b[2m                \u001b[0m\n",
       "\u001b[2;36m           \u001b[0m         inputs16APV/hists_sum_ZJetsToQQ_HT400to600_qc19_4j_TuneCP5_13TeV-madgraphMLM-p \u001b[2m                \u001b[0m\n",
       "\u001b[2;36m           \u001b[0m         ythia8.hist                                                                    \u001b[2m                \u001b[0m\n"
      ]
     },
     "metadata": {},
     "output_type": "display_data"
    },
    {
     "name": "stdout",
     "output_type": "stream",
     "text": [
      "ZJetsToQQ_HT600to800_qc19_4j_TuneCP5_13TeV-madgraphMLM-pythia8\n"
     ]
    },
    {
     "data": {
      "text/html": [
       "<pre style=\"white-space:pre;overflow-x:auto;line-height:normal;font-family:Menlo,'DejaVu Sans Mono',consolas,'Courier New',monospace\"><span style=\"color: #7fbfbf; text-decoration-color: #7fbfbf\">           </span><span style=\"color: #000080; text-decoration-color: #000080\">INFO    </span> Readign sample:                                                                <a href=\"file:///tmp/ipykernel_18646/2088555353.py\" target=\"_blank\"><span style=\"color: #7f7f7f; text-decoration-color: #7f7f7f\">2088555353.py</span></a><span style=\"color: #7f7f7f; text-decoration-color: #7f7f7f\">:</span><a href=\"file:///tmp/ipykernel_18646/2088555353.py#23\" target=\"_blank\"><span style=\"color: #7f7f7f; text-decoration-color: #7f7f7f\">23</span></a>\n",
       "<span style=\"color: #7fbfbf; text-decoration-color: #7fbfbf\">           </span>         ZJetsToQQ_HT600to800_qc19_4j_TuneCP5_13TeV-madgraphMLM-pythia8, from:          <span style=\"color: #7f7f7f; text-decoration-color: #7f7f7f\">                </span>\n",
       "<span style=\"color: #7fbfbf; text-decoration-color: #7fbfbf\">           </span>         inputs16APV/hists_sum_ZJetsToQQ_HT600to800_qc19_4j_TuneCP5_13TeV-madgraphMLM-p <span style=\"color: #7f7f7f; text-decoration-color: #7f7f7f\">                </span>\n",
       "<span style=\"color: #7fbfbf; text-decoration-color: #7fbfbf\">           </span>         ythia8.hist                                                                    <span style=\"color: #7f7f7f; text-decoration-color: #7f7f7f\">                </span>\n",
       "</pre>\n"
      ],
      "text/plain": [
       "\u001b[2;36m          \u001b[0m\u001b[2;36m \u001b[0m\u001b[34mINFO    \u001b[0m Readign sample:                                                                \u001b]8;id=547741;file:///tmp/ipykernel_18646/2088555353.py\u001b\\\u001b[2m2088555353.py\u001b[0m\u001b]8;;\u001b\\\u001b[2m:\u001b[0m\u001b]8;id=230486;file:///tmp/ipykernel_18646/2088555353.py#23\u001b\\\u001b[2m23\u001b[0m\u001b]8;;\u001b\\\n",
       "\u001b[2;36m           \u001b[0m         ZJetsToQQ_HT600to800_qc19_4j_TuneCP5_13TeV-madgraphMLM-pythia8, from:          \u001b[2m                \u001b[0m\n",
       "\u001b[2;36m           \u001b[0m         inputs16APV/hists_sum_ZJetsToQQ_HT600to800_qc19_4j_TuneCP5_13TeV-madgraphMLM-p \u001b[2m                \u001b[0m\n",
       "\u001b[2;36m           \u001b[0m         ythia8.hist                                                                    \u001b[2m                \u001b[0m\n"
      ]
     },
     "metadata": {},
     "output_type": "display_data"
    },
    {
     "name": "stdout",
     "output_type": "stream",
     "text": [
      "ZJetsToQQ_HT-800toInf_qc19_4j_TuneCP5_13TeV-madgraphMLM-pythia8\n"
     ]
    },
    {
     "data": {
      "text/html": [
       "<pre style=\"white-space:pre;overflow-x:auto;line-height:normal;font-family:Menlo,'DejaVu Sans Mono',consolas,'Courier New',monospace\"><span style=\"color: #7fbfbf; text-decoration-color: #7fbfbf\">           </span><span style=\"color: #000080; text-decoration-color: #000080\">INFO    </span> Readign sample:                                                                <a href=\"file:///tmp/ipykernel_18646/2088555353.py\" target=\"_blank\"><span style=\"color: #7f7f7f; text-decoration-color: #7f7f7f\">2088555353.py</span></a><span style=\"color: #7f7f7f; text-decoration-color: #7f7f7f\">:</span><a href=\"file:///tmp/ipykernel_18646/2088555353.py#23\" target=\"_blank\"><span style=\"color: #7f7f7f; text-decoration-color: #7f7f7f\">23</span></a>\n",
       "<span style=\"color: #7fbfbf; text-decoration-color: #7fbfbf\">           </span>         ZJetsToQQ_HT-800toInf_qc19_4j_TuneCP5_13TeV-madgraphMLM-pythia8, from:         <span style=\"color: #7f7f7f; text-decoration-color: #7f7f7f\">                </span>\n",
       "<span style=\"color: #7fbfbf; text-decoration-color: #7fbfbf\">           </span>         inputs16APV/hists_sum_ZJetsToQQ_HT-800toInf_qc19_4j_TuneCP5_13TeV-madgraphMLM- <span style=\"color: #7f7f7f; text-decoration-color: #7f7f7f\">                </span>\n",
       "<span style=\"color: #7fbfbf; text-decoration-color: #7fbfbf\">           </span>         pythia8.hist                                                                   <span style=\"color: #7f7f7f; text-decoration-color: #7f7f7f\">                </span>\n",
       "</pre>\n"
      ],
      "text/plain": [
       "\u001b[2;36m          \u001b[0m\u001b[2;36m \u001b[0m\u001b[34mINFO    \u001b[0m Readign sample:                                                                \u001b]8;id=483142;file:///tmp/ipykernel_18646/2088555353.py\u001b\\\u001b[2m2088555353.py\u001b[0m\u001b]8;;\u001b\\\u001b[2m:\u001b[0m\u001b]8;id=443697;file:///tmp/ipykernel_18646/2088555353.py#23\u001b\\\u001b[2m23\u001b[0m\u001b]8;;\u001b\\\n",
       "\u001b[2;36m           \u001b[0m         ZJetsToQQ_HT-800toInf_qc19_4j_TuneCP5_13TeV-madgraphMLM-pythia8, from:         \u001b[2m                \u001b[0m\n",
       "\u001b[2;36m           \u001b[0m         inputs16APV/hists_sum_ZJetsToQQ_HT-800toInf_qc19_4j_TuneCP5_13TeV-madgraphMLM- \u001b[2m                \u001b[0m\n",
       "\u001b[2;36m           \u001b[0m         pythia8.hist                                                                   \u001b[2m                \u001b[0m\n"
      ]
     },
     "metadata": {},
     "output_type": "display_data"
    },
    {
     "name": "stdout",
     "output_type": "stream",
     "text": [
      "ZJetsToQQ_HT-400to600\n"
     ]
    },
    {
     "data": {
      "text/html": [
       "<pre style=\"white-space:pre;overflow-x:auto;line-height:normal;font-family:Menlo,'DejaVu Sans Mono',consolas,'Courier New',monospace\"><span style=\"color: #7fbfbf; text-decoration-color: #7fbfbf\">           </span><span style=\"color: #000080; text-decoration-color: #000080\">INFO    </span> Readign sample: ZJetsToQQ_HT-400to600, from:                                   <a href=\"file:///tmp/ipykernel_18646/2088555353.py\" target=\"_blank\"><span style=\"color: #7f7f7f; text-decoration-color: #7f7f7f\">2088555353.py</span></a><span style=\"color: #7f7f7f; text-decoration-color: #7f7f7f\">:</span><a href=\"file:///tmp/ipykernel_18646/2088555353.py#23\" target=\"_blank\"><span style=\"color: #7f7f7f; text-decoration-color: #7f7f7f\">23</span></a>\n",
       "<span style=\"color: #7fbfbf; text-decoration-color: #7fbfbf\">           </span>         inputs16APV/hists_sum_ZJetsToQQ_HT-400to600.hist                               <span style=\"color: #7f7f7f; text-decoration-color: #7f7f7f\">                </span>\n",
       "</pre>\n"
      ],
      "text/plain": [
       "\u001b[2;36m          \u001b[0m\u001b[2;36m \u001b[0m\u001b[34mINFO    \u001b[0m Readign sample: ZJetsToQQ_HT-400to600, from:                                   \u001b]8;id=117295;file:///tmp/ipykernel_18646/2088555353.py\u001b\\\u001b[2m2088555353.py\u001b[0m\u001b]8;;\u001b\\\u001b[2m:\u001b[0m\u001b]8;id=354468;file:///tmp/ipykernel_18646/2088555353.py#23\u001b\\\u001b[2m23\u001b[0m\u001b]8;;\u001b\\\n",
       "\u001b[2;36m           \u001b[0m         inputs16APV/hists_sum_ZJetsToQQ_HT-400to600.hist                               \u001b[2m                \u001b[0m\n"
      ]
     },
     "metadata": {},
     "output_type": "display_data"
    },
    {
     "data": {
      "text/html": [
       "<pre style=\"white-space:pre;overflow-x:auto;line-height:normal;font-family:Menlo,'DejaVu Sans Mono',consolas,'Courier New',monospace\"><span style=\"color: #7fbfbf; text-decoration-color: #7fbfbf\">           </span><span style=\"color: #000080; text-decoration-color: #000080\">INFO    </span> Scaling ZJetsToQQ_HT-400to600 by <span style=\"color: #008080; text-decoration-color: #008080; font-weight: bold\">19.520000000</span> <span style=\"font-weight: bold\">(</span>lumi = <span style=\"color: #008080; text-decoration-color: #008080; font-weight: bold\">19.52</span>, xs = nan, sumw =  <a href=\"file:///tmp/ipykernel_18646/2088555353.py\" target=\"_blank\"><span style=\"color: #7f7f7f; text-decoration-color: #7f7f7f\">2088555353.py</span></a><span style=\"color: #7f7f7f; text-decoration-color: #7f7f7f\">:</span><a href=\"file:///tmp/ipykernel_18646/2088555353.py#34\" target=\"_blank\"><span style=\"color: #7f7f7f; text-decoration-color: #7f7f7f\">34</span></a>\n",
       "<span style=\"color: #7fbfbf; text-decoration-color: #7fbfbf\">           </span>         <span style=\"color: #008080; text-decoration-color: #008080; font-weight: bold\">7709128.000</span><span style=\"font-weight: bold\">)</span>                                                                   <span style=\"color: #7f7f7f; text-decoration-color: #7f7f7f\">                </span>\n",
       "</pre>\n"
      ],
      "text/plain": [
       "\u001b[2;36m          \u001b[0m\u001b[2;36m \u001b[0m\u001b[34mINFO    \u001b[0m Scaling ZJetsToQQ_HT-400to600 by \u001b[1;36m19.520000000\u001b[0m \u001b[1m(\u001b[0mlumi = \u001b[1;36m19.52\u001b[0m, xs = nan, sumw =  \u001b]8;id=913852;file:///tmp/ipykernel_18646/2088555353.py\u001b\\\u001b[2m2088555353.py\u001b[0m\u001b]8;;\u001b\\\u001b[2m:\u001b[0m\u001b]8;id=476221;file:///tmp/ipykernel_18646/2088555353.py#34\u001b\\\u001b[2m34\u001b[0m\u001b]8;;\u001b\\\n",
       "\u001b[2;36m           \u001b[0m         \u001b[1;36m7709128.000\u001b[0m\u001b[1m)\u001b[0m                                                                   \u001b[2m                \u001b[0m\n"
      ]
     },
     "metadata": {},
     "output_type": "display_data"
    },
    {
     "name": "stdout",
     "output_type": "stream",
     "text": [
      "ZJetsToQQ_HT-800toInf\n"
     ]
    },
    {
     "data": {
      "text/html": [
       "<pre style=\"white-space:pre;overflow-x:auto;line-height:normal;font-family:Menlo,'DejaVu Sans Mono',consolas,'Courier New',monospace\"><span style=\"color: #7fbfbf; text-decoration-color: #7fbfbf\">           </span><span style=\"color: #000080; text-decoration-color: #000080\">INFO    </span> Readign sample: ZJetsToQQ_HT-800toInf, from:                                   <a href=\"file:///tmp/ipykernel_18646/2088555353.py\" target=\"_blank\"><span style=\"color: #7f7f7f; text-decoration-color: #7f7f7f\">2088555353.py</span></a><span style=\"color: #7f7f7f; text-decoration-color: #7f7f7f\">:</span><a href=\"file:///tmp/ipykernel_18646/2088555353.py#23\" target=\"_blank\"><span style=\"color: #7f7f7f; text-decoration-color: #7f7f7f\">23</span></a>\n",
       "<span style=\"color: #7fbfbf; text-decoration-color: #7fbfbf\">           </span>         inputs16APV/hists_sum_ZJetsToQQ_HT-800toInf.hist                               <span style=\"color: #7f7f7f; text-decoration-color: #7f7f7f\">                </span>\n",
       "</pre>\n"
      ],
      "text/plain": [
       "\u001b[2;36m          \u001b[0m\u001b[2;36m \u001b[0m\u001b[34mINFO    \u001b[0m Readign sample: ZJetsToQQ_HT-800toInf, from:                                   \u001b]8;id=31339;file:///tmp/ipykernel_18646/2088555353.py\u001b\\\u001b[2m2088555353.py\u001b[0m\u001b]8;;\u001b\\\u001b[2m:\u001b[0m\u001b]8;id=924349;file:///tmp/ipykernel_18646/2088555353.py#23\u001b\\\u001b[2m23\u001b[0m\u001b]8;;\u001b\\\n",
       "\u001b[2;36m           \u001b[0m         inputs16APV/hists_sum_ZJetsToQQ_HT-800toInf.hist                               \u001b[2m                \u001b[0m\n"
      ]
     },
     "metadata": {},
     "output_type": "display_data"
    },
    {
     "data": {
      "text/html": [
       "<pre style=\"white-space:pre;overflow-x:auto;line-height:normal;font-family:Menlo,'DejaVu Sans Mono',consolas,'Courier New',monospace\"><span style=\"color: #7fbfbf; text-decoration-color: #7fbfbf\">           </span><span style=\"color: #000080; text-decoration-color: #000080\">INFO    </span> Scaling ZJetsToQQ_HT-800toInf by <span style=\"color: #008080; text-decoration-color: #008080; font-weight: bold\">19.520000000</span> <span style=\"font-weight: bold\">(</span>lumi = <span style=\"color: #008080; text-decoration-color: #008080; font-weight: bold\">19.52</span>, xs = nan, sumw =  <a href=\"file:///tmp/ipykernel_18646/2088555353.py\" target=\"_blank\"><span style=\"color: #7f7f7f; text-decoration-color: #7f7f7f\">2088555353.py</span></a><span style=\"color: #7f7f7f; text-decoration-color: #7f7f7f\">:</span><a href=\"file:///tmp/ipykernel_18646/2088555353.py#34\" target=\"_blank\"><span style=\"color: #7f7f7f; text-decoration-color: #7f7f7f\">34</span></a>\n",
       "<span style=\"color: #7fbfbf; text-decoration-color: #7fbfbf\">           </span>         <span style=\"color: #008080; text-decoration-color: #008080; font-weight: bold\">3699108.000</span><span style=\"font-weight: bold\">)</span>                                                                   <span style=\"color: #7f7f7f; text-decoration-color: #7f7f7f\">                </span>\n",
       "</pre>\n"
      ],
      "text/plain": [
       "\u001b[2;36m          \u001b[0m\u001b[2;36m \u001b[0m\u001b[34mINFO    \u001b[0m Scaling ZJetsToQQ_HT-800toInf by \u001b[1;36m19.520000000\u001b[0m \u001b[1m(\u001b[0mlumi = \u001b[1;36m19.52\u001b[0m, xs = nan, sumw =  \u001b]8;id=298272;file:///tmp/ipykernel_18646/2088555353.py\u001b\\\u001b[2m2088555353.py\u001b[0m\u001b]8;;\u001b\\\u001b[2m:\u001b[0m\u001b]8;id=386550;file:///tmp/ipykernel_18646/2088555353.py#34\u001b\\\u001b[2m34\u001b[0m\u001b]8;;\u001b\\\n",
       "\u001b[2;36m           \u001b[0m         \u001b[1;36m3699108.000\u001b[0m\u001b[1m)\u001b[0m                                                                   \u001b[2m                \u001b[0m\n"
      ]
     },
     "metadata": {},
     "output_type": "display_data"
    },
    {
     "name": "stdout",
     "output_type": "stream",
     "text": [
      "ZJetsToQQ_HT-600to800\n"
     ]
    },
    {
     "data": {
      "text/html": [
       "<pre style=\"white-space:pre;overflow-x:auto;line-height:normal;font-family:Menlo,'DejaVu Sans Mono',consolas,'Courier New',monospace\"><span style=\"color: #7fbfbf; text-decoration-color: #7fbfbf\">           </span><span style=\"color: #000080; text-decoration-color: #000080\">INFO    </span> Readign sample: ZJetsToQQ_HT-600to800, from:                                   <a href=\"file:///tmp/ipykernel_18646/2088555353.py\" target=\"_blank\"><span style=\"color: #7f7f7f; text-decoration-color: #7f7f7f\">2088555353.py</span></a><span style=\"color: #7f7f7f; text-decoration-color: #7f7f7f\">:</span><a href=\"file:///tmp/ipykernel_18646/2088555353.py#23\" target=\"_blank\"><span style=\"color: #7f7f7f; text-decoration-color: #7f7f7f\">23</span></a>\n",
       "<span style=\"color: #7fbfbf; text-decoration-color: #7fbfbf\">           </span>         inputs16APV/hists_sum_ZJetsToQQ_HT-600to800.hist                               <span style=\"color: #7f7f7f; text-decoration-color: #7f7f7f\">                </span>\n",
       "</pre>\n"
      ],
      "text/plain": [
       "\u001b[2;36m          \u001b[0m\u001b[2;36m \u001b[0m\u001b[34mINFO    \u001b[0m Readign sample: ZJetsToQQ_HT-600to800, from:                                   \u001b]8;id=246896;file:///tmp/ipykernel_18646/2088555353.py\u001b\\\u001b[2m2088555353.py\u001b[0m\u001b]8;;\u001b\\\u001b[2m:\u001b[0m\u001b]8;id=39478;file:///tmp/ipykernel_18646/2088555353.py#23\u001b\\\u001b[2m23\u001b[0m\u001b]8;;\u001b\\\n",
       "\u001b[2;36m           \u001b[0m         inputs16APV/hists_sum_ZJetsToQQ_HT-600to800.hist                               \u001b[2m                \u001b[0m\n"
      ]
     },
     "metadata": {},
     "output_type": "display_data"
    },
    {
     "data": {
      "text/html": [
       "<pre style=\"white-space:pre;overflow-x:auto;line-height:normal;font-family:Menlo,'DejaVu Sans Mono',consolas,'Courier New',monospace\"><span style=\"color: #7fbfbf; text-decoration-color: #7fbfbf\">           </span><span style=\"color: #000080; text-decoration-color: #000080\">INFO    </span> Scaling ZJetsToQQ_HT-600to800 by <span style=\"color: #008080; text-decoration-color: #008080; font-weight: bold\">19.520000000</span> <span style=\"font-weight: bold\">(</span>lumi = <span style=\"color: #008080; text-decoration-color: #008080; font-weight: bold\">19.52</span>, xs = nan, sumw =  <a href=\"file:///tmp/ipykernel_18646/2088555353.py\" target=\"_blank\"><span style=\"color: #7f7f7f; text-decoration-color: #7f7f7f\">2088555353.py</span></a><span style=\"color: #7f7f7f; text-decoration-color: #7f7f7f\">:</span><a href=\"file:///tmp/ipykernel_18646/2088555353.py#34\" target=\"_blank\"><span style=\"color: #7f7f7f; text-decoration-color: #7f7f7f\">34</span></a>\n",
       "<span style=\"color: #7fbfbf; text-decoration-color: #7fbfbf\">           </span>         <span style=\"color: #008080; text-decoration-color: #008080; font-weight: bold\">6214445.000</span><span style=\"font-weight: bold\">)</span>                                                                   <span style=\"color: #7f7f7f; text-decoration-color: #7f7f7f\">                </span>\n",
       "</pre>\n"
      ],
      "text/plain": [
       "\u001b[2;36m          \u001b[0m\u001b[2;36m \u001b[0m\u001b[34mINFO    \u001b[0m Scaling ZJetsToQQ_HT-600to800 by \u001b[1;36m19.520000000\u001b[0m \u001b[1m(\u001b[0mlumi = \u001b[1;36m19.52\u001b[0m, xs = nan, sumw =  \u001b]8;id=658867;file:///tmp/ipykernel_18646/2088555353.py\u001b\\\u001b[2m2088555353.py\u001b[0m\u001b]8;;\u001b\\\u001b[2m:\u001b[0m\u001b]8;id=378479;file:///tmp/ipykernel_18646/2088555353.py#34\u001b\\\u001b[2m34\u001b[0m\u001b]8;;\u001b\\\n",
       "\u001b[2;36m           \u001b[0m         \u001b[1;36m6214445.000\u001b[0m\u001b[1m)\u001b[0m                                                                   \u001b[2m                \u001b[0m\n"
      ]
     },
     "metadata": {},
     "output_type": "display_data"
    },
    {
     "name": "stdout",
     "output_type": "stream",
     "text": [
      "WJetsToQQ_HT-600to800\n"
     ]
    },
    {
     "data": {
      "text/html": [
       "<pre style=\"white-space:pre;overflow-x:auto;line-height:normal;font-family:Menlo,'DejaVu Sans Mono',consolas,'Courier New',monospace\"><span style=\"color: #7fbfbf; text-decoration-color: #7fbfbf\">           </span><span style=\"color: #000080; text-decoration-color: #000080\">INFO    </span> Readign sample: WJetsToQQ_HT-600to800, from:                                   <a href=\"file:///tmp/ipykernel_18646/2088555353.py\" target=\"_blank\"><span style=\"color: #7f7f7f; text-decoration-color: #7f7f7f\">2088555353.py</span></a><span style=\"color: #7f7f7f; text-decoration-color: #7f7f7f\">:</span><a href=\"file:///tmp/ipykernel_18646/2088555353.py#23\" target=\"_blank\"><span style=\"color: #7f7f7f; text-decoration-color: #7f7f7f\">23</span></a>\n",
       "<span style=\"color: #7fbfbf; text-decoration-color: #7fbfbf\">           </span>         inputs16APV/hists_sum_WJetsToQQ_HT-600to800.hist                               <span style=\"color: #7f7f7f; text-decoration-color: #7f7f7f\">                </span>\n",
       "</pre>\n"
      ],
      "text/plain": [
       "\u001b[2;36m          \u001b[0m\u001b[2;36m \u001b[0m\u001b[34mINFO    \u001b[0m Readign sample: WJetsToQQ_HT-600to800, from:                                   \u001b]8;id=149669;file:///tmp/ipykernel_18646/2088555353.py\u001b\\\u001b[2m2088555353.py\u001b[0m\u001b]8;;\u001b\\\u001b[2m:\u001b[0m\u001b]8;id=88344;file:///tmp/ipykernel_18646/2088555353.py#23\u001b\\\u001b[2m23\u001b[0m\u001b]8;;\u001b\\\n",
       "\u001b[2;36m           \u001b[0m         inputs16APV/hists_sum_WJetsToQQ_HT-600to800.hist                               \u001b[2m                \u001b[0m\n"
      ]
     },
     "metadata": {},
     "output_type": "display_data"
    },
    {
     "data": {
      "text/html": [
       "<pre style=\"white-space:pre;overflow-x:auto;line-height:normal;font-family:Menlo,'DejaVu Sans Mono',consolas,'Courier New',monospace\"><span style=\"color: #7fbfbf; text-decoration-color: #7fbfbf\">           </span><span style=\"color: #000080; text-decoration-color: #000080\">INFO    </span> Scaling WJetsToQQ_HT-600to800 by <span style=\"color: #008080; text-decoration-color: #008080; font-weight: bold\">19.520000000</span> <span style=\"font-weight: bold\">(</span>lumi = <span style=\"color: #008080; text-decoration-color: #008080; font-weight: bold\">19.52</span>, xs = nan, sumw =  <a href=\"file:///tmp/ipykernel_18646/2088555353.py\" target=\"_blank\"><span style=\"color: #7f7f7f; text-decoration-color: #7f7f7f\">2088555353.py</span></a><span style=\"color: #7f7f7f; text-decoration-color: #7f7f7f\">:</span><a href=\"file:///tmp/ipykernel_18646/2088555353.py#34\" target=\"_blank\"><span style=\"color: #7f7f7f; text-decoration-color: #7f7f7f\">34</span></a>\n",
       "<span style=\"color: #7fbfbf; text-decoration-color: #7fbfbf\">           </span>         <span style=\"color: #008080; text-decoration-color: #008080; font-weight: bold\">7766973.000</span><span style=\"font-weight: bold\">)</span>                                                                   <span style=\"color: #7f7f7f; text-decoration-color: #7f7f7f\">                </span>\n",
       "</pre>\n"
      ],
      "text/plain": [
       "\u001b[2;36m          \u001b[0m\u001b[2;36m \u001b[0m\u001b[34mINFO    \u001b[0m Scaling WJetsToQQ_HT-600to800 by \u001b[1;36m19.520000000\u001b[0m \u001b[1m(\u001b[0mlumi = \u001b[1;36m19.52\u001b[0m, xs = nan, sumw =  \u001b]8;id=473300;file:///tmp/ipykernel_18646/2088555353.py\u001b\\\u001b[2m2088555353.py\u001b[0m\u001b]8;;\u001b\\\u001b[2m:\u001b[0m\u001b]8;id=487918;file:///tmp/ipykernel_18646/2088555353.py#34\u001b\\\u001b[2m34\u001b[0m\u001b]8;;\u001b\\\n",
       "\u001b[2;36m           \u001b[0m         \u001b[1;36m7766973.000\u001b[0m\u001b[1m)\u001b[0m                                                                   \u001b[2m                \u001b[0m\n"
      ]
     },
     "metadata": {},
     "output_type": "display_data"
    },
    {
     "name": "stdout",
     "output_type": "stream",
     "text": [
      "WJetsToQQ_HT-800toInf\n"
     ]
    },
    {
     "data": {
      "text/html": [
       "<pre style=\"white-space:pre;overflow-x:auto;line-height:normal;font-family:Menlo,'DejaVu Sans Mono',consolas,'Courier New',monospace\"><span style=\"color: #7fbfbf; text-decoration-color: #7fbfbf\">           </span><span style=\"color: #000080; text-decoration-color: #000080\">INFO    </span> Readign sample: WJetsToQQ_HT-800toInf, from:                                   <a href=\"file:///tmp/ipykernel_18646/2088555353.py\" target=\"_blank\"><span style=\"color: #7f7f7f; text-decoration-color: #7f7f7f\">2088555353.py</span></a><span style=\"color: #7f7f7f; text-decoration-color: #7f7f7f\">:</span><a href=\"file:///tmp/ipykernel_18646/2088555353.py#23\" target=\"_blank\"><span style=\"color: #7f7f7f; text-decoration-color: #7f7f7f\">23</span></a>\n",
       "<span style=\"color: #7fbfbf; text-decoration-color: #7fbfbf\">           </span>         inputs16APV/hists_sum_WJetsToQQ_HT-800toInf.hist                               <span style=\"color: #7f7f7f; text-decoration-color: #7f7f7f\">                </span>\n",
       "</pre>\n"
      ],
      "text/plain": [
       "\u001b[2;36m          \u001b[0m\u001b[2;36m \u001b[0m\u001b[34mINFO    \u001b[0m Readign sample: WJetsToQQ_HT-800toInf, from:                                   \u001b]8;id=997858;file:///tmp/ipykernel_18646/2088555353.py\u001b\\\u001b[2m2088555353.py\u001b[0m\u001b]8;;\u001b\\\u001b[2m:\u001b[0m\u001b]8;id=277359;file:///tmp/ipykernel_18646/2088555353.py#23\u001b\\\u001b[2m23\u001b[0m\u001b]8;;\u001b\\\n",
       "\u001b[2;36m           \u001b[0m         inputs16APV/hists_sum_WJetsToQQ_HT-800toInf.hist                               \u001b[2m                \u001b[0m\n"
      ]
     },
     "metadata": {},
     "output_type": "display_data"
    },
    {
     "data": {
      "text/html": [
       "<pre style=\"white-space:pre;overflow-x:auto;line-height:normal;font-family:Menlo,'DejaVu Sans Mono',consolas,'Courier New',monospace\"><span style=\"color: #7fbfbf; text-decoration-color: #7fbfbf\">           </span><span style=\"color: #000080; text-decoration-color: #000080\">INFO    </span> Scaling WJetsToQQ_HT-800toInf by <span style=\"color: #008080; text-decoration-color: #008080; font-weight: bold\">19.520000000</span> <span style=\"font-weight: bold\">(</span>lumi = <span style=\"color: #008080; text-decoration-color: #008080; font-weight: bold\">19.52</span>, xs = nan, sumw =  <a href=\"file:///tmp/ipykernel_18646/2088555353.py\" target=\"_blank\"><span style=\"color: #7f7f7f; text-decoration-color: #7f7f7f\">2088555353.py</span></a><span style=\"color: #7f7f7f; text-decoration-color: #7f7f7f\">:</span><a href=\"file:///tmp/ipykernel_18646/2088555353.py#34\" target=\"_blank\"><span style=\"color: #7f7f7f; text-decoration-color: #7f7f7f\">34</span></a>\n",
       "<span style=\"color: #7fbfbf; text-decoration-color: #7fbfbf\">           </span>         <span style=\"color: #008080; text-decoration-color: #008080; font-weight: bold\">7744285.000</span><span style=\"font-weight: bold\">)</span>                                                                   <span style=\"color: #7f7f7f; text-decoration-color: #7f7f7f\">                </span>\n",
       "</pre>\n"
      ],
      "text/plain": [
       "\u001b[2;36m          \u001b[0m\u001b[2;36m \u001b[0m\u001b[34mINFO    \u001b[0m Scaling WJetsToQQ_HT-800toInf by \u001b[1;36m19.520000000\u001b[0m \u001b[1m(\u001b[0mlumi = \u001b[1;36m19.52\u001b[0m, xs = nan, sumw =  \u001b]8;id=846520;file:///tmp/ipykernel_18646/2088555353.py\u001b\\\u001b[2m2088555353.py\u001b[0m\u001b]8;;\u001b\\\u001b[2m:\u001b[0m\u001b]8;id=284636;file:///tmp/ipykernel_18646/2088555353.py#34\u001b\\\u001b[2m34\u001b[0m\u001b]8;;\u001b\\\n",
       "\u001b[2;36m           \u001b[0m         \u001b[1;36m7744285.000\u001b[0m\u001b[1m)\u001b[0m                                                                   \u001b[2m                \u001b[0m\n"
      ]
     },
     "metadata": {},
     "output_type": "display_data"
    },
    {
     "name": "stdout",
     "output_type": "stream",
     "text": [
      "WJetsToQQ_HT-400to600\n"
     ]
    },
    {
     "data": {
      "text/html": [
       "<pre style=\"white-space:pre;overflow-x:auto;line-height:normal;font-family:Menlo,'DejaVu Sans Mono',consolas,'Courier New',monospace\"><span style=\"color: #7fbfbf; text-decoration-color: #7fbfbf\">           </span><span style=\"color: #000080; text-decoration-color: #000080\">INFO    </span> Readign sample: WJetsToQQ_HT-400to600, from:                                   <a href=\"file:///tmp/ipykernel_18646/2088555353.py\" target=\"_blank\"><span style=\"color: #7f7f7f; text-decoration-color: #7f7f7f\">2088555353.py</span></a><span style=\"color: #7f7f7f; text-decoration-color: #7f7f7f\">:</span><a href=\"file:///tmp/ipykernel_18646/2088555353.py#23\" target=\"_blank\"><span style=\"color: #7f7f7f; text-decoration-color: #7f7f7f\">23</span></a>\n",
       "<span style=\"color: #7fbfbf; text-decoration-color: #7fbfbf\">           </span>         inputs16APV/hists_sum_WJetsToQQ_HT-400to600.hist                               <span style=\"color: #7f7f7f; text-decoration-color: #7f7f7f\">                </span>\n",
       "</pre>\n"
      ],
      "text/plain": [
       "\u001b[2;36m          \u001b[0m\u001b[2;36m \u001b[0m\u001b[34mINFO    \u001b[0m Readign sample: WJetsToQQ_HT-400to600, from:                                   \u001b]8;id=997913;file:///tmp/ipykernel_18646/2088555353.py\u001b\\\u001b[2m2088555353.py\u001b[0m\u001b]8;;\u001b\\\u001b[2m:\u001b[0m\u001b]8;id=764021;file:///tmp/ipykernel_18646/2088555353.py#23\u001b\\\u001b[2m23\u001b[0m\u001b]8;;\u001b\\\n",
       "\u001b[2;36m           \u001b[0m         inputs16APV/hists_sum_WJetsToQQ_HT-400to600.hist                               \u001b[2m                \u001b[0m\n"
      ]
     },
     "metadata": {},
     "output_type": "display_data"
    },
    {
     "data": {
      "text/html": [
       "<pre style=\"white-space:pre;overflow-x:auto;line-height:normal;font-family:Menlo,'DejaVu Sans Mono',consolas,'Courier New',monospace\"><span style=\"color: #7fbfbf; text-decoration-color: #7fbfbf\">           </span><span style=\"color: #000080; text-decoration-color: #000080\">INFO    </span> Scaling WJetsToQQ_HT-400to600 by <span style=\"color: #008080; text-decoration-color: #008080; font-weight: bold\">19.520000000</span> <span style=\"font-weight: bold\">(</span>lumi = <span style=\"color: #008080; text-decoration-color: #008080; font-weight: bold\">19.52</span>, xs = nan, sumw =  <a href=\"file:///tmp/ipykernel_18646/2088555353.py\" target=\"_blank\"><span style=\"color: #7f7f7f; text-decoration-color: #7f7f7f\">2088555353.py</span></a><span style=\"color: #7f7f7f; text-decoration-color: #7f7f7f\">:</span><a href=\"file:///tmp/ipykernel_18646/2088555353.py#34\" target=\"_blank\"><span style=\"color: #7f7f7f; text-decoration-color: #7f7f7f\">34</span></a>\n",
       "<span style=\"color: #7fbfbf; text-decoration-color: #7fbfbf\">           </span>         <span style=\"color: #008080; text-decoration-color: #008080; font-weight: bold\">5374673.000</span><span style=\"font-weight: bold\">)</span>                                                                   <span style=\"color: #7f7f7f; text-decoration-color: #7f7f7f\">                </span>\n",
       "</pre>\n"
      ],
      "text/plain": [
       "\u001b[2;36m          \u001b[0m\u001b[2;36m \u001b[0m\u001b[34mINFO    \u001b[0m Scaling WJetsToQQ_HT-400to600 by \u001b[1;36m19.520000000\u001b[0m \u001b[1m(\u001b[0mlumi = \u001b[1;36m19.52\u001b[0m, xs = nan, sumw =  \u001b]8;id=801093;file:///tmp/ipykernel_18646/2088555353.py\u001b\\\u001b[2m2088555353.py\u001b[0m\u001b]8;;\u001b\\\u001b[2m:\u001b[0m\u001b]8;id=798459;file:///tmp/ipykernel_18646/2088555353.py#34\u001b\\\u001b[2m34\u001b[0m\u001b]8;;\u001b\\\n",
       "\u001b[2;36m           \u001b[0m         \u001b[1;36m5374673.000\u001b[0m\u001b[1m)\u001b[0m                                                                   \u001b[2m                \u001b[0m\n"
      ]
     },
     "metadata": {},
     "output_type": "display_data"
    },
    {
     "name": "stdout",
     "output_type": "stream",
     "text": [
      "QCD_HT1000to1500_TuneCP5_PSWeights_13TeV-madgraphMLM-pythia8\n"
     ]
    },
    {
     "data": {
      "text/html": [
       "<pre style=\"white-space:pre;overflow-x:auto;line-height:normal;font-family:Menlo,'DejaVu Sans Mono',consolas,'Courier New',monospace\"><span style=\"color: #7fbfbf; text-decoration-color: #7fbfbf\">           </span><span style=\"color: #000080; text-decoration-color: #000080\">INFO    </span> Readign sample: QCD_HT1000to1500_TuneCP5_PSWeights_13TeV-madgraphMLM-pythia8,  <a href=\"file:///tmp/ipykernel_18646/2088555353.py\" target=\"_blank\"><span style=\"color: #7f7f7f; text-decoration-color: #7f7f7f\">2088555353.py</span></a><span style=\"color: #7f7f7f; text-decoration-color: #7f7f7f\">:</span><a href=\"file:///tmp/ipykernel_18646/2088555353.py#23\" target=\"_blank\"><span style=\"color: #7f7f7f; text-decoration-color: #7f7f7f\">23</span></a>\n",
       "<span style=\"color: #7fbfbf; text-decoration-color: #7fbfbf\">           </span>         from:                                                                          <span style=\"color: #7f7f7f; text-decoration-color: #7f7f7f\">                </span>\n",
       "<span style=\"color: #7fbfbf; text-decoration-color: #7fbfbf\">           </span>         inputs16APV/hists_sum_QCD_HT1000to1500_TuneCP5_PSWeights_13TeV-madgraphMLM-pyt <span style=\"color: #7f7f7f; text-decoration-color: #7f7f7f\">                </span>\n",
       "<span style=\"color: #7fbfbf; text-decoration-color: #7fbfbf\">           </span>         hia8.hist                                                                      <span style=\"color: #7f7f7f; text-decoration-color: #7f7f7f\">                </span>\n",
       "</pre>\n"
      ],
      "text/plain": [
       "\u001b[2;36m          \u001b[0m\u001b[2;36m \u001b[0m\u001b[34mINFO    \u001b[0m Readign sample: QCD_HT1000to1500_TuneCP5_PSWeights_13TeV-madgraphMLM-pythia8,  \u001b]8;id=258813;file:///tmp/ipykernel_18646/2088555353.py\u001b\\\u001b[2m2088555353.py\u001b[0m\u001b]8;;\u001b\\\u001b[2m:\u001b[0m\u001b]8;id=725122;file:///tmp/ipykernel_18646/2088555353.py#23\u001b\\\u001b[2m23\u001b[0m\u001b]8;;\u001b\\\n",
       "\u001b[2;36m           \u001b[0m         from:                                                                          \u001b[2m                \u001b[0m\n",
       "\u001b[2;36m           \u001b[0m         inputs16APV/hists_sum_QCD_HT1000to1500_TuneCP5_PSWeights_13TeV-madgraphMLM-pyt \u001b[2m                \u001b[0m\n",
       "\u001b[2;36m           \u001b[0m         hia8.hist                                                                      \u001b[2m                \u001b[0m\n"
      ]
     },
     "metadata": {},
     "output_type": "display_data"
    },
    {
     "name": "stdout",
     "output_type": "stream",
     "text": [
      "QCD_HT1500to2000_TuneCP5_PSWeights_13TeV-madgraphMLM-pythia8\n"
     ]
    },
    {
     "data": {
      "text/html": [
       "<pre style=\"white-space:pre;overflow-x:auto;line-height:normal;font-family:Menlo,'DejaVu Sans Mono',consolas,'Courier New',monospace\"><span style=\"color: #7fbfbf; text-decoration-color: #7fbfbf\">           </span><span style=\"color: #000080; text-decoration-color: #000080\">INFO    </span> Readign sample: QCD_HT1500to2000_TuneCP5_PSWeights_13TeV-madgraphMLM-pythia8,  <a href=\"file:///tmp/ipykernel_18646/2088555353.py\" target=\"_blank\"><span style=\"color: #7f7f7f; text-decoration-color: #7f7f7f\">2088555353.py</span></a><span style=\"color: #7f7f7f; text-decoration-color: #7f7f7f\">:</span><a href=\"file:///tmp/ipykernel_18646/2088555353.py#23\" target=\"_blank\"><span style=\"color: #7f7f7f; text-decoration-color: #7f7f7f\">23</span></a>\n",
       "<span style=\"color: #7fbfbf; text-decoration-color: #7fbfbf\">           </span>         from:                                                                          <span style=\"color: #7f7f7f; text-decoration-color: #7f7f7f\">                </span>\n",
       "<span style=\"color: #7fbfbf; text-decoration-color: #7fbfbf\">           </span>         inputs16APV/hists_sum_QCD_HT1500to2000_TuneCP5_PSWeights_13TeV-madgraphMLM-pyt <span style=\"color: #7f7f7f; text-decoration-color: #7f7f7f\">                </span>\n",
       "<span style=\"color: #7fbfbf; text-decoration-color: #7fbfbf\">           </span>         hia8.hist                                                                      <span style=\"color: #7f7f7f; text-decoration-color: #7f7f7f\">                </span>\n",
       "</pre>\n"
      ],
      "text/plain": [
       "\u001b[2;36m          \u001b[0m\u001b[2;36m \u001b[0m\u001b[34mINFO    \u001b[0m Readign sample: QCD_HT1500to2000_TuneCP5_PSWeights_13TeV-madgraphMLM-pythia8,  \u001b]8;id=634471;file:///tmp/ipykernel_18646/2088555353.py\u001b\\\u001b[2m2088555353.py\u001b[0m\u001b]8;;\u001b\\\u001b[2m:\u001b[0m\u001b]8;id=620934;file:///tmp/ipykernel_18646/2088555353.py#23\u001b\\\u001b[2m23\u001b[0m\u001b]8;;\u001b\\\n",
       "\u001b[2;36m           \u001b[0m         from:                                                                          \u001b[2m                \u001b[0m\n",
       "\u001b[2;36m           \u001b[0m         inputs16APV/hists_sum_QCD_HT1500to2000_TuneCP5_PSWeights_13TeV-madgraphMLM-pyt \u001b[2m                \u001b[0m\n",
       "\u001b[2;36m           \u001b[0m         hia8.hist                                                                      \u001b[2m                \u001b[0m\n"
      ]
     },
     "metadata": {},
     "output_type": "display_data"
    },
    {
     "name": "stdout",
     "output_type": "stream",
     "text": [
      "QCD_HT2000toInf_TuneCP5_PSWeights_13TeV-madgraphMLM-pythia8\n"
     ]
    },
    {
     "data": {
      "text/html": [
       "<pre style=\"white-space:pre;overflow-x:auto;line-height:normal;font-family:Menlo,'DejaVu Sans Mono',consolas,'Courier New',monospace\"><span style=\"color: #7fbfbf; text-decoration-color: #7fbfbf\">           </span><span style=\"color: #000080; text-decoration-color: #000080\">INFO    </span> Readign sample: QCD_HT2000toInf_TuneCP5_PSWeights_13TeV-madgraphMLM-pythia8,   <a href=\"file:///tmp/ipykernel_18646/2088555353.py\" target=\"_blank\"><span style=\"color: #7f7f7f; text-decoration-color: #7f7f7f\">2088555353.py</span></a><span style=\"color: #7f7f7f; text-decoration-color: #7f7f7f\">:</span><a href=\"file:///tmp/ipykernel_18646/2088555353.py#23\" target=\"_blank\"><span style=\"color: #7f7f7f; text-decoration-color: #7f7f7f\">23</span></a>\n",
       "<span style=\"color: #7fbfbf; text-decoration-color: #7fbfbf\">           </span>         from:                                                                          <span style=\"color: #7f7f7f; text-decoration-color: #7f7f7f\">                </span>\n",
       "<span style=\"color: #7fbfbf; text-decoration-color: #7fbfbf\">           </span>         inputs16APV/hists_sum_QCD_HT2000toInf_TuneCP5_PSWeights_13TeV-madgraphMLM-pyth <span style=\"color: #7f7f7f; text-decoration-color: #7f7f7f\">                </span>\n",
       "<span style=\"color: #7fbfbf; text-decoration-color: #7fbfbf\">           </span>         ia8.hist                                                                       <span style=\"color: #7f7f7f; text-decoration-color: #7f7f7f\">                </span>\n",
       "</pre>\n"
      ],
      "text/plain": [
       "\u001b[2;36m          \u001b[0m\u001b[2;36m \u001b[0m\u001b[34mINFO    \u001b[0m Readign sample: QCD_HT2000toInf_TuneCP5_PSWeights_13TeV-madgraphMLM-pythia8,   \u001b]8;id=347240;file:///tmp/ipykernel_18646/2088555353.py\u001b\\\u001b[2m2088555353.py\u001b[0m\u001b]8;;\u001b\\\u001b[2m:\u001b[0m\u001b]8;id=720027;file:///tmp/ipykernel_18646/2088555353.py#23\u001b\\\u001b[2m23\u001b[0m\u001b]8;;\u001b\\\n",
       "\u001b[2;36m           \u001b[0m         from:                                                                          \u001b[2m                \u001b[0m\n",
       "\u001b[2;36m           \u001b[0m         inputs16APV/hists_sum_QCD_HT2000toInf_TuneCP5_PSWeights_13TeV-madgraphMLM-pyth \u001b[2m                \u001b[0m\n",
       "\u001b[2;36m           \u001b[0m         ia8.hist                                                                       \u001b[2m                \u001b[0m\n"
      ]
     },
     "metadata": {},
     "output_type": "display_data"
    },
    {
     "name": "stdout",
     "output_type": "stream",
     "text": [
      "QCD_HT300to500_TuneCP5_PSWeights_13TeV-madgraphMLM-pythia8\n"
     ]
    },
    {
     "data": {
      "text/html": [
       "<pre style=\"white-space:pre;overflow-x:auto;line-height:normal;font-family:Menlo,'DejaVu Sans Mono',consolas,'Courier New',monospace\"><span style=\"color: #7fbfbf; text-decoration-color: #7fbfbf\">           </span><span style=\"color: #000080; text-decoration-color: #000080\">INFO    </span> Readign sample: QCD_HT300to500_TuneCP5_PSWeights_13TeV-madgraphMLM-pythia8,    <a href=\"file:///tmp/ipykernel_18646/2088555353.py\" target=\"_blank\"><span style=\"color: #7f7f7f; text-decoration-color: #7f7f7f\">2088555353.py</span></a><span style=\"color: #7f7f7f; text-decoration-color: #7f7f7f\">:</span><a href=\"file:///tmp/ipykernel_18646/2088555353.py#23\" target=\"_blank\"><span style=\"color: #7f7f7f; text-decoration-color: #7f7f7f\">23</span></a>\n",
       "<span style=\"color: #7fbfbf; text-decoration-color: #7fbfbf\">           </span>         from:                                                                          <span style=\"color: #7f7f7f; text-decoration-color: #7f7f7f\">                </span>\n",
       "<span style=\"color: #7fbfbf; text-decoration-color: #7fbfbf\">           </span>         inputs16APV/hists_sum_QCD_HT300to500_TuneCP5_PSWeights_13TeV-madgraphMLM-pythi <span style=\"color: #7f7f7f; text-decoration-color: #7f7f7f\">                </span>\n",
       "<span style=\"color: #7fbfbf; text-decoration-color: #7fbfbf\">           </span>         a8.hist                                                                        <span style=\"color: #7f7f7f; text-decoration-color: #7f7f7f\">                </span>\n",
       "</pre>\n"
      ],
      "text/plain": [
       "\u001b[2;36m          \u001b[0m\u001b[2;36m \u001b[0m\u001b[34mINFO    \u001b[0m Readign sample: QCD_HT300to500_TuneCP5_PSWeights_13TeV-madgraphMLM-pythia8,    \u001b]8;id=720232;file:///tmp/ipykernel_18646/2088555353.py\u001b\\\u001b[2m2088555353.py\u001b[0m\u001b]8;;\u001b\\\u001b[2m:\u001b[0m\u001b]8;id=579659;file:///tmp/ipykernel_18646/2088555353.py#23\u001b\\\u001b[2m23\u001b[0m\u001b]8;;\u001b\\\n",
       "\u001b[2;36m           \u001b[0m         from:                                                                          \u001b[2m                \u001b[0m\n",
       "\u001b[2;36m           \u001b[0m         inputs16APV/hists_sum_QCD_HT300to500_TuneCP5_PSWeights_13TeV-madgraphMLM-pythi \u001b[2m                \u001b[0m\n",
       "\u001b[2;36m           \u001b[0m         a8.hist                                                                        \u001b[2m                \u001b[0m\n"
      ]
     },
     "metadata": {},
     "output_type": "display_data"
    },
    {
     "name": "stdout",
     "output_type": "stream",
     "text": [
      "QCD_HT500to700_TuneCP5_PSWeights_13TeV-madgraphMLM-pythia8\n"
     ]
    },
    {
     "data": {
      "text/html": [
       "<pre style=\"white-space:pre;overflow-x:auto;line-height:normal;font-family:Menlo,'DejaVu Sans Mono',consolas,'Courier New',monospace\"><span style=\"color: #7fbfbf; text-decoration-color: #7fbfbf\">           </span><span style=\"color: #000080; text-decoration-color: #000080\">INFO    </span> Readign sample: QCD_HT500to700_TuneCP5_PSWeights_13TeV-madgraphMLM-pythia8,    <a href=\"file:///tmp/ipykernel_18646/2088555353.py\" target=\"_blank\"><span style=\"color: #7f7f7f; text-decoration-color: #7f7f7f\">2088555353.py</span></a><span style=\"color: #7f7f7f; text-decoration-color: #7f7f7f\">:</span><a href=\"file:///tmp/ipykernel_18646/2088555353.py#23\" target=\"_blank\"><span style=\"color: #7f7f7f; text-decoration-color: #7f7f7f\">23</span></a>\n",
       "<span style=\"color: #7fbfbf; text-decoration-color: #7fbfbf\">           </span>         from:                                                                          <span style=\"color: #7f7f7f; text-decoration-color: #7f7f7f\">                </span>\n",
       "<span style=\"color: #7fbfbf; text-decoration-color: #7fbfbf\">           </span>         inputs16APV/hists_sum_QCD_HT500to700_TuneCP5_PSWeights_13TeV-madgraphMLM-pythi <span style=\"color: #7f7f7f; text-decoration-color: #7f7f7f\">                </span>\n",
       "<span style=\"color: #7fbfbf; text-decoration-color: #7fbfbf\">           </span>         a8.hist                                                                        <span style=\"color: #7f7f7f; text-decoration-color: #7f7f7f\">                </span>\n",
       "</pre>\n"
      ],
      "text/plain": [
       "\u001b[2;36m          \u001b[0m\u001b[2;36m \u001b[0m\u001b[34mINFO    \u001b[0m Readign sample: QCD_HT500to700_TuneCP5_PSWeights_13TeV-madgraphMLM-pythia8,    \u001b]8;id=860925;file:///tmp/ipykernel_18646/2088555353.py\u001b\\\u001b[2m2088555353.py\u001b[0m\u001b]8;;\u001b\\\u001b[2m:\u001b[0m\u001b]8;id=988153;file:///tmp/ipykernel_18646/2088555353.py#23\u001b\\\u001b[2m23\u001b[0m\u001b]8;;\u001b\\\n",
       "\u001b[2;36m           \u001b[0m         from:                                                                          \u001b[2m                \u001b[0m\n",
       "\u001b[2;36m           \u001b[0m         inputs16APV/hists_sum_QCD_HT500to700_TuneCP5_PSWeights_13TeV-madgraphMLM-pythi \u001b[2m                \u001b[0m\n",
       "\u001b[2;36m           \u001b[0m         a8.hist                                                                        \u001b[2m                \u001b[0m\n"
      ]
     },
     "metadata": {},
     "output_type": "display_data"
    },
    {
     "name": "stdout",
     "output_type": "stream",
     "text": [
      "QCD_HT700to1000_TuneCP5_PSWeights_13TeV-madgraphMLM-pythia8\n"
     ]
    },
    {
     "data": {
      "text/html": [
       "<pre style=\"white-space:pre;overflow-x:auto;line-height:normal;font-family:Menlo,'DejaVu Sans Mono',consolas,'Courier New',monospace\"><span style=\"color: #7fbfbf; text-decoration-color: #7fbfbf\">           </span><span style=\"color: #000080; text-decoration-color: #000080\">INFO    </span> Readign sample: QCD_HT700to1000_TuneCP5_PSWeights_13TeV-madgraphMLM-pythia8,   <a href=\"file:///tmp/ipykernel_18646/2088555353.py\" target=\"_blank\"><span style=\"color: #7f7f7f; text-decoration-color: #7f7f7f\">2088555353.py</span></a><span style=\"color: #7f7f7f; text-decoration-color: #7f7f7f\">:</span><a href=\"file:///tmp/ipykernel_18646/2088555353.py#23\" target=\"_blank\"><span style=\"color: #7f7f7f; text-decoration-color: #7f7f7f\">23</span></a>\n",
       "<span style=\"color: #7fbfbf; text-decoration-color: #7fbfbf\">           </span>         from:                                                                          <span style=\"color: #7f7f7f; text-decoration-color: #7f7f7f\">                </span>\n",
       "<span style=\"color: #7fbfbf; text-decoration-color: #7fbfbf\">           </span>         inputs16APV/hists_sum_QCD_HT700to1000_TuneCP5_PSWeights_13TeV-madgraphMLM-pyth <span style=\"color: #7f7f7f; text-decoration-color: #7f7f7f\">                </span>\n",
       "<span style=\"color: #7fbfbf; text-decoration-color: #7fbfbf\">           </span>         ia8.hist                                                                       <span style=\"color: #7f7f7f; text-decoration-color: #7f7f7f\">                </span>\n",
       "</pre>\n"
      ],
      "text/plain": [
       "\u001b[2;36m          \u001b[0m\u001b[2;36m \u001b[0m\u001b[34mINFO    \u001b[0m Readign sample: QCD_HT700to1000_TuneCP5_PSWeights_13TeV-madgraphMLM-pythia8,   \u001b]8;id=251216;file:///tmp/ipykernel_18646/2088555353.py\u001b\\\u001b[2m2088555353.py\u001b[0m\u001b]8;;\u001b\\\u001b[2m:\u001b[0m\u001b]8;id=198327;file:///tmp/ipykernel_18646/2088555353.py#23\u001b\\\u001b[2m23\u001b[0m\u001b]8;;\u001b\\\n",
       "\u001b[2;36m           \u001b[0m         from:                                                                          \u001b[2m                \u001b[0m\n",
       "\u001b[2;36m           \u001b[0m         inputs16APV/hists_sum_QCD_HT700to1000_TuneCP5_PSWeights_13TeV-madgraphMLM-pyth \u001b[2m                \u001b[0m\n",
       "\u001b[2;36m           \u001b[0m         ia8.hist                                                                       \u001b[2m                \u001b[0m\n"
      ]
     },
     "metadata": {},
     "output_type": "display_data"
    },
    {
     "name": "stdout",
     "output_type": "stream",
     "text": [
      "QCD_HT1000to1500_TuneCP5_13TeV-madgraphMLM-pythia8\n"
     ]
    },
    {
     "data": {
      "text/html": [
       "<pre style=\"white-space:pre;overflow-x:auto;line-height:normal;font-family:Menlo,'DejaVu Sans Mono',consolas,'Courier New',monospace\"><span style=\"color: #7fbfbf; text-decoration-color: #7fbfbf\">           </span><span style=\"color: #000080; text-decoration-color: #000080\">INFO    </span> Readign sample: QCD_HT1000to1500_TuneCP5_13TeV-madgraphMLM-pythia8, from:      <a href=\"file:///tmp/ipykernel_18646/2088555353.py\" target=\"_blank\"><span style=\"color: #7f7f7f; text-decoration-color: #7f7f7f\">2088555353.py</span></a><span style=\"color: #7f7f7f; text-decoration-color: #7f7f7f\">:</span><a href=\"file:///tmp/ipykernel_18646/2088555353.py#23\" target=\"_blank\"><span style=\"color: #7f7f7f; text-decoration-color: #7f7f7f\">23</span></a>\n",
       "<span style=\"color: #7fbfbf; text-decoration-color: #7fbfbf\">           </span>         inputs16APV/hists_sum_QCD_HT1000to1500_TuneCP5_13TeV-madgraphMLM-pythia8.hist  <span style=\"color: #7f7f7f; text-decoration-color: #7f7f7f\">                </span>\n",
       "</pre>\n"
      ],
      "text/plain": [
       "\u001b[2;36m          \u001b[0m\u001b[2;36m \u001b[0m\u001b[34mINFO    \u001b[0m Readign sample: QCD_HT1000to1500_TuneCP5_13TeV-madgraphMLM-pythia8, from:      \u001b]8;id=892863;file:///tmp/ipykernel_18646/2088555353.py\u001b\\\u001b[2m2088555353.py\u001b[0m\u001b]8;;\u001b\\\u001b[2m:\u001b[0m\u001b]8;id=878188;file:///tmp/ipykernel_18646/2088555353.py#23\u001b\\\u001b[2m23\u001b[0m\u001b]8;;\u001b\\\n",
       "\u001b[2;36m           \u001b[0m         inputs16APV/hists_sum_QCD_HT1000to1500_TuneCP5_13TeV-madgraphMLM-pythia8.hist  \u001b[2m                \u001b[0m\n"
      ]
     },
     "metadata": {},
     "output_type": "display_data"
    },
    {
     "name": "stdout",
     "output_type": "stream",
     "text": [
      "QCD_HT1500to2000_TuneCP5_13TeV-madgraphMLM-pythia8\n"
     ]
    },
    {
     "data": {
      "text/html": [
       "<pre style=\"white-space:pre;overflow-x:auto;line-height:normal;font-family:Menlo,'DejaVu Sans Mono',consolas,'Courier New',monospace\"><span style=\"color: #7fbfbf; text-decoration-color: #7fbfbf\">           </span><span style=\"color: #000080; text-decoration-color: #000080\">INFO    </span> Readign sample: QCD_HT1500to2000_TuneCP5_13TeV-madgraphMLM-pythia8, from:      <a href=\"file:///tmp/ipykernel_18646/2088555353.py\" target=\"_blank\"><span style=\"color: #7f7f7f; text-decoration-color: #7f7f7f\">2088555353.py</span></a><span style=\"color: #7f7f7f; text-decoration-color: #7f7f7f\">:</span><a href=\"file:///tmp/ipykernel_18646/2088555353.py#23\" target=\"_blank\"><span style=\"color: #7f7f7f; text-decoration-color: #7f7f7f\">23</span></a>\n",
       "<span style=\"color: #7fbfbf; text-decoration-color: #7fbfbf\">           </span>         inputs16APV/hists_sum_QCD_HT1500to2000_TuneCP5_13TeV-madgraphMLM-pythia8.hist  <span style=\"color: #7f7f7f; text-decoration-color: #7f7f7f\">                </span>\n",
       "</pre>\n"
      ],
      "text/plain": [
       "\u001b[2;36m          \u001b[0m\u001b[2;36m \u001b[0m\u001b[34mINFO    \u001b[0m Readign sample: QCD_HT1500to2000_TuneCP5_13TeV-madgraphMLM-pythia8, from:      \u001b]8;id=883228;file:///tmp/ipykernel_18646/2088555353.py\u001b\\\u001b[2m2088555353.py\u001b[0m\u001b]8;;\u001b\\\u001b[2m:\u001b[0m\u001b]8;id=385740;file:///tmp/ipykernel_18646/2088555353.py#23\u001b\\\u001b[2m23\u001b[0m\u001b]8;;\u001b\\\n",
       "\u001b[2;36m           \u001b[0m         inputs16APV/hists_sum_QCD_HT1500to2000_TuneCP5_13TeV-madgraphMLM-pythia8.hist  \u001b[2m                \u001b[0m\n"
      ]
     },
     "metadata": {},
     "output_type": "display_data"
    },
    {
     "name": "stdout",
     "output_type": "stream",
     "text": [
      "QCD_HT2000toInf_TuneCP5_13TeV-madgraphMLM-pythia8\n"
     ]
    },
    {
     "data": {
      "text/html": [
       "<pre style=\"white-space:pre;overflow-x:auto;line-height:normal;font-family:Menlo,'DejaVu Sans Mono',consolas,'Courier New',monospace\"><span style=\"color: #7fbfbf; text-decoration-color: #7fbfbf\">           </span><span style=\"color: #000080; text-decoration-color: #000080\">INFO    </span> Readign sample: QCD_HT2000toInf_TuneCP5_13TeV-madgraphMLM-pythia8, from:       <a href=\"file:///tmp/ipykernel_18646/2088555353.py\" target=\"_blank\"><span style=\"color: #7f7f7f; text-decoration-color: #7f7f7f\">2088555353.py</span></a><span style=\"color: #7f7f7f; text-decoration-color: #7f7f7f\">:</span><a href=\"file:///tmp/ipykernel_18646/2088555353.py#23\" target=\"_blank\"><span style=\"color: #7f7f7f; text-decoration-color: #7f7f7f\">23</span></a>\n",
       "<span style=\"color: #7fbfbf; text-decoration-color: #7fbfbf\">           </span>         inputs16APV/hists_sum_QCD_HT2000toInf_TuneCP5_13TeV-madgraphMLM-pythia8.hist   <span style=\"color: #7f7f7f; text-decoration-color: #7f7f7f\">                </span>\n",
       "</pre>\n"
      ],
      "text/plain": [
       "\u001b[2;36m          \u001b[0m\u001b[2;36m \u001b[0m\u001b[34mINFO    \u001b[0m Readign sample: QCD_HT2000toInf_TuneCP5_13TeV-madgraphMLM-pythia8, from:       \u001b]8;id=82430;file:///tmp/ipykernel_18646/2088555353.py\u001b\\\u001b[2m2088555353.py\u001b[0m\u001b]8;;\u001b\\\u001b[2m:\u001b[0m\u001b]8;id=543656;file:///tmp/ipykernel_18646/2088555353.py#23\u001b\\\u001b[2m23\u001b[0m\u001b]8;;\u001b\\\n",
       "\u001b[2;36m           \u001b[0m         inputs16APV/hists_sum_QCD_HT2000toInf_TuneCP5_13TeV-madgraphMLM-pythia8.hist   \u001b[2m                \u001b[0m\n"
      ]
     },
     "metadata": {},
     "output_type": "display_data"
    },
    {
     "name": "stdout",
     "output_type": "stream",
     "text": [
      "QCD_HT500to700_TuneCP5_13TeV-madgraphMLM-pythia8\n"
     ]
    },
    {
     "data": {
      "text/html": [
       "<pre style=\"white-space:pre;overflow-x:auto;line-height:normal;font-family:Menlo,'DejaVu Sans Mono',consolas,'Courier New',monospace\"><span style=\"color: #7fbfbf; text-decoration-color: #7fbfbf\">           </span><span style=\"color: #000080; text-decoration-color: #000080\">INFO    </span> Readign sample: QCD_HT500to700_TuneCP5_13TeV-madgraphMLM-pythia8, from:        <a href=\"file:///tmp/ipykernel_18646/2088555353.py\" target=\"_blank\"><span style=\"color: #7f7f7f; text-decoration-color: #7f7f7f\">2088555353.py</span></a><span style=\"color: #7f7f7f; text-decoration-color: #7f7f7f\">:</span><a href=\"file:///tmp/ipykernel_18646/2088555353.py#23\" target=\"_blank\"><span style=\"color: #7f7f7f; text-decoration-color: #7f7f7f\">23</span></a>\n",
       "<span style=\"color: #7fbfbf; text-decoration-color: #7fbfbf\">           </span>         inputs16APV/hists_sum_QCD_HT500to700_TuneCP5_13TeV-madgraphMLM-pythia8.hist    <span style=\"color: #7f7f7f; text-decoration-color: #7f7f7f\">                </span>\n",
       "</pre>\n"
      ],
      "text/plain": [
       "\u001b[2;36m          \u001b[0m\u001b[2;36m \u001b[0m\u001b[34mINFO    \u001b[0m Readign sample: QCD_HT500to700_TuneCP5_13TeV-madgraphMLM-pythia8, from:        \u001b]8;id=843053;file:///tmp/ipykernel_18646/2088555353.py\u001b\\\u001b[2m2088555353.py\u001b[0m\u001b]8;;\u001b\\\u001b[2m:\u001b[0m\u001b]8;id=876881;file:///tmp/ipykernel_18646/2088555353.py#23\u001b\\\u001b[2m23\u001b[0m\u001b]8;;\u001b\\\n",
       "\u001b[2;36m           \u001b[0m         inputs16APV/hists_sum_QCD_HT500to700_TuneCP5_13TeV-madgraphMLM-pythia8.hist    \u001b[2m                \u001b[0m\n"
      ]
     },
     "metadata": {},
     "output_type": "display_data"
    },
    {
     "name": "stdout",
     "output_type": "stream",
     "text": [
      "QCD_HT700to1000_TuneCP5_13TeV-madgraphMLM-pythia8\n"
     ]
    },
    {
     "data": {
      "text/html": [
       "<pre style=\"white-space:pre;overflow-x:auto;line-height:normal;font-family:Menlo,'DejaVu Sans Mono',consolas,'Courier New',monospace\"><span style=\"color: #7fbfbf; text-decoration-color: #7fbfbf\">           </span><span style=\"color: #000080; text-decoration-color: #000080\">INFO    </span> Readign sample: QCD_HT700to1000_TuneCP5_13TeV-madgraphMLM-pythia8, from:       <a href=\"file:///tmp/ipykernel_18646/2088555353.py\" target=\"_blank\"><span style=\"color: #7f7f7f; text-decoration-color: #7f7f7f\">2088555353.py</span></a><span style=\"color: #7f7f7f; text-decoration-color: #7f7f7f\">:</span><a href=\"file:///tmp/ipykernel_18646/2088555353.py#23\" target=\"_blank\"><span style=\"color: #7f7f7f; text-decoration-color: #7f7f7f\">23</span></a>\n",
       "<span style=\"color: #7fbfbf; text-decoration-color: #7fbfbf\">           </span>         inputs16APV/hists_sum_QCD_HT700to1000_TuneCP5_13TeV-madgraphMLM-pythia8.hist   <span style=\"color: #7f7f7f; text-decoration-color: #7f7f7f\">                </span>\n",
       "</pre>\n"
      ],
      "text/plain": [
       "\u001b[2;36m          \u001b[0m\u001b[2;36m \u001b[0m\u001b[34mINFO    \u001b[0m Readign sample: QCD_HT700to1000_TuneCP5_13TeV-madgraphMLM-pythia8, from:       \u001b]8;id=227535;file:///tmp/ipykernel_18646/2088555353.py\u001b\\\u001b[2m2088555353.py\u001b[0m\u001b]8;;\u001b\\\u001b[2m:\u001b[0m\u001b]8;id=979731;file:///tmp/ipykernel_18646/2088555353.py#23\u001b\\\u001b[2m23\u001b[0m\u001b]8;;\u001b\\\n",
       "\u001b[2;36m           \u001b[0m         inputs16APV/hists_sum_QCD_HT700to1000_TuneCP5_13TeV-madgraphMLM-pythia8.hist   \u001b[2m                \u001b[0m\n"
      ]
     },
     "metadata": {},
     "output_type": "display_data"
    },
    {
     "name": "stdout",
     "output_type": "stream",
     "text": [
      "boostedTau_QCD_HT700to1000_TuneCP5_PSWeights_13TeV-madgraphMLM-pythia8\n"
     ]
    },
    {
     "data": {
      "text/html": [
       "<pre style=\"white-space:pre;overflow-x:auto;line-height:normal;font-family:Menlo,'DejaVu Sans Mono',consolas,'Courier New',monospace\"><span style=\"color: #7fbfbf; text-decoration-color: #7fbfbf\">           </span><span style=\"color: #000080; text-decoration-color: #000080\">INFO    </span> Readign sample:                                                                <a href=\"file:///tmp/ipykernel_18646/2088555353.py\" target=\"_blank\"><span style=\"color: #7f7f7f; text-decoration-color: #7f7f7f\">2088555353.py</span></a><span style=\"color: #7f7f7f; text-decoration-color: #7f7f7f\">:</span><a href=\"file:///tmp/ipykernel_18646/2088555353.py#23\" target=\"_blank\"><span style=\"color: #7f7f7f; text-decoration-color: #7f7f7f\">23</span></a>\n",
       "<span style=\"color: #7fbfbf; text-decoration-color: #7fbfbf\">           </span>         boostedTau_QCD_HT700to1000_TuneCP5_PSWeights_13TeV-madgraphMLM-pythia8, from:  <span style=\"color: #7f7f7f; text-decoration-color: #7f7f7f\">                </span>\n",
       "<span style=\"color: #7fbfbf; text-decoration-color: #7fbfbf\">           </span>         inputs16APV/hists_sum_boostedTau_QCD_HT700to1000_TuneCP5_PSWeights_13TeV-madgr <span style=\"color: #7f7f7f; text-decoration-color: #7f7f7f\">                </span>\n",
       "<span style=\"color: #7fbfbf; text-decoration-color: #7fbfbf\">           </span>         aphMLM-pythia8.hist                                                            <span style=\"color: #7f7f7f; text-decoration-color: #7f7f7f\">                </span>\n",
       "</pre>\n"
      ],
      "text/plain": [
       "\u001b[2;36m          \u001b[0m\u001b[2;36m \u001b[0m\u001b[34mINFO    \u001b[0m Readign sample:                                                                \u001b]8;id=110468;file:///tmp/ipykernel_18646/2088555353.py\u001b\\\u001b[2m2088555353.py\u001b[0m\u001b]8;;\u001b\\\u001b[2m:\u001b[0m\u001b]8;id=999675;file:///tmp/ipykernel_18646/2088555353.py#23\u001b\\\u001b[2m23\u001b[0m\u001b]8;;\u001b\\\n",
       "\u001b[2;36m           \u001b[0m         boostedTau_QCD_HT700to1000_TuneCP5_PSWeights_13TeV-madgraphMLM-pythia8, from:  \u001b[2m                \u001b[0m\n",
       "\u001b[2;36m           \u001b[0m         inputs16APV/hists_sum_boostedTau_QCD_HT700to1000_TuneCP5_PSWeights_13TeV-madgr \u001b[2m                \u001b[0m\n",
       "\u001b[2;36m           \u001b[0m         aphMLM-pythia8.hist                                                            \u001b[2m                \u001b[0m\n"
      ]
     },
     "metadata": {},
     "output_type": "display_data"
    },
    {
     "name": "stdout",
     "output_type": "stream",
     "text": [
      "QCD_Pt_3200toInf\n"
     ]
    },
    {
     "data": {
      "text/html": [
       "<pre style=\"white-space:pre;overflow-x:auto;line-height:normal;font-family:Menlo,'DejaVu Sans Mono',consolas,'Courier New',monospace\"><span style=\"color: #7fbfbf; text-decoration-color: #7fbfbf\">           </span><span style=\"color: #000080; text-decoration-color: #000080\">INFO    </span> Readign sample: QCD_Pt_3200toInf, from:                                        <a href=\"file:///tmp/ipykernel_18646/2088555353.py\" target=\"_blank\"><span style=\"color: #7f7f7f; text-decoration-color: #7f7f7f\">2088555353.py</span></a><span style=\"color: #7f7f7f; text-decoration-color: #7f7f7f\">:</span><a href=\"file:///tmp/ipykernel_18646/2088555353.py#23\" target=\"_blank\"><span style=\"color: #7f7f7f; text-decoration-color: #7f7f7f\">23</span></a>\n",
       "<span style=\"color: #7fbfbf; text-decoration-color: #7fbfbf\">           </span>         inputs16APV/hists_sum_QCD_Pt_3200toInf.hist                                    <span style=\"color: #7f7f7f; text-decoration-color: #7f7f7f\">                </span>\n",
       "</pre>\n"
      ],
      "text/plain": [
       "\u001b[2;36m          \u001b[0m\u001b[2;36m \u001b[0m\u001b[34mINFO    \u001b[0m Readign sample: QCD_Pt_3200toInf, from:                                        \u001b]8;id=350702;file:///tmp/ipykernel_18646/2088555353.py\u001b\\\u001b[2m2088555353.py\u001b[0m\u001b]8;;\u001b\\\u001b[2m:\u001b[0m\u001b]8;id=689212;file:///tmp/ipykernel_18646/2088555353.py#23\u001b\\\u001b[2m23\u001b[0m\u001b]8;;\u001b\\\n",
       "\u001b[2;36m           \u001b[0m         inputs16APV/hists_sum_QCD_Pt_3200toInf.hist                                    \u001b[2m                \u001b[0m\n"
      ]
     },
     "metadata": {},
     "output_type": "display_data"
    },
    {
     "data": {
      "text/html": [
       "<pre style=\"white-space:pre;overflow-x:auto;line-height:normal;font-family:Menlo,'DejaVu Sans Mono',consolas,'Courier New',monospace\"><span style=\"color: #7fbfbf; text-decoration-color: #7fbfbf\">           </span><span style=\"color: #000080; text-decoration-color: #000080\">INFO    </span> Scaling QCD_Pt_3200toInf by <span style=\"color: #008080; text-decoration-color: #008080; font-weight: bold\">19.520000000</span> <span style=\"font-weight: bold\">(</span>lumi = <span style=\"color: #008080; text-decoration-color: #008080; font-weight: bold\">19.52</span>, xs = nan, sumw =       <a href=\"file:///tmp/ipykernel_18646/2088555353.py\" target=\"_blank\"><span style=\"color: #7f7f7f; text-decoration-color: #7f7f7f\">2088555353.py</span></a><span style=\"color: #7f7f7f; text-decoration-color: #7f7f7f\">:</span><a href=\"file:///tmp/ipykernel_18646/2088555353.py#34\" target=\"_blank\"><span style=\"color: #7f7f7f; text-decoration-color: #7f7f7f\">34</span></a>\n",
       "<span style=\"color: #7fbfbf; text-decoration-color: #7fbfbf\">           </span>         <span style=\"color: #008080; text-decoration-color: #008080; font-weight: bold\">52000.000</span><span style=\"font-weight: bold\">)</span>                                                                     <span style=\"color: #7f7f7f; text-decoration-color: #7f7f7f\">                </span>\n",
       "</pre>\n"
      ],
      "text/plain": [
       "\u001b[2;36m          \u001b[0m\u001b[2;36m \u001b[0m\u001b[34mINFO    \u001b[0m Scaling QCD_Pt_3200toInf by \u001b[1;36m19.520000000\u001b[0m \u001b[1m(\u001b[0mlumi = \u001b[1;36m19.52\u001b[0m, xs = nan, sumw =       \u001b]8;id=304240;file:///tmp/ipykernel_18646/2088555353.py\u001b\\\u001b[2m2088555353.py\u001b[0m\u001b]8;;\u001b\\\u001b[2m:\u001b[0m\u001b]8;id=461940;file:///tmp/ipykernel_18646/2088555353.py#34\u001b\\\u001b[2m34\u001b[0m\u001b]8;;\u001b\\\n",
       "\u001b[2;36m           \u001b[0m         \u001b[1;36m52000.000\u001b[0m\u001b[1m)\u001b[0m                                                                     \u001b[2m                \u001b[0m\n"
      ]
     },
     "metadata": {},
     "output_type": "display_data"
    },
    {
     "name": "stdout",
     "output_type": "stream",
     "text": [
      "QCD_Pt_1400to1800\n"
     ]
    },
    {
     "data": {
      "text/html": [
       "<pre style=\"white-space:pre;overflow-x:auto;line-height:normal;font-family:Menlo,'DejaVu Sans Mono',consolas,'Courier New',monospace\"><span style=\"color: #7fbfbf; text-decoration-color: #7fbfbf\">           </span><span style=\"color: #000080; text-decoration-color: #000080\">INFO    </span> Readign sample: QCD_Pt_1400to1800, from:                                       <a href=\"file:///tmp/ipykernel_18646/2088555353.py\" target=\"_blank\"><span style=\"color: #7f7f7f; text-decoration-color: #7f7f7f\">2088555353.py</span></a><span style=\"color: #7f7f7f; text-decoration-color: #7f7f7f\">:</span><a href=\"file:///tmp/ipykernel_18646/2088555353.py#23\" target=\"_blank\"><span style=\"color: #7f7f7f; text-decoration-color: #7f7f7f\">23</span></a>\n",
       "<span style=\"color: #7fbfbf; text-decoration-color: #7fbfbf\">           </span>         inputs16APV/hists_sum_QCD_Pt_1400to1800.hist                                   <span style=\"color: #7f7f7f; text-decoration-color: #7f7f7f\">                </span>\n",
       "</pre>\n"
      ],
      "text/plain": [
       "\u001b[2;36m          \u001b[0m\u001b[2;36m \u001b[0m\u001b[34mINFO    \u001b[0m Readign sample: QCD_Pt_1400to1800, from:                                       \u001b]8;id=777071;file:///tmp/ipykernel_18646/2088555353.py\u001b\\\u001b[2m2088555353.py\u001b[0m\u001b]8;;\u001b\\\u001b[2m:\u001b[0m\u001b]8;id=962618;file:///tmp/ipykernel_18646/2088555353.py#23\u001b\\\u001b[2m23\u001b[0m\u001b]8;;\u001b\\\n",
       "\u001b[2;36m           \u001b[0m         inputs16APV/hists_sum_QCD_Pt_1400to1800.hist                                   \u001b[2m                \u001b[0m\n"
      ]
     },
     "metadata": {},
     "output_type": "display_data"
    },
    {
     "data": {
      "text/html": [
       "<pre style=\"white-space:pre;overflow-x:auto;line-height:normal;font-family:Menlo,'DejaVu Sans Mono',consolas,'Courier New',monospace\"><span style=\"color: #7fbfbf; text-decoration-color: #7fbfbf\">           </span><span style=\"color: #000080; text-decoration-color: #000080\">INFO    </span> Scaling QCD_Pt_1400to1800 by <span style=\"color: #008080; text-decoration-color: #008080; font-weight: bold\">19.520000000</span> <span style=\"font-weight: bold\">(</span>lumi = <span style=\"color: #008080; text-decoration-color: #008080; font-weight: bold\">19.52</span>, xs = nan, sumw =      <a href=\"file:///tmp/ipykernel_18646/2088555353.py\" target=\"_blank\"><span style=\"color: #7f7f7f; text-decoration-color: #7f7f7f\">2088555353.py</span></a><span style=\"color: #7f7f7f; text-decoration-color: #7f7f7f\">:</span><a href=\"file:///tmp/ipykernel_18646/2088555353.py#34\" target=\"_blank\"><span style=\"color: #7f7f7f; text-decoration-color: #7f7f7f\">34</span></a>\n",
       "<span style=\"color: #7fbfbf; text-decoration-color: #7fbfbf\">           </span>         <span style=\"color: #008080; text-decoration-color: #008080; font-weight: bold\">8422000.000</span><span style=\"font-weight: bold\">)</span>                                                                   <span style=\"color: #7f7f7f; text-decoration-color: #7f7f7f\">                </span>\n",
       "</pre>\n"
      ],
      "text/plain": [
       "\u001b[2;36m          \u001b[0m\u001b[2;36m \u001b[0m\u001b[34mINFO    \u001b[0m Scaling QCD_Pt_1400to1800 by \u001b[1;36m19.520000000\u001b[0m \u001b[1m(\u001b[0mlumi = \u001b[1;36m19.52\u001b[0m, xs = nan, sumw =      \u001b]8;id=500288;file:///tmp/ipykernel_18646/2088555353.py\u001b\\\u001b[2m2088555353.py\u001b[0m\u001b]8;;\u001b\\\u001b[2m:\u001b[0m\u001b]8;id=972274;file:///tmp/ipykernel_18646/2088555353.py#34\u001b\\\u001b[2m34\u001b[0m\u001b]8;;\u001b\\\n",
       "\u001b[2;36m           \u001b[0m         \u001b[1;36m8422000.000\u001b[0m\u001b[1m)\u001b[0m                                                                   \u001b[2m                \u001b[0m\n"
      ]
     },
     "metadata": {},
     "output_type": "display_data"
    },
    {
     "name": "stdout",
     "output_type": "stream",
     "text": [
      "QCD_Pt_170to300\n"
     ]
    },
    {
     "data": {
      "text/html": [
       "<pre style=\"white-space:pre;overflow-x:auto;line-height:normal;font-family:Menlo,'DejaVu Sans Mono',consolas,'Courier New',monospace\"><span style=\"color: #7fbfbf; text-decoration-color: #7fbfbf\">           </span><span style=\"color: #000080; text-decoration-color: #000080\">INFO    </span> Readign sample: QCD_Pt_170to300, from:                                         <a href=\"file:///tmp/ipykernel_18646/2088555353.py\" target=\"_blank\"><span style=\"color: #7f7f7f; text-decoration-color: #7f7f7f\">2088555353.py</span></a><span style=\"color: #7f7f7f; text-decoration-color: #7f7f7f\">:</span><a href=\"file:///tmp/ipykernel_18646/2088555353.py#23\" target=\"_blank\"><span style=\"color: #7f7f7f; text-decoration-color: #7f7f7f\">23</span></a>\n",
       "<span style=\"color: #7fbfbf; text-decoration-color: #7fbfbf\">           </span>         inputs16APV/hists_sum_QCD_Pt_170to300.hist                                     <span style=\"color: #7f7f7f; text-decoration-color: #7f7f7f\">                </span>\n",
       "</pre>\n"
      ],
      "text/plain": [
       "\u001b[2;36m          \u001b[0m\u001b[2;36m \u001b[0m\u001b[34mINFO    \u001b[0m Readign sample: QCD_Pt_170to300, from:                                         \u001b]8;id=196835;file:///tmp/ipykernel_18646/2088555353.py\u001b\\\u001b[2m2088555353.py\u001b[0m\u001b]8;;\u001b\\\u001b[2m:\u001b[0m\u001b]8;id=393626;file:///tmp/ipykernel_18646/2088555353.py#23\u001b\\\u001b[2m23\u001b[0m\u001b]8;;\u001b\\\n",
       "\u001b[2;36m           \u001b[0m         inputs16APV/hists_sum_QCD_Pt_170to300.hist                                     \u001b[2m                \u001b[0m\n"
      ]
     },
     "metadata": {},
     "output_type": "display_data"
    },
    {
     "data": {
      "text/html": [
       "<pre style=\"white-space:pre;overflow-x:auto;line-height:normal;font-family:Menlo,'DejaVu Sans Mono',consolas,'Courier New',monospace\"><span style=\"color: #7fbfbf; text-decoration-color: #7fbfbf\">           </span><span style=\"color: #000080; text-decoration-color: #000080\">INFO    </span> Scaling QCD_Pt_170to300 by <span style=\"color: #008080; text-decoration-color: #008080; font-weight: bold\">19.520000000</span> <span style=\"font-weight: bold\">(</span>lumi = <span style=\"color: #008080; text-decoration-color: #008080; font-weight: bold\">19.52</span>, xs = nan, sumw =        <a href=\"file:///tmp/ipykernel_18646/2088555353.py\" target=\"_blank\"><span style=\"color: #7f7f7f; text-decoration-color: #7f7f7f\">2088555353.py</span></a><span style=\"color: #7f7f7f; text-decoration-color: #7f7f7f\">:</span><a href=\"file:///tmp/ipykernel_18646/2088555353.py#34\" target=\"_blank\"><span style=\"color: #7f7f7f; text-decoration-color: #7f7f7f\">34</span></a>\n",
       "<span style=\"color: #7fbfbf; text-decoration-color: #7fbfbf\">           </span>         <span style=\"color: #008080; text-decoration-color: #008080; font-weight: bold\">22553000.000</span><span style=\"font-weight: bold\">)</span>                                                                  <span style=\"color: #7f7f7f; text-decoration-color: #7f7f7f\">                </span>\n",
       "</pre>\n"
      ],
      "text/plain": [
       "\u001b[2;36m          \u001b[0m\u001b[2;36m \u001b[0m\u001b[34mINFO    \u001b[0m Scaling QCD_Pt_170to300 by \u001b[1;36m19.520000000\u001b[0m \u001b[1m(\u001b[0mlumi = \u001b[1;36m19.52\u001b[0m, xs = nan, sumw =        \u001b]8;id=769859;file:///tmp/ipykernel_18646/2088555353.py\u001b\\\u001b[2m2088555353.py\u001b[0m\u001b]8;;\u001b\\\u001b[2m:\u001b[0m\u001b]8;id=290697;file:///tmp/ipykernel_18646/2088555353.py#34\u001b\\\u001b[2m34\u001b[0m\u001b]8;;\u001b\\\n",
       "\u001b[2;36m           \u001b[0m         \u001b[1;36m22553000.000\u001b[0m\u001b[1m)\u001b[0m                                                                  \u001b[2m                \u001b[0m\n"
      ]
     },
     "metadata": {},
     "output_type": "display_data"
    },
    {
     "name": "stdout",
     "output_type": "stream",
     "text": [
      "QCD_Pt_300to470\n"
     ]
    },
    {
     "data": {
      "text/html": [
       "<pre style=\"white-space:pre;overflow-x:auto;line-height:normal;font-family:Menlo,'DejaVu Sans Mono',consolas,'Courier New',monospace\"><span style=\"color: #7fbfbf; text-decoration-color: #7fbfbf\">           </span><span style=\"color: #000080; text-decoration-color: #000080\">INFO    </span> Readign sample: QCD_Pt_300to470, from:                                         <a href=\"file:///tmp/ipykernel_18646/2088555353.py\" target=\"_blank\"><span style=\"color: #7f7f7f; text-decoration-color: #7f7f7f\">2088555353.py</span></a><span style=\"color: #7f7f7f; text-decoration-color: #7f7f7f\">:</span><a href=\"file:///tmp/ipykernel_18646/2088555353.py#23\" target=\"_blank\"><span style=\"color: #7f7f7f; text-decoration-color: #7f7f7f\">23</span></a>\n",
       "<span style=\"color: #7fbfbf; text-decoration-color: #7fbfbf\">           </span>         inputs16APV/hists_sum_QCD_Pt_300to470.hist                                     <span style=\"color: #7f7f7f; text-decoration-color: #7f7f7f\">                </span>\n",
       "</pre>\n"
      ],
      "text/plain": [
       "\u001b[2;36m          \u001b[0m\u001b[2;36m \u001b[0m\u001b[34mINFO    \u001b[0m Readign sample: QCD_Pt_300to470, from:                                         \u001b]8;id=142932;file:///tmp/ipykernel_18646/2088555353.py\u001b\\\u001b[2m2088555353.py\u001b[0m\u001b]8;;\u001b\\\u001b[2m:\u001b[0m\u001b]8;id=591584;file:///tmp/ipykernel_18646/2088555353.py#23\u001b\\\u001b[2m23\u001b[0m\u001b]8;;\u001b\\\n",
       "\u001b[2;36m           \u001b[0m         inputs16APV/hists_sum_QCD_Pt_300to470.hist                                     \u001b[2m                \u001b[0m\n"
      ]
     },
     "metadata": {},
     "output_type": "display_data"
    },
    {
     "data": {
      "text/html": [
       "<pre style=\"white-space:pre;overflow-x:auto;line-height:normal;font-family:Menlo,'DejaVu Sans Mono',consolas,'Courier New',monospace\"><span style=\"color: #7fbfbf; text-decoration-color: #7fbfbf\">           </span><span style=\"color: #000080; text-decoration-color: #000080\">INFO    </span> Scaling QCD_Pt_300to470 by <span style=\"color: #008080; text-decoration-color: #008080; font-weight: bold\">19.520000000</span> <span style=\"font-weight: bold\">(</span>lumi = <span style=\"color: #008080; text-decoration-color: #008080; font-weight: bold\">19.52</span>, xs = nan, sumw =        <a href=\"file:///tmp/ipykernel_18646/2088555353.py\" target=\"_blank\"><span style=\"color: #7f7f7f; text-decoration-color: #7f7f7f\">2088555353.py</span></a><span style=\"color: #7f7f7f; text-decoration-color: #7f7f7f\">:</span><a href=\"file:///tmp/ipykernel_18646/2088555353.py#34\" target=\"_blank\"><span style=\"color: #7f7f7f; text-decoration-color: #7f7f7f\">34</span></a>\n",
       "<span style=\"color: #7fbfbf; text-decoration-color: #7fbfbf\">           </span>         <span style=\"color: #008080; text-decoration-color: #008080; font-weight: bold\">52970008.501</span><span style=\"font-weight: bold\">)</span>                                                                  <span style=\"color: #7f7f7f; text-decoration-color: #7f7f7f\">                </span>\n",
       "</pre>\n"
      ],
      "text/plain": [
       "\u001b[2;36m          \u001b[0m\u001b[2;36m \u001b[0m\u001b[34mINFO    \u001b[0m Scaling QCD_Pt_300to470 by \u001b[1;36m19.520000000\u001b[0m \u001b[1m(\u001b[0mlumi = \u001b[1;36m19.52\u001b[0m, xs = nan, sumw =        \u001b]8;id=408814;file:///tmp/ipykernel_18646/2088555353.py\u001b\\\u001b[2m2088555353.py\u001b[0m\u001b]8;;\u001b\\\u001b[2m:\u001b[0m\u001b]8;id=216762;file:///tmp/ipykernel_18646/2088555353.py#34\u001b\\\u001b[2m34\u001b[0m\u001b]8;;\u001b\\\n",
       "\u001b[2;36m           \u001b[0m         \u001b[1;36m52970008.501\u001b[0m\u001b[1m)\u001b[0m                                                                  \u001b[2m                \u001b[0m\n"
      ]
     },
     "metadata": {},
     "output_type": "display_data"
    },
    {
     "name": "stdout",
     "output_type": "stream",
     "text": [
      "QCD_Pt_470to600\n"
     ]
    },
    {
     "data": {
      "text/html": [
       "<pre style=\"white-space:pre;overflow-x:auto;line-height:normal;font-family:Menlo,'DejaVu Sans Mono',consolas,'Courier New',monospace\"><span style=\"color: #7fbfbf; text-decoration-color: #7fbfbf\">           </span><span style=\"color: #000080; text-decoration-color: #000080\">INFO    </span> Readign sample: QCD_Pt_470to600, from:                                         <a href=\"file:///tmp/ipykernel_18646/2088555353.py\" target=\"_blank\"><span style=\"color: #7f7f7f; text-decoration-color: #7f7f7f\">2088555353.py</span></a><span style=\"color: #7f7f7f; text-decoration-color: #7f7f7f\">:</span><a href=\"file:///tmp/ipykernel_18646/2088555353.py#23\" target=\"_blank\"><span style=\"color: #7f7f7f; text-decoration-color: #7f7f7f\">23</span></a>\n",
       "<span style=\"color: #7fbfbf; text-decoration-color: #7fbfbf\">           </span>         inputs16APV/hists_sum_QCD_Pt_470to600.hist                                     <span style=\"color: #7f7f7f; text-decoration-color: #7f7f7f\">                </span>\n",
       "</pre>\n"
      ],
      "text/plain": [
       "\u001b[2;36m          \u001b[0m\u001b[2;36m \u001b[0m\u001b[34mINFO    \u001b[0m Readign sample: QCD_Pt_470to600, from:                                         \u001b]8;id=162867;file:///tmp/ipykernel_18646/2088555353.py\u001b\\\u001b[2m2088555353.py\u001b[0m\u001b]8;;\u001b\\\u001b[2m:\u001b[0m\u001b]8;id=835473;file:///tmp/ipykernel_18646/2088555353.py#23\u001b\\\u001b[2m23\u001b[0m\u001b]8;;\u001b\\\n",
       "\u001b[2;36m           \u001b[0m         inputs16APV/hists_sum_QCD_Pt_470to600.hist                                     \u001b[2m                \u001b[0m\n"
      ]
     },
     "metadata": {},
     "output_type": "display_data"
    },
    {
     "data": {
      "text/html": [
       "<pre style=\"white-space:pre;overflow-x:auto;line-height:normal;font-family:Menlo,'DejaVu Sans Mono',consolas,'Courier New',monospace\"><span style=\"color: #7fbfbf; text-decoration-color: #7fbfbf\">           </span><span style=\"color: #000080; text-decoration-color: #000080\">INFO    </span> Scaling QCD_Pt_470to600 by <span style=\"color: #008080; text-decoration-color: #008080; font-weight: bold\">19.520000000</span> <span style=\"font-weight: bold\">(</span>lumi = <span style=\"color: #008080; text-decoration-color: #008080; font-weight: bold\">19.52</span>, xs = nan, sumw =        <a href=\"file:///tmp/ipykernel_18646/2088555353.py\" target=\"_blank\"><span style=\"color: #7f7f7f; text-decoration-color: #7f7f7f\">2088555353.py</span></a><span style=\"color: #7f7f7f; text-decoration-color: #7f7f7f\">:</span><a href=\"file:///tmp/ipykernel_18646/2088555353.py#34\" target=\"_blank\"><span style=\"color: #7f7f7f; text-decoration-color: #7f7f7f\">34</span></a>\n",
       "<span style=\"color: #7fbfbf; text-decoration-color: #7fbfbf\">           </span>         <span style=\"color: #008080; text-decoration-color: #008080; font-weight: bold\">45756154.233</span><span style=\"font-weight: bold\">)</span>                                                                  <span style=\"color: #7f7f7f; text-decoration-color: #7f7f7f\">                </span>\n",
       "</pre>\n"
      ],
      "text/plain": [
       "\u001b[2;36m          \u001b[0m\u001b[2;36m \u001b[0m\u001b[34mINFO    \u001b[0m Scaling QCD_Pt_470to600 by \u001b[1;36m19.520000000\u001b[0m \u001b[1m(\u001b[0mlumi = \u001b[1;36m19.52\u001b[0m, xs = nan, sumw =        \u001b]8;id=930961;file:///tmp/ipykernel_18646/2088555353.py\u001b\\\u001b[2m2088555353.py\u001b[0m\u001b]8;;\u001b\\\u001b[2m:\u001b[0m\u001b]8;id=245667;file:///tmp/ipykernel_18646/2088555353.py#34\u001b\\\u001b[2m34\u001b[0m\u001b]8;;\u001b\\\n",
       "\u001b[2;36m           \u001b[0m         \u001b[1;36m45756154.233\u001b[0m\u001b[1m)\u001b[0m                                                                  \u001b[2m                \u001b[0m\n"
      ]
     },
     "metadata": {},
     "output_type": "display_data"
    },
    {
     "name": "stdout",
     "output_type": "stream",
     "text": [
      "QCD_Pt_1000to1400\n"
     ]
    },
    {
     "data": {
      "text/html": [
       "<pre style=\"white-space:pre;overflow-x:auto;line-height:normal;font-family:Menlo,'DejaVu Sans Mono',consolas,'Courier New',monospace\"><span style=\"color: #7fbfbf; text-decoration-color: #7fbfbf\">           </span><span style=\"color: #000080; text-decoration-color: #000080\">INFO    </span> Readign sample: QCD_Pt_1000to1400, from:                                       <a href=\"file:///tmp/ipykernel_18646/2088555353.py\" target=\"_blank\"><span style=\"color: #7f7f7f; text-decoration-color: #7f7f7f\">2088555353.py</span></a><span style=\"color: #7f7f7f; text-decoration-color: #7f7f7f\">:</span><a href=\"file:///tmp/ipykernel_18646/2088555353.py#23\" target=\"_blank\"><span style=\"color: #7f7f7f; text-decoration-color: #7f7f7f\">23</span></a>\n",
       "<span style=\"color: #7fbfbf; text-decoration-color: #7fbfbf\">           </span>         inputs16APV/hists_sum_QCD_Pt_1000to1400.hist                                   <span style=\"color: #7f7f7f; text-decoration-color: #7f7f7f\">                </span>\n",
       "</pre>\n"
      ],
      "text/plain": [
       "\u001b[2;36m          \u001b[0m\u001b[2;36m \u001b[0m\u001b[34mINFO    \u001b[0m Readign sample: QCD_Pt_1000to1400, from:                                       \u001b]8;id=527106;file:///tmp/ipykernel_18646/2088555353.py\u001b\\\u001b[2m2088555353.py\u001b[0m\u001b]8;;\u001b\\\u001b[2m:\u001b[0m\u001b]8;id=115176;file:///tmp/ipykernel_18646/2088555353.py#23\u001b\\\u001b[2m23\u001b[0m\u001b]8;;\u001b\\\n",
       "\u001b[2;36m           \u001b[0m         inputs16APV/hists_sum_QCD_Pt_1000to1400.hist                                   \u001b[2m                \u001b[0m\n"
      ]
     },
     "metadata": {},
     "output_type": "display_data"
    },
    {
     "data": {
      "text/html": [
       "<pre style=\"white-space:pre;overflow-x:auto;line-height:normal;font-family:Menlo,'DejaVu Sans Mono',consolas,'Courier New',monospace\"><span style=\"color: #7fbfbf; text-decoration-color: #7fbfbf\">[15:02:47] </span><span style=\"color: #000080; text-decoration-color: #000080\">INFO    </span> Scaling QCD_Pt_1000to1400 by <span style=\"color: #008080; text-decoration-color: #008080; font-weight: bold\">19.520000000</span> <span style=\"font-weight: bold\">(</span>lumi = <span style=\"color: #008080; text-decoration-color: #008080; font-weight: bold\">19.52</span>, xs = nan, sumw =      <a href=\"file:///tmp/ipykernel_18646/2088555353.py\" target=\"_blank\"><span style=\"color: #7f7f7f; text-decoration-color: #7f7f7f\">2088555353.py</span></a><span style=\"color: #7f7f7f; text-decoration-color: #7f7f7f\">:</span><a href=\"file:///tmp/ipykernel_18646/2088555353.py#34\" target=\"_blank\"><span style=\"color: #7f7f7f; text-decoration-color: #7f7f7f\">34</span></a>\n",
       "<span style=\"color: #7fbfbf; text-decoration-color: #7fbfbf\">           </span>         <span style=\"color: #008080; text-decoration-color: #008080; font-weight: bold\">18380000.000</span><span style=\"font-weight: bold\">)</span>                                                                  <span style=\"color: #7f7f7f; text-decoration-color: #7f7f7f\">                </span>\n",
       "</pre>\n"
      ],
      "text/plain": [
       "\u001b[2;36m[15:02:47]\u001b[0m\u001b[2;36m \u001b[0m\u001b[34mINFO    \u001b[0m Scaling QCD_Pt_1000to1400 by \u001b[1;36m19.520000000\u001b[0m \u001b[1m(\u001b[0mlumi = \u001b[1;36m19.52\u001b[0m, xs = nan, sumw =      \u001b]8;id=542869;file:///tmp/ipykernel_18646/2088555353.py\u001b\\\u001b[2m2088555353.py\u001b[0m\u001b]8;;\u001b\\\u001b[2m:\u001b[0m\u001b]8;id=811560;file:///tmp/ipykernel_18646/2088555353.py#34\u001b\\\u001b[2m34\u001b[0m\u001b]8;;\u001b\\\n",
       "\u001b[2;36m           \u001b[0m         \u001b[1;36m18380000.000\u001b[0m\u001b[1m)\u001b[0m                                                                  \u001b[2m                \u001b[0m\n"
      ]
     },
     "metadata": {},
     "output_type": "display_data"
    },
    {
     "name": "stdout",
     "output_type": "stream",
     "text": [
      "QCD_Pt_2400to3200\n"
     ]
    },
    {
     "data": {
      "text/html": [
       "<pre style=\"white-space:pre;overflow-x:auto;line-height:normal;font-family:Menlo,'DejaVu Sans Mono',consolas,'Courier New',monospace\"><span style=\"color: #7fbfbf; text-decoration-color: #7fbfbf\">           </span><span style=\"color: #000080; text-decoration-color: #000080\">INFO    </span> Readign sample: QCD_Pt_2400to3200, from:                                       <a href=\"file:///tmp/ipykernel_18646/2088555353.py\" target=\"_blank\"><span style=\"color: #7f7f7f; text-decoration-color: #7f7f7f\">2088555353.py</span></a><span style=\"color: #7f7f7f; text-decoration-color: #7f7f7f\">:</span><a href=\"file:///tmp/ipykernel_18646/2088555353.py#23\" target=\"_blank\"><span style=\"color: #7f7f7f; text-decoration-color: #7f7f7f\">23</span></a>\n",
       "<span style=\"color: #7fbfbf; text-decoration-color: #7fbfbf\">           </span>         inputs16APV/hists_sum_QCD_Pt_2400to3200.hist                                   <span style=\"color: #7f7f7f; text-decoration-color: #7f7f7f\">                </span>\n",
       "</pre>\n"
      ],
      "text/plain": [
       "\u001b[2;36m          \u001b[0m\u001b[2;36m \u001b[0m\u001b[34mINFO    \u001b[0m Readign sample: QCD_Pt_2400to3200, from:                                       \u001b]8;id=333764;file:///tmp/ipykernel_18646/2088555353.py\u001b\\\u001b[2m2088555353.py\u001b[0m\u001b]8;;\u001b\\\u001b[2m:\u001b[0m\u001b]8;id=152877;file:///tmp/ipykernel_18646/2088555353.py#23\u001b\\\u001b[2m23\u001b[0m\u001b]8;;\u001b\\\n",
       "\u001b[2;36m           \u001b[0m         inputs16APV/hists_sum_QCD_Pt_2400to3200.hist                                   \u001b[2m                \u001b[0m\n"
      ]
     },
     "metadata": {},
     "output_type": "display_data"
    },
    {
     "data": {
      "text/html": [
       "<pre style=\"white-space:pre;overflow-x:auto;line-height:normal;font-family:Menlo,'DejaVu Sans Mono',consolas,'Courier New',monospace\"><span style=\"color: #7fbfbf; text-decoration-color: #7fbfbf\">           </span><span style=\"color: #000080; text-decoration-color: #000080\">INFO    </span> Scaling QCD_Pt_2400to3200 by <span style=\"color: #008080; text-decoration-color: #008080; font-weight: bold\">19.520000000</span> <span style=\"font-weight: bold\">(</span>lumi = <span style=\"color: #008080; text-decoration-color: #008080; font-weight: bold\">19.52</span>, xs = nan, sumw =      <a href=\"file:///tmp/ipykernel_18646/2088555353.py\" target=\"_blank\"><span style=\"color: #7f7f7f; text-decoration-color: #7f7f7f\">2088555353.py</span></a><span style=\"color: #7f7f7f; text-decoration-color: #7f7f7f\">:</span><a href=\"file:///tmp/ipykernel_18646/2088555353.py#34\" target=\"_blank\"><span style=\"color: #7f7f7f; text-decoration-color: #7f7f7f\">34</span></a>\n",
       "<span style=\"color: #7fbfbf; text-decoration-color: #7fbfbf\">           </span>         <span style=\"color: #008080; text-decoration-color: #008080; font-weight: bold\">381000.000</span><span style=\"font-weight: bold\">)</span>                                                                    <span style=\"color: #7f7f7f; text-decoration-color: #7f7f7f\">                </span>\n",
       "</pre>\n"
      ],
      "text/plain": [
       "\u001b[2;36m          \u001b[0m\u001b[2;36m \u001b[0m\u001b[34mINFO    \u001b[0m Scaling QCD_Pt_2400to3200 by \u001b[1;36m19.520000000\u001b[0m \u001b[1m(\u001b[0mlumi = \u001b[1;36m19.52\u001b[0m, xs = nan, sumw =      \u001b]8;id=922904;file:///tmp/ipykernel_18646/2088555353.py\u001b\\\u001b[2m2088555353.py\u001b[0m\u001b]8;;\u001b\\\u001b[2m:\u001b[0m\u001b]8;id=314244;file:///tmp/ipykernel_18646/2088555353.py#34\u001b\\\u001b[2m34\u001b[0m\u001b]8;;\u001b\\\n",
       "\u001b[2;36m           \u001b[0m         \u001b[1;36m381000.000\u001b[0m\u001b[1m)\u001b[0m                                                                    \u001b[2m                \u001b[0m\n"
      ]
     },
     "metadata": {},
     "output_type": "display_data"
    },
    {
     "name": "stdout",
     "output_type": "stream",
     "text": [
      "QCD_Pt_600to800\n"
     ]
    },
    {
     "data": {
      "text/html": [
       "<pre style=\"white-space:pre;overflow-x:auto;line-height:normal;font-family:Menlo,'DejaVu Sans Mono',consolas,'Courier New',monospace\"><span style=\"color: #7fbfbf; text-decoration-color: #7fbfbf\">           </span><span style=\"color: #000080; text-decoration-color: #000080\">INFO    </span> Readign sample: QCD_Pt_600to800, from:                                         <a href=\"file:///tmp/ipykernel_18646/2088555353.py\" target=\"_blank\"><span style=\"color: #7f7f7f; text-decoration-color: #7f7f7f\">2088555353.py</span></a><span style=\"color: #7f7f7f; text-decoration-color: #7f7f7f\">:</span><a href=\"file:///tmp/ipykernel_18646/2088555353.py#23\" target=\"_blank\"><span style=\"color: #7f7f7f; text-decoration-color: #7f7f7f\">23</span></a>\n",
       "<span style=\"color: #7fbfbf; text-decoration-color: #7fbfbf\">           </span>         inputs16APV/hists_sum_QCD_Pt_600to800.hist                                     <span style=\"color: #7f7f7f; text-decoration-color: #7f7f7f\">                </span>\n",
       "</pre>\n"
      ],
      "text/plain": [
       "\u001b[2;36m          \u001b[0m\u001b[2;36m \u001b[0m\u001b[34mINFO    \u001b[0m Readign sample: QCD_Pt_600to800, from:                                         \u001b]8;id=7389;file:///tmp/ipykernel_18646/2088555353.py\u001b\\\u001b[2m2088555353.py\u001b[0m\u001b]8;;\u001b\\\u001b[2m:\u001b[0m\u001b]8;id=641132;file:///tmp/ipykernel_18646/2088555353.py#23\u001b\\\u001b[2m23\u001b[0m\u001b]8;;\u001b\\\n",
       "\u001b[2;36m           \u001b[0m         inputs16APV/hists_sum_QCD_Pt_600to800.hist                                     \u001b[2m                \u001b[0m\n"
      ]
     },
     "metadata": {},
     "output_type": "display_data"
    },
    {
     "data": {
      "text/html": [
       "<pre style=\"white-space:pre;overflow-x:auto;line-height:normal;font-family:Menlo,'DejaVu Sans Mono',consolas,'Courier New',monospace\"><span style=\"color: #7fbfbf; text-decoration-color: #7fbfbf\">           </span><span style=\"color: #000080; text-decoration-color: #000080\">INFO    </span> Scaling QCD_Pt_600to800 by <span style=\"color: #008080; text-decoration-color: #008080; font-weight: bold\">19.520000000</span> <span style=\"font-weight: bold\">(</span>lumi = <span style=\"color: #008080; text-decoration-color: #008080; font-weight: bold\">19.52</span>, xs = nan, sumw =        <a href=\"file:///tmp/ipykernel_18646/2088555353.py\" target=\"_blank\"><span style=\"color: #7f7f7f; text-decoration-color: #7f7f7f\">2088555353.py</span></a><span style=\"color: #7f7f7f; text-decoration-color: #7f7f7f\">:</span><a href=\"file:///tmp/ipykernel_18646/2088555353.py#34\" target=\"_blank\"><span style=\"color: #7f7f7f; text-decoration-color: #7f7f7f\">34</span></a>\n",
       "<span style=\"color: #7fbfbf; text-decoration-color: #7fbfbf\">           </span>         <span style=\"color: #008080; text-decoration-color: #008080; font-weight: bold\">55199001.258</span><span style=\"font-weight: bold\">)</span>                                                                  <span style=\"color: #7f7f7f; text-decoration-color: #7f7f7f\">                </span>\n",
       "</pre>\n"
      ],
      "text/plain": [
       "\u001b[2;36m          \u001b[0m\u001b[2;36m \u001b[0m\u001b[34mINFO    \u001b[0m Scaling QCD_Pt_600to800 by \u001b[1;36m19.520000000\u001b[0m \u001b[1m(\u001b[0mlumi = \u001b[1;36m19.52\u001b[0m, xs = nan, sumw =        \u001b]8;id=879197;file:///tmp/ipykernel_18646/2088555353.py\u001b\\\u001b[2m2088555353.py\u001b[0m\u001b]8;;\u001b\\\u001b[2m:\u001b[0m\u001b]8;id=716638;file:///tmp/ipykernel_18646/2088555353.py#34\u001b\\\u001b[2m34\u001b[0m\u001b]8;;\u001b\\\n",
       "\u001b[2;36m           \u001b[0m         \u001b[1;36m55199001.258\u001b[0m\u001b[1m)\u001b[0m                                                                  \u001b[2m                \u001b[0m\n"
      ]
     },
     "metadata": {},
     "output_type": "display_data"
    },
    {
     "name": "stdout",
     "output_type": "stream",
     "text": [
      "QCD_Pt_800to1000\n"
     ]
    },
    {
     "data": {
      "text/html": [
       "<pre style=\"white-space:pre;overflow-x:auto;line-height:normal;font-family:Menlo,'DejaVu Sans Mono',consolas,'Courier New',monospace\"><span style=\"color: #7fbfbf; text-decoration-color: #7fbfbf\">           </span><span style=\"color: #000080; text-decoration-color: #000080\">INFO    </span> Readign sample: QCD_Pt_800to1000, from:                                        <a href=\"file:///tmp/ipykernel_18646/2088555353.py\" target=\"_blank\"><span style=\"color: #7f7f7f; text-decoration-color: #7f7f7f\">2088555353.py</span></a><span style=\"color: #7f7f7f; text-decoration-color: #7f7f7f\">:</span><a href=\"file:///tmp/ipykernel_18646/2088555353.py#23\" target=\"_blank\"><span style=\"color: #7f7f7f; text-decoration-color: #7f7f7f\">23</span></a>\n",
       "<span style=\"color: #7fbfbf; text-decoration-color: #7fbfbf\">           </span>         inputs16APV/hists_sum_QCD_Pt_800to1000.hist                                    <span style=\"color: #7f7f7f; text-decoration-color: #7f7f7f\">                </span>\n",
       "</pre>\n"
      ],
      "text/plain": [
       "\u001b[2;36m          \u001b[0m\u001b[2;36m \u001b[0m\u001b[34mINFO    \u001b[0m Readign sample: QCD_Pt_800to1000, from:                                        \u001b]8;id=780059;file:///tmp/ipykernel_18646/2088555353.py\u001b\\\u001b[2m2088555353.py\u001b[0m\u001b]8;;\u001b\\\u001b[2m:\u001b[0m\u001b]8;id=949355;file:///tmp/ipykernel_18646/2088555353.py#23\u001b\\\u001b[2m23\u001b[0m\u001b]8;;\u001b\\\n",
       "\u001b[2;36m           \u001b[0m         inputs16APV/hists_sum_QCD_Pt_800to1000.hist                                    \u001b[2m                \u001b[0m\n"
      ]
     },
     "metadata": {},
     "output_type": "display_data"
    },
    {
     "data": {
      "text/html": [
       "<pre style=\"white-space:pre;overflow-x:auto;line-height:normal;font-family:Menlo,'DejaVu Sans Mono',consolas,'Courier New',monospace\"><span style=\"color: #7fbfbf; text-decoration-color: #7fbfbf\">           </span><span style=\"color: #000080; text-decoration-color: #000080\">INFO    </span> Scaling QCD_Pt_800to1000 by <span style=\"color: #008080; text-decoration-color: #008080; font-weight: bold\">19.520000000</span> <span style=\"font-weight: bold\">(</span>lumi = <span style=\"color: #008080; text-decoration-color: #008080; font-weight: bold\">19.52</span>, xs = nan, sumw =       <a href=\"file:///tmp/ipykernel_18646/2088555353.py\" target=\"_blank\"><span style=\"color: #7f7f7f; text-decoration-color: #7f7f7f\">2088555353.py</span></a><span style=\"color: #7f7f7f; text-decoration-color: #7f7f7f\">:</span><a href=\"file:///tmp/ipykernel_18646/2088555353.py#34\" target=\"_blank\"><span style=\"color: #7f7f7f; text-decoration-color: #7f7f7f\">34</span></a>\n",
       "<span style=\"color: #7fbfbf; text-decoration-color: #7fbfbf\">           </span>         <span style=\"color: #008080; text-decoration-color: #008080; font-weight: bold\">35010000.000</span><span style=\"font-weight: bold\">)</span>                                                                  <span style=\"color: #7f7f7f; text-decoration-color: #7f7f7f\">                </span>\n",
       "</pre>\n"
      ],
      "text/plain": [
       "\u001b[2;36m          \u001b[0m\u001b[2;36m \u001b[0m\u001b[34mINFO    \u001b[0m Scaling QCD_Pt_800to1000 by \u001b[1;36m19.520000000\u001b[0m \u001b[1m(\u001b[0mlumi = \u001b[1;36m19.52\u001b[0m, xs = nan, sumw =       \u001b]8;id=610020;file:///tmp/ipykernel_18646/2088555353.py\u001b\\\u001b[2m2088555353.py\u001b[0m\u001b]8;;\u001b\\\u001b[2m:\u001b[0m\u001b]8;id=577236;file:///tmp/ipykernel_18646/2088555353.py#34\u001b\\\u001b[2m34\u001b[0m\u001b]8;;\u001b\\\n",
       "\u001b[2;36m           \u001b[0m         \u001b[1;36m35010000.000\u001b[0m\u001b[1m)\u001b[0m                                                                  \u001b[2m                \u001b[0m\n"
      ]
     },
     "metadata": {},
     "output_type": "display_data"
    },
    {
     "name": "stdout",
     "output_type": "stream",
     "text": [
      "QCD_Pt_1800to2400\n"
     ]
    },
    {
     "data": {
      "text/html": [
       "<pre style=\"white-space:pre;overflow-x:auto;line-height:normal;font-family:Menlo,'DejaVu Sans Mono',consolas,'Courier New',monospace\"><span style=\"color: #7fbfbf; text-decoration-color: #7fbfbf\">           </span><span style=\"color: #000080; text-decoration-color: #000080\">INFO    </span> Readign sample: QCD_Pt_1800to2400, from:                                       <a href=\"file:///tmp/ipykernel_18646/2088555353.py\" target=\"_blank\"><span style=\"color: #7f7f7f; text-decoration-color: #7f7f7f\">2088555353.py</span></a><span style=\"color: #7f7f7f; text-decoration-color: #7f7f7f\">:</span><a href=\"file:///tmp/ipykernel_18646/2088555353.py#23\" target=\"_blank\"><span style=\"color: #7f7f7f; text-decoration-color: #7f7f7f\">23</span></a>\n",
       "<span style=\"color: #7fbfbf; text-decoration-color: #7fbfbf\">           </span>         inputs16APV/hists_sum_QCD_Pt_1800to2400.hist                                   <span style=\"color: #7f7f7f; text-decoration-color: #7f7f7f\">                </span>\n",
       "</pre>\n"
      ],
      "text/plain": [
       "\u001b[2;36m          \u001b[0m\u001b[2;36m \u001b[0m\u001b[34mINFO    \u001b[0m Readign sample: QCD_Pt_1800to2400, from:                                       \u001b]8;id=609766;file:///tmp/ipykernel_18646/2088555353.py\u001b\\\u001b[2m2088555353.py\u001b[0m\u001b]8;;\u001b\\\u001b[2m:\u001b[0m\u001b]8;id=855459;file:///tmp/ipykernel_18646/2088555353.py#23\u001b\\\u001b[2m23\u001b[0m\u001b]8;;\u001b\\\n",
       "\u001b[2;36m           \u001b[0m         inputs16APV/hists_sum_QCD_Pt_1800to2400.hist                                   \u001b[2m                \u001b[0m\n"
      ]
     },
     "metadata": {},
     "output_type": "display_data"
    },
    {
     "data": {
      "text/html": [
       "<pre style=\"white-space:pre;overflow-x:auto;line-height:normal;font-family:Menlo,'DejaVu Sans Mono',consolas,'Courier New',monospace\"><span style=\"color: #7fbfbf; text-decoration-color: #7fbfbf\">           </span><span style=\"color: #000080; text-decoration-color: #000080\">INFO    </span> Scaling QCD_Pt_1800to2400 by <span style=\"color: #008080; text-decoration-color: #008080; font-weight: bold\">19.520000000</span> <span style=\"font-weight: bold\">(</span>lumi = <span style=\"color: #008080; text-decoration-color: #008080; font-weight: bold\">19.52</span>, xs = nan, sumw =      <a href=\"file:///tmp/ipykernel_18646/2088555353.py\" target=\"_blank\"><span style=\"color: #7f7f7f; text-decoration-color: #7f7f7f\">2088555353.py</span></a><span style=\"color: #7f7f7f; text-decoration-color: #7f7f7f\">:</span><a href=\"file:///tmp/ipykernel_18646/2088555353.py#34\" target=\"_blank\"><span style=\"color: #7f7f7f; text-decoration-color: #7f7f7f\">34</span></a>\n",
       "<span style=\"color: #7fbfbf; text-decoration-color: #7fbfbf\">           </span>         <span style=\"color: #008080; text-decoration-color: #008080; font-weight: bold\">2880000.000</span><span style=\"font-weight: bold\">)</span>                                                                   <span style=\"color: #7f7f7f; text-decoration-color: #7f7f7f\">                </span>\n",
       "</pre>\n"
      ],
      "text/plain": [
       "\u001b[2;36m          \u001b[0m\u001b[2;36m \u001b[0m\u001b[34mINFO    \u001b[0m Scaling QCD_Pt_1800to2400 by \u001b[1;36m19.520000000\u001b[0m \u001b[1m(\u001b[0mlumi = \u001b[1;36m19.52\u001b[0m, xs = nan, sumw =      \u001b]8;id=917213;file:///tmp/ipykernel_18646/2088555353.py\u001b\\\u001b[2m2088555353.py\u001b[0m\u001b]8;;\u001b\\\u001b[2m:\u001b[0m\u001b]8;id=952696;file:///tmp/ipykernel_18646/2088555353.py#34\u001b\\\u001b[2m34\u001b[0m\u001b]8;;\u001b\\\n",
       "\u001b[2;36m           \u001b[0m         \u001b[1;36m2880000.000\u001b[0m\u001b[1m)\u001b[0m                                                                   \u001b[2m                \u001b[0m\n"
      ]
     },
     "metadata": {},
     "output_type": "display_data"
    },
    {
     "name": "stdout",
     "output_type": "stream",
     "text": [
      "TTTo2L2Nu_TuneCP5_13TeV-powheg-pythia8\n"
     ]
    },
    {
     "data": {
      "text/html": [
       "<pre style=\"white-space:pre;overflow-x:auto;line-height:normal;font-family:Menlo,'DejaVu Sans Mono',consolas,'Courier New',monospace\"><span style=\"color: #7fbfbf; text-decoration-color: #7fbfbf\">           </span><span style=\"color: #000080; text-decoration-color: #000080\">INFO    </span> Readign sample: TTTo2L2Nu_TuneCP5_13TeV-powheg-pythia8, from:                  <a href=\"file:///tmp/ipykernel_18646/2088555353.py\" target=\"_blank\"><span style=\"color: #7f7f7f; text-decoration-color: #7f7f7f\">2088555353.py</span></a><span style=\"color: #7f7f7f; text-decoration-color: #7f7f7f\">:</span><a href=\"file:///tmp/ipykernel_18646/2088555353.py#23\" target=\"_blank\"><span style=\"color: #7f7f7f; text-decoration-color: #7f7f7f\">23</span></a>\n",
       "<span style=\"color: #7fbfbf; text-decoration-color: #7fbfbf\">           </span>         inputs16APV/hists_sum_TTTo2L2Nu_TuneCP5_13TeV-powheg-pythia8.hist              <span style=\"color: #7f7f7f; text-decoration-color: #7f7f7f\">                </span>\n",
       "</pre>\n"
      ],
      "text/plain": [
       "\u001b[2;36m          \u001b[0m\u001b[2;36m \u001b[0m\u001b[34mINFO    \u001b[0m Readign sample: TTTo2L2Nu_TuneCP5_13TeV-powheg-pythia8, from:                  \u001b]8;id=30175;file:///tmp/ipykernel_18646/2088555353.py\u001b\\\u001b[2m2088555353.py\u001b[0m\u001b]8;;\u001b\\\u001b[2m:\u001b[0m\u001b]8;id=54954;file:///tmp/ipykernel_18646/2088555353.py#23\u001b\\\u001b[2m23\u001b[0m\u001b]8;;\u001b\\\n",
       "\u001b[2;36m           \u001b[0m         inputs16APV/hists_sum_TTTo2L2Nu_TuneCP5_13TeV-powheg-pythia8.hist              \u001b[2m                \u001b[0m\n"
      ]
     },
     "metadata": {},
     "output_type": "display_data"
    },
    {
     "name": "stdout",
     "output_type": "stream",
     "text": [
      "TTTo2L2Nu\n"
     ]
    },
    {
     "data": {
      "text/html": [
       "<pre style=\"white-space:pre;overflow-x:auto;line-height:normal;font-family:Menlo,'DejaVu Sans Mono',consolas,'Courier New',monospace\"><span style=\"color: #7fbfbf; text-decoration-color: #7fbfbf\">           </span><span style=\"color: #000080; text-decoration-color: #000080\">INFO    </span> Readign sample: TTTo2L2Nu, from: inputs16APV/hists_sum_TTTo2L2Nu.hist          <a href=\"file:///tmp/ipykernel_18646/2088555353.py\" target=\"_blank\"><span style=\"color: #7f7f7f; text-decoration-color: #7f7f7f\">2088555353.py</span></a><span style=\"color: #7f7f7f; text-decoration-color: #7f7f7f\">:</span><a href=\"file:///tmp/ipykernel_18646/2088555353.py#23\" target=\"_blank\"><span style=\"color: #7f7f7f; text-decoration-color: #7f7f7f\">23</span></a>\n",
       "</pre>\n"
      ],
      "text/plain": [
       "\u001b[2;36m          \u001b[0m\u001b[2;36m \u001b[0m\u001b[34mINFO    \u001b[0m Readign sample: TTTo2L2Nu, from: inputs16APV/hists_sum_TTTo2L2Nu.hist          \u001b]8;id=420899;file:///tmp/ipykernel_18646/2088555353.py\u001b\\\u001b[2m2088555353.py\u001b[0m\u001b]8;;\u001b\\\u001b[2m:\u001b[0m\u001b]8;id=599513;file:///tmp/ipykernel_18646/2088555353.py#23\u001b\\\u001b[2m23\u001b[0m\u001b]8;;\u001b\\\n"
      ]
     },
     "metadata": {},
     "output_type": "display_data"
    },
    {
     "data": {
      "text/html": [
       "<pre style=\"white-space:pre;overflow-x:auto;line-height:normal;font-family:Menlo,'DejaVu Sans Mono',consolas,'Courier New',monospace\"><span style=\"color: #7fbfbf; text-decoration-color: #7fbfbf\">           </span><span style=\"color: #000080; text-decoration-color: #000080\">INFO    </span> Scaling TTTo2L2Nu by <span style=\"color: #008080; text-decoration-color: #008080; font-weight: bold\">19.520000000</span> <span style=\"font-weight: bold\">(</span>lumi = <span style=\"color: #008080; text-decoration-color: #008080; font-weight: bold\">19.52</span>, xs = nan, sumw =              <a href=\"file:///tmp/ipykernel_18646/2088555353.py\" target=\"_blank\"><span style=\"color: #7f7f7f; text-decoration-color: #7f7f7f\">2088555353.py</span></a><span style=\"color: #7f7f7f; text-decoration-color: #7f7f7f\">:</span><a href=\"file:///tmp/ipykernel_18646/2088555353.py#34\" target=\"_blank\"><span style=\"color: #7f7f7f; text-decoration-color: #7f7f7f\">34</span></a>\n",
       "<span style=\"color: #7fbfbf; text-decoration-color: #7fbfbf\">           </span>         <span style=\"color: #008080; text-decoration-color: #008080; font-weight: bold\">2617898323.375</span><span style=\"font-weight: bold\">)</span>                                                                <span style=\"color: #7f7f7f; text-decoration-color: #7f7f7f\">                </span>\n",
       "</pre>\n"
      ],
      "text/plain": [
       "\u001b[2;36m          \u001b[0m\u001b[2;36m \u001b[0m\u001b[34mINFO    \u001b[0m Scaling TTTo2L2Nu by \u001b[1;36m19.520000000\u001b[0m \u001b[1m(\u001b[0mlumi = \u001b[1;36m19.52\u001b[0m, xs = nan, sumw =              \u001b]8;id=210003;file:///tmp/ipykernel_18646/2088555353.py\u001b\\\u001b[2m2088555353.py\u001b[0m\u001b]8;;\u001b\\\u001b[2m:\u001b[0m\u001b]8;id=443755;file:///tmp/ipykernel_18646/2088555353.py#34\u001b\\\u001b[2m34\u001b[0m\u001b]8;;\u001b\\\n",
       "\u001b[2;36m           \u001b[0m         \u001b[1;36m2617898323.375\u001b[0m\u001b[1m)\u001b[0m                                                                \u001b[2m                \u001b[0m\n"
      ]
     },
     "metadata": {},
     "output_type": "display_data"
    },
    {
     "name": "stdout",
     "output_type": "stream",
     "text": [
      "TTToSemiLeptonic_TuneCP5_13TeV-powheg-pythia8\n"
     ]
    },
    {
     "data": {
      "text/html": [
       "<pre style=\"white-space:pre;overflow-x:auto;line-height:normal;font-family:Menlo,'DejaVu Sans Mono',consolas,'Courier New',monospace\"><span style=\"color: #7fbfbf; text-decoration-color: #7fbfbf\">           </span><span style=\"color: #000080; text-decoration-color: #000080\">INFO    </span> Readign sample: TTToSemiLeptonic_TuneCP5_13TeV-powheg-pythia8, from:           <a href=\"file:///tmp/ipykernel_18646/2088555353.py\" target=\"_blank\"><span style=\"color: #7f7f7f; text-decoration-color: #7f7f7f\">2088555353.py</span></a><span style=\"color: #7f7f7f; text-decoration-color: #7f7f7f\">:</span><a href=\"file:///tmp/ipykernel_18646/2088555353.py#23\" target=\"_blank\"><span style=\"color: #7f7f7f; text-decoration-color: #7f7f7f\">23</span></a>\n",
       "<span style=\"color: #7fbfbf; text-decoration-color: #7fbfbf\">           </span>         inputs16APV/hists_sum_TTToSemiLeptonic_TuneCP5_13TeV-powheg-pythia8.hist       <span style=\"color: #7f7f7f; text-decoration-color: #7f7f7f\">                </span>\n",
       "</pre>\n"
      ],
      "text/plain": [
       "\u001b[2;36m          \u001b[0m\u001b[2;36m \u001b[0m\u001b[34mINFO    \u001b[0m Readign sample: TTToSemiLeptonic_TuneCP5_13TeV-powheg-pythia8, from:           \u001b]8;id=478801;file:///tmp/ipykernel_18646/2088555353.py\u001b\\\u001b[2m2088555353.py\u001b[0m\u001b]8;;\u001b\\\u001b[2m:\u001b[0m\u001b]8;id=988697;file:///tmp/ipykernel_18646/2088555353.py#23\u001b\\\u001b[2m23\u001b[0m\u001b]8;;\u001b\\\n",
       "\u001b[2;36m           \u001b[0m         inputs16APV/hists_sum_TTToSemiLeptonic_TuneCP5_13TeV-powheg-pythia8.hist       \u001b[2m                \u001b[0m\n"
      ]
     },
     "metadata": {},
     "output_type": "display_data"
    },
    {
     "name": "stdout",
     "output_type": "stream",
     "text": [
      "TTToSemiLeptonic\n"
     ]
    },
    {
     "data": {
      "text/html": [
       "<pre style=\"white-space:pre;overflow-x:auto;line-height:normal;font-family:Menlo,'DejaVu Sans Mono',consolas,'Courier New',monospace\"><span style=\"color: #7fbfbf; text-decoration-color: #7fbfbf\">           </span><span style=\"color: #000080; text-decoration-color: #000080\">INFO    </span> Readign sample: TTToSemiLeptonic, from:                                        <a href=\"file:///tmp/ipykernel_18646/2088555353.py\" target=\"_blank\"><span style=\"color: #7f7f7f; text-decoration-color: #7f7f7f\">2088555353.py</span></a><span style=\"color: #7f7f7f; text-decoration-color: #7f7f7f\">:</span><a href=\"file:///tmp/ipykernel_18646/2088555353.py#23\" target=\"_blank\"><span style=\"color: #7f7f7f; text-decoration-color: #7f7f7f\">23</span></a>\n",
       "<span style=\"color: #7fbfbf; text-decoration-color: #7fbfbf\">           </span>         inputs16APV/hists_sum_TTToSemiLeptonic.hist                                    <span style=\"color: #7f7f7f; text-decoration-color: #7f7f7f\">                </span>\n",
       "</pre>\n"
      ],
      "text/plain": [
       "\u001b[2;36m          \u001b[0m\u001b[2;36m \u001b[0m\u001b[34mINFO    \u001b[0m Readign sample: TTToSemiLeptonic, from:                                        \u001b]8;id=899897;file:///tmp/ipykernel_18646/2088555353.py\u001b\\\u001b[2m2088555353.py\u001b[0m\u001b]8;;\u001b\\\u001b[2m:\u001b[0m\u001b]8;id=971670;file:///tmp/ipykernel_18646/2088555353.py#23\u001b\\\u001b[2m23\u001b[0m\u001b]8;;\u001b\\\n",
       "\u001b[2;36m           \u001b[0m         inputs16APV/hists_sum_TTToSemiLeptonic.hist                                    \u001b[2m                \u001b[0m\n"
      ]
     },
     "metadata": {},
     "output_type": "display_data"
    },
    {
     "data": {
      "text/html": [
       "<pre style=\"white-space:pre;overflow-x:auto;line-height:normal;font-family:Menlo,'DejaVu Sans Mono',consolas,'Courier New',monospace\"><span style=\"color: #7fbfbf; text-decoration-color: #7fbfbf\">           </span><span style=\"color: #000080; text-decoration-color: #000080\">INFO    </span> Scaling TTToSemiLeptonic by <span style=\"color: #008080; text-decoration-color: #008080; font-weight: bold\">19.520000000</span> <span style=\"font-weight: bold\">(</span>lumi = <span style=\"color: #008080; text-decoration-color: #008080; font-weight: bold\">19.52</span>, xs = nan, sumw =       <a href=\"file:///tmp/ipykernel_18646/2088555353.py\" target=\"_blank\"><span style=\"color: #7f7f7f; text-decoration-color: #7f7f7f\">2088555353.py</span></a><span style=\"color: #7f7f7f; text-decoration-color: #7f7f7f\">:</span><a href=\"file:///tmp/ipykernel_18646/2088555353.py#34\" target=\"_blank\"><span style=\"color: #7f7f7f; text-decoration-color: #7f7f7f\">34</span></a>\n",
       "<span style=\"color: #7fbfbf; text-decoration-color: #7fbfbf\">           </span>         <span style=\"color: #008080; text-decoration-color: #008080; font-weight: bold\">4402666338.422</span><span style=\"font-weight: bold\">)</span>                                                                <span style=\"color: #7f7f7f; text-decoration-color: #7f7f7f\">                </span>\n",
       "</pre>\n"
      ],
      "text/plain": [
       "\u001b[2;36m          \u001b[0m\u001b[2;36m \u001b[0m\u001b[34mINFO    \u001b[0m Scaling TTToSemiLeptonic by \u001b[1;36m19.520000000\u001b[0m \u001b[1m(\u001b[0mlumi = \u001b[1;36m19.52\u001b[0m, xs = nan, sumw =       \u001b]8;id=749023;file:///tmp/ipykernel_18646/2088555353.py\u001b\\\u001b[2m2088555353.py\u001b[0m\u001b]8;;\u001b\\\u001b[2m:\u001b[0m\u001b]8;id=955879;file:///tmp/ipykernel_18646/2088555353.py#34\u001b\\\u001b[2m34\u001b[0m\u001b]8;;\u001b\\\n",
       "\u001b[2;36m           \u001b[0m         \u001b[1;36m4402666338.422\u001b[0m\u001b[1m)\u001b[0m                                                                \u001b[2m                \u001b[0m\n"
      ]
     },
     "metadata": {},
     "output_type": "display_data"
    },
    {
     "name": "stdout",
     "output_type": "stream",
     "text": [
      "TTToHadronic_TuneCP5_13TeV-powheg-pythia8\n"
     ]
    },
    {
     "data": {
      "text/html": [
       "<pre style=\"white-space:pre;overflow-x:auto;line-height:normal;font-family:Menlo,'DejaVu Sans Mono',consolas,'Courier New',monospace\"><span style=\"color: #7fbfbf; text-decoration-color: #7fbfbf\">           </span><span style=\"color: #000080; text-decoration-color: #000080\">INFO    </span> Readign sample: TTToHadronic_TuneCP5_13TeV-powheg-pythia8, from:               <a href=\"file:///tmp/ipykernel_18646/2088555353.py\" target=\"_blank\"><span style=\"color: #7f7f7f; text-decoration-color: #7f7f7f\">2088555353.py</span></a><span style=\"color: #7f7f7f; text-decoration-color: #7f7f7f\">:</span><a href=\"file:///tmp/ipykernel_18646/2088555353.py#23\" target=\"_blank\"><span style=\"color: #7f7f7f; text-decoration-color: #7f7f7f\">23</span></a>\n",
       "<span style=\"color: #7fbfbf; text-decoration-color: #7fbfbf\">           </span>         inputs16APV/hists_sum_TTToHadronic_TuneCP5_13TeV-powheg-pythia8.hist           <span style=\"color: #7f7f7f; text-decoration-color: #7f7f7f\">                </span>\n",
       "</pre>\n"
      ],
      "text/plain": [
       "\u001b[2;36m          \u001b[0m\u001b[2;36m \u001b[0m\u001b[34mINFO    \u001b[0m Readign sample: TTToHadronic_TuneCP5_13TeV-powheg-pythia8, from:               \u001b]8;id=336722;file:///tmp/ipykernel_18646/2088555353.py\u001b\\\u001b[2m2088555353.py\u001b[0m\u001b]8;;\u001b\\\u001b[2m:\u001b[0m\u001b]8;id=942179;file:///tmp/ipykernel_18646/2088555353.py#23\u001b\\\u001b[2m23\u001b[0m\u001b]8;;\u001b\\\n",
       "\u001b[2;36m           \u001b[0m         inputs16APV/hists_sum_TTToHadronic_TuneCP5_13TeV-powheg-pythia8.hist           \u001b[2m                \u001b[0m\n"
      ]
     },
     "metadata": {},
     "output_type": "display_data"
    },
    {
     "name": "stdout",
     "output_type": "stream",
     "text": [
      "TTToHadronic\n"
     ]
    },
    {
     "data": {
      "text/html": [
       "<pre style=\"white-space:pre;overflow-x:auto;line-height:normal;font-family:Menlo,'DejaVu Sans Mono',consolas,'Courier New',monospace\"><span style=\"color: #7fbfbf; text-decoration-color: #7fbfbf\">           </span><span style=\"color: #000080; text-decoration-color: #000080\">INFO    </span> Readign sample: TTToHadronic, from: inputs16APV/hists_sum_TTToHadronic.hist    <a href=\"file:///tmp/ipykernel_18646/2088555353.py\" target=\"_blank\"><span style=\"color: #7f7f7f; text-decoration-color: #7f7f7f\">2088555353.py</span></a><span style=\"color: #7f7f7f; text-decoration-color: #7f7f7f\">:</span><a href=\"file:///tmp/ipykernel_18646/2088555353.py#23\" target=\"_blank\"><span style=\"color: #7f7f7f; text-decoration-color: #7f7f7f\">23</span></a>\n",
       "</pre>\n"
      ],
      "text/plain": [
       "\u001b[2;36m          \u001b[0m\u001b[2;36m \u001b[0m\u001b[34mINFO    \u001b[0m Readign sample: TTToHadronic, from: inputs16APV/hists_sum_TTToHadronic.hist    \u001b]8;id=595121;file:///tmp/ipykernel_18646/2088555353.py\u001b\\\u001b[2m2088555353.py\u001b[0m\u001b]8;;\u001b\\\u001b[2m:\u001b[0m\u001b]8;id=5292;file:///tmp/ipykernel_18646/2088555353.py#23\u001b\\\u001b[2m23\u001b[0m\u001b]8;;\u001b\\\n"
      ]
     },
     "metadata": {},
     "output_type": "display_data"
    },
    {
     "data": {
      "text/html": [
       "<pre style=\"white-space:pre;overflow-x:auto;line-height:normal;font-family:Menlo,'DejaVu Sans Mono',consolas,'Courier New',monospace\"><span style=\"color: #7fbfbf; text-decoration-color: #7fbfbf\">           </span><span style=\"color: #000080; text-decoration-color: #000080\">INFO    </span> Scaling TTToHadronic by <span style=\"color: #008080; text-decoration-color: #008080; font-weight: bold\">19.520000000</span> <span style=\"font-weight: bold\">(</span>lumi = <span style=\"color: #008080; text-decoration-color: #008080; font-weight: bold\">19.52</span>, xs = nan, sumw =           <a href=\"file:///tmp/ipykernel_18646/2088555353.py\" target=\"_blank\"><span style=\"color: #7f7f7f; text-decoration-color: #7f7f7f\">2088555353.py</span></a><span style=\"color: #7f7f7f; text-decoration-color: #7f7f7f\">:</span><a href=\"file:///tmp/ipykernel_18646/2088555353.py#34\" target=\"_blank\"><span style=\"color: #7f7f7f; text-decoration-color: #7f7f7f\">34</span></a>\n",
       "<span style=\"color: #7fbfbf; text-decoration-color: #7fbfbf\">           </span>         <span style=\"color: #008080; text-decoration-color: #008080; font-weight: bold\">31956303863.875</span><span style=\"font-weight: bold\">)</span>                                                               <span style=\"color: #7f7f7f; text-decoration-color: #7f7f7f\">                </span>\n",
       "</pre>\n"
      ],
      "text/plain": [
       "\u001b[2;36m          \u001b[0m\u001b[2;36m \u001b[0m\u001b[34mINFO    \u001b[0m Scaling TTToHadronic by \u001b[1;36m19.520000000\u001b[0m \u001b[1m(\u001b[0mlumi = \u001b[1;36m19.52\u001b[0m, xs = nan, sumw =           \u001b]8;id=96891;file:///tmp/ipykernel_18646/2088555353.py\u001b\\\u001b[2m2088555353.py\u001b[0m\u001b]8;;\u001b\\\u001b[2m:\u001b[0m\u001b]8;id=603065;file:///tmp/ipykernel_18646/2088555353.py#34\u001b\\\u001b[2m34\u001b[0m\u001b]8;;\u001b\\\n",
       "\u001b[2;36m           \u001b[0m         \u001b[1;36m31956303863.875\u001b[0m\u001b[1m)\u001b[0m                                                               \u001b[2m                \u001b[0m\n"
      ]
     },
     "metadata": {},
     "output_type": "display_data"
    },
    {
     "name": "stdout",
     "output_type": "stream",
     "text": [
      "ST_s-channel_4f_hadronicDecays_TuneCP5_13TeV-amcatnlo-pythia8\n"
     ]
    },
    {
     "data": {
      "text/html": [
       "<pre style=\"white-space:pre;overflow-x:auto;line-height:normal;font-family:Menlo,'DejaVu Sans Mono',consolas,'Courier New',monospace\"><span style=\"color: #7fbfbf; text-decoration-color: #7fbfbf\">           </span><span style=\"color: #000080; text-decoration-color: #000080\">INFO    </span> Readign sample: ST_s-channel_4f_hadronicDecays_TuneCP5_13TeV-amcatnlo-pythia8, <a href=\"file:///tmp/ipykernel_18646/2088555353.py\" target=\"_blank\"><span style=\"color: #7f7f7f; text-decoration-color: #7f7f7f\">2088555353.py</span></a><span style=\"color: #7f7f7f; text-decoration-color: #7f7f7f\">:</span><a href=\"file:///tmp/ipykernel_18646/2088555353.py#23\" target=\"_blank\"><span style=\"color: #7f7f7f; text-decoration-color: #7f7f7f\">23</span></a>\n",
       "<span style=\"color: #7fbfbf; text-decoration-color: #7fbfbf\">           </span>         from:                                                                          <span style=\"color: #7f7f7f; text-decoration-color: #7f7f7f\">                </span>\n",
       "<span style=\"color: #7fbfbf; text-decoration-color: #7fbfbf\">           </span>         inputs16APV/hists_sum_ST_s-channel_4f_hadronicDecays_TuneCP5_13TeV-amcatnlo-py <span style=\"color: #7f7f7f; text-decoration-color: #7f7f7f\">                </span>\n",
       "<span style=\"color: #7fbfbf; text-decoration-color: #7fbfbf\">           </span>         thia8.hist                                                                     <span style=\"color: #7f7f7f; text-decoration-color: #7f7f7f\">                </span>\n",
       "</pre>\n"
      ],
      "text/plain": [
       "\u001b[2;36m          \u001b[0m\u001b[2;36m \u001b[0m\u001b[34mINFO    \u001b[0m Readign sample: ST_s-channel_4f_hadronicDecays_TuneCP5_13TeV-amcatnlo-pythia8, \u001b]8;id=215736;file:///tmp/ipykernel_18646/2088555353.py\u001b\\\u001b[2m2088555353.py\u001b[0m\u001b]8;;\u001b\\\u001b[2m:\u001b[0m\u001b]8;id=150449;file:///tmp/ipykernel_18646/2088555353.py#23\u001b\\\u001b[2m23\u001b[0m\u001b]8;;\u001b\\\n",
       "\u001b[2;36m           \u001b[0m         from:                                                                          \u001b[2m                \u001b[0m\n",
       "\u001b[2;36m           \u001b[0m         inputs16APV/hists_sum_ST_s-channel_4f_hadronicDecays_TuneCP5_13TeV-amcatnlo-py \u001b[2m                \u001b[0m\n",
       "\u001b[2;36m           \u001b[0m         thia8.hist                                                                     \u001b[2m                \u001b[0m\n"
      ]
     },
     "metadata": {},
     "output_type": "display_data"
    },
    {
     "name": "stdout",
     "output_type": "stream",
     "text": [
      "ST_s-channel_4f_leptonDecays_TuneCP5_13TeV-amcatnlo-pythia8\n"
     ]
    },
    {
     "data": {
      "text/html": [
       "<pre style=\"white-space:pre;overflow-x:auto;line-height:normal;font-family:Menlo,'DejaVu Sans Mono',consolas,'Courier New',monospace\"><span style=\"color: #7fbfbf; text-decoration-color: #7fbfbf\">           </span><span style=\"color: #000080; text-decoration-color: #000080\">INFO    </span> Readign sample: ST_s-channel_4f_leptonDecays_TuneCP5_13TeV-amcatnlo-pythia8,   <a href=\"file:///tmp/ipykernel_18646/2088555353.py\" target=\"_blank\"><span style=\"color: #7f7f7f; text-decoration-color: #7f7f7f\">2088555353.py</span></a><span style=\"color: #7f7f7f; text-decoration-color: #7f7f7f\">:</span><a href=\"file:///tmp/ipykernel_18646/2088555353.py#23\" target=\"_blank\"><span style=\"color: #7f7f7f; text-decoration-color: #7f7f7f\">23</span></a>\n",
       "<span style=\"color: #7fbfbf; text-decoration-color: #7fbfbf\">           </span>         from:                                                                          <span style=\"color: #7f7f7f; text-decoration-color: #7f7f7f\">                </span>\n",
       "<span style=\"color: #7fbfbf; text-decoration-color: #7fbfbf\">           </span>         inputs16APV/hists_sum_ST_s-channel_4f_leptonDecays_TuneCP5_13TeV-amcatnlo-pyth <span style=\"color: #7f7f7f; text-decoration-color: #7f7f7f\">                </span>\n",
       "<span style=\"color: #7fbfbf; text-decoration-color: #7fbfbf\">           </span>         ia8.hist                                                                       <span style=\"color: #7f7f7f; text-decoration-color: #7f7f7f\">                </span>\n",
       "</pre>\n"
      ],
      "text/plain": [
       "\u001b[2;36m          \u001b[0m\u001b[2;36m \u001b[0m\u001b[34mINFO    \u001b[0m Readign sample: ST_s-channel_4f_leptonDecays_TuneCP5_13TeV-amcatnlo-pythia8,   \u001b]8;id=689349;file:///tmp/ipykernel_18646/2088555353.py\u001b\\\u001b[2m2088555353.py\u001b[0m\u001b]8;;\u001b\\\u001b[2m:\u001b[0m\u001b]8;id=182178;file:///tmp/ipykernel_18646/2088555353.py#23\u001b\\\u001b[2m23\u001b[0m\u001b]8;;\u001b\\\n",
       "\u001b[2;36m           \u001b[0m         from:                                                                          \u001b[2m                \u001b[0m\n",
       "\u001b[2;36m           \u001b[0m         inputs16APV/hists_sum_ST_s-channel_4f_leptonDecays_TuneCP5_13TeV-amcatnlo-pyth \u001b[2m                \u001b[0m\n",
       "\u001b[2;36m           \u001b[0m         ia8.hist                                                                       \u001b[2m                \u001b[0m\n"
      ]
     },
     "metadata": {},
     "output_type": "display_data"
    },
    {
     "name": "stdout",
     "output_type": "stream",
     "text": [
      "ST_t-channel_antitop_4f_InclusiveDecays_TuneCP5_PSweights_13TeV-powheg-pythia8\n"
     ]
    },
    {
     "data": {
      "text/html": [
       "<pre style=\"white-space:pre;overflow-x:auto;line-height:normal;font-family:Menlo,'DejaVu Sans Mono',consolas,'Courier New',monospace\"><span style=\"color: #7fbfbf; text-decoration-color: #7fbfbf\">           </span><span style=\"color: #000080; text-decoration-color: #000080\">INFO    </span> Readign sample:                                                                <a href=\"file:///tmp/ipykernel_18646/2088555353.py\" target=\"_blank\"><span style=\"color: #7f7f7f; text-decoration-color: #7f7f7f\">2088555353.py</span></a><span style=\"color: #7f7f7f; text-decoration-color: #7f7f7f\">:</span><a href=\"file:///tmp/ipykernel_18646/2088555353.py#23\" target=\"_blank\"><span style=\"color: #7f7f7f; text-decoration-color: #7f7f7f\">23</span></a>\n",
       "<span style=\"color: #7fbfbf; text-decoration-color: #7fbfbf\">           </span>         ST_t-channel_antitop_4f_InclusiveDecays_TuneCP5_PSweights_13TeV-powheg-pythia8 <span style=\"color: #7f7f7f; text-decoration-color: #7f7f7f\">                </span>\n",
       "<span style=\"color: #7fbfbf; text-decoration-color: #7fbfbf\">           </span>         , from:                                                                        <span style=\"color: #7f7f7f; text-decoration-color: #7f7f7f\">                </span>\n",
       "<span style=\"color: #7fbfbf; text-decoration-color: #7fbfbf\">           </span>         inputs16APV/hists_sum_ST_t-channel_antitop_4f_InclusiveDecays_TuneCP5_PSweight <span style=\"color: #7f7f7f; text-decoration-color: #7f7f7f\">                </span>\n",
       "<span style=\"color: #7fbfbf; text-decoration-color: #7fbfbf\">           </span>         s_13TeV-powheg-pythia8.hist                                                    <span style=\"color: #7f7f7f; text-decoration-color: #7f7f7f\">                </span>\n",
       "</pre>\n"
      ],
      "text/plain": [
       "\u001b[2;36m          \u001b[0m\u001b[2;36m \u001b[0m\u001b[34mINFO    \u001b[0m Readign sample:                                                                \u001b]8;id=823074;file:///tmp/ipykernel_18646/2088555353.py\u001b\\\u001b[2m2088555353.py\u001b[0m\u001b]8;;\u001b\\\u001b[2m:\u001b[0m\u001b]8;id=159989;file:///tmp/ipykernel_18646/2088555353.py#23\u001b\\\u001b[2m23\u001b[0m\u001b]8;;\u001b\\\n",
       "\u001b[2;36m           \u001b[0m         ST_t-channel_antitop_4f_InclusiveDecays_TuneCP5_PSweights_13TeV-powheg-pythia8 \u001b[2m                \u001b[0m\n",
       "\u001b[2;36m           \u001b[0m         , from:                                                                        \u001b[2m                \u001b[0m\n",
       "\u001b[2;36m           \u001b[0m         inputs16APV/hists_sum_ST_t-channel_antitop_4f_InclusiveDecays_TuneCP5_PSweight \u001b[2m                \u001b[0m\n",
       "\u001b[2;36m           \u001b[0m         s_13TeV-powheg-pythia8.hist                                                    \u001b[2m                \u001b[0m\n"
      ]
     },
     "metadata": {},
     "output_type": "display_data"
    },
    {
     "name": "stdout",
     "output_type": "stream",
     "text": [
      "ST_t-channel_top_4f_InclusiveDecays_TuneCP5_PSweights_13TeV-powheg-pythia8\n"
     ]
    },
    {
     "data": {
      "text/html": [
       "<pre style=\"white-space:pre;overflow-x:auto;line-height:normal;font-family:Menlo,'DejaVu Sans Mono',consolas,'Courier New',monospace\"><span style=\"color: #7fbfbf; text-decoration-color: #7fbfbf\">           </span><span style=\"color: #000080; text-decoration-color: #000080\">INFO    </span> Readign sample:                                                                <a href=\"file:///tmp/ipykernel_18646/2088555353.py\" target=\"_blank\"><span style=\"color: #7f7f7f; text-decoration-color: #7f7f7f\">2088555353.py</span></a><span style=\"color: #7f7f7f; text-decoration-color: #7f7f7f\">:</span><a href=\"file:///tmp/ipykernel_18646/2088555353.py#23\" target=\"_blank\"><span style=\"color: #7f7f7f; text-decoration-color: #7f7f7f\">23</span></a>\n",
       "<span style=\"color: #7fbfbf; text-decoration-color: #7fbfbf\">           </span>         ST_t-channel_top_4f_InclusiveDecays_TuneCP5_PSweights_13TeV-powheg-pythia8,    <span style=\"color: #7f7f7f; text-decoration-color: #7f7f7f\">                </span>\n",
       "<span style=\"color: #7fbfbf; text-decoration-color: #7fbfbf\">           </span>         from:                                                                          <span style=\"color: #7f7f7f; text-decoration-color: #7f7f7f\">                </span>\n",
       "<span style=\"color: #7fbfbf; text-decoration-color: #7fbfbf\">           </span>         inputs16APV/hists_sum_ST_t-channel_top_4f_InclusiveDecays_TuneCP5_PSweights_13 <span style=\"color: #7f7f7f; text-decoration-color: #7f7f7f\">                </span>\n",
       "<span style=\"color: #7fbfbf; text-decoration-color: #7fbfbf\">           </span>         TeV-powheg-pythia8.hist                                                        <span style=\"color: #7f7f7f; text-decoration-color: #7f7f7f\">                </span>\n",
       "</pre>\n"
      ],
      "text/plain": [
       "\u001b[2;36m          \u001b[0m\u001b[2;36m \u001b[0m\u001b[34mINFO    \u001b[0m Readign sample:                                                                \u001b]8;id=123075;file:///tmp/ipykernel_18646/2088555353.py\u001b\\\u001b[2m2088555353.py\u001b[0m\u001b]8;;\u001b\\\u001b[2m:\u001b[0m\u001b]8;id=531006;file:///tmp/ipykernel_18646/2088555353.py#23\u001b\\\u001b[2m23\u001b[0m\u001b]8;;\u001b\\\n",
       "\u001b[2;36m           \u001b[0m         ST_t-channel_top_4f_InclusiveDecays_TuneCP5_PSweights_13TeV-powheg-pythia8,    \u001b[2m                \u001b[0m\n",
       "\u001b[2;36m           \u001b[0m         from:                                                                          \u001b[2m                \u001b[0m\n",
       "\u001b[2;36m           \u001b[0m         inputs16APV/hists_sum_ST_t-channel_top_4f_InclusiveDecays_TuneCP5_PSweights_13 \u001b[2m                \u001b[0m\n",
       "\u001b[2;36m           \u001b[0m         TeV-powheg-pythia8.hist                                                        \u001b[2m                \u001b[0m\n"
      ]
     },
     "metadata": {},
     "output_type": "display_data"
    },
    {
     "name": "stdout",
     "output_type": "stream",
     "text": [
      "ST_tW_antitop_5f_inclusiveDecays_TuneCP5_PSweights_13TeV-powheg-pythia8\n"
     ]
    },
    {
     "data": {
      "text/html": [
       "<pre style=\"white-space:pre;overflow-x:auto;line-height:normal;font-family:Menlo,'DejaVu Sans Mono',consolas,'Courier New',monospace\"><span style=\"color: #7fbfbf; text-decoration-color: #7fbfbf\">           </span><span style=\"color: #000080; text-decoration-color: #000080\">INFO    </span> Readign sample:                                                                <a href=\"file:///tmp/ipykernel_18646/2088555353.py\" target=\"_blank\"><span style=\"color: #7f7f7f; text-decoration-color: #7f7f7f\">2088555353.py</span></a><span style=\"color: #7f7f7f; text-decoration-color: #7f7f7f\">:</span><a href=\"file:///tmp/ipykernel_18646/2088555353.py#23\" target=\"_blank\"><span style=\"color: #7f7f7f; text-decoration-color: #7f7f7f\">23</span></a>\n",
       "<span style=\"color: #7fbfbf; text-decoration-color: #7fbfbf\">           </span>         ST_tW_antitop_5f_inclusiveDecays_TuneCP5_PSweights_13TeV-powheg-pythia8, from: <span style=\"color: #7f7f7f; text-decoration-color: #7f7f7f\">                </span>\n",
       "<span style=\"color: #7fbfbf; text-decoration-color: #7fbfbf\">           </span>         inputs16APV/hists_sum_ST_tW_antitop_5f_inclusiveDecays_TuneCP5_PSweights_13TeV <span style=\"color: #7f7f7f; text-decoration-color: #7f7f7f\">                </span>\n",
       "<span style=\"color: #7fbfbf; text-decoration-color: #7fbfbf\">           </span>         -powheg-pythia8.hist                                                           <span style=\"color: #7f7f7f; text-decoration-color: #7f7f7f\">                </span>\n",
       "</pre>\n"
      ],
      "text/plain": [
       "\u001b[2;36m          \u001b[0m\u001b[2;36m \u001b[0m\u001b[34mINFO    \u001b[0m Readign sample:                                                                \u001b]8;id=747168;file:///tmp/ipykernel_18646/2088555353.py\u001b\\\u001b[2m2088555353.py\u001b[0m\u001b]8;;\u001b\\\u001b[2m:\u001b[0m\u001b]8;id=691011;file:///tmp/ipykernel_18646/2088555353.py#23\u001b\\\u001b[2m23\u001b[0m\u001b]8;;\u001b\\\n",
       "\u001b[2;36m           \u001b[0m         ST_tW_antitop_5f_inclusiveDecays_TuneCP5_PSweights_13TeV-powheg-pythia8, from: \u001b[2m                \u001b[0m\n",
       "\u001b[2;36m           \u001b[0m         inputs16APV/hists_sum_ST_tW_antitop_5f_inclusiveDecays_TuneCP5_PSweights_13TeV \u001b[2m                \u001b[0m\n",
       "\u001b[2;36m           \u001b[0m         -powheg-pythia8.hist                                                           \u001b[2m                \u001b[0m\n"
      ]
     },
     "metadata": {},
     "output_type": "display_data"
    },
    {
     "name": "stdout",
     "output_type": "stream",
     "text": [
      "ST_tW_top_5f_inclusiveDecays_TuneCP5_PSweights_13TeV-powheg-pythia8\n"
     ]
    },
    {
     "data": {
      "text/html": [
       "<pre style=\"white-space:pre;overflow-x:auto;line-height:normal;font-family:Menlo,'DejaVu Sans Mono',consolas,'Courier New',monospace\"><span style=\"color: #7fbfbf; text-decoration-color: #7fbfbf\">           </span><span style=\"color: #000080; text-decoration-color: #000080\">INFO    </span> Readign sample:                                                                <a href=\"file:///tmp/ipykernel_18646/2088555353.py\" target=\"_blank\"><span style=\"color: #7f7f7f; text-decoration-color: #7f7f7f\">2088555353.py</span></a><span style=\"color: #7f7f7f; text-decoration-color: #7f7f7f\">:</span><a href=\"file:///tmp/ipykernel_18646/2088555353.py#23\" target=\"_blank\"><span style=\"color: #7f7f7f; text-decoration-color: #7f7f7f\">23</span></a>\n",
       "<span style=\"color: #7fbfbf; text-decoration-color: #7fbfbf\">           </span>         ST_tW_top_5f_inclusiveDecays_TuneCP5_PSweights_13TeV-powheg-pythia8, from:     <span style=\"color: #7f7f7f; text-decoration-color: #7f7f7f\">                </span>\n",
       "<span style=\"color: #7fbfbf; text-decoration-color: #7fbfbf\">           </span>         inputs16APV/hists_sum_ST_tW_top_5f_inclusiveDecays_TuneCP5_PSweights_13TeV-pow <span style=\"color: #7f7f7f; text-decoration-color: #7f7f7f\">                </span>\n",
       "<span style=\"color: #7fbfbf; text-decoration-color: #7fbfbf\">           </span>         heg-pythia8.hist                                                               <span style=\"color: #7f7f7f; text-decoration-color: #7f7f7f\">                </span>\n",
       "</pre>\n"
      ],
      "text/plain": [
       "\u001b[2;36m          \u001b[0m\u001b[2;36m \u001b[0m\u001b[34mINFO    \u001b[0m Readign sample:                                                                \u001b]8;id=311584;file:///tmp/ipykernel_18646/2088555353.py\u001b\\\u001b[2m2088555353.py\u001b[0m\u001b]8;;\u001b\\\u001b[2m:\u001b[0m\u001b]8;id=623382;file:///tmp/ipykernel_18646/2088555353.py#23\u001b\\\u001b[2m23\u001b[0m\u001b]8;;\u001b\\\n",
       "\u001b[2;36m           \u001b[0m         ST_tW_top_5f_inclusiveDecays_TuneCP5_PSweights_13TeV-powheg-pythia8, from:     \u001b[2m                \u001b[0m\n",
       "\u001b[2;36m           \u001b[0m         inputs16APV/hists_sum_ST_tW_top_5f_inclusiveDecays_TuneCP5_PSweights_13TeV-pow \u001b[2m                \u001b[0m\n",
       "\u001b[2;36m           \u001b[0m         heg-pythia8.hist                                                               \u001b[2m                \u001b[0m\n"
      ]
     },
     "metadata": {},
     "output_type": "display_data"
    },
    {
     "name": "stdout",
     "output_type": "stream",
     "text": [
      "ST_t-channel_antitop_4f_InclusiveDecays_TuneCP5_13TeV-powheg-madspin-pythia8\n"
     ]
    },
    {
     "data": {
      "text/html": [
       "<pre style=\"white-space:pre;overflow-x:auto;line-height:normal;font-family:Menlo,'DejaVu Sans Mono',consolas,'Courier New',monospace\"><span style=\"color: #7fbfbf; text-decoration-color: #7fbfbf\">           </span><span style=\"color: #000080; text-decoration-color: #000080\">INFO    </span> Readign sample:                                                                <a href=\"file:///tmp/ipykernel_18646/2088555353.py\" target=\"_blank\"><span style=\"color: #7f7f7f; text-decoration-color: #7f7f7f\">2088555353.py</span></a><span style=\"color: #7f7f7f; text-decoration-color: #7f7f7f\">:</span><a href=\"file:///tmp/ipykernel_18646/2088555353.py#23\" target=\"_blank\"><span style=\"color: #7f7f7f; text-decoration-color: #7f7f7f\">23</span></a>\n",
       "<span style=\"color: #7fbfbf; text-decoration-color: #7fbfbf\">           </span>         ST_t-channel_antitop_4f_InclusiveDecays_TuneCP5_13TeV-powheg-madspin-pythia8,  <span style=\"color: #7f7f7f; text-decoration-color: #7f7f7f\">                </span>\n",
       "<span style=\"color: #7fbfbf; text-decoration-color: #7fbfbf\">           </span>         from:                                                                          <span style=\"color: #7f7f7f; text-decoration-color: #7f7f7f\">                </span>\n",
       "<span style=\"color: #7fbfbf; text-decoration-color: #7fbfbf\">           </span>         inputs16APV/hists_sum_ST_t-channel_antitop_4f_InclusiveDecays_TuneCP5_13TeV-po <span style=\"color: #7f7f7f; text-decoration-color: #7f7f7f\">                </span>\n",
       "<span style=\"color: #7fbfbf; text-decoration-color: #7fbfbf\">           </span>         wheg-madspin-pythia8.hist                                                      <span style=\"color: #7f7f7f; text-decoration-color: #7f7f7f\">                </span>\n",
       "</pre>\n"
      ],
      "text/plain": [
       "\u001b[2;36m          \u001b[0m\u001b[2;36m \u001b[0m\u001b[34mINFO    \u001b[0m Readign sample:                                                                \u001b]8;id=802818;file:///tmp/ipykernel_18646/2088555353.py\u001b\\\u001b[2m2088555353.py\u001b[0m\u001b]8;;\u001b\\\u001b[2m:\u001b[0m\u001b]8;id=171167;file:///tmp/ipykernel_18646/2088555353.py#23\u001b\\\u001b[2m23\u001b[0m\u001b]8;;\u001b\\\n",
       "\u001b[2;36m           \u001b[0m         ST_t-channel_antitop_4f_InclusiveDecays_TuneCP5_13TeV-powheg-madspin-pythia8,  \u001b[2m                \u001b[0m\n",
       "\u001b[2;36m           \u001b[0m         from:                                                                          \u001b[2m                \u001b[0m\n",
       "\u001b[2;36m           \u001b[0m         inputs16APV/hists_sum_ST_t-channel_antitop_4f_InclusiveDecays_TuneCP5_13TeV-po \u001b[2m                \u001b[0m\n",
       "\u001b[2;36m           \u001b[0m         wheg-madspin-pythia8.hist                                                      \u001b[2m                \u001b[0m\n"
      ]
     },
     "metadata": {},
     "output_type": "display_data"
    },
    {
     "name": "stdout",
     "output_type": "stream",
     "text": [
      "ST_t-channel_top_4f_InclusiveDecays_TuneCP5_13TeV-powheg-madspin-pythia8\n"
     ]
    },
    {
     "data": {
      "text/html": [
       "<pre style=\"white-space:pre;overflow-x:auto;line-height:normal;font-family:Menlo,'DejaVu Sans Mono',consolas,'Courier New',monospace\"><span style=\"color: #7fbfbf; text-decoration-color: #7fbfbf\">           </span><span style=\"color: #000080; text-decoration-color: #000080\">INFO    </span> Readign sample:                                                                <a href=\"file:///tmp/ipykernel_18646/2088555353.py\" target=\"_blank\"><span style=\"color: #7f7f7f; text-decoration-color: #7f7f7f\">2088555353.py</span></a><span style=\"color: #7f7f7f; text-decoration-color: #7f7f7f\">:</span><a href=\"file:///tmp/ipykernel_18646/2088555353.py#23\" target=\"_blank\"><span style=\"color: #7f7f7f; text-decoration-color: #7f7f7f\">23</span></a>\n",
       "<span style=\"color: #7fbfbf; text-decoration-color: #7fbfbf\">           </span>         ST_t-channel_top_4f_InclusiveDecays_TuneCP5_13TeV-powheg-madspin-pythia8,      <span style=\"color: #7f7f7f; text-decoration-color: #7f7f7f\">                </span>\n",
       "<span style=\"color: #7fbfbf; text-decoration-color: #7fbfbf\">           </span>         from:                                                                          <span style=\"color: #7f7f7f; text-decoration-color: #7f7f7f\">                </span>\n",
       "<span style=\"color: #7fbfbf; text-decoration-color: #7fbfbf\">           </span>         inputs16APV/hists_sum_ST_t-channel_top_4f_InclusiveDecays_TuneCP5_13TeV-powheg <span style=\"color: #7f7f7f; text-decoration-color: #7f7f7f\">                </span>\n",
       "<span style=\"color: #7fbfbf; text-decoration-color: #7fbfbf\">           </span>         -madspin-pythia8.hist                                                          <span style=\"color: #7f7f7f; text-decoration-color: #7f7f7f\">                </span>\n",
       "</pre>\n"
      ],
      "text/plain": [
       "\u001b[2;36m          \u001b[0m\u001b[2;36m \u001b[0m\u001b[34mINFO    \u001b[0m Readign sample:                                                                \u001b]8;id=732952;file:///tmp/ipykernel_18646/2088555353.py\u001b\\\u001b[2m2088555353.py\u001b[0m\u001b]8;;\u001b\\\u001b[2m:\u001b[0m\u001b]8;id=171852;file:///tmp/ipykernel_18646/2088555353.py#23\u001b\\\u001b[2m23\u001b[0m\u001b]8;;\u001b\\\n",
       "\u001b[2;36m           \u001b[0m         ST_t-channel_top_4f_InclusiveDecays_TuneCP5_13TeV-powheg-madspin-pythia8,      \u001b[2m                \u001b[0m\n",
       "\u001b[2;36m           \u001b[0m         from:                                                                          \u001b[2m                \u001b[0m\n",
       "\u001b[2;36m           \u001b[0m         inputs16APV/hists_sum_ST_t-channel_top_4f_InclusiveDecays_TuneCP5_13TeV-powheg \u001b[2m                \u001b[0m\n",
       "\u001b[2;36m           \u001b[0m         -madspin-pythia8.hist                                                          \u001b[2m                \u001b[0m\n"
      ]
     },
     "metadata": {},
     "output_type": "display_data"
    },
    {
     "name": "stdout",
     "output_type": "stream",
     "text": [
      "ST_tW_antitop_5f_inclusiveDecays_TuneCP5_13TeV-powheg-pythia8\n"
     ]
    },
    {
     "data": {
      "text/html": [
       "<pre style=\"white-space:pre;overflow-x:auto;line-height:normal;font-family:Menlo,'DejaVu Sans Mono',consolas,'Courier New',monospace\"><span style=\"color: #7fbfbf; text-decoration-color: #7fbfbf\">           </span><span style=\"color: #000080; text-decoration-color: #000080\">INFO    </span> Readign sample: ST_tW_antitop_5f_inclusiveDecays_TuneCP5_13TeV-powheg-pythia8, <a href=\"file:///tmp/ipykernel_18646/2088555353.py\" target=\"_blank\"><span style=\"color: #7f7f7f; text-decoration-color: #7f7f7f\">2088555353.py</span></a><span style=\"color: #7f7f7f; text-decoration-color: #7f7f7f\">:</span><a href=\"file:///tmp/ipykernel_18646/2088555353.py#23\" target=\"_blank\"><span style=\"color: #7f7f7f; text-decoration-color: #7f7f7f\">23</span></a>\n",
       "<span style=\"color: #7fbfbf; text-decoration-color: #7fbfbf\">           </span>         from:                                                                          <span style=\"color: #7f7f7f; text-decoration-color: #7f7f7f\">                </span>\n",
       "<span style=\"color: #7fbfbf; text-decoration-color: #7fbfbf\">           </span>         inputs16APV/hists_sum_ST_tW_antitop_5f_inclusiveDecays_TuneCP5_13TeV-powheg-py <span style=\"color: #7f7f7f; text-decoration-color: #7f7f7f\">                </span>\n",
       "<span style=\"color: #7fbfbf; text-decoration-color: #7fbfbf\">           </span>         thia8.hist                                                                     <span style=\"color: #7f7f7f; text-decoration-color: #7f7f7f\">                </span>\n",
       "</pre>\n"
      ],
      "text/plain": [
       "\u001b[2;36m          \u001b[0m\u001b[2;36m \u001b[0m\u001b[34mINFO    \u001b[0m Readign sample: ST_tW_antitop_5f_inclusiveDecays_TuneCP5_13TeV-powheg-pythia8, \u001b]8;id=486193;file:///tmp/ipykernel_18646/2088555353.py\u001b\\\u001b[2m2088555353.py\u001b[0m\u001b]8;;\u001b\\\u001b[2m:\u001b[0m\u001b]8;id=859283;file:///tmp/ipykernel_18646/2088555353.py#23\u001b\\\u001b[2m23\u001b[0m\u001b]8;;\u001b\\\n",
       "\u001b[2;36m           \u001b[0m         from:                                                                          \u001b[2m                \u001b[0m\n",
       "\u001b[2;36m           \u001b[0m         inputs16APV/hists_sum_ST_tW_antitop_5f_inclusiveDecays_TuneCP5_13TeV-powheg-py \u001b[2m                \u001b[0m\n",
       "\u001b[2;36m           \u001b[0m         thia8.hist                                                                     \u001b[2m                \u001b[0m\n"
      ]
     },
     "metadata": {},
     "output_type": "display_data"
    },
    {
     "name": "stdout",
     "output_type": "stream",
     "text": [
      "ST_tW_top_5f_inclusiveDecays_TuneCP5_13TeV-powheg-pythia8\n"
     ]
    },
    {
     "data": {
      "text/html": [
       "<pre style=\"white-space:pre;overflow-x:auto;line-height:normal;font-family:Menlo,'DejaVu Sans Mono',consolas,'Courier New',monospace\"><span style=\"color: #7fbfbf; text-decoration-color: #7fbfbf\">           </span><span style=\"color: #000080; text-decoration-color: #000080\">INFO    </span> Readign sample: ST_tW_top_5f_inclusiveDecays_TuneCP5_13TeV-powheg-pythia8,     <a href=\"file:///tmp/ipykernel_18646/2088555353.py\" target=\"_blank\"><span style=\"color: #7f7f7f; text-decoration-color: #7f7f7f\">2088555353.py</span></a><span style=\"color: #7f7f7f; text-decoration-color: #7f7f7f\">:</span><a href=\"file:///tmp/ipykernel_18646/2088555353.py#23\" target=\"_blank\"><span style=\"color: #7f7f7f; text-decoration-color: #7f7f7f\">23</span></a>\n",
       "<span style=\"color: #7fbfbf; text-decoration-color: #7fbfbf\">           </span>         from:                                                                          <span style=\"color: #7f7f7f; text-decoration-color: #7f7f7f\">                </span>\n",
       "<span style=\"color: #7fbfbf; text-decoration-color: #7fbfbf\">           </span>         inputs16APV/hists_sum_ST_tW_top_5f_inclusiveDecays_TuneCP5_13TeV-powheg-pythia <span style=\"color: #7f7f7f; text-decoration-color: #7f7f7f\">                </span>\n",
       "<span style=\"color: #7fbfbf; text-decoration-color: #7fbfbf\">           </span>         8.hist                                                                         <span style=\"color: #7f7f7f; text-decoration-color: #7f7f7f\">                </span>\n",
       "</pre>\n"
      ],
      "text/plain": [
       "\u001b[2;36m          \u001b[0m\u001b[2;36m \u001b[0m\u001b[34mINFO    \u001b[0m Readign sample: ST_tW_top_5f_inclusiveDecays_TuneCP5_13TeV-powheg-pythia8,     \u001b]8;id=668804;file:///tmp/ipykernel_18646/2088555353.py\u001b\\\u001b[2m2088555353.py\u001b[0m\u001b]8;;\u001b\\\u001b[2m:\u001b[0m\u001b]8;id=193901;file:///tmp/ipykernel_18646/2088555353.py#23\u001b\\\u001b[2m23\u001b[0m\u001b]8;;\u001b\\\n",
       "\u001b[2;36m           \u001b[0m         from:                                                                          \u001b[2m                \u001b[0m\n",
       "\u001b[2;36m           \u001b[0m         inputs16APV/hists_sum_ST_tW_top_5f_inclusiveDecays_TuneCP5_13TeV-powheg-pythia \u001b[2m                \u001b[0m\n",
       "\u001b[2;36m           \u001b[0m         8.hist                                                                         \u001b[2m                \u001b[0m\n"
      ]
     },
     "metadata": {},
     "output_type": "display_data"
    },
    {
     "name": "stdout",
     "output_type": "stream",
     "text": [
      "ST_s-channel_4f_leptonDecays\n"
     ]
    },
    {
     "data": {
      "text/html": [
       "<pre style=\"white-space:pre;overflow-x:auto;line-height:normal;font-family:Menlo,'DejaVu Sans Mono',consolas,'Courier New',monospace\"><span style=\"color: #7fbfbf; text-decoration-color: #7fbfbf\">           </span><span style=\"color: #000080; text-decoration-color: #000080\">INFO    </span> Readign sample: ST_s-channel_4f_leptonDecays, from:                            <a href=\"file:///tmp/ipykernel_18646/2088555353.py\" target=\"_blank\"><span style=\"color: #7f7f7f; text-decoration-color: #7f7f7f\">2088555353.py</span></a><span style=\"color: #7f7f7f; text-decoration-color: #7f7f7f\">:</span><a href=\"file:///tmp/ipykernel_18646/2088555353.py#23\" target=\"_blank\"><span style=\"color: #7f7f7f; text-decoration-color: #7f7f7f\">23</span></a>\n",
       "<span style=\"color: #7fbfbf; text-decoration-color: #7fbfbf\">           </span>         inputs16APV/hists_sum_ST_s-channel_4f_leptonDecays.hist                        <span style=\"color: #7f7f7f; text-decoration-color: #7f7f7f\">                </span>\n",
       "</pre>\n"
      ],
      "text/plain": [
       "\u001b[2;36m          \u001b[0m\u001b[2;36m \u001b[0m\u001b[34mINFO    \u001b[0m Readign sample: ST_s-channel_4f_leptonDecays, from:                            \u001b]8;id=977377;file:///tmp/ipykernel_18646/2088555353.py\u001b\\\u001b[2m2088555353.py\u001b[0m\u001b]8;;\u001b\\\u001b[2m:\u001b[0m\u001b]8;id=488909;file:///tmp/ipykernel_18646/2088555353.py#23\u001b\\\u001b[2m23\u001b[0m\u001b]8;;\u001b\\\n",
       "\u001b[2;36m           \u001b[0m         inputs16APV/hists_sum_ST_s-channel_4f_leptonDecays.hist                        \u001b[2m                \u001b[0m\n"
      ]
     },
     "metadata": {},
     "output_type": "display_data"
    },
    {
     "data": {
      "text/html": [
       "<pre style=\"white-space:pre;overflow-x:auto;line-height:normal;font-family:Menlo,'DejaVu Sans Mono',consolas,'Courier New',monospace\"><span style=\"color: #7fbfbf; text-decoration-color: #7fbfbf\">           </span><span style=\"color: #000080; text-decoration-color: #000080\">INFO    </span> Scaling ST_s-channel_4f_leptonDecays by <span style=\"color: #008080; text-decoration-color: #008080; font-weight: bold\">19.520000000</span> <span style=\"font-weight: bold\">(</span>lumi = <span style=\"color: #008080; text-decoration-color: #008080; font-weight: bold\">19.52</span>, xs = nan,  <a href=\"file:///tmp/ipykernel_18646/2088555353.py\" target=\"_blank\"><span style=\"color: #7f7f7f; text-decoration-color: #7f7f7f\">2088555353.py</span></a><span style=\"color: #7f7f7f; text-decoration-color: #7f7f7f\">:</span><a href=\"file:///tmp/ipykernel_18646/2088555353.py#34\" target=\"_blank\"><span style=\"color: #7f7f7f; text-decoration-color: #7f7f7f\">34</span></a>\n",
       "<span style=\"color: #7fbfbf; text-decoration-color: #7fbfbf\">           </span>         sumw = <span style=\"color: #008080; text-decoration-color: #008080; font-weight: bold\">19596250.107</span><span style=\"font-weight: bold\">)</span>                                                           <span style=\"color: #7f7f7f; text-decoration-color: #7f7f7f\">                </span>\n",
       "</pre>\n"
      ],
      "text/plain": [
       "\u001b[2;36m          \u001b[0m\u001b[2;36m \u001b[0m\u001b[34mINFO    \u001b[0m Scaling ST_s-channel_4f_leptonDecays by \u001b[1;36m19.520000000\u001b[0m \u001b[1m(\u001b[0mlumi = \u001b[1;36m19.52\u001b[0m, xs = nan,  \u001b]8;id=399613;file:///tmp/ipykernel_18646/2088555353.py\u001b\\\u001b[2m2088555353.py\u001b[0m\u001b]8;;\u001b\\\u001b[2m:\u001b[0m\u001b]8;id=590715;file:///tmp/ipykernel_18646/2088555353.py#34\u001b\\\u001b[2m34\u001b[0m\u001b]8;;\u001b\\\n",
       "\u001b[2;36m           \u001b[0m         sumw = \u001b[1;36m19596250.107\u001b[0m\u001b[1m)\u001b[0m                                                           \u001b[2m                \u001b[0m\n"
      ]
     },
     "metadata": {},
     "output_type": "display_data"
    },
    {
     "name": "stdout",
     "output_type": "stream",
     "text": [
      "ST_s-channel_4f_hadronicDecays\n"
     ]
    },
    {
     "data": {
      "text/html": [
       "<pre style=\"white-space:pre;overflow-x:auto;line-height:normal;font-family:Menlo,'DejaVu Sans Mono',consolas,'Courier New',monospace\"><span style=\"color: #7fbfbf; text-decoration-color: #7fbfbf\">           </span><span style=\"color: #000080; text-decoration-color: #000080\">INFO    </span> Readign sample: ST_s-channel_4f_hadronicDecays, from:                          <a href=\"file:///tmp/ipykernel_18646/2088555353.py\" target=\"_blank\"><span style=\"color: #7f7f7f; text-decoration-color: #7f7f7f\">2088555353.py</span></a><span style=\"color: #7f7f7f; text-decoration-color: #7f7f7f\">:</span><a href=\"file:///tmp/ipykernel_18646/2088555353.py#23\" target=\"_blank\"><span style=\"color: #7f7f7f; text-decoration-color: #7f7f7f\">23</span></a>\n",
       "<span style=\"color: #7fbfbf; text-decoration-color: #7fbfbf\">           </span>         inputs16APV/hists_sum_ST_s-channel_4f_hadronicDecays.hist                      <span style=\"color: #7f7f7f; text-decoration-color: #7f7f7f\">                </span>\n",
       "</pre>\n"
      ],
      "text/plain": [
       "\u001b[2;36m          \u001b[0m\u001b[2;36m \u001b[0m\u001b[34mINFO    \u001b[0m Readign sample: ST_s-channel_4f_hadronicDecays, from:                          \u001b]8;id=573442;file:///tmp/ipykernel_18646/2088555353.py\u001b\\\u001b[2m2088555353.py\u001b[0m\u001b]8;;\u001b\\\u001b[2m:\u001b[0m\u001b]8;id=609425;file:///tmp/ipykernel_18646/2088555353.py#23\u001b\\\u001b[2m23\u001b[0m\u001b]8;;\u001b\\\n",
       "\u001b[2;36m           \u001b[0m         inputs16APV/hists_sum_ST_s-channel_4f_hadronicDecays.hist                      \u001b[2m                \u001b[0m\n"
      ]
     },
     "metadata": {},
     "output_type": "display_data"
    },
    {
     "data": {
      "text/html": [
       "<pre style=\"white-space:pre;overflow-x:auto;line-height:normal;font-family:Menlo,'DejaVu Sans Mono',consolas,'Courier New',monospace\"><span style=\"color: #7fbfbf; text-decoration-color: #7fbfbf\">           </span><span style=\"color: #000080; text-decoration-color: #000080\">INFO    </span> Scaling ST_s-channel_4f_hadronicDecays by <span style=\"color: #008080; text-decoration-color: #008080; font-weight: bold\">19.520000000</span> <span style=\"font-weight: bold\">(</span>lumi = <span style=\"color: #008080; text-decoration-color: #008080; font-weight: bold\">19.52</span>, xs =     <a href=\"file:///tmp/ipykernel_18646/2088555353.py\" target=\"_blank\"><span style=\"color: #7f7f7f; text-decoration-color: #7f7f7f\">2088555353.py</span></a><span style=\"color: #7f7f7f; text-decoration-color: #7f7f7f\">:</span><a href=\"file:///tmp/ipykernel_18646/2088555353.py#34\" target=\"_blank\"><span style=\"color: #7f7f7f; text-decoration-color: #7f7f7f\">34</span></a>\n",
       "<span style=\"color: #7fbfbf; text-decoration-color: #7fbfbf\">           </span>         nan, sumw = <span style=\"color: #008080; text-decoration-color: #008080; font-weight: bold\">33472556.345</span><span style=\"font-weight: bold\">)</span>                                                      <span style=\"color: #7f7f7f; text-decoration-color: #7f7f7f\">                </span>\n",
       "</pre>\n"
      ],
      "text/plain": [
       "\u001b[2;36m          \u001b[0m\u001b[2;36m \u001b[0m\u001b[34mINFO    \u001b[0m Scaling ST_s-channel_4f_hadronicDecays by \u001b[1;36m19.520000000\u001b[0m \u001b[1m(\u001b[0mlumi = \u001b[1;36m19.52\u001b[0m, xs =     \u001b]8;id=535191;file:///tmp/ipykernel_18646/2088555353.py\u001b\\\u001b[2m2088555353.py\u001b[0m\u001b]8;;\u001b\\\u001b[2m:\u001b[0m\u001b]8;id=387366;file:///tmp/ipykernel_18646/2088555353.py#34\u001b\\\u001b[2m34\u001b[0m\u001b]8;;\u001b\\\n",
       "\u001b[2;36m           \u001b[0m         nan, sumw = \u001b[1;36m33472556.345\u001b[0m\u001b[1m)\u001b[0m                                                      \u001b[2m                \u001b[0m\n"
      ]
     },
     "metadata": {},
     "output_type": "display_data"
    },
    {
     "name": "stdout",
     "output_type": "stream",
     "text": [
      "ST_t-channel_antitop_4f_InclusiveDecays\n"
     ]
    },
    {
     "data": {
      "text/html": [
       "<pre style=\"white-space:pre;overflow-x:auto;line-height:normal;font-family:Menlo,'DejaVu Sans Mono',consolas,'Courier New',monospace\"><span style=\"color: #7fbfbf; text-decoration-color: #7fbfbf\">           </span><span style=\"color: #000080; text-decoration-color: #000080\">INFO    </span> Readign sample: ST_t-channel_antitop_4f_InclusiveDecays, from:                 <a href=\"file:///tmp/ipykernel_18646/2088555353.py\" target=\"_blank\"><span style=\"color: #7f7f7f; text-decoration-color: #7f7f7f\">2088555353.py</span></a><span style=\"color: #7f7f7f; text-decoration-color: #7f7f7f\">:</span><a href=\"file:///tmp/ipykernel_18646/2088555353.py#23\" target=\"_blank\"><span style=\"color: #7f7f7f; text-decoration-color: #7f7f7f\">23</span></a>\n",
       "<span style=\"color: #7fbfbf; text-decoration-color: #7fbfbf\">           </span>         inputs16APV/hists_sum_ST_t-channel_antitop_4f_InclusiveDecays.hist             <span style=\"color: #7f7f7f; text-decoration-color: #7f7f7f\">                </span>\n",
       "</pre>\n"
      ],
      "text/plain": [
       "\u001b[2;36m          \u001b[0m\u001b[2;36m \u001b[0m\u001b[34mINFO    \u001b[0m Readign sample: ST_t-channel_antitop_4f_InclusiveDecays, from:                 \u001b]8;id=10290;file:///tmp/ipykernel_18646/2088555353.py\u001b\\\u001b[2m2088555353.py\u001b[0m\u001b]8;;\u001b\\\u001b[2m:\u001b[0m\u001b]8;id=477560;file:///tmp/ipykernel_18646/2088555353.py#23\u001b\\\u001b[2m23\u001b[0m\u001b]8;;\u001b\\\n",
       "\u001b[2;36m           \u001b[0m         inputs16APV/hists_sum_ST_t-channel_antitop_4f_InclusiveDecays.hist             \u001b[2m                \u001b[0m\n"
      ]
     },
     "metadata": {},
     "output_type": "display_data"
    },
    {
     "data": {
      "text/html": [
       "<pre style=\"white-space:pre;overflow-x:auto;line-height:normal;font-family:Menlo,'DejaVu Sans Mono',consolas,'Courier New',monospace\"><span style=\"color: #7fbfbf; text-decoration-color: #7fbfbf\">           </span><span style=\"color: #000080; text-decoration-color: #000080\">INFO    </span> Scaling ST_t-channel_antitop_4f_InclusiveDecays by <span style=\"color: #008080; text-decoration-color: #008080; font-weight: bold\">19.520000000</span> <span style=\"font-weight: bold\">(</span>lumi = <span style=\"color: #008080; text-decoration-color: #008080; font-weight: bold\">19.52</span>, <a href=\"file:///tmp/ipykernel_18646/2088555353.py\" target=\"_blank\"><span style=\"color: #7f7f7f; text-decoration-color: #7f7f7f\">2088555353.py</span></a><span style=\"color: #7f7f7f; text-decoration-color: #7f7f7f\">:</span><a href=\"file:///tmp/ipykernel_18646/2088555353.py#34\" target=\"_blank\"><span style=\"color: #7f7f7f; text-decoration-color: #7f7f7f\">34</span></a>\n",
       "<span style=\"color: #7fbfbf; text-decoration-color: #7fbfbf\">           </span>         xs = nan, sumw = <span style=\"color: #008080; text-decoration-color: #008080; font-weight: bold\">1998002733.336</span><span style=\"font-weight: bold\">)</span>                                               <span style=\"color: #7f7f7f; text-decoration-color: #7f7f7f\">                </span>\n",
       "</pre>\n"
      ],
      "text/plain": [
       "\u001b[2;36m          \u001b[0m\u001b[2;36m \u001b[0m\u001b[34mINFO    \u001b[0m Scaling ST_t-channel_antitop_4f_InclusiveDecays by \u001b[1;36m19.520000000\u001b[0m \u001b[1m(\u001b[0mlumi = \u001b[1;36m19.52\u001b[0m, \u001b]8;id=58706;file:///tmp/ipykernel_18646/2088555353.py\u001b\\\u001b[2m2088555353.py\u001b[0m\u001b]8;;\u001b\\\u001b[2m:\u001b[0m\u001b]8;id=940895;file:///tmp/ipykernel_18646/2088555353.py#34\u001b\\\u001b[2m34\u001b[0m\u001b]8;;\u001b\\\n",
       "\u001b[2;36m           \u001b[0m         xs = nan, sumw = \u001b[1;36m1998002733.336\u001b[0m\u001b[1m)\u001b[0m                                               \u001b[2m                \u001b[0m\n"
      ]
     },
     "metadata": {},
     "output_type": "display_data"
    },
    {
     "name": "stdout",
     "output_type": "stream",
     "text": [
      "ST_t-channel_antitop_5f_InclusiveDecays\n"
     ]
    },
    {
     "data": {
      "text/html": [
       "<pre style=\"white-space:pre;overflow-x:auto;line-height:normal;font-family:Menlo,'DejaVu Sans Mono',consolas,'Courier New',monospace\"><span style=\"color: #7fbfbf; text-decoration-color: #7fbfbf\">           </span><span style=\"color: #000080; text-decoration-color: #000080\">INFO    </span> Readign sample: ST_t-channel_antitop_5f_InclusiveDecays, from:                 <a href=\"file:///tmp/ipykernel_18646/2088555353.py\" target=\"_blank\"><span style=\"color: #7f7f7f; text-decoration-color: #7f7f7f\">2088555353.py</span></a><span style=\"color: #7f7f7f; text-decoration-color: #7f7f7f\">:</span><a href=\"file:///tmp/ipykernel_18646/2088555353.py#23\" target=\"_blank\"><span style=\"color: #7f7f7f; text-decoration-color: #7f7f7f\">23</span></a>\n",
       "<span style=\"color: #7fbfbf; text-decoration-color: #7fbfbf\">           </span>         inputs16APV/hists_sum_ST_t-channel_antitop_5f_InclusiveDecays.hist             <span style=\"color: #7f7f7f; text-decoration-color: #7f7f7f\">                </span>\n",
       "</pre>\n"
      ],
      "text/plain": [
       "\u001b[2;36m          \u001b[0m\u001b[2;36m \u001b[0m\u001b[34mINFO    \u001b[0m Readign sample: ST_t-channel_antitop_5f_InclusiveDecays, from:                 \u001b]8;id=355879;file:///tmp/ipykernel_18646/2088555353.py\u001b\\\u001b[2m2088555353.py\u001b[0m\u001b]8;;\u001b\\\u001b[2m:\u001b[0m\u001b]8;id=774792;file:///tmp/ipykernel_18646/2088555353.py#23\u001b\\\u001b[2m23\u001b[0m\u001b]8;;\u001b\\\n",
       "\u001b[2;36m           \u001b[0m         inputs16APV/hists_sum_ST_t-channel_antitop_5f_InclusiveDecays.hist             \u001b[2m                \u001b[0m\n"
      ]
     },
     "metadata": {},
     "output_type": "display_data"
    },
    {
     "name": "stdout",
     "output_type": "stream",
     "text": [
      "ST_t-channel_top_4f_InclusiveDecays\n"
     ]
    },
    {
     "data": {
      "text/html": [
       "<pre style=\"white-space:pre;overflow-x:auto;line-height:normal;font-family:Menlo,'DejaVu Sans Mono',consolas,'Courier New',monospace\"><span style=\"color: #7fbfbf; text-decoration-color: #7fbfbf\">           </span><span style=\"color: #000080; text-decoration-color: #000080\">INFO    </span> Readign sample: ST_t-channel_top_4f_InclusiveDecays, from:                     <a href=\"file:///tmp/ipykernel_18646/2088555353.py\" target=\"_blank\"><span style=\"color: #7f7f7f; text-decoration-color: #7f7f7f\">2088555353.py</span></a><span style=\"color: #7f7f7f; text-decoration-color: #7f7f7f\">:</span><a href=\"file:///tmp/ipykernel_18646/2088555353.py#23\" target=\"_blank\"><span style=\"color: #7f7f7f; text-decoration-color: #7f7f7f\">23</span></a>\n",
       "<span style=\"color: #7fbfbf; text-decoration-color: #7fbfbf\">           </span>         inputs16APV/hists_sum_ST_t-channel_top_4f_InclusiveDecays.hist                 <span style=\"color: #7f7f7f; text-decoration-color: #7f7f7f\">                </span>\n",
       "</pre>\n"
      ],
      "text/plain": [
       "\u001b[2;36m          \u001b[0m\u001b[2;36m \u001b[0m\u001b[34mINFO    \u001b[0m Readign sample: ST_t-channel_top_4f_InclusiveDecays, from:                     \u001b]8;id=915842;file:///tmp/ipykernel_18646/2088555353.py\u001b\\\u001b[2m2088555353.py\u001b[0m\u001b]8;;\u001b\\\u001b[2m:\u001b[0m\u001b]8;id=22137;file:///tmp/ipykernel_18646/2088555353.py#23\u001b\\\u001b[2m23\u001b[0m\u001b]8;;\u001b\\\n",
       "\u001b[2;36m           \u001b[0m         inputs16APV/hists_sum_ST_t-channel_top_4f_InclusiveDecays.hist                 \u001b[2m                \u001b[0m\n"
      ]
     },
     "metadata": {},
     "output_type": "display_data"
    },
    {
     "data": {
      "text/html": [
       "<pre style=\"white-space:pre;overflow-x:auto;line-height:normal;font-family:Menlo,'DejaVu Sans Mono',consolas,'Courier New',monospace\"><span style=\"color: #7fbfbf; text-decoration-color: #7fbfbf\">           </span><span style=\"color: #000080; text-decoration-color: #000080\">INFO    </span> Scaling ST_t-channel_top_4f_InclusiveDecays by <span style=\"color: #008080; text-decoration-color: #008080; font-weight: bold\">19.520000000</span> <span style=\"font-weight: bold\">(</span>lumi = <span style=\"color: #008080; text-decoration-color: #008080; font-weight: bold\">19.52</span>, xs  <a href=\"file:///tmp/ipykernel_18646/2088555353.py\" target=\"_blank\"><span style=\"color: #7f7f7f; text-decoration-color: #7f7f7f\">2088555353.py</span></a><span style=\"color: #7f7f7f; text-decoration-color: #7f7f7f\">:</span><a href=\"file:///tmp/ipykernel_18646/2088555353.py#34\" target=\"_blank\"><span style=\"color: #7f7f7f; text-decoration-color: #7f7f7f\">34</span></a>\n",
       "<span style=\"color: #7fbfbf; text-decoration-color: #7fbfbf\">           </span>         = nan, sumw = <span style=\"color: #008080; text-decoration-color: #008080; font-weight: bold\">5688569265.641</span><span style=\"font-weight: bold\">)</span>                                                  <span style=\"color: #7f7f7f; text-decoration-color: #7f7f7f\">                </span>\n",
       "</pre>\n"
      ],
      "text/plain": [
       "\u001b[2;36m          \u001b[0m\u001b[2;36m \u001b[0m\u001b[34mINFO    \u001b[0m Scaling ST_t-channel_top_4f_InclusiveDecays by \u001b[1;36m19.520000000\u001b[0m \u001b[1m(\u001b[0mlumi = \u001b[1;36m19.52\u001b[0m, xs  \u001b]8;id=340141;file:///tmp/ipykernel_18646/2088555353.py\u001b\\\u001b[2m2088555353.py\u001b[0m\u001b]8;;\u001b\\\u001b[2m:\u001b[0m\u001b]8;id=284443;file:///tmp/ipykernel_18646/2088555353.py#34\u001b\\\u001b[2m34\u001b[0m\u001b]8;;\u001b\\\n",
       "\u001b[2;36m           \u001b[0m         = nan, sumw = \u001b[1;36m5688569265.641\u001b[0m\u001b[1m)\u001b[0m                                                  \u001b[2m                \u001b[0m\n"
      ]
     },
     "metadata": {},
     "output_type": "display_data"
    },
    {
     "name": "stdout",
     "output_type": "stream",
     "text": [
      "ST_t-channel_top_5f_InclusiveDecays\n"
     ]
    },
    {
     "data": {
      "text/html": [
       "<pre style=\"white-space:pre;overflow-x:auto;line-height:normal;font-family:Menlo,'DejaVu Sans Mono',consolas,'Courier New',monospace\"><span style=\"color: #7fbfbf; text-decoration-color: #7fbfbf\">           </span><span style=\"color: #000080; text-decoration-color: #000080\">INFO    </span> Readign sample: ST_t-channel_top_5f_InclusiveDecays, from:                     <a href=\"file:///tmp/ipykernel_18646/2088555353.py\" target=\"_blank\"><span style=\"color: #7f7f7f; text-decoration-color: #7f7f7f\">2088555353.py</span></a><span style=\"color: #7f7f7f; text-decoration-color: #7f7f7f\">:</span><a href=\"file:///tmp/ipykernel_18646/2088555353.py#23\" target=\"_blank\"><span style=\"color: #7f7f7f; text-decoration-color: #7f7f7f\">23</span></a>\n",
       "<span style=\"color: #7fbfbf; text-decoration-color: #7fbfbf\">           </span>         inputs16APV/hists_sum_ST_t-channel_top_5f_InclusiveDecays.hist                 <span style=\"color: #7f7f7f; text-decoration-color: #7f7f7f\">                </span>\n",
       "</pre>\n"
      ],
      "text/plain": [
       "\u001b[2;36m          \u001b[0m\u001b[2;36m \u001b[0m\u001b[34mINFO    \u001b[0m Readign sample: ST_t-channel_top_5f_InclusiveDecays, from:                     \u001b]8;id=145820;file:///tmp/ipykernel_18646/2088555353.py\u001b\\\u001b[2m2088555353.py\u001b[0m\u001b]8;;\u001b\\\u001b[2m:\u001b[0m\u001b]8;id=642370;file:///tmp/ipykernel_18646/2088555353.py#23\u001b\\\u001b[2m23\u001b[0m\u001b]8;;\u001b\\\n",
       "\u001b[2;36m           \u001b[0m         inputs16APV/hists_sum_ST_t-channel_top_5f_InclusiveDecays.hist                 \u001b[2m                \u001b[0m\n"
      ]
     },
     "metadata": {},
     "output_type": "display_data"
    },
    {
     "name": "stdout",
     "output_type": "stream",
     "text": [
      "ST_tW_antitop_5f_inclusiveDecays\n"
     ]
    },
    {
     "data": {
      "text/html": [
       "<pre style=\"white-space:pre;overflow-x:auto;line-height:normal;font-family:Menlo,'DejaVu Sans Mono',consolas,'Courier New',monospace\"><span style=\"color: #7fbfbf; text-decoration-color: #7fbfbf\">           </span><span style=\"color: #000080; text-decoration-color: #000080\">INFO    </span> Readign sample: ST_tW_antitop_5f_inclusiveDecays, from:                        <a href=\"file:///tmp/ipykernel_18646/2088555353.py\" target=\"_blank\"><span style=\"color: #7f7f7f; text-decoration-color: #7f7f7f\">2088555353.py</span></a><span style=\"color: #7f7f7f; text-decoration-color: #7f7f7f\">:</span><a href=\"file:///tmp/ipykernel_18646/2088555353.py#23\" target=\"_blank\"><span style=\"color: #7f7f7f; text-decoration-color: #7f7f7f\">23</span></a>\n",
       "<span style=\"color: #7fbfbf; text-decoration-color: #7fbfbf\">           </span>         inputs16APV/hists_sum_ST_tW_antitop_5f_inclusiveDecays.hist                    <span style=\"color: #7f7f7f; text-decoration-color: #7f7f7f\">                </span>\n",
       "</pre>\n"
      ],
      "text/plain": [
       "\u001b[2;36m          \u001b[0m\u001b[2;36m \u001b[0m\u001b[34mINFO    \u001b[0m Readign sample: ST_tW_antitop_5f_inclusiveDecays, from:                        \u001b]8;id=473004;file:///tmp/ipykernel_18646/2088555353.py\u001b\\\u001b[2m2088555353.py\u001b[0m\u001b]8;;\u001b\\\u001b[2m:\u001b[0m\u001b]8;id=146056;file:///tmp/ipykernel_18646/2088555353.py#23\u001b\\\u001b[2m23\u001b[0m\u001b]8;;\u001b\\\n",
       "\u001b[2;36m           \u001b[0m         inputs16APV/hists_sum_ST_tW_antitop_5f_inclusiveDecays.hist                    \u001b[2m                \u001b[0m\n"
      ]
     },
     "metadata": {},
     "output_type": "display_data"
    },
    {
     "data": {
      "text/html": [
       "<pre style=\"white-space:pre;overflow-x:auto;line-height:normal;font-family:Menlo,'DejaVu Sans Mono',consolas,'Courier New',monospace\"><span style=\"color: #7fbfbf; text-decoration-color: #7fbfbf\">           </span><span style=\"color: #000080; text-decoration-color: #000080\">INFO    </span> Scaling ST_tW_antitop_5f_inclusiveDecays by <span style=\"color: #008080; text-decoration-color: #008080; font-weight: bold\">19.520000000</span> <span style=\"font-weight: bold\">(</span>lumi = <span style=\"color: #008080; text-decoration-color: #008080; font-weight: bold\">19.52</span>, xs =   <a href=\"file:///tmp/ipykernel_18646/2088555353.py\" target=\"_blank\"><span style=\"color: #7f7f7f; text-decoration-color: #7f7f7f\">2088555353.py</span></a><span style=\"color: #7f7f7f; text-decoration-color: #7f7f7f\">:</span><a href=\"file:///tmp/ipykernel_18646/2088555353.py#34\" target=\"_blank\"><span style=\"color: #7f7f7f; text-decoration-color: #7f7f7f\">34</span></a>\n",
       "<span style=\"color: #7fbfbf; text-decoration-color: #7fbfbf\">           </span>         nan, sumw = <span style=\"color: #008080; text-decoration-color: #008080; font-weight: bold\">74766341.688</span><span style=\"font-weight: bold\">)</span>                                                      <span style=\"color: #7f7f7f; text-decoration-color: #7f7f7f\">                </span>\n",
       "</pre>\n"
      ],
      "text/plain": [
       "\u001b[2;36m          \u001b[0m\u001b[2;36m \u001b[0m\u001b[34mINFO    \u001b[0m Scaling ST_tW_antitop_5f_inclusiveDecays by \u001b[1;36m19.520000000\u001b[0m \u001b[1m(\u001b[0mlumi = \u001b[1;36m19.52\u001b[0m, xs =   \u001b]8;id=304084;file:///tmp/ipykernel_18646/2088555353.py\u001b\\\u001b[2m2088555353.py\u001b[0m\u001b]8;;\u001b\\\u001b[2m:\u001b[0m\u001b]8;id=501197;file:///tmp/ipykernel_18646/2088555353.py#34\u001b\\\u001b[2m34\u001b[0m\u001b]8;;\u001b\\\n",
       "\u001b[2;36m           \u001b[0m         nan, sumw = \u001b[1;36m74766341.688\u001b[0m\u001b[1m)\u001b[0m                                                      \u001b[2m                \u001b[0m\n"
      ]
     },
     "metadata": {},
     "output_type": "display_data"
    },
    {
     "name": "stdout",
     "output_type": "stream",
     "text": [
      "ST_tW_antitop_5f_NoFullyHadronicDecays\n"
     ]
    },
    {
     "data": {
      "text/html": [
       "<pre style=\"white-space:pre;overflow-x:auto;line-height:normal;font-family:Menlo,'DejaVu Sans Mono',consolas,'Courier New',monospace\"><span style=\"color: #7fbfbf; text-decoration-color: #7fbfbf\">           </span><span style=\"color: #000080; text-decoration-color: #000080\">INFO    </span> Readign sample: ST_tW_antitop_5f_NoFullyHadronicDecays, from:                  <a href=\"file:///tmp/ipykernel_18646/2088555353.py\" target=\"_blank\"><span style=\"color: #7f7f7f; text-decoration-color: #7f7f7f\">2088555353.py</span></a><span style=\"color: #7f7f7f; text-decoration-color: #7f7f7f\">:</span><a href=\"file:///tmp/ipykernel_18646/2088555353.py#23\" target=\"_blank\"><span style=\"color: #7f7f7f; text-decoration-color: #7f7f7f\">23</span></a>\n",
       "<span style=\"color: #7fbfbf; text-decoration-color: #7fbfbf\">           </span>         inputs16APV/hists_sum_ST_tW_antitop_5f_NoFullyHadronicDecays.hist              <span style=\"color: #7f7f7f; text-decoration-color: #7f7f7f\">                </span>\n",
       "</pre>\n"
      ],
      "text/plain": [
       "\u001b[2;36m          \u001b[0m\u001b[2;36m \u001b[0m\u001b[34mINFO    \u001b[0m Readign sample: ST_tW_antitop_5f_NoFullyHadronicDecays, from:                  \u001b]8;id=803729;file:///tmp/ipykernel_18646/2088555353.py\u001b\\\u001b[2m2088555353.py\u001b[0m\u001b]8;;\u001b\\\u001b[2m:\u001b[0m\u001b]8;id=814228;file:///tmp/ipykernel_18646/2088555353.py#23\u001b\\\u001b[2m23\u001b[0m\u001b]8;;\u001b\\\n",
       "\u001b[2;36m           \u001b[0m         inputs16APV/hists_sum_ST_tW_antitop_5f_NoFullyHadronicDecays.hist              \u001b[2m                \u001b[0m\n"
      ]
     },
     "metadata": {},
     "output_type": "display_data"
    },
    {
     "name": "stdout",
     "output_type": "stream",
     "text": [
      "ST_tW_top_5f_inclusiveDecays\n"
     ]
    },
    {
     "data": {
      "text/html": [
       "<pre style=\"white-space:pre;overflow-x:auto;line-height:normal;font-family:Menlo,'DejaVu Sans Mono',consolas,'Courier New',monospace\"><span style=\"color: #7fbfbf; text-decoration-color: #7fbfbf\">           </span><span style=\"color: #000080; text-decoration-color: #000080\">INFO    </span> Readign sample: ST_tW_top_5f_inclusiveDecays, from:                            <a href=\"file:///tmp/ipykernel_18646/2088555353.py\" target=\"_blank\"><span style=\"color: #7f7f7f; text-decoration-color: #7f7f7f\">2088555353.py</span></a><span style=\"color: #7f7f7f; text-decoration-color: #7f7f7f\">:</span><a href=\"file:///tmp/ipykernel_18646/2088555353.py#23\" target=\"_blank\"><span style=\"color: #7f7f7f; text-decoration-color: #7f7f7f\">23</span></a>\n",
       "<span style=\"color: #7fbfbf; text-decoration-color: #7fbfbf\">           </span>         inputs16APV/hists_sum_ST_tW_top_5f_inclusiveDecays.hist                        <span style=\"color: #7f7f7f; text-decoration-color: #7f7f7f\">                </span>\n",
       "</pre>\n"
      ],
      "text/plain": [
       "\u001b[2;36m          \u001b[0m\u001b[2;36m \u001b[0m\u001b[34mINFO    \u001b[0m Readign sample: ST_tW_top_5f_inclusiveDecays, from:                            \u001b]8;id=802540;file:///tmp/ipykernel_18646/2088555353.py\u001b\\\u001b[2m2088555353.py\u001b[0m\u001b]8;;\u001b\\\u001b[2m:\u001b[0m\u001b]8;id=179294;file:///tmp/ipykernel_18646/2088555353.py#23\u001b\\\u001b[2m23\u001b[0m\u001b]8;;\u001b\\\n",
       "\u001b[2;36m           \u001b[0m         inputs16APV/hists_sum_ST_tW_top_5f_inclusiveDecays.hist                        \u001b[2m                \u001b[0m\n"
      ]
     },
     "metadata": {},
     "output_type": "display_data"
    },
    {
     "data": {
      "text/html": [
       "<pre style=\"white-space:pre;overflow-x:auto;line-height:normal;font-family:Menlo,'DejaVu Sans Mono',consolas,'Courier New',monospace\"><span style=\"color: #7fbfbf; text-decoration-color: #7fbfbf\">           </span><span style=\"color: #000080; text-decoration-color: #000080\">INFO    </span> Scaling ST_tW_top_5f_inclusiveDecays by <span style=\"color: #008080; text-decoration-color: #008080; font-weight: bold\">19.520000000</span> <span style=\"font-weight: bold\">(</span>lumi = <span style=\"color: #008080; text-decoration-color: #008080; font-weight: bold\">19.52</span>, xs = nan,  <a href=\"file:///tmp/ipykernel_18646/2088555353.py\" target=\"_blank\"><span style=\"color: #7f7f7f; text-decoration-color: #7f7f7f\">2088555353.py</span></a><span style=\"color: #7f7f7f; text-decoration-color: #7f7f7f\">:</span><a href=\"file:///tmp/ipykernel_18646/2088555353.py#34\" target=\"_blank\"><span style=\"color: #7f7f7f; text-decoration-color: #7f7f7f\">34</span></a>\n",
       "<span style=\"color: #7fbfbf; text-decoration-color: #7fbfbf\">           </span>         sumw = <span style=\"color: #008080; text-decoration-color: #008080; font-weight: bold\">74624667.211</span><span style=\"font-weight: bold\">)</span>                                                           <span style=\"color: #7f7f7f; text-decoration-color: #7f7f7f\">                </span>\n",
       "</pre>\n"
      ],
      "text/plain": [
       "\u001b[2;36m          \u001b[0m\u001b[2;36m \u001b[0m\u001b[34mINFO    \u001b[0m Scaling ST_tW_top_5f_inclusiveDecays by \u001b[1;36m19.520000000\u001b[0m \u001b[1m(\u001b[0mlumi = \u001b[1;36m19.52\u001b[0m, xs = nan,  \u001b]8;id=872026;file:///tmp/ipykernel_18646/2088555353.py\u001b\\\u001b[2m2088555353.py\u001b[0m\u001b]8;;\u001b\\\u001b[2m:\u001b[0m\u001b]8;id=791323;file:///tmp/ipykernel_18646/2088555353.py#34\u001b\\\u001b[2m34\u001b[0m\u001b]8;;\u001b\\\n",
       "\u001b[2;36m           \u001b[0m         sumw = \u001b[1;36m74624667.211\u001b[0m\u001b[1m)\u001b[0m                                                           \u001b[2m                \u001b[0m\n"
      ]
     },
     "metadata": {},
     "output_type": "display_data"
    },
    {
     "name": "stdout",
     "output_type": "stream",
     "text": [
      "ST_tW_top_5f_NoFullyHadronicDecays\n"
     ]
    },
    {
     "data": {
      "text/html": [
       "<pre style=\"white-space:pre;overflow-x:auto;line-height:normal;font-family:Menlo,'DejaVu Sans Mono',consolas,'Courier New',monospace\"><span style=\"color: #7fbfbf; text-decoration-color: #7fbfbf\">           </span><span style=\"color: #000080; text-decoration-color: #000080\">INFO    </span> Readign sample: ST_tW_top_5f_NoFullyHadronicDecays, from:                      <a href=\"file:///tmp/ipykernel_18646/2088555353.py\" target=\"_blank\"><span style=\"color: #7f7f7f; text-decoration-color: #7f7f7f\">2088555353.py</span></a><span style=\"color: #7f7f7f; text-decoration-color: #7f7f7f\">:</span><a href=\"file:///tmp/ipykernel_18646/2088555353.py#23\" target=\"_blank\"><span style=\"color: #7f7f7f; text-decoration-color: #7f7f7f\">23</span></a>\n",
       "<span style=\"color: #7fbfbf; text-decoration-color: #7fbfbf\">           </span>         inputs16APV/hists_sum_ST_tW_top_5f_NoFullyHadronicDecays.hist                  <span style=\"color: #7f7f7f; text-decoration-color: #7f7f7f\">                </span>\n",
       "</pre>\n"
      ],
      "text/plain": [
       "\u001b[2;36m          \u001b[0m\u001b[2;36m \u001b[0m\u001b[34mINFO    \u001b[0m Readign sample: ST_tW_top_5f_NoFullyHadronicDecays, from:                      \u001b]8;id=783034;file:///tmp/ipykernel_18646/2088555353.py\u001b\\\u001b[2m2088555353.py\u001b[0m\u001b]8;;\u001b\\\u001b[2m:\u001b[0m\u001b]8;id=482824;file:///tmp/ipykernel_18646/2088555353.py#23\u001b\\\u001b[2m23\u001b[0m\u001b]8;;\u001b\\\n",
       "\u001b[2;36m           \u001b[0m         inputs16APV/hists_sum_ST_tW_top_5f_NoFullyHadronicDecays.hist                  \u001b[2m                \u001b[0m\n"
      ]
     },
     "metadata": {},
     "output_type": "display_data"
    },
    {
     "name": "stdout",
     "output_type": "stream",
     "text": [
      "WW_TuneCP5_13TeV-pythia8\n"
     ]
    },
    {
     "data": {
      "text/html": [
       "<pre style=\"white-space:pre;overflow-x:auto;line-height:normal;font-family:Menlo,'DejaVu Sans Mono',consolas,'Courier New',monospace\"><span style=\"color: #7fbfbf; text-decoration-color: #7fbfbf\">           </span><span style=\"color: #000080; text-decoration-color: #000080\">INFO    </span> Readign sample: WW_TuneCP5_13TeV-pythia8, from:                                <a href=\"file:///tmp/ipykernel_18646/2088555353.py\" target=\"_blank\"><span style=\"color: #7f7f7f; text-decoration-color: #7f7f7f\">2088555353.py</span></a><span style=\"color: #7f7f7f; text-decoration-color: #7f7f7f\">:</span><a href=\"file:///tmp/ipykernel_18646/2088555353.py#23\" target=\"_blank\"><span style=\"color: #7f7f7f; text-decoration-color: #7f7f7f\">23</span></a>\n",
       "<span style=\"color: #7fbfbf; text-decoration-color: #7fbfbf\">           </span>         inputs16APV/hists_sum_WW_TuneCP5_13TeV-pythia8.hist                            <span style=\"color: #7f7f7f; text-decoration-color: #7f7f7f\">                </span>\n",
       "</pre>\n"
      ],
      "text/plain": [
       "\u001b[2;36m          \u001b[0m\u001b[2;36m \u001b[0m\u001b[34mINFO    \u001b[0m Readign sample: WW_TuneCP5_13TeV-pythia8, from:                                \u001b]8;id=251971;file:///tmp/ipykernel_18646/2088555353.py\u001b\\\u001b[2m2088555353.py\u001b[0m\u001b]8;;\u001b\\\u001b[2m:\u001b[0m\u001b]8;id=939684;file:///tmp/ipykernel_18646/2088555353.py#23\u001b\\\u001b[2m23\u001b[0m\u001b]8;;\u001b\\\n",
       "\u001b[2;36m           \u001b[0m         inputs16APV/hists_sum_WW_TuneCP5_13TeV-pythia8.hist                            \u001b[2m                \u001b[0m\n"
      ]
     },
     "metadata": {},
     "output_type": "display_data"
    },
    {
     "name": "stdout",
     "output_type": "stream",
     "text": [
      "WZ_TuneCP5_13TeV-pythia8\n"
     ]
    },
    {
     "data": {
      "text/html": [
       "<pre style=\"white-space:pre;overflow-x:auto;line-height:normal;font-family:Menlo,'DejaVu Sans Mono',consolas,'Courier New',monospace\"><span style=\"color: #7fbfbf; text-decoration-color: #7fbfbf\">           </span><span style=\"color: #000080; text-decoration-color: #000080\">INFO    </span> Readign sample: WZ_TuneCP5_13TeV-pythia8, from:                                <a href=\"file:///tmp/ipykernel_18646/2088555353.py\" target=\"_blank\"><span style=\"color: #7f7f7f; text-decoration-color: #7f7f7f\">2088555353.py</span></a><span style=\"color: #7f7f7f; text-decoration-color: #7f7f7f\">:</span><a href=\"file:///tmp/ipykernel_18646/2088555353.py#23\" target=\"_blank\"><span style=\"color: #7f7f7f; text-decoration-color: #7f7f7f\">23</span></a>\n",
       "<span style=\"color: #7fbfbf; text-decoration-color: #7fbfbf\">           </span>         inputs16APV/hists_sum_WZ_TuneCP5_13TeV-pythia8.hist                            <span style=\"color: #7f7f7f; text-decoration-color: #7f7f7f\">                </span>\n",
       "</pre>\n"
      ],
      "text/plain": [
       "\u001b[2;36m          \u001b[0m\u001b[2;36m \u001b[0m\u001b[34mINFO    \u001b[0m Readign sample: WZ_TuneCP5_13TeV-pythia8, from:                                \u001b]8;id=58571;file:///tmp/ipykernel_18646/2088555353.py\u001b\\\u001b[2m2088555353.py\u001b[0m\u001b]8;;\u001b\\\u001b[2m:\u001b[0m\u001b]8;id=228170;file:///tmp/ipykernel_18646/2088555353.py#23\u001b\\\u001b[2m23\u001b[0m\u001b]8;;\u001b\\\n",
       "\u001b[2;36m           \u001b[0m         inputs16APV/hists_sum_WZ_TuneCP5_13TeV-pythia8.hist                            \u001b[2m                \u001b[0m\n"
      ]
     },
     "metadata": {},
     "output_type": "display_data"
    },
    {
     "name": "stdout",
     "output_type": "stream",
     "text": [
      "ZZ_TuneCP5_13TeV-pythia8\n"
     ]
    },
    {
     "data": {
      "text/html": [
       "<pre style=\"white-space:pre;overflow-x:auto;line-height:normal;font-family:Menlo,'DejaVu Sans Mono',consolas,'Courier New',monospace\"><span style=\"color: #7fbfbf; text-decoration-color: #7fbfbf\">           </span><span style=\"color: #000080; text-decoration-color: #000080\">INFO    </span> Readign sample: ZZ_TuneCP5_13TeV-pythia8, from:                                <a href=\"file:///tmp/ipykernel_18646/2088555353.py\" target=\"_blank\"><span style=\"color: #7f7f7f; text-decoration-color: #7f7f7f\">2088555353.py</span></a><span style=\"color: #7f7f7f; text-decoration-color: #7f7f7f\">:</span><a href=\"file:///tmp/ipykernel_18646/2088555353.py#23\" target=\"_blank\"><span style=\"color: #7f7f7f; text-decoration-color: #7f7f7f\">23</span></a>\n",
       "<span style=\"color: #7fbfbf; text-decoration-color: #7fbfbf\">           </span>         inputs16APV/hists_sum_ZZ_TuneCP5_13TeV-pythia8.hist                            <span style=\"color: #7f7f7f; text-decoration-color: #7f7f7f\">                </span>\n",
       "</pre>\n"
      ],
      "text/plain": [
       "\u001b[2;36m          \u001b[0m\u001b[2;36m \u001b[0m\u001b[34mINFO    \u001b[0m Readign sample: ZZ_TuneCP5_13TeV-pythia8, from:                                \u001b]8;id=245401;file:///tmp/ipykernel_18646/2088555353.py\u001b\\\u001b[2m2088555353.py\u001b[0m\u001b]8;;\u001b\\\u001b[2m:\u001b[0m\u001b]8;id=62901;file:///tmp/ipykernel_18646/2088555353.py#23\u001b\\\u001b[2m23\u001b[0m\u001b]8;;\u001b\\\n",
       "\u001b[2;36m           \u001b[0m         inputs16APV/hists_sum_ZZ_TuneCP5_13TeV-pythia8.hist                            \u001b[2m                \u001b[0m\n"
      ]
     },
     "metadata": {},
     "output_type": "display_data"
    },
    {
     "name": "stdout",
     "output_type": "stream",
     "text": [
      "WW\n"
     ]
    },
    {
     "data": {
      "text/html": [
       "<pre style=\"white-space:pre;overflow-x:auto;line-height:normal;font-family:Menlo,'DejaVu Sans Mono',consolas,'Courier New',monospace\"><span style=\"color: #7fbfbf; text-decoration-color: #7fbfbf\">           </span><span style=\"color: #000080; text-decoration-color: #000080\">INFO    </span> Readign sample: WW, from: inputs16APV/hists_sum_WW.hist                        <a href=\"file:///tmp/ipykernel_18646/2088555353.py\" target=\"_blank\"><span style=\"color: #7f7f7f; text-decoration-color: #7f7f7f\">2088555353.py</span></a><span style=\"color: #7f7f7f; text-decoration-color: #7f7f7f\">:</span><a href=\"file:///tmp/ipykernel_18646/2088555353.py#23\" target=\"_blank\"><span style=\"color: #7f7f7f; text-decoration-color: #7f7f7f\">23</span></a>\n",
       "</pre>\n"
      ],
      "text/plain": [
       "\u001b[2;36m          \u001b[0m\u001b[2;36m \u001b[0m\u001b[34mINFO    \u001b[0m Readign sample: WW, from: inputs16APV/hists_sum_WW.hist                        \u001b]8;id=600555;file:///tmp/ipykernel_18646/2088555353.py\u001b\\\u001b[2m2088555353.py\u001b[0m\u001b]8;;\u001b\\\u001b[2m:\u001b[0m\u001b]8;id=886660;file:///tmp/ipykernel_18646/2088555353.py#23\u001b\\\u001b[2m23\u001b[0m\u001b]8;;\u001b\\\n"
      ]
     },
     "metadata": {},
     "output_type": "display_data"
    },
    {
     "data": {
      "text/html": [
       "<pre style=\"white-space:pre;overflow-x:auto;line-height:normal;font-family:Menlo,'DejaVu Sans Mono',consolas,'Courier New',monospace\"><span style=\"color: #7fbfbf; text-decoration-color: #7fbfbf\">           </span><span style=\"color: #000080; text-decoration-color: #000080\">INFO    </span> Scaling WW by <span style=\"color: #008080; text-decoration-color: #008080; font-weight: bold\">19.520000000</span> <span style=\"font-weight: bold\">(</span>lumi = <span style=\"color: #008080; text-decoration-color: #008080; font-weight: bold\">19.52</span>, xs = nan, sumw = <span style=\"color: #008080; text-decoration-color: #008080; font-weight: bold\">13340109.197</span><span style=\"font-weight: bold\">)</span>       <a href=\"file:///tmp/ipykernel_18646/2088555353.py\" target=\"_blank\"><span style=\"color: #7f7f7f; text-decoration-color: #7f7f7f\">2088555353.py</span></a><span style=\"color: #7f7f7f; text-decoration-color: #7f7f7f\">:</span><a href=\"file:///tmp/ipykernel_18646/2088555353.py#34\" target=\"_blank\"><span style=\"color: #7f7f7f; text-decoration-color: #7f7f7f\">34</span></a>\n",
       "</pre>\n"
      ],
      "text/plain": [
       "\u001b[2;36m          \u001b[0m\u001b[2;36m \u001b[0m\u001b[34mINFO    \u001b[0m Scaling WW by \u001b[1;36m19.520000000\u001b[0m \u001b[1m(\u001b[0mlumi = \u001b[1;36m19.52\u001b[0m, xs = nan, sumw = \u001b[1;36m13340109.197\u001b[0m\u001b[1m)\u001b[0m       \u001b]8;id=806193;file:///tmp/ipykernel_18646/2088555353.py\u001b\\\u001b[2m2088555353.py\u001b[0m\u001b]8;;\u001b\\\u001b[2m:\u001b[0m\u001b]8;id=566755;file:///tmp/ipykernel_18646/2088555353.py#34\u001b\\\u001b[2m34\u001b[0m\u001b]8;;\u001b\\\n"
      ]
     },
     "metadata": {},
     "output_type": "display_data"
    },
    {
     "name": "stdout",
     "output_type": "stream",
     "text": [
      "WZ\n"
     ]
    },
    {
     "data": {
      "text/html": [
       "<pre style=\"white-space:pre;overflow-x:auto;line-height:normal;font-family:Menlo,'DejaVu Sans Mono',consolas,'Courier New',monospace\"><span style=\"color: #7fbfbf; text-decoration-color: #7fbfbf\">           </span><span style=\"color: #000080; text-decoration-color: #000080\">INFO    </span> Readign sample: WZ, from: inputs16APV/hists_sum_WZ.hist                        <a href=\"file:///tmp/ipykernel_18646/2088555353.py\" target=\"_blank\"><span style=\"color: #7f7f7f; text-decoration-color: #7f7f7f\">2088555353.py</span></a><span style=\"color: #7f7f7f; text-decoration-color: #7f7f7f\">:</span><a href=\"file:///tmp/ipykernel_18646/2088555353.py#23\" target=\"_blank\"><span style=\"color: #7f7f7f; text-decoration-color: #7f7f7f\">23</span></a>\n",
       "</pre>\n"
      ],
      "text/plain": [
       "\u001b[2;36m          \u001b[0m\u001b[2;36m \u001b[0m\u001b[34mINFO    \u001b[0m Readign sample: WZ, from: inputs16APV/hists_sum_WZ.hist                        \u001b]8;id=677863;file:///tmp/ipykernel_18646/2088555353.py\u001b\\\u001b[2m2088555353.py\u001b[0m\u001b]8;;\u001b\\\u001b[2m:\u001b[0m\u001b]8;id=732590;file:///tmp/ipykernel_18646/2088555353.py#23\u001b\\\u001b[2m23\u001b[0m\u001b]8;;\u001b\\\n"
      ]
     },
     "metadata": {},
     "output_type": "display_data"
    },
    {
     "data": {
      "text/html": [
       "<pre style=\"white-space:pre;overflow-x:auto;line-height:normal;font-family:Menlo,'DejaVu Sans Mono',consolas,'Courier New',monospace\"><span style=\"color: #7fbfbf; text-decoration-color: #7fbfbf\">           </span><span style=\"color: #000080; text-decoration-color: #000080\">INFO    </span> Scaling WZ by <span style=\"color: #008080; text-decoration-color: #008080; font-weight: bold\">19.520000000</span> <span style=\"font-weight: bold\">(</span>lumi = <span style=\"color: #008080; text-decoration-color: #008080; font-weight: bold\">19.52</span>, xs = nan, sumw = <span style=\"color: #008080; text-decoration-color: #008080; font-weight: bold\">7841000.000</span><span style=\"font-weight: bold\">)</span>        <a href=\"file:///tmp/ipykernel_18646/2088555353.py\" target=\"_blank\"><span style=\"color: #7f7f7f; text-decoration-color: #7f7f7f\">2088555353.py</span></a><span style=\"color: #7f7f7f; text-decoration-color: #7f7f7f\">:</span><a href=\"file:///tmp/ipykernel_18646/2088555353.py#34\" target=\"_blank\"><span style=\"color: #7f7f7f; text-decoration-color: #7f7f7f\">34</span></a>\n",
       "</pre>\n"
      ],
      "text/plain": [
       "\u001b[2;36m          \u001b[0m\u001b[2;36m \u001b[0m\u001b[34mINFO    \u001b[0m Scaling WZ by \u001b[1;36m19.520000000\u001b[0m \u001b[1m(\u001b[0mlumi = \u001b[1;36m19.52\u001b[0m, xs = nan, sumw = \u001b[1;36m7841000.000\u001b[0m\u001b[1m)\u001b[0m        \u001b]8;id=127379;file:///tmp/ipykernel_18646/2088555353.py\u001b\\\u001b[2m2088555353.py\u001b[0m\u001b]8;;\u001b\\\u001b[2m:\u001b[0m\u001b]8;id=859508;file:///tmp/ipykernel_18646/2088555353.py#34\u001b\\\u001b[2m34\u001b[0m\u001b]8;;\u001b\\\n"
      ]
     },
     "metadata": {},
     "output_type": "display_data"
    },
    {
     "name": "stdout",
     "output_type": "stream",
     "text": [
      "ZZ\n"
     ]
    },
    {
     "data": {
      "text/html": [
       "<pre style=\"white-space:pre;overflow-x:auto;line-height:normal;font-family:Menlo,'DejaVu Sans Mono',consolas,'Courier New',monospace\"><span style=\"color: #7fbfbf; text-decoration-color: #7fbfbf\">           </span><span style=\"color: #000080; text-decoration-color: #000080\">INFO    </span> Readign sample: ZZ, from: inputs16APV/hists_sum_ZZ.hist                        <a href=\"file:///tmp/ipykernel_18646/2088555353.py\" target=\"_blank\"><span style=\"color: #7f7f7f; text-decoration-color: #7f7f7f\">2088555353.py</span></a><span style=\"color: #7f7f7f; text-decoration-color: #7f7f7f\">:</span><a href=\"file:///tmp/ipykernel_18646/2088555353.py#23\" target=\"_blank\"><span style=\"color: #7f7f7f; text-decoration-color: #7f7f7f\">23</span></a>\n",
       "</pre>\n"
      ],
      "text/plain": [
       "\u001b[2;36m          \u001b[0m\u001b[2;36m \u001b[0m\u001b[34mINFO    \u001b[0m Readign sample: ZZ, from: inputs16APV/hists_sum_ZZ.hist                        \u001b]8;id=987134;file:///tmp/ipykernel_18646/2088555353.py\u001b\\\u001b[2m2088555353.py\u001b[0m\u001b]8;;\u001b\\\u001b[2m:\u001b[0m\u001b]8;id=609503;file:///tmp/ipykernel_18646/2088555353.py#23\u001b\\\u001b[2m23\u001b[0m\u001b]8;;\u001b\\\n"
      ]
     },
     "metadata": {},
     "output_type": "display_data"
    },
    {
     "data": {
      "text/html": [
       "<pre style=\"white-space:pre;overflow-x:auto;line-height:normal;font-family:Menlo,'DejaVu Sans Mono',consolas,'Courier New',monospace\"><span style=\"color: #7fbfbf; text-decoration-color: #7fbfbf\">           </span><span style=\"color: #000080; text-decoration-color: #000080\">INFO    </span> Scaling ZZ by <span style=\"color: #008080; text-decoration-color: #008080; font-weight: bold\">19.520000000</span> <span style=\"font-weight: bold\">(</span>lumi = <span style=\"color: #008080; text-decoration-color: #008080; font-weight: bold\">19.52</span>, xs = nan, sumw = <span style=\"color: #008080; text-decoration-color: #008080; font-weight: bold\">1279000.000</span><span style=\"font-weight: bold\">)</span>        <a href=\"file:///tmp/ipykernel_18646/2088555353.py\" target=\"_blank\"><span style=\"color: #7f7f7f; text-decoration-color: #7f7f7f\">2088555353.py</span></a><span style=\"color: #7f7f7f; text-decoration-color: #7f7f7f\">:</span><a href=\"file:///tmp/ipykernel_18646/2088555353.py#34\" target=\"_blank\"><span style=\"color: #7f7f7f; text-decoration-color: #7f7f7f\">34</span></a>\n",
       "</pre>\n"
      ],
      "text/plain": [
       "\u001b[2;36m          \u001b[0m\u001b[2;36m \u001b[0m\u001b[34mINFO    \u001b[0m Scaling ZZ by \u001b[1;36m19.520000000\u001b[0m \u001b[1m(\u001b[0mlumi = \u001b[1;36m19.52\u001b[0m, xs = nan, sumw = \u001b[1;36m1279000.000\u001b[0m\u001b[1m)\u001b[0m        \u001b]8;id=973769;file:///tmp/ipykernel_18646/2088555353.py\u001b\\\u001b[2m2088555353.py\u001b[0m\u001b]8;;\u001b\\\u001b[2m:\u001b[0m\u001b]8;id=96375;file:///tmp/ipykernel_18646/2088555353.py#34\u001b\\\u001b[2m34\u001b[0m\u001b]8;;\u001b\\\n"
      ]
     },
     "metadata": {},
     "output_type": "display_data"
    },
    {
     "name": "stdout",
     "output_type": "stream",
     "text": [
      "GluGluHToWWToLNuQQ_M125_NNPDF31_TuneCP5_PSweights_13TeV_powheg_JHUGen710_pythia8\n"
     ]
    },
    {
     "data": {
      "text/html": [
       "<pre style=\"white-space:pre;overflow-x:auto;line-height:normal;font-family:Menlo,'DejaVu Sans Mono',consolas,'Courier New',monospace\"><span style=\"color: #7fbfbf; text-decoration-color: #7fbfbf\">           </span><span style=\"color: #000080; text-decoration-color: #000080\">INFO    </span> Readign sample:                                                                <a href=\"file:///tmp/ipykernel_18646/2088555353.py\" target=\"_blank\"><span style=\"color: #7f7f7f; text-decoration-color: #7f7f7f\">2088555353.py</span></a><span style=\"color: #7f7f7f; text-decoration-color: #7f7f7f\">:</span><a href=\"file:///tmp/ipykernel_18646/2088555353.py#23\" target=\"_blank\"><span style=\"color: #7f7f7f; text-decoration-color: #7f7f7f\">23</span></a>\n",
       "<span style=\"color: #7fbfbf; text-decoration-color: #7fbfbf\">           </span>         GluGluHToWWToLNuQQ_M125_NNPDF31_TuneCP5_PSweights_13TeV_powheg_JHUGen710_pythi <span style=\"color: #7f7f7f; text-decoration-color: #7f7f7f\">                </span>\n",
       "<span style=\"color: #7fbfbf; text-decoration-color: #7fbfbf\">           </span>         a8, from:                                                                      <span style=\"color: #7f7f7f; text-decoration-color: #7f7f7f\">                </span>\n",
       "<span style=\"color: #7fbfbf; text-decoration-color: #7fbfbf\">           </span>         inputs16APV/hists_sum_GluGluHToWWToLNuQQ_M125_NNPDF31_TuneCP5_PSweights_13TeV_ <span style=\"color: #7f7f7f; text-decoration-color: #7f7f7f\">                </span>\n",
       "<span style=\"color: #7fbfbf; text-decoration-color: #7fbfbf\">           </span>         powheg_JHUGen710_pythia8.hist                                                  <span style=\"color: #7f7f7f; text-decoration-color: #7f7f7f\">                </span>\n",
       "</pre>\n"
      ],
      "text/plain": [
       "\u001b[2;36m          \u001b[0m\u001b[2;36m \u001b[0m\u001b[34mINFO    \u001b[0m Readign sample:                                                                \u001b]8;id=242962;file:///tmp/ipykernel_18646/2088555353.py\u001b\\\u001b[2m2088555353.py\u001b[0m\u001b]8;;\u001b\\\u001b[2m:\u001b[0m\u001b]8;id=658082;file:///tmp/ipykernel_18646/2088555353.py#23\u001b\\\u001b[2m23\u001b[0m\u001b]8;;\u001b\\\n",
       "\u001b[2;36m           \u001b[0m         GluGluHToWWToLNuQQ_M125_NNPDF31_TuneCP5_PSweights_13TeV_powheg_JHUGen710_pythi \u001b[2m                \u001b[0m\n",
       "\u001b[2;36m           \u001b[0m         a8, from:                                                                      \u001b[2m                \u001b[0m\n",
       "\u001b[2;36m           \u001b[0m         inputs16APV/hists_sum_GluGluHToWWToLNuQQ_M125_NNPDF31_TuneCP5_PSweights_13TeV_ \u001b[2m                \u001b[0m\n",
       "\u001b[2;36m           \u001b[0m         powheg_JHUGen710_pythia8.hist                                                  \u001b[2m                \u001b[0m\n"
      ]
     },
     "metadata": {},
     "output_type": "display_data"
    },
    {
     "name": "stdout",
     "output_type": "stream",
     "text": [
      "GluGluHToWWToLNuQQ_M125_TuneCP5_PSweight_13TeV-powheg2-jhugen727-pythia8\n"
     ]
    },
    {
     "data": {
      "text/html": [
       "<pre style=\"white-space:pre;overflow-x:auto;line-height:normal;font-family:Menlo,'DejaVu Sans Mono',consolas,'Courier New',monospace\"><span style=\"color: #7fbfbf; text-decoration-color: #7fbfbf\">           </span><span style=\"color: #000080; text-decoration-color: #000080\">INFO    </span> Readign sample:                                                                <a href=\"file:///tmp/ipykernel_18646/2088555353.py\" target=\"_blank\"><span style=\"color: #7f7f7f; text-decoration-color: #7f7f7f\">2088555353.py</span></a><span style=\"color: #7f7f7f; text-decoration-color: #7f7f7f\">:</span><a href=\"file:///tmp/ipykernel_18646/2088555353.py#23\" target=\"_blank\"><span style=\"color: #7f7f7f; text-decoration-color: #7f7f7f\">23</span></a>\n",
       "<span style=\"color: #7fbfbf; text-decoration-color: #7fbfbf\">           </span>         GluGluHToWWToLNuQQ_M125_TuneCP5_PSweight_13TeV-powheg2-jhugen727-pythia8,      <span style=\"color: #7f7f7f; text-decoration-color: #7f7f7f\">                </span>\n",
       "<span style=\"color: #7fbfbf; text-decoration-color: #7fbfbf\">           </span>         from:                                                                          <span style=\"color: #7f7f7f; text-decoration-color: #7f7f7f\">                </span>\n",
       "<span style=\"color: #7fbfbf; text-decoration-color: #7fbfbf\">           </span>         inputs16APV/hists_sum_GluGluHToWWToLNuQQ_M125_TuneCP5_PSweight_13TeV-powheg2-j <span style=\"color: #7f7f7f; text-decoration-color: #7f7f7f\">                </span>\n",
       "<span style=\"color: #7fbfbf; text-decoration-color: #7fbfbf\">           </span>         hugen727-pythia8.hist                                                          <span style=\"color: #7f7f7f; text-decoration-color: #7f7f7f\">                </span>\n",
       "</pre>\n"
      ],
      "text/plain": [
       "\u001b[2;36m          \u001b[0m\u001b[2;36m \u001b[0m\u001b[34mINFO    \u001b[0m Readign sample:                                                                \u001b]8;id=887297;file:///tmp/ipykernel_18646/2088555353.py\u001b\\\u001b[2m2088555353.py\u001b[0m\u001b]8;;\u001b\\\u001b[2m:\u001b[0m\u001b]8;id=243973;file:///tmp/ipykernel_18646/2088555353.py#23\u001b\\\u001b[2m23\u001b[0m\u001b]8;;\u001b\\\n",
       "\u001b[2;36m           \u001b[0m         GluGluHToWWToLNuQQ_M125_TuneCP5_PSweight_13TeV-powheg2-jhugen727-pythia8,      \u001b[2m                \u001b[0m\n",
       "\u001b[2;36m           \u001b[0m         from:                                                                          \u001b[2m                \u001b[0m\n",
       "\u001b[2;36m           \u001b[0m         inputs16APV/hists_sum_GluGluHToWWToLNuQQ_M125_TuneCP5_PSweight_13TeV-powheg2-j \u001b[2m                \u001b[0m\n",
       "\u001b[2;36m           \u001b[0m         hugen727-pythia8.hist                                                          \u001b[2m                \u001b[0m\n"
      ]
     },
     "metadata": {},
     "output_type": "display_data"
    },
    {
     "name": "stdout",
     "output_type": "stream",
     "text": [
      "GluGluHToTauTau_M125_13TeV_powheg_pythia8\n"
     ]
    },
    {
     "data": {
      "text/html": [
       "<pre style=\"white-space:pre;overflow-x:auto;line-height:normal;font-family:Menlo,'DejaVu Sans Mono',consolas,'Courier New',monospace\"><span style=\"color: #7fbfbf; text-decoration-color: #7fbfbf\">           </span><span style=\"color: #000080; text-decoration-color: #000080\">INFO    </span> Readign sample: GluGluHToTauTau_M125_13TeV_powheg_pythia8, from:               <a href=\"file:///tmp/ipykernel_18646/2088555353.py\" target=\"_blank\"><span style=\"color: #7f7f7f; text-decoration-color: #7f7f7f\">2088555353.py</span></a><span style=\"color: #7f7f7f; text-decoration-color: #7f7f7f\">:</span><a href=\"file:///tmp/ipykernel_18646/2088555353.py#23\" target=\"_blank\"><span style=\"color: #7f7f7f; text-decoration-color: #7f7f7f\">23</span></a>\n",
       "<span style=\"color: #7fbfbf; text-decoration-color: #7fbfbf\">           </span>         inputs16APV/hists_sum_GluGluHToTauTau_M125_13TeV_powheg_pythia8.hist           <span style=\"color: #7f7f7f; text-decoration-color: #7f7f7f\">                </span>\n",
       "</pre>\n"
      ],
      "text/plain": [
       "\u001b[2;36m          \u001b[0m\u001b[2;36m \u001b[0m\u001b[34mINFO    \u001b[0m Readign sample: GluGluHToTauTau_M125_13TeV_powheg_pythia8, from:               \u001b]8;id=874628;file:///tmp/ipykernel_18646/2088555353.py\u001b\\\u001b[2m2088555353.py\u001b[0m\u001b]8;;\u001b\\\u001b[2m:\u001b[0m\u001b]8;id=423570;file:///tmp/ipykernel_18646/2088555353.py#23\u001b\\\u001b[2m23\u001b[0m\u001b]8;;\u001b\\\n",
       "\u001b[2;36m           \u001b[0m         inputs16APV/hists_sum_GluGluHToTauTau_M125_13TeV_powheg_pythia8.hist           \u001b[2m                \u001b[0m\n"
      ]
     },
     "metadata": {},
     "output_type": "display_data"
    },
    {
     "name": "stdout",
     "output_type": "stream",
     "text": [
      "VBFHToTauTau_M125_13TeV_powheg_pythia8\n"
     ]
    },
    {
     "data": {
      "text/html": [
       "<pre style=\"white-space:pre;overflow-x:auto;line-height:normal;font-family:Menlo,'DejaVu Sans Mono',consolas,'Courier New',monospace\"><span style=\"color: #7fbfbf; text-decoration-color: #7fbfbf\">           </span><span style=\"color: #000080; text-decoration-color: #000080\">INFO    </span> Readign sample: VBFHToTauTau_M125_13TeV_powheg_pythia8, from:                  <a href=\"file:///tmp/ipykernel_18646/2088555353.py\" target=\"_blank\"><span style=\"color: #7f7f7f; text-decoration-color: #7f7f7f\">2088555353.py</span></a><span style=\"color: #7f7f7f; text-decoration-color: #7f7f7f\">:</span><a href=\"file:///tmp/ipykernel_18646/2088555353.py#23\" target=\"_blank\"><span style=\"color: #7f7f7f; text-decoration-color: #7f7f7f\">23</span></a>\n",
       "<span style=\"color: #7fbfbf; text-decoration-color: #7fbfbf\">           </span>         inputs16APV/hists_sum_VBFHToTauTau_M125_13TeV_powheg_pythia8.hist              <span style=\"color: #7f7f7f; text-decoration-color: #7f7f7f\">                </span>\n",
       "</pre>\n"
      ],
      "text/plain": [
       "\u001b[2;36m          \u001b[0m\u001b[2;36m \u001b[0m\u001b[34mINFO    \u001b[0m Readign sample: VBFHToTauTau_M125_13TeV_powheg_pythia8, from:                  \u001b]8;id=7301;file:///tmp/ipykernel_18646/2088555353.py\u001b\\\u001b[2m2088555353.py\u001b[0m\u001b]8;;\u001b\\\u001b[2m:\u001b[0m\u001b]8;id=605288;file:///tmp/ipykernel_18646/2088555353.py#23\u001b\\\u001b[2m23\u001b[0m\u001b]8;;\u001b\\\n",
       "\u001b[2;36m           \u001b[0m         inputs16APV/hists_sum_VBFHToTauTau_M125_13TeV_powheg_pythia8.hist              \u001b[2m                \u001b[0m\n"
      ]
     },
     "metadata": {},
     "output_type": "display_data"
    },
    {
     "name": "stdout",
     "output_type": "stream",
     "text": [
      "WminusHToTauTau_M125_13TeV_powheg_pythia8\n"
     ]
    },
    {
     "data": {
      "text/html": [
       "<pre style=\"white-space:pre;overflow-x:auto;line-height:normal;font-family:Menlo,'DejaVu Sans Mono',consolas,'Courier New',monospace\"><span style=\"color: #7fbfbf; text-decoration-color: #7fbfbf\">           </span><span style=\"color: #000080; text-decoration-color: #000080\">INFO    </span> Readign sample: WminusHToTauTau_M125_13TeV_powheg_pythia8, from:               <a href=\"file:///tmp/ipykernel_18646/2088555353.py\" target=\"_blank\"><span style=\"color: #7f7f7f; text-decoration-color: #7f7f7f\">2088555353.py</span></a><span style=\"color: #7f7f7f; text-decoration-color: #7f7f7f\">:</span><a href=\"file:///tmp/ipykernel_18646/2088555353.py#23\" target=\"_blank\"><span style=\"color: #7f7f7f; text-decoration-color: #7f7f7f\">23</span></a>\n",
       "<span style=\"color: #7fbfbf; text-decoration-color: #7fbfbf\">           </span>         inputs16APV/hists_sum_WminusHToTauTau_M125_13TeV_powheg_pythia8.hist           <span style=\"color: #7f7f7f; text-decoration-color: #7f7f7f\">                </span>\n",
       "</pre>\n"
      ],
      "text/plain": [
       "\u001b[2;36m          \u001b[0m\u001b[2;36m \u001b[0m\u001b[34mINFO    \u001b[0m Readign sample: WminusHToTauTau_M125_13TeV_powheg_pythia8, from:               \u001b]8;id=149744;file:///tmp/ipykernel_18646/2088555353.py\u001b\\\u001b[2m2088555353.py\u001b[0m\u001b]8;;\u001b\\\u001b[2m:\u001b[0m\u001b]8;id=381578;file:///tmp/ipykernel_18646/2088555353.py#23\u001b\\\u001b[2m23\u001b[0m\u001b]8;;\u001b\\\n",
       "\u001b[2;36m           \u001b[0m         inputs16APV/hists_sum_WminusHToTauTau_M125_13TeV_powheg_pythia8.hist           \u001b[2m                \u001b[0m\n"
      ]
     },
     "metadata": {},
     "output_type": "display_data"
    },
    {
     "name": "stdout",
     "output_type": "stream",
     "text": [
      "WplusHToTauTau_M125_13TeV_powheg_pythia8\n"
     ]
    },
    {
     "data": {
      "text/html": [
       "<pre style=\"white-space:pre;overflow-x:auto;line-height:normal;font-family:Menlo,'DejaVu Sans Mono',consolas,'Courier New',monospace\"><span style=\"color: #7fbfbf; text-decoration-color: #7fbfbf\">           </span><span style=\"color: #000080; text-decoration-color: #000080\">INFO    </span> Readign sample: WplusHToTauTau_M125_13TeV_powheg_pythia8, from:                <a href=\"file:///tmp/ipykernel_18646/2088555353.py\" target=\"_blank\"><span style=\"color: #7f7f7f; text-decoration-color: #7f7f7f\">2088555353.py</span></a><span style=\"color: #7f7f7f; text-decoration-color: #7f7f7f\">:</span><a href=\"file:///tmp/ipykernel_18646/2088555353.py#23\" target=\"_blank\"><span style=\"color: #7f7f7f; text-decoration-color: #7f7f7f\">23</span></a>\n",
       "<span style=\"color: #7fbfbf; text-decoration-color: #7fbfbf\">           </span>         inputs16APV/hists_sum_WplusHToTauTau_M125_13TeV_powheg_pythia8.hist            <span style=\"color: #7f7f7f; text-decoration-color: #7f7f7f\">                </span>\n",
       "</pre>\n"
      ],
      "text/plain": [
       "\u001b[2;36m          \u001b[0m\u001b[2;36m \u001b[0m\u001b[34mINFO    \u001b[0m Readign sample: WplusHToTauTau_M125_13TeV_powheg_pythia8, from:                \u001b]8;id=833699;file:///tmp/ipykernel_18646/2088555353.py\u001b\\\u001b[2m2088555353.py\u001b[0m\u001b]8;;\u001b\\\u001b[2m:\u001b[0m\u001b]8;id=899600;file:///tmp/ipykernel_18646/2088555353.py#23\u001b\\\u001b[2m23\u001b[0m\u001b]8;;\u001b\\\n",
       "\u001b[2;36m           \u001b[0m         inputs16APV/hists_sum_WplusHToTauTau_M125_13TeV_powheg_pythia8.hist            \u001b[2m                \u001b[0m\n"
      ]
     },
     "metadata": {},
     "output_type": "display_data"
    },
    {
     "name": "stdout",
     "output_type": "stream",
     "text": [
      "ZHToTauTau_M125_13TeV_powheg_pythia8\n"
     ]
    },
    {
     "data": {
      "text/html": [
       "<pre style=\"white-space:pre;overflow-x:auto;line-height:normal;font-family:Menlo,'DejaVu Sans Mono',consolas,'Courier New',monospace\"><span style=\"color: #7fbfbf; text-decoration-color: #7fbfbf\">           </span><span style=\"color: #000080; text-decoration-color: #000080\">INFO    </span> Readign sample: ZHToTauTau_M125_13TeV_powheg_pythia8, from:                    <a href=\"file:///tmp/ipykernel_18646/2088555353.py\" target=\"_blank\"><span style=\"color: #7f7f7f; text-decoration-color: #7f7f7f\">2088555353.py</span></a><span style=\"color: #7f7f7f; text-decoration-color: #7f7f7f\">:</span><a href=\"file:///tmp/ipykernel_18646/2088555353.py#23\" target=\"_blank\"><span style=\"color: #7f7f7f; text-decoration-color: #7f7f7f\">23</span></a>\n",
       "<span style=\"color: #7fbfbf; text-decoration-color: #7fbfbf\">           </span>         inputs16APV/hists_sum_ZHToTauTau_M125_13TeV_powheg_pythia8.hist                <span style=\"color: #7f7f7f; text-decoration-color: #7f7f7f\">                </span>\n",
       "</pre>\n"
      ],
      "text/plain": [
       "\u001b[2;36m          \u001b[0m\u001b[2;36m \u001b[0m\u001b[34mINFO    \u001b[0m Readign sample: ZHToTauTau_M125_13TeV_powheg_pythia8, from:                    \u001b]8;id=71847;file:///tmp/ipykernel_18646/2088555353.py\u001b\\\u001b[2m2088555353.py\u001b[0m\u001b]8;;\u001b\\\u001b[2m:\u001b[0m\u001b]8;id=467990;file:///tmp/ipykernel_18646/2088555353.py#23\u001b\\\u001b[2m23\u001b[0m\u001b]8;;\u001b\\\n",
       "\u001b[2;36m           \u001b[0m         inputs16APV/hists_sum_ZHToTauTau_M125_13TeV_powheg_pythia8.hist                \u001b[2m                \u001b[0m\n"
      ]
     },
     "metadata": {},
     "output_type": "display_data"
    },
    {
     "name": "stdout",
     "output_type": "stream",
     "text": [
      "ggZH_HToTauTau_ZToLL_M125_13TeV_powheg_pythia8\n"
     ]
    },
    {
     "data": {
      "text/html": [
       "<pre style=\"white-space:pre;overflow-x:auto;line-height:normal;font-family:Menlo,'DejaVu Sans Mono',consolas,'Courier New',monospace\"><span style=\"color: #7fbfbf; text-decoration-color: #7fbfbf\">           </span><span style=\"color: #000080; text-decoration-color: #000080\">INFO    </span> Readign sample: ggZH_HToTauTau_ZToLL_M125_13TeV_powheg_pythia8, from:          <a href=\"file:///tmp/ipykernel_18646/2088555353.py\" target=\"_blank\"><span style=\"color: #7f7f7f; text-decoration-color: #7f7f7f\">2088555353.py</span></a><span style=\"color: #7f7f7f; text-decoration-color: #7f7f7f\">:</span><a href=\"file:///tmp/ipykernel_18646/2088555353.py#23\" target=\"_blank\"><span style=\"color: #7f7f7f; text-decoration-color: #7f7f7f\">23</span></a>\n",
       "<span style=\"color: #7fbfbf; text-decoration-color: #7fbfbf\">           </span>         inputs16APV/hists_sum_ggZH_HToTauTau_ZToLL_M125_13TeV_powheg_pythia8.hist      <span style=\"color: #7f7f7f; text-decoration-color: #7f7f7f\">                </span>\n",
       "</pre>\n"
      ],
      "text/plain": [
       "\u001b[2;36m          \u001b[0m\u001b[2;36m \u001b[0m\u001b[34mINFO    \u001b[0m Readign sample: ggZH_HToTauTau_ZToLL_M125_13TeV_powheg_pythia8, from:          \u001b]8;id=762810;file:///tmp/ipykernel_18646/2088555353.py\u001b\\\u001b[2m2088555353.py\u001b[0m\u001b]8;;\u001b\\\u001b[2m:\u001b[0m\u001b]8;id=639649;file:///tmp/ipykernel_18646/2088555353.py#23\u001b\\\u001b[2m23\u001b[0m\u001b]8;;\u001b\\\n",
       "\u001b[2;36m           \u001b[0m         inputs16APV/hists_sum_ggZH_HToTauTau_ZToLL_M125_13TeV_powheg_pythia8.hist      \u001b[2m                \u001b[0m\n"
      ]
     },
     "metadata": {},
     "output_type": "display_data"
    },
    {
     "name": "stdout",
     "output_type": "stream",
     "text": [
      "ggZH_HToTauTau_ZToNuNu_M125_13TeV_powheg_pythia8\n"
     ]
    },
    {
     "data": {
      "text/html": [
       "<pre style=\"white-space:pre;overflow-x:auto;line-height:normal;font-family:Menlo,'DejaVu Sans Mono',consolas,'Courier New',monospace\"><span style=\"color: #7fbfbf; text-decoration-color: #7fbfbf\">           </span><span style=\"color: #000080; text-decoration-color: #000080\">INFO    </span> Readign sample: ggZH_HToTauTau_ZToNuNu_M125_13TeV_powheg_pythia8, from:        <a href=\"file:///tmp/ipykernel_18646/2088555353.py\" target=\"_blank\"><span style=\"color: #7f7f7f; text-decoration-color: #7f7f7f\">2088555353.py</span></a><span style=\"color: #7f7f7f; text-decoration-color: #7f7f7f\">:</span><a href=\"file:///tmp/ipykernel_18646/2088555353.py#23\" target=\"_blank\"><span style=\"color: #7f7f7f; text-decoration-color: #7f7f7f\">23</span></a>\n",
       "<span style=\"color: #7fbfbf; text-decoration-color: #7fbfbf\">           </span>         inputs16APV/hists_sum_ggZH_HToTauTau_ZToNuNu_M125_13TeV_powheg_pythia8.hist    <span style=\"color: #7f7f7f; text-decoration-color: #7f7f7f\">                </span>\n",
       "</pre>\n"
      ],
      "text/plain": [
       "\u001b[2;36m          \u001b[0m\u001b[2;36m \u001b[0m\u001b[34mINFO    \u001b[0m Readign sample: ggZH_HToTauTau_ZToNuNu_M125_13TeV_powheg_pythia8, from:        \u001b]8;id=737898;file:///tmp/ipykernel_18646/2088555353.py\u001b\\\u001b[2m2088555353.py\u001b[0m\u001b]8;;\u001b\\\u001b[2m:\u001b[0m\u001b]8;id=150662;file:///tmp/ipykernel_18646/2088555353.py#23\u001b\\\u001b[2m23\u001b[0m\u001b]8;;\u001b\\\n",
       "\u001b[2;36m           \u001b[0m         inputs16APV/hists_sum_ggZH_HToTauTau_ZToNuNu_M125_13TeV_powheg_pythia8.hist    \u001b[2m                \u001b[0m\n"
      ]
     },
     "metadata": {},
     "output_type": "display_data"
    },
    {
     "name": "stdout",
     "output_type": "stream",
     "text": [
      "ggZH_HToTauTau_ZToQQ_M125_13TeV_powheg_pythia8\n"
     ]
    },
    {
     "data": {
      "text/html": [
       "<pre style=\"white-space:pre;overflow-x:auto;line-height:normal;font-family:Menlo,'DejaVu Sans Mono',consolas,'Courier New',monospace\"><span style=\"color: #7fbfbf; text-decoration-color: #7fbfbf\">           </span><span style=\"color: #000080; text-decoration-color: #000080\">INFO    </span> Readign sample: ggZH_HToTauTau_ZToQQ_M125_13TeV_powheg_pythia8, from:          <a href=\"file:///tmp/ipykernel_18646/2088555353.py\" target=\"_blank\"><span style=\"color: #7f7f7f; text-decoration-color: #7f7f7f\">2088555353.py</span></a><span style=\"color: #7f7f7f; text-decoration-color: #7f7f7f\">:</span><a href=\"file:///tmp/ipykernel_18646/2088555353.py#23\" target=\"_blank\"><span style=\"color: #7f7f7f; text-decoration-color: #7f7f7f\">23</span></a>\n",
       "<span style=\"color: #7fbfbf; text-decoration-color: #7fbfbf\">           </span>         inputs16APV/hists_sum_ggZH_HToTauTau_ZToQQ_M125_13TeV_powheg_pythia8.hist      <span style=\"color: #7f7f7f; text-decoration-color: #7f7f7f\">                </span>\n",
       "</pre>\n"
      ],
      "text/plain": [
       "\u001b[2;36m          \u001b[0m\u001b[2;36m \u001b[0m\u001b[34mINFO    \u001b[0m Readign sample: ggZH_HToTauTau_ZToQQ_M125_13TeV_powheg_pythia8, from:          \u001b]8;id=579189;file:///tmp/ipykernel_18646/2088555353.py\u001b\\\u001b[2m2088555353.py\u001b[0m\u001b]8;;\u001b\\\u001b[2m:\u001b[0m\u001b]8;id=876423;file:///tmp/ipykernel_18646/2088555353.py#23\u001b\\\u001b[2m23\u001b[0m\u001b]8;;\u001b\\\n",
       "\u001b[2;36m           \u001b[0m         inputs16APV/hists_sum_ggZH_HToTauTau_ZToQQ_M125_13TeV_powheg_pythia8.hist      \u001b[2m                \u001b[0m\n"
      ]
     },
     "metadata": {},
     "output_type": "display_data"
    },
    {
     "name": "stdout",
     "output_type": "stream",
     "text": [
      "ttHToTauTau_M125_TuneCP5_13TeV-powheg-pythia8\n"
     ]
    },
    {
     "data": {
      "text/html": [
       "<pre style=\"white-space:pre;overflow-x:auto;line-height:normal;font-family:Menlo,'DejaVu Sans Mono',consolas,'Courier New',monospace\"><span style=\"color: #7fbfbf; text-decoration-color: #7fbfbf\">           </span><span style=\"color: #000080; text-decoration-color: #000080\">INFO    </span> Readign sample: ttHToTauTau_M125_TuneCP5_13TeV-powheg-pythia8, from:           <a href=\"file:///tmp/ipykernel_18646/2088555353.py\" target=\"_blank\"><span style=\"color: #7f7f7f; text-decoration-color: #7f7f7f\">2088555353.py</span></a><span style=\"color: #7f7f7f; text-decoration-color: #7f7f7f\">:</span><a href=\"file:///tmp/ipykernel_18646/2088555353.py#23\" target=\"_blank\"><span style=\"color: #7f7f7f; text-decoration-color: #7f7f7f\">23</span></a>\n",
       "<span style=\"color: #7fbfbf; text-decoration-color: #7fbfbf\">           </span>         inputs16APV/hists_sum_ttHToTauTau_M125_TuneCP5_13TeV-powheg-pythia8.hist       <span style=\"color: #7f7f7f; text-decoration-color: #7f7f7f\">                </span>\n",
       "</pre>\n"
      ],
      "text/plain": [
       "\u001b[2;36m          \u001b[0m\u001b[2;36m \u001b[0m\u001b[34mINFO    \u001b[0m Readign sample: ttHToTauTau_M125_TuneCP5_13TeV-powheg-pythia8, from:           \u001b]8;id=592577;file:///tmp/ipykernel_18646/2088555353.py\u001b\\\u001b[2m2088555353.py\u001b[0m\u001b]8;;\u001b\\\u001b[2m:\u001b[0m\u001b]8;id=285197;file:///tmp/ipykernel_18646/2088555353.py#23\u001b\\\u001b[2m23\u001b[0m\u001b]8;;\u001b\\\n",
       "\u001b[2;36m           \u001b[0m         inputs16APV/hists_sum_ttHToTauTau_M125_TuneCP5_13TeV-powheg-pythia8.hist       \u001b[2m                \u001b[0m\n"
      ]
     },
     "metadata": {},
     "output_type": "display_data"
    },
    {
     "name": "stdout",
     "output_type": "stream",
     "text": [
      "boostedTau_GluGluHTauTau_boostedTaua_13TeV_user\n"
     ]
    },
    {
     "data": {
      "text/html": [
       "<pre style=\"white-space:pre;overflow-x:auto;line-height:normal;font-family:Menlo,'DejaVu Sans Mono',consolas,'Courier New',monospace\"><span style=\"color: #7fbfbf; text-decoration-color: #7fbfbf\">           </span><span style=\"color: #000080; text-decoration-color: #000080\">INFO    </span> Readign sample: boostedTau_GluGluHTauTau_boostedTaua_13TeV_user, from:         <a href=\"file:///tmp/ipykernel_18646/2088555353.py\" target=\"_blank\"><span style=\"color: #7f7f7f; text-decoration-color: #7f7f7f\">2088555353.py</span></a><span style=\"color: #7f7f7f; text-decoration-color: #7f7f7f\">:</span><a href=\"file:///tmp/ipykernel_18646/2088555353.py#23\" target=\"_blank\"><span style=\"color: #7f7f7f; text-decoration-color: #7f7f7f\">23</span></a>\n",
       "<span style=\"color: #7fbfbf; text-decoration-color: #7fbfbf\">           </span>         inputs16APV/hists_sum_boostedTau_GluGluHTauTau_boostedTaua_13TeV_user.hist     <span style=\"color: #7f7f7f; text-decoration-color: #7f7f7f\">                </span>\n",
       "</pre>\n"
      ],
      "text/plain": [
       "\u001b[2;36m          \u001b[0m\u001b[2;36m \u001b[0m\u001b[34mINFO    \u001b[0m Readign sample: boostedTau_GluGluHTauTau_boostedTaua_13TeV_user, from:         \u001b]8;id=975642;file:///tmp/ipykernel_18646/2088555353.py\u001b\\\u001b[2m2088555353.py\u001b[0m\u001b]8;;\u001b\\\u001b[2m:\u001b[0m\u001b]8;id=475764;file:///tmp/ipykernel_18646/2088555353.py#23\u001b\\\u001b[2m23\u001b[0m\u001b]8;;\u001b\\\n",
       "\u001b[2;36m           \u001b[0m         inputs16APV/hists_sum_boostedTau_GluGluHTauTau_boostedTaua_13TeV_user.hist     \u001b[2m                \u001b[0m\n"
      ]
     },
     "metadata": {},
     "output_type": "display_data"
    },
    {
     "name": "stdout",
     "output_type": "stream",
     "text": [
      "GluGluHToTauTau\n"
     ]
    },
    {
     "data": {
      "text/html": [
       "<pre style=\"white-space:pre;overflow-x:auto;line-height:normal;font-family:Menlo,'DejaVu Sans Mono',consolas,'Courier New',monospace\"><span style=\"color: #7fbfbf; text-decoration-color: #7fbfbf\">           </span><span style=\"color: #000080; text-decoration-color: #000080\">INFO    </span> Readign sample: GluGluHToTauTau, from:                                         <a href=\"file:///tmp/ipykernel_18646/2088555353.py\" target=\"_blank\"><span style=\"color: #7f7f7f; text-decoration-color: #7f7f7f\">2088555353.py</span></a><span style=\"color: #7f7f7f; text-decoration-color: #7f7f7f\">:</span><a href=\"file:///tmp/ipykernel_18646/2088555353.py#23\" target=\"_blank\"><span style=\"color: #7f7f7f; text-decoration-color: #7f7f7f\">23</span></a>\n",
       "<span style=\"color: #7fbfbf; text-decoration-color: #7fbfbf\">           </span>         inputs16APV/hists_sum_GluGluHToTauTau.hist                                     <span style=\"color: #7f7f7f; text-decoration-color: #7f7f7f\">                </span>\n",
       "</pre>\n"
      ],
      "text/plain": [
       "\u001b[2;36m          \u001b[0m\u001b[2;36m \u001b[0m\u001b[34mINFO    \u001b[0m Readign sample: GluGluHToTauTau, from:                                         \u001b]8;id=792456;file:///tmp/ipykernel_18646/2088555353.py\u001b\\\u001b[2m2088555353.py\u001b[0m\u001b]8;;\u001b\\\u001b[2m:\u001b[0m\u001b]8;id=105417;file:///tmp/ipykernel_18646/2088555353.py#23\u001b\\\u001b[2m23\u001b[0m\u001b]8;;\u001b\\\n",
       "\u001b[2;36m           \u001b[0m         inputs16APV/hists_sum_GluGluHToTauTau.hist                                     \u001b[2m                \u001b[0m\n"
      ]
     },
     "metadata": {},
     "output_type": "display_data"
    },
    {
     "data": {
      "text/html": [
       "<pre style=\"white-space:pre;overflow-x:auto;line-height:normal;font-family:Menlo,'DejaVu Sans Mono',consolas,'Courier New',monospace\"><span style=\"color: #7fbfbf; text-decoration-color: #7fbfbf\">           </span><span style=\"color: #000080; text-decoration-color: #000080\">INFO    </span> Scaling GluGluHToTauTau by <span style=\"color: #008080; text-decoration-color: #008080; font-weight: bold\">19.520000000</span> <span style=\"font-weight: bold\">(</span>lumi = <span style=\"color: #008080; text-decoration-color: #008080; font-weight: bold\">19.52</span>, xs = nan, sumw =        <a href=\"file:///tmp/ipykernel_18646/2088555353.py\" target=\"_blank\"><span style=\"color: #7f7f7f; text-decoration-color: #7f7f7f\">2088555353.py</span></a><span style=\"color: #7f7f7f; text-decoration-color: #7f7f7f\">:</span><a href=\"file:///tmp/ipykernel_18646/2088555353.py#34\" target=\"_blank\"><span style=\"color: #7f7f7f; text-decoration-color: #7f7f7f\">34</span></a>\n",
       "<span style=\"color: #7fbfbf; text-decoration-color: #7fbfbf\">           </span>         <span style=\"color: #008080; text-decoration-color: #008080; font-weight: bold\">138071950.797</span><span style=\"font-weight: bold\">)</span>                                                                 <span style=\"color: #7f7f7f; text-decoration-color: #7f7f7f\">                </span>\n",
       "</pre>\n"
      ],
      "text/plain": [
       "\u001b[2;36m          \u001b[0m\u001b[2;36m \u001b[0m\u001b[34mINFO    \u001b[0m Scaling GluGluHToTauTau by \u001b[1;36m19.520000000\u001b[0m \u001b[1m(\u001b[0mlumi = \u001b[1;36m19.52\u001b[0m, xs = nan, sumw =        \u001b]8;id=387047;file:///tmp/ipykernel_18646/2088555353.py\u001b\\\u001b[2m2088555353.py\u001b[0m\u001b]8;;\u001b\\\u001b[2m:\u001b[0m\u001b]8;id=969695;file:///tmp/ipykernel_18646/2088555353.py#34\u001b\\\u001b[2m34\u001b[0m\u001b]8;;\u001b\\\n",
       "\u001b[2;36m           \u001b[0m         \u001b[1;36m138071950.797\u001b[0m\u001b[1m)\u001b[0m                                                                 \u001b[2m                \u001b[0m\n"
      ]
     },
     "metadata": {},
     "output_type": "display_data"
    },
    {
     "name": "stdout",
     "output_type": "stream",
     "text": [
      "VBFHToTauTau\n"
     ]
    },
    {
     "data": {
      "text/html": [
       "<pre style=\"white-space:pre;overflow-x:auto;line-height:normal;font-family:Menlo,'DejaVu Sans Mono',consolas,'Courier New',monospace\"><span style=\"color: #7fbfbf; text-decoration-color: #7fbfbf\">           </span><span style=\"color: #000080; text-decoration-color: #000080\">INFO    </span> Readign sample: VBFHToTauTau, from: inputs16APV/hists_sum_VBFHToTauTau.hist    <a href=\"file:///tmp/ipykernel_18646/2088555353.py\" target=\"_blank\"><span style=\"color: #7f7f7f; text-decoration-color: #7f7f7f\">2088555353.py</span></a><span style=\"color: #7f7f7f; text-decoration-color: #7f7f7f\">:</span><a href=\"file:///tmp/ipykernel_18646/2088555353.py#23\" target=\"_blank\"><span style=\"color: #7f7f7f; text-decoration-color: #7f7f7f\">23</span></a>\n",
       "</pre>\n"
      ],
      "text/plain": [
       "\u001b[2;36m          \u001b[0m\u001b[2;36m \u001b[0m\u001b[34mINFO    \u001b[0m Readign sample: VBFHToTauTau, from: inputs16APV/hists_sum_VBFHToTauTau.hist    \u001b]8;id=644036;file:///tmp/ipykernel_18646/2088555353.py\u001b\\\u001b[2m2088555353.py\u001b[0m\u001b]8;;\u001b\\\u001b[2m:\u001b[0m\u001b]8;id=486866;file:///tmp/ipykernel_18646/2088555353.py#23\u001b\\\u001b[2m23\u001b[0m\u001b]8;;\u001b\\\n"
      ]
     },
     "metadata": {},
     "output_type": "display_data"
    },
    {
     "data": {
      "text/html": [
       "<pre style=\"white-space:pre;overflow-x:auto;line-height:normal;font-family:Menlo,'DejaVu Sans Mono',consolas,'Courier New',monospace\"><span style=\"color: #7fbfbf; text-decoration-color: #7fbfbf\">[15:02:48] </span><span style=\"color: #000080; text-decoration-color: #000080\">INFO    </span> Scaling VBFHToTauTau by <span style=\"color: #008080; text-decoration-color: #008080; font-weight: bold\">19.520000000</span> <span style=\"font-weight: bold\">(</span>lumi = <span style=\"color: #008080; text-decoration-color: #008080; font-weight: bold\">19.52</span>, xs = nan, sumw =           <a href=\"file:///tmp/ipykernel_18646/2088555353.py\" target=\"_blank\"><span style=\"color: #7f7f7f; text-decoration-color: #7f7f7f\">2088555353.py</span></a><span style=\"color: #7f7f7f; text-decoration-color: #7f7f7f\">:</span><a href=\"file:///tmp/ipykernel_18646/2088555353.py#34\" target=\"_blank\"><span style=\"color: #7f7f7f; text-decoration-color: #7f7f7f\">34</span></a>\n",
       "<span style=\"color: #7fbfbf; text-decoration-color: #7fbfbf\">           </span>         <span style=\"color: #008080; text-decoration-color: #008080; font-weight: bold\">5384521.801</span><span style=\"font-weight: bold\">)</span>                                                                   <span style=\"color: #7f7f7f; text-decoration-color: #7f7f7f\">                </span>\n",
       "</pre>\n"
      ],
      "text/plain": [
       "\u001b[2;36m[15:02:48]\u001b[0m\u001b[2;36m \u001b[0m\u001b[34mINFO    \u001b[0m Scaling VBFHToTauTau by \u001b[1;36m19.520000000\u001b[0m \u001b[1m(\u001b[0mlumi = \u001b[1;36m19.52\u001b[0m, xs = nan, sumw =           \u001b]8;id=992324;file:///tmp/ipykernel_18646/2088555353.py\u001b\\\u001b[2m2088555353.py\u001b[0m\u001b]8;;\u001b\\\u001b[2m:\u001b[0m\u001b]8;id=746412;file:///tmp/ipykernel_18646/2088555353.py#34\u001b\\\u001b[2m34\u001b[0m\u001b]8;;\u001b\\\n",
       "\u001b[2;36m           \u001b[0m         \u001b[1;36m5384521.801\u001b[0m\u001b[1m)\u001b[0m                                                                   \u001b[2m                \u001b[0m\n"
      ]
     },
     "metadata": {},
     "output_type": "display_data"
    },
    {
     "name": "stdout",
     "output_type": "stream",
     "text": [
      "WminusHToTauTau\n"
     ]
    },
    {
     "data": {
      "text/html": [
       "<pre style=\"white-space:pre;overflow-x:auto;line-height:normal;font-family:Menlo,'DejaVu Sans Mono',consolas,'Courier New',monospace\"><span style=\"color: #7fbfbf; text-decoration-color: #7fbfbf\">           </span><span style=\"color: #000080; text-decoration-color: #000080\">INFO    </span> Readign sample: WminusHToTauTau, from:                                         <a href=\"file:///tmp/ipykernel_18646/2088555353.py\" target=\"_blank\"><span style=\"color: #7f7f7f; text-decoration-color: #7f7f7f\">2088555353.py</span></a><span style=\"color: #7f7f7f; text-decoration-color: #7f7f7f\">:</span><a href=\"file:///tmp/ipykernel_18646/2088555353.py#23\" target=\"_blank\"><span style=\"color: #7f7f7f; text-decoration-color: #7f7f7f\">23</span></a>\n",
       "<span style=\"color: #7fbfbf; text-decoration-color: #7fbfbf\">           </span>         inputs16APV/hists_sum_WminusHToTauTau.hist                                     <span style=\"color: #7f7f7f; text-decoration-color: #7f7f7f\">                </span>\n",
       "</pre>\n"
      ],
      "text/plain": [
       "\u001b[2;36m          \u001b[0m\u001b[2;36m \u001b[0m\u001b[34mINFO    \u001b[0m Readign sample: WminusHToTauTau, from:                                         \u001b]8;id=896311;file:///tmp/ipykernel_18646/2088555353.py\u001b\\\u001b[2m2088555353.py\u001b[0m\u001b]8;;\u001b\\\u001b[2m:\u001b[0m\u001b]8;id=602894;file:///tmp/ipykernel_18646/2088555353.py#23\u001b\\\u001b[2m23\u001b[0m\u001b]8;;\u001b\\\n",
       "\u001b[2;36m           \u001b[0m         inputs16APV/hists_sum_WminusHToTauTau.hist                                     \u001b[2m                \u001b[0m\n"
      ]
     },
     "metadata": {},
     "output_type": "display_data"
    },
    {
     "data": {
      "text/html": [
       "<pre style=\"white-space:pre;overflow-x:auto;line-height:normal;font-family:Menlo,'DejaVu Sans Mono',consolas,'Courier New',monospace\"><span style=\"color: #7fbfbf; text-decoration-color: #7fbfbf\">           </span><span style=\"color: #000080; text-decoration-color: #000080\">INFO    </span> Scaling WminusHToTauTau by <span style=\"color: #008080; text-decoration-color: #008080; font-weight: bold\">19.520000000</span> <span style=\"font-weight: bold\">(</span>lumi = <span style=\"color: #008080; text-decoration-color: #008080; font-weight: bold\">19.52</span>, xs = nan, sumw =        <a href=\"file:///tmp/ipykernel_18646/2088555353.py\" target=\"_blank\"><span style=\"color: #7f7f7f; text-decoration-color: #7f7f7f\">2088555353.py</span></a><span style=\"color: #7f7f7f; text-decoration-color: #7f7f7f\">:</span><a href=\"file:///tmp/ipykernel_18646/2088555353.py#34\" target=\"_blank\"><span style=\"color: #7f7f7f; text-decoration-color: #7f7f7f\">34</span></a>\n",
       "<span style=\"color: #7fbfbf; text-decoration-color: #7fbfbf\">           </span>         <span style=\"color: #008080; text-decoration-color: #008080; font-weight: bold\">1070189.772</span><span style=\"font-weight: bold\">)</span>                                                                   <span style=\"color: #7f7f7f; text-decoration-color: #7f7f7f\">                </span>\n",
       "</pre>\n"
      ],
      "text/plain": [
       "\u001b[2;36m          \u001b[0m\u001b[2;36m \u001b[0m\u001b[34mINFO    \u001b[0m Scaling WminusHToTauTau by \u001b[1;36m19.520000000\u001b[0m \u001b[1m(\u001b[0mlumi = \u001b[1;36m19.52\u001b[0m, xs = nan, sumw =        \u001b]8;id=807513;file:///tmp/ipykernel_18646/2088555353.py\u001b\\\u001b[2m2088555353.py\u001b[0m\u001b]8;;\u001b\\\u001b[2m:\u001b[0m\u001b]8;id=351582;file:///tmp/ipykernel_18646/2088555353.py#34\u001b\\\u001b[2m34\u001b[0m\u001b]8;;\u001b\\\n",
       "\u001b[2;36m           \u001b[0m         \u001b[1;36m1070189.772\u001b[0m\u001b[1m)\u001b[0m                                                                   \u001b[2m                \u001b[0m\n"
      ]
     },
     "metadata": {},
     "output_type": "display_data"
    },
    {
     "name": "stdout",
     "output_type": "stream",
     "text": [
      "WplusHToTauTau\n"
     ]
    },
    {
     "data": {
      "text/html": [
       "<pre style=\"white-space:pre;overflow-x:auto;line-height:normal;font-family:Menlo,'DejaVu Sans Mono',consolas,'Courier New',monospace\"><span style=\"color: #7fbfbf; text-decoration-color: #7fbfbf\">           </span><span style=\"color: #000080; text-decoration-color: #000080\">INFO    </span> Readign sample: WplusHToTauTau, from:                                          <a href=\"file:///tmp/ipykernel_18646/2088555353.py\" target=\"_blank\"><span style=\"color: #7f7f7f; text-decoration-color: #7f7f7f\">2088555353.py</span></a><span style=\"color: #7f7f7f; text-decoration-color: #7f7f7f\">:</span><a href=\"file:///tmp/ipykernel_18646/2088555353.py#23\" target=\"_blank\"><span style=\"color: #7f7f7f; text-decoration-color: #7f7f7f\">23</span></a>\n",
       "<span style=\"color: #7fbfbf; text-decoration-color: #7fbfbf\">           </span>         inputs16APV/hists_sum_WplusHToTauTau.hist                                      <span style=\"color: #7f7f7f; text-decoration-color: #7f7f7f\">                </span>\n",
       "</pre>\n"
      ],
      "text/plain": [
       "\u001b[2;36m          \u001b[0m\u001b[2;36m \u001b[0m\u001b[34mINFO    \u001b[0m Readign sample: WplusHToTauTau, from:                                          \u001b]8;id=147244;file:///tmp/ipykernel_18646/2088555353.py\u001b\\\u001b[2m2088555353.py\u001b[0m\u001b]8;;\u001b\\\u001b[2m:\u001b[0m\u001b]8;id=478811;file:///tmp/ipykernel_18646/2088555353.py#23\u001b\\\u001b[2m23\u001b[0m\u001b]8;;\u001b\\\n",
       "\u001b[2;36m           \u001b[0m         inputs16APV/hists_sum_WplusHToTauTau.hist                                      \u001b[2m                \u001b[0m\n"
      ]
     },
     "metadata": {},
     "output_type": "display_data"
    },
    {
     "data": {
      "text/html": [
       "<pre style=\"white-space:pre;overflow-x:auto;line-height:normal;font-family:Menlo,'DejaVu Sans Mono',consolas,'Courier New',monospace\"><span style=\"color: #7fbfbf; text-decoration-color: #7fbfbf\">           </span><span style=\"color: #000080; text-decoration-color: #000080\">INFO    </span> Scaling WplusHToTauTau by <span style=\"color: #008080; text-decoration-color: #008080; font-weight: bold\">19.520000000</span> <span style=\"font-weight: bold\">(</span>lumi = <span style=\"color: #008080; text-decoration-color: #008080; font-weight: bold\">19.52</span>, xs = nan, sumw =         <a href=\"file:///tmp/ipykernel_18646/2088555353.py\" target=\"_blank\"><span style=\"color: #7f7f7f; text-decoration-color: #7f7f7f\">2088555353.py</span></a><span style=\"color: #7f7f7f; text-decoration-color: #7f7f7f\">:</span><a href=\"file:///tmp/ipykernel_18646/2088555353.py#34\" target=\"_blank\"><span style=\"color: #7f7f7f; text-decoration-color: #7f7f7f\">34</span></a>\n",
       "<span style=\"color: #7fbfbf; text-decoration-color: #7fbfbf\">           </span>         <span style=\"color: #008080; text-decoration-color: #008080; font-weight: bold\">1662453.111</span><span style=\"font-weight: bold\">)</span>                                                                   <span style=\"color: #7f7f7f; text-decoration-color: #7f7f7f\">                </span>\n",
       "</pre>\n"
      ],
      "text/plain": [
       "\u001b[2;36m          \u001b[0m\u001b[2;36m \u001b[0m\u001b[34mINFO    \u001b[0m Scaling WplusHToTauTau by \u001b[1;36m19.520000000\u001b[0m \u001b[1m(\u001b[0mlumi = \u001b[1;36m19.52\u001b[0m, xs = nan, sumw =         \u001b]8;id=314046;file:///tmp/ipykernel_18646/2088555353.py\u001b\\\u001b[2m2088555353.py\u001b[0m\u001b]8;;\u001b\\\u001b[2m:\u001b[0m\u001b]8;id=377883;file:///tmp/ipykernel_18646/2088555353.py#34\u001b\\\u001b[2m34\u001b[0m\u001b]8;;\u001b\\\n",
       "\u001b[2;36m           \u001b[0m         \u001b[1;36m1662453.111\u001b[0m\u001b[1m)\u001b[0m                                                                   \u001b[2m                \u001b[0m\n"
      ]
     },
     "metadata": {},
     "output_type": "display_data"
    },
    {
     "name": "stdout",
     "output_type": "stream",
     "text": [
      "ZHToTauTau\n"
     ]
    },
    {
     "data": {
      "text/html": [
       "<pre style=\"white-space:pre;overflow-x:auto;line-height:normal;font-family:Menlo,'DejaVu Sans Mono',consolas,'Courier New',monospace\"><span style=\"color: #7fbfbf; text-decoration-color: #7fbfbf\">           </span><span style=\"color: #000080; text-decoration-color: #000080\">INFO    </span> Readign sample: ZHToTauTau, from: inputs16APV/hists_sum_ZHToTauTau.hist        <a href=\"file:///tmp/ipykernel_18646/2088555353.py\" target=\"_blank\"><span style=\"color: #7f7f7f; text-decoration-color: #7f7f7f\">2088555353.py</span></a><span style=\"color: #7f7f7f; text-decoration-color: #7f7f7f\">:</span><a href=\"file:///tmp/ipykernel_18646/2088555353.py#23\" target=\"_blank\"><span style=\"color: #7f7f7f; text-decoration-color: #7f7f7f\">23</span></a>\n",
       "</pre>\n"
      ],
      "text/plain": [
       "\u001b[2;36m          \u001b[0m\u001b[2;36m \u001b[0m\u001b[34mINFO    \u001b[0m Readign sample: ZHToTauTau, from: inputs16APV/hists_sum_ZHToTauTau.hist        \u001b]8;id=795565;file:///tmp/ipykernel_18646/2088555353.py\u001b\\\u001b[2m2088555353.py\u001b[0m\u001b]8;;\u001b\\\u001b[2m:\u001b[0m\u001b]8;id=493712;file:///tmp/ipykernel_18646/2088555353.py#23\u001b\\\u001b[2m23\u001b[0m\u001b]8;;\u001b\\\n"
      ]
     },
     "metadata": {},
     "output_type": "display_data"
    },
    {
     "data": {
      "text/html": [
       "<pre style=\"white-space:pre;overflow-x:auto;line-height:normal;font-family:Menlo,'DejaVu Sans Mono',consolas,'Courier New',monospace\"><span style=\"color: #7fbfbf; text-decoration-color: #7fbfbf\">           </span><span style=\"color: #000080; text-decoration-color: #000080\">INFO    </span> Scaling ZHToTauTau by <span style=\"color: #008080; text-decoration-color: #008080; font-weight: bold\">19.520000000</span> <span style=\"font-weight: bold\">(</span>lumi = <span style=\"color: #008080; text-decoration-color: #008080; font-weight: bold\">19.52</span>, xs = nan, sumw =             <a href=\"file:///tmp/ipykernel_18646/2088555353.py\" target=\"_blank\"><span style=\"color: #7f7f7f; text-decoration-color: #7f7f7f\">2088555353.py</span></a><span style=\"color: #7f7f7f; text-decoration-color: #7f7f7f\">:</span><a href=\"file:///tmp/ipykernel_18646/2088555353.py#34\" target=\"_blank\"><span style=\"color: #7f7f7f; text-decoration-color: #7f7f7f\">34</span></a>\n",
       "<span style=\"color: #7fbfbf; text-decoration-color: #7fbfbf\">           </span>         <span style=\"color: #008080; text-decoration-color: #008080; font-weight: bold\">3869957.756</span><span style=\"font-weight: bold\">)</span>                                                                   <span style=\"color: #7f7f7f; text-decoration-color: #7f7f7f\">                </span>\n",
       "</pre>\n"
      ],
      "text/plain": [
       "\u001b[2;36m          \u001b[0m\u001b[2;36m \u001b[0m\u001b[34mINFO    \u001b[0m Scaling ZHToTauTau by \u001b[1;36m19.520000000\u001b[0m \u001b[1m(\u001b[0mlumi = \u001b[1;36m19.52\u001b[0m, xs = nan, sumw =             \u001b]8;id=432292;file:///tmp/ipykernel_18646/2088555353.py\u001b\\\u001b[2m2088555353.py\u001b[0m\u001b]8;;\u001b\\\u001b[2m:\u001b[0m\u001b]8;id=722513;file:///tmp/ipykernel_18646/2088555353.py#34\u001b\\\u001b[2m34\u001b[0m\u001b]8;;\u001b\\\n",
       "\u001b[2;36m           \u001b[0m         \u001b[1;36m3869957.756\u001b[0m\u001b[1m)\u001b[0m                                                                   \u001b[2m                \u001b[0m\n"
      ]
     },
     "metadata": {},
     "output_type": "display_data"
    },
    {
     "name": "stdout",
     "output_type": "stream",
     "text": [
      "ttHToTauTau\n"
     ]
    },
    {
     "data": {
      "text/html": [
       "<pre style=\"white-space:pre;overflow-x:auto;line-height:normal;font-family:Menlo,'DejaVu Sans Mono',consolas,'Courier New',monospace\"><span style=\"color: #7fbfbf; text-decoration-color: #7fbfbf\">           </span><span style=\"color: #000080; text-decoration-color: #000080\">INFO    </span> Readign sample: ttHToTauTau, from: inputs16APV/hists_sum_ttHToTauTau.hist      <a href=\"file:///tmp/ipykernel_18646/2088555353.py\" target=\"_blank\"><span style=\"color: #7f7f7f; text-decoration-color: #7f7f7f\">2088555353.py</span></a><span style=\"color: #7f7f7f; text-decoration-color: #7f7f7f\">:</span><a href=\"file:///tmp/ipykernel_18646/2088555353.py#23\" target=\"_blank\"><span style=\"color: #7f7f7f; text-decoration-color: #7f7f7f\">23</span></a>\n",
       "</pre>\n"
      ],
      "text/plain": [
       "\u001b[2;36m          \u001b[0m\u001b[2;36m \u001b[0m\u001b[34mINFO    \u001b[0m Readign sample: ttHToTauTau, from: inputs16APV/hists_sum_ttHToTauTau.hist      \u001b]8;id=128962;file:///tmp/ipykernel_18646/2088555353.py\u001b\\\u001b[2m2088555353.py\u001b[0m\u001b]8;;\u001b\\\u001b[2m:\u001b[0m\u001b]8;id=194631;file:///tmp/ipykernel_18646/2088555353.py#23\u001b\\\u001b[2m23\u001b[0m\u001b]8;;\u001b\\\n"
      ]
     },
     "metadata": {},
     "output_type": "display_data"
    },
    {
     "data": {
      "text/html": [
       "<pre style=\"white-space:pre;overflow-x:auto;line-height:normal;font-family:Menlo,'DejaVu Sans Mono',consolas,'Courier New',monospace\"><span style=\"color: #7fbfbf; text-decoration-color: #7fbfbf\">           </span><span style=\"color: #000080; text-decoration-color: #000080\">INFO    </span> Scaling ttHToTauTau by <span style=\"color: #008080; text-decoration-color: #008080; font-weight: bold\">19.520000000</span> <span style=\"font-weight: bold\">(</span>lumi = <span style=\"color: #008080; text-decoration-color: #008080; font-weight: bold\">19.52</span>, xs = nan, sumw =            <a href=\"file:///tmp/ipykernel_18646/2088555353.py\" target=\"_blank\"><span style=\"color: #7f7f7f; text-decoration-color: #7f7f7f\">2088555353.py</span></a><span style=\"color: #7f7f7f; text-decoration-color: #7f7f7f\">:</span><a href=\"file:///tmp/ipykernel_18646/2088555353.py#34\" target=\"_blank\"><span style=\"color: #7f7f7f; text-decoration-color: #7f7f7f\">34</span></a>\n",
       "<span style=\"color: #7fbfbf; text-decoration-color: #7fbfbf\">           </span>         <span style=\"color: #008080; text-decoration-color: #008080; font-weight: bold\">5726202.219</span><span style=\"font-weight: bold\">)</span>                                                                   <span style=\"color: #7f7f7f; text-decoration-color: #7f7f7f\">                </span>\n",
       "</pre>\n"
      ],
      "text/plain": [
       "\u001b[2;36m          \u001b[0m\u001b[2;36m \u001b[0m\u001b[34mINFO    \u001b[0m Scaling ttHToTauTau by \u001b[1;36m19.520000000\u001b[0m \u001b[1m(\u001b[0mlumi = \u001b[1;36m19.52\u001b[0m, xs = nan, sumw =            \u001b]8;id=240013;file:///tmp/ipykernel_18646/2088555353.py\u001b\\\u001b[2m2088555353.py\u001b[0m\u001b]8;;\u001b\\\u001b[2m:\u001b[0m\u001b]8;id=32134;file:///tmp/ipykernel_18646/2088555353.py#34\u001b\\\u001b[2m34\u001b[0m\u001b]8;;\u001b\\\n",
       "\u001b[2;36m           \u001b[0m         \u001b[1;36m5726202.219\u001b[0m\u001b[1m)\u001b[0m                                                                   \u001b[2m                \u001b[0m\n"
      ]
     },
     "metadata": {},
     "output_type": "display_data"
    },
    {
     "name": "stdout",
     "output_type": "stream",
     "text": [
      "Spin0ToTauTau_2j_scalar_g1_HT300_M10_nodmx_v0_TuneCP5_MLM\n"
     ]
    },
    {
     "data": {
      "text/html": [
       "<pre style=\"white-space:pre;overflow-x:auto;line-height:normal;font-family:Menlo,'DejaVu Sans Mono',consolas,'Courier New',monospace\"><span style=\"color: #7fbfbf; text-decoration-color: #7fbfbf\">           </span><span style=\"color: #000080; text-decoration-color: #000080\">INFO    </span> Readign sample: Spin0ToTauTau_2j_scalar_g1_HT300_M10_nodmx_v0_TuneCP5_MLM,     <a href=\"file:///tmp/ipykernel_18646/2088555353.py\" target=\"_blank\"><span style=\"color: #7f7f7f; text-decoration-color: #7f7f7f\">2088555353.py</span></a><span style=\"color: #7f7f7f; text-decoration-color: #7f7f7f\">:</span><a href=\"file:///tmp/ipykernel_18646/2088555353.py#23\" target=\"_blank\"><span style=\"color: #7f7f7f; text-decoration-color: #7f7f7f\">23</span></a>\n",
       "<span style=\"color: #7fbfbf; text-decoration-color: #7fbfbf\">           </span>         from:                                                                          <span style=\"color: #7f7f7f; text-decoration-color: #7f7f7f\">                </span>\n",
       "<span style=\"color: #7fbfbf; text-decoration-color: #7fbfbf\">           </span>         inputs16APV/hists_sum_Spin0ToTauTau_2j_scalar_g1_HT300_M10_nodmx_v0_TuneCP5_ML <span style=\"color: #7f7f7f; text-decoration-color: #7f7f7f\">                </span>\n",
       "<span style=\"color: #7fbfbf; text-decoration-color: #7fbfbf\">           </span>         M.hist                                                                         <span style=\"color: #7f7f7f; text-decoration-color: #7f7f7f\">                </span>\n",
       "</pre>\n"
      ],
      "text/plain": [
       "\u001b[2;36m          \u001b[0m\u001b[2;36m \u001b[0m\u001b[34mINFO    \u001b[0m Readign sample: Spin0ToTauTau_2j_scalar_g1_HT300_M10_nodmx_v0_TuneCP5_MLM,     \u001b]8;id=364112;file:///tmp/ipykernel_18646/2088555353.py\u001b\\\u001b[2m2088555353.py\u001b[0m\u001b]8;;\u001b\\\u001b[2m:\u001b[0m\u001b]8;id=565120;file:///tmp/ipykernel_18646/2088555353.py#23\u001b\\\u001b[2m23\u001b[0m\u001b]8;;\u001b\\\n",
       "\u001b[2;36m           \u001b[0m         from:                                                                          \u001b[2m                \u001b[0m\n",
       "\u001b[2;36m           \u001b[0m         inputs16APV/hists_sum_Spin0ToTauTau_2j_scalar_g1_HT300_M10_nodmx_v0_TuneCP5_ML \u001b[2m                \u001b[0m\n",
       "\u001b[2;36m           \u001b[0m         M.hist                                                                         \u001b[2m                \u001b[0m\n"
      ]
     },
     "metadata": {},
     "output_type": "display_data"
    },
    {
     "data": {
      "text/html": [
       "<pre style=\"white-space:pre;overflow-x:auto;line-height:normal;font-family:Menlo,'DejaVu Sans Mono',consolas,'Courier New',monospace\"><span style=\"color: #7fbfbf; text-decoration-color: #7fbfbf\">           </span><span style=\"color: #000080; text-decoration-color: #000080\">INFO    </span> Scaling Spin0ToTauTau_2j_scalar_g1_HT300_M10_nodmx_v0_TuneCP5_MLM by           <a href=\"file:///tmp/ipykernel_18646/2088555353.py\" target=\"_blank\"><span style=\"color: #7f7f7f; text-decoration-color: #7f7f7f\">2088555353.py</span></a><span style=\"color: #7f7f7f; text-decoration-color: #7f7f7f\">:</span><a href=\"file:///tmp/ipykernel_18646/2088555353.py#34\" target=\"_blank\"><span style=\"color: #7f7f7f; text-decoration-color: #7f7f7f\">34</span></a>\n",
       "<span style=\"color: #7fbfbf; text-decoration-color: #7fbfbf\">           </span>         <span style=\"color: #008080; text-decoration-color: #008080; font-weight: bold\">19.520000000</span> <span style=\"font-weight: bold\">(</span>lumi = <span style=\"color: #008080; text-decoration-color: #008080; font-weight: bold\">19.52</span>, xs = nan, sumw = <span style=\"color: #008080; text-decoration-color: #008080; font-weight: bold\">75487.000</span><span style=\"font-weight: bold\">)</span>                        <span style=\"color: #7f7f7f; text-decoration-color: #7f7f7f\">                </span>\n",
       "</pre>\n"
      ],
      "text/plain": [
       "\u001b[2;36m          \u001b[0m\u001b[2;36m \u001b[0m\u001b[34mINFO    \u001b[0m Scaling Spin0ToTauTau_2j_scalar_g1_HT300_M10_nodmx_v0_TuneCP5_MLM by           \u001b]8;id=375967;file:///tmp/ipykernel_18646/2088555353.py\u001b\\\u001b[2m2088555353.py\u001b[0m\u001b]8;;\u001b\\\u001b[2m:\u001b[0m\u001b]8;id=59161;file:///tmp/ipykernel_18646/2088555353.py#34\u001b\\\u001b[2m34\u001b[0m\u001b]8;;\u001b\\\n",
       "\u001b[2;36m           \u001b[0m         \u001b[1;36m19.520000000\u001b[0m \u001b[1m(\u001b[0mlumi = \u001b[1;36m19.52\u001b[0m, xs = nan, sumw = \u001b[1;36m75487.000\u001b[0m\u001b[1m)\u001b[0m                        \u001b[2m                \u001b[0m\n"
      ]
     },
     "metadata": {},
     "output_type": "display_data"
    },
    {
     "name": "stdout",
     "output_type": "stream",
     "text": [
      "Spin0ToTauTau_2j_scalar_g1_HT300_M10_nodmx_v0_TuneCP5_MLM_nomatch\n"
     ]
    },
    {
     "data": {
      "text/html": [
       "<pre style=\"white-space:pre;overflow-x:auto;line-height:normal;font-family:Menlo,'DejaVu Sans Mono',consolas,'Courier New',monospace\"><span style=\"color: #7fbfbf; text-decoration-color: #7fbfbf\">           </span><span style=\"color: #000080; text-decoration-color: #000080\">INFO    </span> Readign sample:                                                                <a href=\"file:///tmp/ipykernel_18646/2088555353.py\" target=\"_blank\"><span style=\"color: #7f7f7f; text-decoration-color: #7f7f7f\">2088555353.py</span></a><span style=\"color: #7f7f7f; text-decoration-color: #7f7f7f\">:</span><a href=\"file:///tmp/ipykernel_18646/2088555353.py#23\" target=\"_blank\"><span style=\"color: #7f7f7f; text-decoration-color: #7f7f7f\">23</span></a>\n",
       "<span style=\"color: #7fbfbf; text-decoration-color: #7fbfbf\">           </span>         Spin0ToTauTau_2j_scalar_g1_HT300_M10_nodmx_v0_TuneCP5_MLM_nomatch, from:       <span style=\"color: #7f7f7f; text-decoration-color: #7f7f7f\">                </span>\n",
       "<span style=\"color: #7fbfbf; text-decoration-color: #7fbfbf\">           </span>         inputs16APV/hists_sum_Spin0ToTauTau_2j_scalar_g1_HT300_M10_nodmx_v0_TuneCP5_ML <span style=\"color: #7f7f7f; text-decoration-color: #7f7f7f\">                </span>\n",
       "<span style=\"color: #7fbfbf; text-decoration-color: #7fbfbf\">           </span>         M_nomatch.hist                                                                 <span style=\"color: #7f7f7f; text-decoration-color: #7f7f7f\">                </span>\n",
       "</pre>\n"
      ],
      "text/plain": [
       "\u001b[2;36m          \u001b[0m\u001b[2;36m \u001b[0m\u001b[34mINFO    \u001b[0m Readign sample:                                                                \u001b]8;id=24739;file:///tmp/ipykernel_18646/2088555353.py\u001b\\\u001b[2m2088555353.py\u001b[0m\u001b]8;;\u001b\\\u001b[2m:\u001b[0m\u001b]8;id=568824;file:///tmp/ipykernel_18646/2088555353.py#23\u001b\\\u001b[2m23\u001b[0m\u001b]8;;\u001b\\\n",
       "\u001b[2;36m           \u001b[0m         Spin0ToTauTau_2j_scalar_g1_HT300_M10_nodmx_v0_TuneCP5_MLM_nomatch, from:       \u001b[2m                \u001b[0m\n",
       "\u001b[2;36m           \u001b[0m         inputs16APV/hists_sum_Spin0ToTauTau_2j_scalar_g1_HT300_M10_nodmx_v0_TuneCP5_ML \u001b[2m                \u001b[0m\n",
       "\u001b[2;36m           \u001b[0m         M_nomatch.hist                                                                 \u001b[2m                \u001b[0m\n"
      ]
     },
     "metadata": {},
     "output_type": "display_data"
    },
    {
     "name": "stdout",
     "output_type": "stream",
     "text": [
      "Spin0ToTauTau_2j_scalar_g1_HT300_M20_nodmx_v0_TuneCP5_MLM\n"
     ]
    },
    {
     "data": {
      "text/html": [
       "<pre style=\"white-space:pre;overflow-x:auto;line-height:normal;font-family:Menlo,'DejaVu Sans Mono',consolas,'Courier New',monospace\"><span style=\"color: #7fbfbf; text-decoration-color: #7fbfbf\">           </span><span style=\"color: #000080; text-decoration-color: #000080\">INFO    </span> Readign sample: Spin0ToTauTau_2j_scalar_g1_HT300_M20_nodmx_v0_TuneCP5_MLM,     <a href=\"file:///tmp/ipykernel_18646/2088555353.py\" target=\"_blank\"><span style=\"color: #7f7f7f; text-decoration-color: #7f7f7f\">2088555353.py</span></a><span style=\"color: #7f7f7f; text-decoration-color: #7f7f7f\">:</span><a href=\"file:///tmp/ipykernel_18646/2088555353.py#23\" target=\"_blank\"><span style=\"color: #7f7f7f; text-decoration-color: #7f7f7f\">23</span></a>\n",
       "<span style=\"color: #7fbfbf; text-decoration-color: #7fbfbf\">           </span>         from:                                                                          <span style=\"color: #7f7f7f; text-decoration-color: #7f7f7f\">                </span>\n",
       "<span style=\"color: #7fbfbf; text-decoration-color: #7fbfbf\">           </span>         inputs16APV/hists_sum_Spin0ToTauTau_2j_scalar_g1_HT300_M20_nodmx_v0_TuneCP5_ML <span style=\"color: #7f7f7f; text-decoration-color: #7f7f7f\">                </span>\n",
       "<span style=\"color: #7fbfbf; text-decoration-color: #7fbfbf\">           </span>         M.hist                                                                         <span style=\"color: #7f7f7f; text-decoration-color: #7f7f7f\">                </span>\n",
       "</pre>\n"
      ],
      "text/plain": [
       "\u001b[2;36m          \u001b[0m\u001b[2;36m \u001b[0m\u001b[34mINFO    \u001b[0m Readign sample: Spin0ToTauTau_2j_scalar_g1_HT300_M20_nodmx_v0_TuneCP5_MLM,     \u001b]8;id=568172;file:///tmp/ipykernel_18646/2088555353.py\u001b\\\u001b[2m2088555353.py\u001b[0m\u001b]8;;\u001b\\\u001b[2m:\u001b[0m\u001b]8;id=72711;file:///tmp/ipykernel_18646/2088555353.py#23\u001b\\\u001b[2m23\u001b[0m\u001b]8;;\u001b\\\n",
       "\u001b[2;36m           \u001b[0m         from:                                                                          \u001b[2m                \u001b[0m\n",
       "\u001b[2;36m           \u001b[0m         inputs16APV/hists_sum_Spin0ToTauTau_2j_scalar_g1_HT300_M20_nodmx_v0_TuneCP5_ML \u001b[2m                \u001b[0m\n",
       "\u001b[2;36m           \u001b[0m         M.hist                                                                         \u001b[2m                \u001b[0m\n"
      ]
     },
     "metadata": {},
     "output_type": "display_data"
    },
    {
     "data": {
      "text/html": [
       "<pre style=\"white-space:pre;overflow-x:auto;line-height:normal;font-family:Menlo,'DejaVu Sans Mono',consolas,'Courier New',monospace\"><span style=\"color: #7fbfbf; text-decoration-color: #7fbfbf\">           </span><span style=\"color: #000080; text-decoration-color: #000080\">INFO    </span> Scaling Spin0ToTauTau_2j_scalar_g1_HT300_M20_nodmx_v0_TuneCP5_MLM by           <a href=\"file:///tmp/ipykernel_18646/2088555353.py\" target=\"_blank\"><span style=\"color: #7f7f7f; text-decoration-color: #7f7f7f\">2088555353.py</span></a><span style=\"color: #7f7f7f; text-decoration-color: #7f7f7f\">:</span><a href=\"file:///tmp/ipykernel_18646/2088555353.py#34\" target=\"_blank\"><span style=\"color: #7f7f7f; text-decoration-color: #7f7f7f\">34</span></a>\n",
       "<span style=\"color: #7fbfbf; text-decoration-color: #7fbfbf\">           </span>         <span style=\"color: #008080; text-decoration-color: #008080; font-weight: bold\">19.520000000</span> <span style=\"font-weight: bold\">(</span>lumi = <span style=\"color: #008080; text-decoration-color: #008080; font-weight: bold\">19.52</span>, xs = nan, sumw = <span style=\"color: #008080; text-decoration-color: #008080; font-weight: bold\">74518.000</span><span style=\"font-weight: bold\">)</span>                        <span style=\"color: #7f7f7f; text-decoration-color: #7f7f7f\">                </span>\n",
       "</pre>\n"
      ],
      "text/plain": [
       "\u001b[2;36m          \u001b[0m\u001b[2;36m \u001b[0m\u001b[34mINFO    \u001b[0m Scaling Spin0ToTauTau_2j_scalar_g1_HT300_M20_nodmx_v0_TuneCP5_MLM by           \u001b]8;id=489656;file:///tmp/ipykernel_18646/2088555353.py\u001b\\\u001b[2m2088555353.py\u001b[0m\u001b]8;;\u001b\\\u001b[2m:\u001b[0m\u001b]8;id=433064;file:///tmp/ipykernel_18646/2088555353.py#34\u001b\\\u001b[2m34\u001b[0m\u001b]8;;\u001b\\\n",
       "\u001b[2;36m           \u001b[0m         \u001b[1;36m19.520000000\u001b[0m \u001b[1m(\u001b[0mlumi = \u001b[1;36m19.52\u001b[0m, xs = nan, sumw = \u001b[1;36m74518.000\u001b[0m\u001b[1m)\u001b[0m                        \u001b[2m                \u001b[0m\n"
      ]
     },
     "metadata": {},
     "output_type": "display_data"
    },
    {
     "name": "stdout",
     "output_type": "stream",
     "text": [
      "Spin0ToTauTau_2j_scalar_g1_HT300_M20_nodmx_v0_TuneCP5_MLM_nomatch\n"
     ]
    },
    {
     "data": {
      "text/html": [
       "<pre style=\"white-space:pre;overflow-x:auto;line-height:normal;font-family:Menlo,'DejaVu Sans Mono',consolas,'Courier New',monospace\"><span style=\"color: #7fbfbf; text-decoration-color: #7fbfbf\">           </span><span style=\"color: #000080; text-decoration-color: #000080\">INFO    </span> Readign sample:                                                                <a href=\"file:///tmp/ipykernel_18646/2088555353.py\" target=\"_blank\"><span style=\"color: #7f7f7f; text-decoration-color: #7f7f7f\">2088555353.py</span></a><span style=\"color: #7f7f7f; text-decoration-color: #7f7f7f\">:</span><a href=\"file:///tmp/ipykernel_18646/2088555353.py#23\" target=\"_blank\"><span style=\"color: #7f7f7f; text-decoration-color: #7f7f7f\">23</span></a>\n",
       "<span style=\"color: #7fbfbf; text-decoration-color: #7fbfbf\">           </span>         Spin0ToTauTau_2j_scalar_g1_HT300_M20_nodmx_v0_TuneCP5_MLM_nomatch, from:       <span style=\"color: #7f7f7f; text-decoration-color: #7f7f7f\">                </span>\n",
       "<span style=\"color: #7fbfbf; text-decoration-color: #7fbfbf\">           </span>         inputs16APV/hists_sum_Spin0ToTauTau_2j_scalar_g1_HT300_M20_nodmx_v0_TuneCP5_ML <span style=\"color: #7f7f7f; text-decoration-color: #7f7f7f\">                </span>\n",
       "<span style=\"color: #7fbfbf; text-decoration-color: #7fbfbf\">           </span>         M_nomatch.hist                                                                 <span style=\"color: #7f7f7f; text-decoration-color: #7f7f7f\">                </span>\n",
       "</pre>\n"
      ],
      "text/plain": [
       "\u001b[2;36m          \u001b[0m\u001b[2;36m \u001b[0m\u001b[34mINFO    \u001b[0m Readign sample:                                                                \u001b]8;id=596062;file:///tmp/ipykernel_18646/2088555353.py\u001b\\\u001b[2m2088555353.py\u001b[0m\u001b]8;;\u001b\\\u001b[2m:\u001b[0m\u001b]8;id=57816;file:///tmp/ipykernel_18646/2088555353.py#23\u001b\\\u001b[2m23\u001b[0m\u001b]8;;\u001b\\\n",
       "\u001b[2;36m           \u001b[0m         Spin0ToTauTau_2j_scalar_g1_HT300_M20_nodmx_v0_TuneCP5_MLM_nomatch, from:       \u001b[2m                \u001b[0m\n",
       "\u001b[2;36m           \u001b[0m         inputs16APV/hists_sum_Spin0ToTauTau_2j_scalar_g1_HT300_M20_nodmx_v0_TuneCP5_ML \u001b[2m                \u001b[0m\n",
       "\u001b[2;36m           \u001b[0m         M_nomatch.hist                                                                 \u001b[2m                \u001b[0m\n"
      ]
     },
     "metadata": {},
     "output_type": "display_data"
    },
    {
     "name": "stdout",
     "output_type": "stream",
     "text": [
      "Spin0ToTauTau_2j_scalar_g1_HT300_M30_nodmx_v0_TuneCP5_MLM\n"
     ]
    },
    {
     "data": {
      "text/html": [
       "<pre style=\"white-space:pre;overflow-x:auto;line-height:normal;font-family:Menlo,'DejaVu Sans Mono',consolas,'Courier New',monospace\"><span style=\"color: #7fbfbf; text-decoration-color: #7fbfbf\">           </span><span style=\"color: #000080; text-decoration-color: #000080\">INFO    </span> Readign sample: Spin0ToTauTau_2j_scalar_g1_HT300_M30_nodmx_v0_TuneCP5_MLM,     <a href=\"file:///tmp/ipykernel_18646/2088555353.py\" target=\"_blank\"><span style=\"color: #7f7f7f; text-decoration-color: #7f7f7f\">2088555353.py</span></a><span style=\"color: #7f7f7f; text-decoration-color: #7f7f7f\">:</span><a href=\"file:///tmp/ipykernel_18646/2088555353.py#23\" target=\"_blank\"><span style=\"color: #7f7f7f; text-decoration-color: #7f7f7f\">23</span></a>\n",
       "<span style=\"color: #7fbfbf; text-decoration-color: #7fbfbf\">           </span>         from:                                                                          <span style=\"color: #7f7f7f; text-decoration-color: #7f7f7f\">                </span>\n",
       "<span style=\"color: #7fbfbf; text-decoration-color: #7fbfbf\">           </span>         inputs16APV/hists_sum_Spin0ToTauTau_2j_scalar_g1_HT300_M30_nodmx_v0_TuneCP5_ML <span style=\"color: #7f7f7f; text-decoration-color: #7f7f7f\">                </span>\n",
       "<span style=\"color: #7fbfbf; text-decoration-color: #7fbfbf\">           </span>         M.hist                                                                         <span style=\"color: #7f7f7f; text-decoration-color: #7f7f7f\">                </span>\n",
       "</pre>\n"
      ],
      "text/plain": [
       "\u001b[2;36m          \u001b[0m\u001b[2;36m \u001b[0m\u001b[34mINFO    \u001b[0m Readign sample: Spin0ToTauTau_2j_scalar_g1_HT300_M30_nodmx_v0_TuneCP5_MLM,     \u001b]8;id=823666;file:///tmp/ipykernel_18646/2088555353.py\u001b\\\u001b[2m2088555353.py\u001b[0m\u001b]8;;\u001b\\\u001b[2m:\u001b[0m\u001b]8;id=248379;file:///tmp/ipykernel_18646/2088555353.py#23\u001b\\\u001b[2m23\u001b[0m\u001b]8;;\u001b\\\n",
       "\u001b[2;36m           \u001b[0m         from:                                                                          \u001b[2m                \u001b[0m\n",
       "\u001b[2;36m           \u001b[0m         inputs16APV/hists_sum_Spin0ToTauTau_2j_scalar_g1_HT300_M30_nodmx_v0_TuneCP5_ML \u001b[2m                \u001b[0m\n",
       "\u001b[2;36m           \u001b[0m         M.hist                                                                         \u001b[2m                \u001b[0m\n"
      ]
     },
     "metadata": {},
     "output_type": "display_data"
    },
    {
     "data": {
      "text/html": [
       "<pre style=\"white-space:pre;overflow-x:auto;line-height:normal;font-family:Menlo,'DejaVu Sans Mono',consolas,'Courier New',monospace\"><span style=\"color: #7fbfbf; text-decoration-color: #7fbfbf\">           </span><span style=\"color: #000080; text-decoration-color: #000080\">INFO    </span> Scaling Spin0ToTauTau_2j_scalar_g1_HT300_M30_nodmx_v0_TuneCP5_MLM by           <a href=\"file:///tmp/ipykernel_18646/2088555353.py\" target=\"_blank\"><span style=\"color: #7f7f7f; text-decoration-color: #7f7f7f\">2088555353.py</span></a><span style=\"color: #7f7f7f; text-decoration-color: #7f7f7f\">:</span><a href=\"file:///tmp/ipykernel_18646/2088555353.py#34\" target=\"_blank\"><span style=\"color: #7f7f7f; text-decoration-color: #7f7f7f\">34</span></a>\n",
       "<span style=\"color: #7fbfbf; text-decoration-color: #7fbfbf\">           </span>         <span style=\"color: #008080; text-decoration-color: #008080; font-weight: bold\">19.520000000</span> <span style=\"font-weight: bold\">(</span>lumi = <span style=\"color: #008080; text-decoration-color: #008080; font-weight: bold\">19.52</span>, xs = nan, sumw = <span style=\"color: #008080; text-decoration-color: #008080; font-weight: bold\">77475.000</span><span style=\"font-weight: bold\">)</span>                        <span style=\"color: #7f7f7f; text-decoration-color: #7f7f7f\">                </span>\n",
       "</pre>\n"
      ],
      "text/plain": [
       "\u001b[2;36m          \u001b[0m\u001b[2;36m \u001b[0m\u001b[34mINFO    \u001b[0m Scaling Spin0ToTauTau_2j_scalar_g1_HT300_M30_nodmx_v0_TuneCP5_MLM by           \u001b]8;id=452661;file:///tmp/ipykernel_18646/2088555353.py\u001b\\\u001b[2m2088555353.py\u001b[0m\u001b]8;;\u001b\\\u001b[2m:\u001b[0m\u001b]8;id=405215;file:///tmp/ipykernel_18646/2088555353.py#34\u001b\\\u001b[2m34\u001b[0m\u001b]8;;\u001b\\\n",
       "\u001b[2;36m           \u001b[0m         \u001b[1;36m19.520000000\u001b[0m \u001b[1m(\u001b[0mlumi = \u001b[1;36m19.52\u001b[0m, xs = nan, sumw = \u001b[1;36m77475.000\u001b[0m\u001b[1m)\u001b[0m                        \u001b[2m                \u001b[0m\n"
      ]
     },
     "metadata": {},
     "output_type": "display_data"
    },
    {
     "name": "stdout",
     "output_type": "stream",
     "text": [
      "Spin0ToTauTau_2j_scalar_g1_HT300_M30_nodmx_v0_TuneCP5_MLM_nomatch\n"
     ]
    },
    {
     "data": {
      "text/html": [
       "<pre style=\"white-space:pre;overflow-x:auto;line-height:normal;font-family:Menlo,'DejaVu Sans Mono',consolas,'Courier New',monospace\"><span style=\"color: #7fbfbf; text-decoration-color: #7fbfbf\">           </span><span style=\"color: #000080; text-decoration-color: #000080\">INFO    </span> Readign sample:                                                                <a href=\"file:///tmp/ipykernel_18646/2088555353.py\" target=\"_blank\"><span style=\"color: #7f7f7f; text-decoration-color: #7f7f7f\">2088555353.py</span></a><span style=\"color: #7f7f7f; text-decoration-color: #7f7f7f\">:</span><a href=\"file:///tmp/ipykernel_18646/2088555353.py#23\" target=\"_blank\"><span style=\"color: #7f7f7f; text-decoration-color: #7f7f7f\">23</span></a>\n",
       "<span style=\"color: #7fbfbf; text-decoration-color: #7fbfbf\">           </span>         Spin0ToTauTau_2j_scalar_g1_HT300_M30_nodmx_v0_TuneCP5_MLM_nomatch, from:       <span style=\"color: #7f7f7f; text-decoration-color: #7f7f7f\">                </span>\n",
       "<span style=\"color: #7fbfbf; text-decoration-color: #7fbfbf\">           </span>         inputs16APV/hists_sum_Spin0ToTauTau_2j_scalar_g1_HT300_M30_nodmx_v0_TuneCP5_ML <span style=\"color: #7f7f7f; text-decoration-color: #7f7f7f\">                </span>\n",
       "<span style=\"color: #7fbfbf; text-decoration-color: #7fbfbf\">           </span>         M_nomatch.hist                                                                 <span style=\"color: #7f7f7f; text-decoration-color: #7f7f7f\">                </span>\n",
       "</pre>\n"
      ],
      "text/plain": [
       "\u001b[2;36m          \u001b[0m\u001b[2;36m \u001b[0m\u001b[34mINFO    \u001b[0m Readign sample:                                                                \u001b]8;id=68711;file:///tmp/ipykernel_18646/2088555353.py\u001b\\\u001b[2m2088555353.py\u001b[0m\u001b]8;;\u001b\\\u001b[2m:\u001b[0m\u001b]8;id=3405;file:///tmp/ipykernel_18646/2088555353.py#23\u001b\\\u001b[2m23\u001b[0m\u001b]8;;\u001b\\\n",
       "\u001b[2;36m           \u001b[0m         Spin0ToTauTau_2j_scalar_g1_HT300_M30_nodmx_v0_TuneCP5_MLM_nomatch, from:       \u001b[2m                \u001b[0m\n",
       "\u001b[2;36m           \u001b[0m         inputs16APV/hists_sum_Spin0ToTauTau_2j_scalar_g1_HT300_M30_nodmx_v0_TuneCP5_ML \u001b[2m                \u001b[0m\n",
       "\u001b[2;36m           \u001b[0m         M_nomatch.hist                                                                 \u001b[2m                \u001b[0m\n"
      ]
     },
     "metadata": {},
     "output_type": "display_data"
    },
    {
     "name": "stdout",
     "output_type": "stream",
     "text": [
      "Spin0ToTauTau_2j_scalar_g1_HT300_M40_nodmx_v0_TuneCP5_MLM\n"
     ]
    },
    {
     "data": {
      "text/html": [
       "<pre style=\"white-space:pre;overflow-x:auto;line-height:normal;font-family:Menlo,'DejaVu Sans Mono',consolas,'Courier New',monospace\"><span style=\"color: #7fbfbf; text-decoration-color: #7fbfbf\">           </span><span style=\"color: #000080; text-decoration-color: #000080\">INFO    </span> Readign sample: Spin0ToTauTau_2j_scalar_g1_HT300_M40_nodmx_v0_TuneCP5_MLM,     <a href=\"file:///tmp/ipykernel_18646/2088555353.py\" target=\"_blank\"><span style=\"color: #7f7f7f; text-decoration-color: #7f7f7f\">2088555353.py</span></a><span style=\"color: #7f7f7f; text-decoration-color: #7f7f7f\">:</span><a href=\"file:///tmp/ipykernel_18646/2088555353.py#23\" target=\"_blank\"><span style=\"color: #7f7f7f; text-decoration-color: #7f7f7f\">23</span></a>\n",
       "<span style=\"color: #7fbfbf; text-decoration-color: #7fbfbf\">           </span>         from:                                                                          <span style=\"color: #7f7f7f; text-decoration-color: #7f7f7f\">                </span>\n",
       "<span style=\"color: #7fbfbf; text-decoration-color: #7fbfbf\">           </span>         inputs16APV/hists_sum_Spin0ToTauTau_2j_scalar_g1_HT300_M40_nodmx_v0_TuneCP5_ML <span style=\"color: #7f7f7f; text-decoration-color: #7f7f7f\">                </span>\n",
       "<span style=\"color: #7fbfbf; text-decoration-color: #7fbfbf\">           </span>         M.hist                                                                         <span style=\"color: #7f7f7f; text-decoration-color: #7f7f7f\">                </span>\n",
       "</pre>\n"
      ],
      "text/plain": [
       "\u001b[2;36m          \u001b[0m\u001b[2;36m \u001b[0m\u001b[34mINFO    \u001b[0m Readign sample: Spin0ToTauTau_2j_scalar_g1_HT300_M40_nodmx_v0_TuneCP5_MLM,     \u001b]8;id=218998;file:///tmp/ipykernel_18646/2088555353.py\u001b\\\u001b[2m2088555353.py\u001b[0m\u001b]8;;\u001b\\\u001b[2m:\u001b[0m\u001b]8;id=449138;file:///tmp/ipykernel_18646/2088555353.py#23\u001b\\\u001b[2m23\u001b[0m\u001b]8;;\u001b\\\n",
       "\u001b[2;36m           \u001b[0m         from:                                                                          \u001b[2m                \u001b[0m\n",
       "\u001b[2;36m           \u001b[0m         inputs16APV/hists_sum_Spin0ToTauTau_2j_scalar_g1_HT300_M40_nodmx_v0_TuneCP5_ML \u001b[2m                \u001b[0m\n",
       "\u001b[2;36m           \u001b[0m         M.hist                                                                         \u001b[2m                \u001b[0m\n"
      ]
     },
     "metadata": {},
     "output_type": "display_data"
    },
    {
     "data": {
      "text/html": [
       "<pre style=\"white-space:pre;overflow-x:auto;line-height:normal;font-family:Menlo,'DejaVu Sans Mono',consolas,'Courier New',monospace\"><span style=\"color: #7fbfbf; text-decoration-color: #7fbfbf\">           </span><span style=\"color: #000080; text-decoration-color: #000080\">INFO    </span> Scaling Spin0ToTauTau_2j_scalar_g1_HT300_M40_nodmx_v0_TuneCP5_MLM by           <a href=\"file:///tmp/ipykernel_18646/2088555353.py\" target=\"_blank\"><span style=\"color: #7f7f7f; text-decoration-color: #7f7f7f\">2088555353.py</span></a><span style=\"color: #7f7f7f; text-decoration-color: #7f7f7f\">:</span><a href=\"file:///tmp/ipykernel_18646/2088555353.py#34\" target=\"_blank\"><span style=\"color: #7f7f7f; text-decoration-color: #7f7f7f\">34</span></a>\n",
       "<span style=\"color: #7fbfbf; text-decoration-color: #7fbfbf\">           </span>         <span style=\"color: #008080; text-decoration-color: #008080; font-weight: bold\">19.520000000</span> <span style=\"font-weight: bold\">(</span>lumi = <span style=\"color: #008080; text-decoration-color: #008080; font-weight: bold\">19.52</span>, xs = nan, sumw = <span style=\"color: #008080; text-decoration-color: #008080; font-weight: bold\">78413.000</span><span style=\"font-weight: bold\">)</span>                        <span style=\"color: #7f7f7f; text-decoration-color: #7f7f7f\">                </span>\n",
       "</pre>\n"
      ],
      "text/plain": [
       "\u001b[2;36m          \u001b[0m\u001b[2;36m \u001b[0m\u001b[34mINFO    \u001b[0m Scaling Spin0ToTauTau_2j_scalar_g1_HT300_M40_nodmx_v0_TuneCP5_MLM by           \u001b]8;id=789677;file:///tmp/ipykernel_18646/2088555353.py\u001b\\\u001b[2m2088555353.py\u001b[0m\u001b]8;;\u001b\\\u001b[2m:\u001b[0m\u001b]8;id=932002;file:///tmp/ipykernel_18646/2088555353.py#34\u001b\\\u001b[2m34\u001b[0m\u001b]8;;\u001b\\\n",
       "\u001b[2;36m           \u001b[0m         \u001b[1;36m19.520000000\u001b[0m \u001b[1m(\u001b[0mlumi = \u001b[1;36m19.52\u001b[0m, xs = nan, sumw = \u001b[1;36m78413.000\u001b[0m\u001b[1m)\u001b[0m                        \u001b[2m                \u001b[0m\n"
      ]
     },
     "metadata": {},
     "output_type": "display_data"
    },
    {
     "name": "stdout",
     "output_type": "stream",
     "text": [
      "Spin0ToTauTau_2j_scalar_g1_HT300_M40_nodmx_v0_TuneCP5_MLM_nomatch\n"
     ]
    },
    {
     "data": {
      "text/html": [
       "<pre style=\"white-space:pre;overflow-x:auto;line-height:normal;font-family:Menlo,'DejaVu Sans Mono',consolas,'Courier New',monospace\"><span style=\"color: #7fbfbf; text-decoration-color: #7fbfbf\">           </span><span style=\"color: #000080; text-decoration-color: #000080\">INFO    </span> Readign sample:                                                                <a href=\"file:///tmp/ipykernel_18646/2088555353.py\" target=\"_blank\"><span style=\"color: #7f7f7f; text-decoration-color: #7f7f7f\">2088555353.py</span></a><span style=\"color: #7f7f7f; text-decoration-color: #7f7f7f\">:</span><a href=\"file:///tmp/ipykernel_18646/2088555353.py#23\" target=\"_blank\"><span style=\"color: #7f7f7f; text-decoration-color: #7f7f7f\">23</span></a>\n",
       "<span style=\"color: #7fbfbf; text-decoration-color: #7fbfbf\">           </span>         Spin0ToTauTau_2j_scalar_g1_HT300_M40_nodmx_v0_TuneCP5_MLM_nomatch, from:       <span style=\"color: #7f7f7f; text-decoration-color: #7f7f7f\">                </span>\n",
       "<span style=\"color: #7fbfbf; text-decoration-color: #7fbfbf\">           </span>         inputs16APV/hists_sum_Spin0ToTauTau_2j_scalar_g1_HT300_M40_nodmx_v0_TuneCP5_ML <span style=\"color: #7f7f7f; text-decoration-color: #7f7f7f\">                </span>\n",
       "<span style=\"color: #7fbfbf; text-decoration-color: #7fbfbf\">           </span>         M_nomatch.hist                                                                 <span style=\"color: #7f7f7f; text-decoration-color: #7f7f7f\">                </span>\n",
       "</pre>\n"
      ],
      "text/plain": [
       "\u001b[2;36m          \u001b[0m\u001b[2;36m \u001b[0m\u001b[34mINFO    \u001b[0m Readign sample:                                                                \u001b]8;id=663632;file:///tmp/ipykernel_18646/2088555353.py\u001b\\\u001b[2m2088555353.py\u001b[0m\u001b]8;;\u001b\\\u001b[2m:\u001b[0m\u001b]8;id=882882;file:///tmp/ipykernel_18646/2088555353.py#23\u001b\\\u001b[2m23\u001b[0m\u001b]8;;\u001b\\\n",
       "\u001b[2;36m           \u001b[0m         Spin0ToTauTau_2j_scalar_g1_HT300_M40_nodmx_v0_TuneCP5_MLM_nomatch, from:       \u001b[2m                \u001b[0m\n",
       "\u001b[2;36m           \u001b[0m         inputs16APV/hists_sum_Spin0ToTauTau_2j_scalar_g1_HT300_M40_nodmx_v0_TuneCP5_ML \u001b[2m                \u001b[0m\n",
       "\u001b[2;36m           \u001b[0m         M_nomatch.hist                                                                 \u001b[2m                \u001b[0m\n"
      ]
     },
     "metadata": {},
     "output_type": "display_data"
    },
    {
     "name": "stdout",
     "output_type": "stream",
     "text": [
      "Spin0ToTauTau_2j_scalar_g1_HT300_M50_nodmx_v0_TuneCP5_MLM\n"
     ]
    },
    {
     "data": {
      "text/html": [
       "<pre style=\"white-space:pre;overflow-x:auto;line-height:normal;font-family:Menlo,'DejaVu Sans Mono',consolas,'Courier New',monospace\"><span style=\"color: #7fbfbf; text-decoration-color: #7fbfbf\">           </span><span style=\"color: #000080; text-decoration-color: #000080\">INFO    </span> Readign sample: Spin0ToTauTau_2j_scalar_g1_HT300_M50_nodmx_v0_TuneCP5_MLM,     <a href=\"file:///tmp/ipykernel_18646/2088555353.py\" target=\"_blank\"><span style=\"color: #7f7f7f; text-decoration-color: #7f7f7f\">2088555353.py</span></a><span style=\"color: #7f7f7f; text-decoration-color: #7f7f7f\">:</span><a href=\"file:///tmp/ipykernel_18646/2088555353.py#23\" target=\"_blank\"><span style=\"color: #7f7f7f; text-decoration-color: #7f7f7f\">23</span></a>\n",
       "<span style=\"color: #7fbfbf; text-decoration-color: #7fbfbf\">           </span>         from:                                                                          <span style=\"color: #7f7f7f; text-decoration-color: #7f7f7f\">                </span>\n",
       "<span style=\"color: #7fbfbf; text-decoration-color: #7fbfbf\">           </span>         inputs16APV/hists_sum_Spin0ToTauTau_2j_scalar_g1_HT300_M50_nodmx_v0_TuneCP5_ML <span style=\"color: #7f7f7f; text-decoration-color: #7f7f7f\">                </span>\n",
       "<span style=\"color: #7fbfbf; text-decoration-color: #7fbfbf\">           </span>         M.hist                                                                         <span style=\"color: #7f7f7f; text-decoration-color: #7f7f7f\">                </span>\n",
       "</pre>\n"
      ],
      "text/plain": [
       "\u001b[2;36m          \u001b[0m\u001b[2;36m \u001b[0m\u001b[34mINFO    \u001b[0m Readign sample: Spin0ToTauTau_2j_scalar_g1_HT300_M50_nodmx_v0_TuneCP5_MLM,     \u001b]8;id=571651;file:///tmp/ipykernel_18646/2088555353.py\u001b\\\u001b[2m2088555353.py\u001b[0m\u001b]8;;\u001b\\\u001b[2m:\u001b[0m\u001b]8;id=503647;file:///tmp/ipykernel_18646/2088555353.py#23\u001b\\\u001b[2m23\u001b[0m\u001b]8;;\u001b\\\n",
       "\u001b[2;36m           \u001b[0m         from:                                                                          \u001b[2m                \u001b[0m\n",
       "\u001b[2;36m           \u001b[0m         inputs16APV/hists_sum_Spin0ToTauTau_2j_scalar_g1_HT300_M50_nodmx_v0_TuneCP5_ML \u001b[2m                \u001b[0m\n",
       "\u001b[2;36m           \u001b[0m         M.hist                                                                         \u001b[2m                \u001b[0m\n"
      ]
     },
     "metadata": {},
     "output_type": "display_data"
    },
    {
     "data": {
      "text/html": [
       "<pre style=\"white-space:pre;overflow-x:auto;line-height:normal;font-family:Menlo,'DejaVu Sans Mono',consolas,'Courier New',monospace\"><span style=\"color: #7fbfbf; text-decoration-color: #7fbfbf\">           </span><span style=\"color: #000080; text-decoration-color: #000080\">INFO    </span> Scaling Spin0ToTauTau_2j_scalar_g1_HT300_M50_nodmx_v0_TuneCP5_MLM by           <a href=\"file:///tmp/ipykernel_18646/2088555353.py\" target=\"_blank\"><span style=\"color: #7f7f7f; text-decoration-color: #7f7f7f\">2088555353.py</span></a><span style=\"color: #7f7f7f; text-decoration-color: #7f7f7f\">:</span><a href=\"file:///tmp/ipykernel_18646/2088555353.py#34\" target=\"_blank\"><span style=\"color: #7f7f7f; text-decoration-color: #7f7f7f\">34</span></a>\n",
       "<span style=\"color: #7fbfbf; text-decoration-color: #7fbfbf\">           </span>         <span style=\"color: #008080; text-decoration-color: #008080; font-weight: bold\">19.520000000</span> <span style=\"font-weight: bold\">(</span>lumi = <span style=\"color: #008080; text-decoration-color: #008080; font-weight: bold\">19.52</span>, xs = nan, sumw = <span style=\"color: #008080; text-decoration-color: #008080; font-weight: bold\">81720.000</span><span style=\"font-weight: bold\">)</span>                        <span style=\"color: #7f7f7f; text-decoration-color: #7f7f7f\">                </span>\n",
       "</pre>\n"
      ],
      "text/plain": [
       "\u001b[2;36m          \u001b[0m\u001b[2;36m \u001b[0m\u001b[34mINFO    \u001b[0m Scaling Spin0ToTauTau_2j_scalar_g1_HT300_M50_nodmx_v0_TuneCP5_MLM by           \u001b]8;id=759865;file:///tmp/ipykernel_18646/2088555353.py\u001b\\\u001b[2m2088555353.py\u001b[0m\u001b]8;;\u001b\\\u001b[2m:\u001b[0m\u001b]8;id=40686;file:///tmp/ipykernel_18646/2088555353.py#34\u001b\\\u001b[2m34\u001b[0m\u001b]8;;\u001b\\\n",
       "\u001b[2;36m           \u001b[0m         \u001b[1;36m19.520000000\u001b[0m \u001b[1m(\u001b[0mlumi = \u001b[1;36m19.52\u001b[0m, xs = nan, sumw = \u001b[1;36m81720.000\u001b[0m\u001b[1m)\u001b[0m                        \u001b[2m                \u001b[0m\n"
      ]
     },
     "metadata": {},
     "output_type": "display_data"
    },
    {
     "name": "stdout",
     "output_type": "stream",
     "text": [
      "Spin0ToTauTau_2j_scalar_g1_HT300_M50_nodmx_v0_TuneCP5_MLM_nomatch\n"
     ]
    },
    {
     "data": {
      "text/html": [
       "<pre style=\"white-space:pre;overflow-x:auto;line-height:normal;font-family:Menlo,'DejaVu Sans Mono',consolas,'Courier New',monospace\"><span style=\"color: #7fbfbf; text-decoration-color: #7fbfbf\">           </span><span style=\"color: #000080; text-decoration-color: #000080\">INFO    </span> Readign sample:                                                                <a href=\"file:///tmp/ipykernel_18646/2088555353.py\" target=\"_blank\"><span style=\"color: #7f7f7f; text-decoration-color: #7f7f7f\">2088555353.py</span></a><span style=\"color: #7f7f7f; text-decoration-color: #7f7f7f\">:</span><a href=\"file:///tmp/ipykernel_18646/2088555353.py#23\" target=\"_blank\"><span style=\"color: #7f7f7f; text-decoration-color: #7f7f7f\">23</span></a>\n",
       "<span style=\"color: #7fbfbf; text-decoration-color: #7fbfbf\">           </span>         Spin0ToTauTau_2j_scalar_g1_HT300_M50_nodmx_v0_TuneCP5_MLM_nomatch, from:       <span style=\"color: #7f7f7f; text-decoration-color: #7f7f7f\">                </span>\n",
       "<span style=\"color: #7fbfbf; text-decoration-color: #7fbfbf\">           </span>         inputs16APV/hists_sum_Spin0ToTauTau_2j_scalar_g1_HT300_M50_nodmx_v0_TuneCP5_ML <span style=\"color: #7f7f7f; text-decoration-color: #7f7f7f\">                </span>\n",
       "<span style=\"color: #7fbfbf; text-decoration-color: #7fbfbf\">           </span>         M_nomatch.hist                                                                 <span style=\"color: #7f7f7f; text-decoration-color: #7f7f7f\">                </span>\n",
       "</pre>\n"
      ],
      "text/plain": [
       "\u001b[2;36m          \u001b[0m\u001b[2;36m \u001b[0m\u001b[34mINFO    \u001b[0m Readign sample:                                                                \u001b]8;id=32301;file:///tmp/ipykernel_18646/2088555353.py\u001b\\\u001b[2m2088555353.py\u001b[0m\u001b]8;;\u001b\\\u001b[2m:\u001b[0m\u001b]8;id=330855;file:///tmp/ipykernel_18646/2088555353.py#23\u001b\\\u001b[2m23\u001b[0m\u001b]8;;\u001b\\\n",
       "\u001b[2;36m           \u001b[0m         Spin0ToTauTau_2j_scalar_g1_HT300_M50_nodmx_v0_TuneCP5_MLM_nomatch, from:       \u001b[2m                \u001b[0m\n",
       "\u001b[2;36m           \u001b[0m         inputs16APV/hists_sum_Spin0ToTauTau_2j_scalar_g1_HT300_M50_nodmx_v0_TuneCP5_ML \u001b[2m                \u001b[0m\n",
       "\u001b[2;36m           \u001b[0m         M_nomatch.hist                                                                 \u001b[2m                \u001b[0m\n"
      ]
     },
     "metadata": {},
     "output_type": "display_data"
    },
    {
     "name": "stdout",
     "output_type": "stream",
     "text": [
      "Spin0ToTauTau_2j_scalar_g1_HT300_M75_nodmx_v0_TuneCP5_MLM\n"
     ]
    },
    {
     "data": {
      "text/html": [
       "<pre style=\"white-space:pre;overflow-x:auto;line-height:normal;font-family:Menlo,'DejaVu Sans Mono',consolas,'Courier New',monospace\"><span style=\"color: #7fbfbf; text-decoration-color: #7fbfbf\">           </span><span style=\"color: #000080; text-decoration-color: #000080\">INFO    </span> Readign sample: Spin0ToTauTau_2j_scalar_g1_HT300_M75_nodmx_v0_TuneCP5_MLM,     <a href=\"file:///tmp/ipykernel_18646/2088555353.py\" target=\"_blank\"><span style=\"color: #7f7f7f; text-decoration-color: #7f7f7f\">2088555353.py</span></a><span style=\"color: #7f7f7f; text-decoration-color: #7f7f7f\">:</span><a href=\"file:///tmp/ipykernel_18646/2088555353.py#23\" target=\"_blank\"><span style=\"color: #7f7f7f; text-decoration-color: #7f7f7f\">23</span></a>\n",
       "<span style=\"color: #7fbfbf; text-decoration-color: #7fbfbf\">           </span>         from:                                                                          <span style=\"color: #7f7f7f; text-decoration-color: #7f7f7f\">                </span>\n",
       "<span style=\"color: #7fbfbf; text-decoration-color: #7fbfbf\">           </span>         inputs16APV/hists_sum_Spin0ToTauTau_2j_scalar_g1_HT300_M75_nodmx_v0_TuneCP5_ML <span style=\"color: #7f7f7f; text-decoration-color: #7f7f7f\">                </span>\n",
       "<span style=\"color: #7fbfbf; text-decoration-color: #7fbfbf\">           </span>         M.hist                                                                         <span style=\"color: #7f7f7f; text-decoration-color: #7f7f7f\">                </span>\n",
       "</pre>\n"
      ],
      "text/plain": [
       "\u001b[2;36m          \u001b[0m\u001b[2;36m \u001b[0m\u001b[34mINFO    \u001b[0m Readign sample: Spin0ToTauTau_2j_scalar_g1_HT300_M75_nodmx_v0_TuneCP5_MLM,     \u001b]8;id=172230;file:///tmp/ipykernel_18646/2088555353.py\u001b\\\u001b[2m2088555353.py\u001b[0m\u001b]8;;\u001b\\\u001b[2m:\u001b[0m\u001b]8;id=24384;file:///tmp/ipykernel_18646/2088555353.py#23\u001b\\\u001b[2m23\u001b[0m\u001b]8;;\u001b\\\n",
       "\u001b[2;36m           \u001b[0m         from:                                                                          \u001b[2m                \u001b[0m\n",
       "\u001b[2;36m           \u001b[0m         inputs16APV/hists_sum_Spin0ToTauTau_2j_scalar_g1_HT300_M75_nodmx_v0_TuneCP5_ML \u001b[2m                \u001b[0m\n",
       "\u001b[2;36m           \u001b[0m         M.hist                                                                         \u001b[2m                \u001b[0m\n"
      ]
     },
     "metadata": {},
     "output_type": "display_data"
    },
    {
     "data": {
      "text/html": [
       "<pre style=\"white-space:pre;overflow-x:auto;line-height:normal;font-family:Menlo,'DejaVu Sans Mono',consolas,'Courier New',monospace\"><span style=\"color: #7fbfbf; text-decoration-color: #7fbfbf\">           </span><span style=\"color: #000080; text-decoration-color: #000080\">INFO    </span> Scaling Spin0ToTauTau_2j_scalar_g1_HT300_M75_nodmx_v0_TuneCP5_MLM by           <a href=\"file:///tmp/ipykernel_18646/2088555353.py\" target=\"_blank\"><span style=\"color: #7f7f7f; text-decoration-color: #7f7f7f\">2088555353.py</span></a><span style=\"color: #7f7f7f; text-decoration-color: #7f7f7f\">:</span><a href=\"file:///tmp/ipykernel_18646/2088555353.py#34\" target=\"_blank\"><span style=\"color: #7f7f7f; text-decoration-color: #7f7f7f\">34</span></a>\n",
       "<span style=\"color: #7fbfbf; text-decoration-color: #7fbfbf\">           </span>         <span style=\"color: #008080; text-decoration-color: #008080; font-weight: bold\">19.520000000</span> <span style=\"font-weight: bold\">(</span>lumi = <span style=\"color: #008080; text-decoration-color: #008080; font-weight: bold\">19.52</span>, xs = nan, sumw = <span style=\"color: #008080; text-decoration-color: #008080; font-weight: bold\">78411.000</span><span style=\"font-weight: bold\">)</span>                        <span style=\"color: #7f7f7f; text-decoration-color: #7f7f7f\">                </span>\n",
       "</pre>\n"
      ],
      "text/plain": [
       "\u001b[2;36m          \u001b[0m\u001b[2;36m \u001b[0m\u001b[34mINFO    \u001b[0m Scaling Spin0ToTauTau_2j_scalar_g1_HT300_M75_nodmx_v0_TuneCP5_MLM by           \u001b]8;id=460128;file:///tmp/ipykernel_18646/2088555353.py\u001b\\\u001b[2m2088555353.py\u001b[0m\u001b]8;;\u001b\\\u001b[2m:\u001b[0m\u001b]8;id=627490;file:///tmp/ipykernel_18646/2088555353.py#34\u001b\\\u001b[2m34\u001b[0m\u001b]8;;\u001b\\\n",
       "\u001b[2;36m           \u001b[0m         \u001b[1;36m19.520000000\u001b[0m \u001b[1m(\u001b[0mlumi = \u001b[1;36m19.52\u001b[0m, xs = nan, sumw = \u001b[1;36m78411.000\u001b[0m\u001b[1m)\u001b[0m                        \u001b[2m                \u001b[0m\n"
      ]
     },
     "metadata": {},
     "output_type": "display_data"
    },
    {
     "name": "stdout",
     "output_type": "stream",
     "text": [
      "Spin0ToTauTau_2j_scalar_g1_HT300_M75_nodmx_v0_TuneCP5_MLM_nomatch\n"
     ]
    },
    {
     "data": {
      "text/html": [
       "<pre style=\"white-space:pre;overflow-x:auto;line-height:normal;font-family:Menlo,'DejaVu Sans Mono',consolas,'Courier New',monospace\"><span style=\"color: #7fbfbf; text-decoration-color: #7fbfbf\">           </span><span style=\"color: #000080; text-decoration-color: #000080\">INFO    </span> Readign sample:                                                                <a href=\"file:///tmp/ipykernel_18646/2088555353.py\" target=\"_blank\"><span style=\"color: #7f7f7f; text-decoration-color: #7f7f7f\">2088555353.py</span></a><span style=\"color: #7f7f7f; text-decoration-color: #7f7f7f\">:</span><a href=\"file:///tmp/ipykernel_18646/2088555353.py#23\" target=\"_blank\"><span style=\"color: #7f7f7f; text-decoration-color: #7f7f7f\">23</span></a>\n",
       "<span style=\"color: #7fbfbf; text-decoration-color: #7fbfbf\">           </span>         Spin0ToTauTau_2j_scalar_g1_HT300_M75_nodmx_v0_TuneCP5_MLM_nomatch, from:       <span style=\"color: #7f7f7f; text-decoration-color: #7f7f7f\">                </span>\n",
       "<span style=\"color: #7fbfbf; text-decoration-color: #7fbfbf\">           </span>         inputs16APV/hists_sum_Spin0ToTauTau_2j_scalar_g1_HT300_M75_nodmx_v0_TuneCP5_ML <span style=\"color: #7f7f7f; text-decoration-color: #7f7f7f\">                </span>\n",
       "<span style=\"color: #7fbfbf; text-decoration-color: #7fbfbf\">           </span>         M_nomatch.hist                                                                 <span style=\"color: #7f7f7f; text-decoration-color: #7f7f7f\">                </span>\n",
       "</pre>\n"
      ],
      "text/plain": [
       "\u001b[2;36m          \u001b[0m\u001b[2;36m \u001b[0m\u001b[34mINFO    \u001b[0m Readign sample:                                                                \u001b]8;id=27641;file:///tmp/ipykernel_18646/2088555353.py\u001b\\\u001b[2m2088555353.py\u001b[0m\u001b]8;;\u001b\\\u001b[2m:\u001b[0m\u001b]8;id=661385;file:///tmp/ipykernel_18646/2088555353.py#23\u001b\\\u001b[2m23\u001b[0m\u001b]8;;\u001b\\\n",
       "\u001b[2;36m           \u001b[0m         Spin0ToTauTau_2j_scalar_g1_HT300_M75_nodmx_v0_TuneCP5_MLM_nomatch, from:       \u001b[2m                \u001b[0m\n",
       "\u001b[2;36m           \u001b[0m         inputs16APV/hists_sum_Spin0ToTauTau_2j_scalar_g1_HT300_M75_nodmx_v0_TuneCP5_ML \u001b[2m                \u001b[0m\n",
       "\u001b[2;36m           \u001b[0m         M_nomatch.hist                                                                 \u001b[2m                \u001b[0m\n"
      ]
     },
     "metadata": {},
     "output_type": "display_data"
    },
    {
     "name": "stdout",
     "output_type": "stream",
     "text": [
      "Spin0ToTauTau_2j_scalar_g1_HT300_M100_nodmx_v0_TuneCP5_MLM\n"
     ]
    },
    {
     "data": {
      "text/html": [
       "<pre style=\"white-space:pre;overflow-x:auto;line-height:normal;font-family:Menlo,'DejaVu Sans Mono',consolas,'Courier New',monospace\"><span style=\"color: #7fbfbf; text-decoration-color: #7fbfbf\">           </span><span style=\"color: #000080; text-decoration-color: #000080\">INFO    </span> Readign sample: Spin0ToTauTau_2j_scalar_g1_HT300_M100_nodmx_v0_TuneCP5_MLM,    <a href=\"file:///tmp/ipykernel_18646/2088555353.py\" target=\"_blank\"><span style=\"color: #7f7f7f; text-decoration-color: #7f7f7f\">2088555353.py</span></a><span style=\"color: #7f7f7f; text-decoration-color: #7f7f7f\">:</span><a href=\"file:///tmp/ipykernel_18646/2088555353.py#23\" target=\"_blank\"><span style=\"color: #7f7f7f; text-decoration-color: #7f7f7f\">23</span></a>\n",
       "<span style=\"color: #7fbfbf; text-decoration-color: #7fbfbf\">           </span>         from:                                                                          <span style=\"color: #7f7f7f; text-decoration-color: #7f7f7f\">                </span>\n",
       "<span style=\"color: #7fbfbf; text-decoration-color: #7fbfbf\">           </span>         inputs16APV/hists_sum_Spin0ToTauTau_2j_scalar_g1_HT300_M100_nodmx_v0_TuneCP5_M <span style=\"color: #7f7f7f; text-decoration-color: #7f7f7f\">                </span>\n",
       "<span style=\"color: #7fbfbf; text-decoration-color: #7fbfbf\">           </span>         LM.hist                                                                        <span style=\"color: #7f7f7f; text-decoration-color: #7f7f7f\">                </span>\n",
       "</pre>\n"
      ],
      "text/plain": [
       "\u001b[2;36m          \u001b[0m\u001b[2;36m \u001b[0m\u001b[34mINFO    \u001b[0m Readign sample: Spin0ToTauTau_2j_scalar_g1_HT300_M100_nodmx_v0_TuneCP5_MLM,    \u001b]8;id=371446;file:///tmp/ipykernel_18646/2088555353.py\u001b\\\u001b[2m2088555353.py\u001b[0m\u001b]8;;\u001b\\\u001b[2m:\u001b[0m\u001b]8;id=385667;file:///tmp/ipykernel_18646/2088555353.py#23\u001b\\\u001b[2m23\u001b[0m\u001b]8;;\u001b\\\n",
       "\u001b[2;36m           \u001b[0m         from:                                                                          \u001b[2m                \u001b[0m\n",
       "\u001b[2;36m           \u001b[0m         inputs16APV/hists_sum_Spin0ToTauTau_2j_scalar_g1_HT300_M100_nodmx_v0_TuneCP5_M \u001b[2m                \u001b[0m\n",
       "\u001b[2;36m           \u001b[0m         LM.hist                                                                        \u001b[2m                \u001b[0m\n"
      ]
     },
     "metadata": {},
     "output_type": "display_data"
    },
    {
     "data": {
      "text/html": [
       "<pre style=\"white-space:pre;overflow-x:auto;line-height:normal;font-family:Menlo,'DejaVu Sans Mono',consolas,'Courier New',monospace\"><span style=\"color: #7fbfbf; text-decoration-color: #7fbfbf\">           </span><span style=\"color: #000080; text-decoration-color: #000080\">INFO    </span> Scaling Spin0ToTauTau_2j_scalar_g1_HT300_M100_nodmx_v0_TuneCP5_MLM by          <a href=\"file:///tmp/ipykernel_18646/2088555353.py\" target=\"_blank\"><span style=\"color: #7f7f7f; text-decoration-color: #7f7f7f\">2088555353.py</span></a><span style=\"color: #7f7f7f; text-decoration-color: #7f7f7f\">:</span><a href=\"file:///tmp/ipykernel_18646/2088555353.py#34\" target=\"_blank\"><span style=\"color: #7f7f7f; text-decoration-color: #7f7f7f\">34</span></a>\n",
       "<span style=\"color: #7fbfbf; text-decoration-color: #7fbfbf\">           </span>         <span style=\"color: #008080; text-decoration-color: #008080; font-weight: bold\">19.520000000</span> <span style=\"font-weight: bold\">(</span>lumi = <span style=\"color: #008080; text-decoration-color: #008080; font-weight: bold\">19.52</span>, xs = nan, sumw = <span style=\"color: #008080; text-decoration-color: #008080; font-weight: bold\">81413.000</span><span style=\"font-weight: bold\">)</span>                        <span style=\"color: #7f7f7f; text-decoration-color: #7f7f7f\">                </span>\n",
       "</pre>\n"
      ],
      "text/plain": [
       "\u001b[2;36m          \u001b[0m\u001b[2;36m \u001b[0m\u001b[34mINFO    \u001b[0m Scaling Spin0ToTauTau_2j_scalar_g1_HT300_M100_nodmx_v0_TuneCP5_MLM by          \u001b]8;id=390469;file:///tmp/ipykernel_18646/2088555353.py\u001b\\\u001b[2m2088555353.py\u001b[0m\u001b]8;;\u001b\\\u001b[2m:\u001b[0m\u001b]8;id=566917;file:///tmp/ipykernel_18646/2088555353.py#34\u001b\\\u001b[2m34\u001b[0m\u001b]8;;\u001b\\\n",
       "\u001b[2;36m           \u001b[0m         \u001b[1;36m19.520000000\u001b[0m \u001b[1m(\u001b[0mlumi = \u001b[1;36m19.52\u001b[0m, xs = nan, sumw = \u001b[1;36m81413.000\u001b[0m\u001b[1m)\u001b[0m                        \u001b[2m                \u001b[0m\n"
      ]
     },
     "metadata": {},
     "output_type": "display_data"
    },
    {
     "name": "stdout",
     "output_type": "stream",
     "text": [
      "Spin0ToTauTau_2j_scalar_g1_HT300_M100_nodmx_v0_TuneCP5_MLM_nomatch\n"
     ]
    },
    {
     "data": {
      "text/html": [
       "<pre style=\"white-space:pre;overflow-x:auto;line-height:normal;font-family:Menlo,'DejaVu Sans Mono',consolas,'Courier New',monospace\"><span style=\"color: #7fbfbf; text-decoration-color: #7fbfbf\">           </span><span style=\"color: #000080; text-decoration-color: #000080\">INFO    </span> Readign sample:                                                                <a href=\"file:///tmp/ipykernel_18646/2088555353.py\" target=\"_blank\"><span style=\"color: #7f7f7f; text-decoration-color: #7f7f7f\">2088555353.py</span></a><span style=\"color: #7f7f7f; text-decoration-color: #7f7f7f\">:</span><a href=\"file:///tmp/ipykernel_18646/2088555353.py#23\" target=\"_blank\"><span style=\"color: #7f7f7f; text-decoration-color: #7f7f7f\">23</span></a>\n",
       "<span style=\"color: #7fbfbf; text-decoration-color: #7fbfbf\">           </span>         Spin0ToTauTau_2j_scalar_g1_HT300_M100_nodmx_v0_TuneCP5_MLM_nomatch, from:      <span style=\"color: #7f7f7f; text-decoration-color: #7f7f7f\">                </span>\n",
       "<span style=\"color: #7fbfbf; text-decoration-color: #7fbfbf\">           </span>         inputs16APV/hists_sum_Spin0ToTauTau_2j_scalar_g1_HT300_M100_nodmx_v0_TuneCP5_M <span style=\"color: #7f7f7f; text-decoration-color: #7f7f7f\">                </span>\n",
       "<span style=\"color: #7fbfbf; text-decoration-color: #7fbfbf\">           </span>         LM_nomatch.hist                                                                <span style=\"color: #7f7f7f; text-decoration-color: #7f7f7f\">                </span>\n",
       "</pre>\n"
      ],
      "text/plain": [
       "\u001b[2;36m          \u001b[0m\u001b[2;36m \u001b[0m\u001b[34mINFO    \u001b[0m Readign sample:                                                                \u001b]8;id=581425;file:///tmp/ipykernel_18646/2088555353.py\u001b\\\u001b[2m2088555353.py\u001b[0m\u001b]8;;\u001b\\\u001b[2m:\u001b[0m\u001b]8;id=47696;file:///tmp/ipykernel_18646/2088555353.py#23\u001b\\\u001b[2m23\u001b[0m\u001b]8;;\u001b\\\n",
       "\u001b[2;36m           \u001b[0m         Spin0ToTauTau_2j_scalar_g1_HT300_M100_nodmx_v0_TuneCP5_MLM_nomatch, from:      \u001b[2m                \u001b[0m\n",
       "\u001b[2;36m           \u001b[0m         inputs16APV/hists_sum_Spin0ToTauTau_2j_scalar_g1_HT300_M100_nodmx_v0_TuneCP5_M \u001b[2m                \u001b[0m\n",
       "\u001b[2;36m           \u001b[0m         LM_nomatch.hist                                                                \u001b[2m                \u001b[0m\n"
      ]
     },
     "metadata": {},
     "output_type": "display_data"
    },
    {
     "name": "stdout",
     "output_type": "stream",
     "text": [
      "Spin0ToTauTau_2j_scalar_g1_HT300_M125_nodmx_v0_TuneCP5_MLM\n"
     ]
    },
    {
     "data": {
      "text/html": [
       "<pre style=\"white-space:pre;overflow-x:auto;line-height:normal;font-family:Menlo,'DejaVu Sans Mono',consolas,'Courier New',monospace\"><span style=\"color: #7fbfbf; text-decoration-color: #7fbfbf\">           </span><span style=\"color: #000080; text-decoration-color: #000080\">INFO    </span> Readign sample: Spin0ToTauTau_2j_scalar_g1_HT300_M125_nodmx_v0_TuneCP5_MLM,    <a href=\"file:///tmp/ipykernel_18646/2088555353.py\" target=\"_blank\"><span style=\"color: #7f7f7f; text-decoration-color: #7f7f7f\">2088555353.py</span></a><span style=\"color: #7f7f7f; text-decoration-color: #7f7f7f\">:</span><a href=\"file:///tmp/ipykernel_18646/2088555353.py#23\" target=\"_blank\"><span style=\"color: #7f7f7f; text-decoration-color: #7f7f7f\">23</span></a>\n",
       "<span style=\"color: #7fbfbf; text-decoration-color: #7fbfbf\">           </span>         from:                                                                          <span style=\"color: #7f7f7f; text-decoration-color: #7f7f7f\">                </span>\n",
       "<span style=\"color: #7fbfbf; text-decoration-color: #7fbfbf\">           </span>         inputs16APV/hists_sum_Spin0ToTauTau_2j_scalar_g1_HT300_M125_nodmx_v0_TuneCP5_M <span style=\"color: #7f7f7f; text-decoration-color: #7f7f7f\">                </span>\n",
       "<span style=\"color: #7fbfbf; text-decoration-color: #7fbfbf\">           </span>         LM.hist                                                                        <span style=\"color: #7f7f7f; text-decoration-color: #7f7f7f\">                </span>\n",
       "</pre>\n"
      ],
      "text/plain": [
       "\u001b[2;36m          \u001b[0m\u001b[2;36m \u001b[0m\u001b[34mINFO    \u001b[0m Readign sample: Spin0ToTauTau_2j_scalar_g1_HT300_M125_nodmx_v0_TuneCP5_MLM,    \u001b]8;id=750710;file:///tmp/ipykernel_18646/2088555353.py\u001b\\\u001b[2m2088555353.py\u001b[0m\u001b]8;;\u001b\\\u001b[2m:\u001b[0m\u001b]8;id=502142;file:///tmp/ipykernel_18646/2088555353.py#23\u001b\\\u001b[2m23\u001b[0m\u001b]8;;\u001b\\\n",
       "\u001b[2;36m           \u001b[0m         from:                                                                          \u001b[2m                \u001b[0m\n",
       "\u001b[2;36m           \u001b[0m         inputs16APV/hists_sum_Spin0ToTauTau_2j_scalar_g1_HT300_M125_nodmx_v0_TuneCP5_M \u001b[2m                \u001b[0m\n",
       "\u001b[2;36m           \u001b[0m         LM.hist                                                                        \u001b[2m                \u001b[0m\n"
      ]
     },
     "metadata": {},
     "output_type": "display_data"
    },
    {
     "data": {
      "text/html": [
       "<pre style=\"white-space:pre;overflow-x:auto;line-height:normal;font-family:Menlo,'DejaVu Sans Mono',consolas,'Courier New',monospace\"><span style=\"color: #7fbfbf; text-decoration-color: #7fbfbf\">           </span><span style=\"color: #000080; text-decoration-color: #000080\">INFO    </span> Scaling Spin0ToTauTau_2j_scalar_g1_HT300_M125_nodmx_v0_TuneCP5_MLM by          <a href=\"file:///tmp/ipykernel_18646/2088555353.py\" target=\"_blank\"><span style=\"color: #7f7f7f; text-decoration-color: #7f7f7f\">2088555353.py</span></a><span style=\"color: #7f7f7f; text-decoration-color: #7f7f7f\">:</span><a href=\"file:///tmp/ipykernel_18646/2088555353.py#34\" target=\"_blank\"><span style=\"color: #7f7f7f; text-decoration-color: #7f7f7f\">34</span></a>\n",
       "<span style=\"color: #7fbfbf; text-decoration-color: #7fbfbf\">           </span>         <span style=\"color: #008080; text-decoration-color: #008080; font-weight: bold\">19.520000000</span> <span style=\"font-weight: bold\">(</span>lumi = <span style=\"color: #008080; text-decoration-color: #008080; font-weight: bold\">19.52</span>, xs = nan, sumw = <span style=\"color: #008080; text-decoration-color: #008080; font-weight: bold\">84352.000</span><span style=\"font-weight: bold\">)</span>                        <span style=\"color: #7f7f7f; text-decoration-color: #7f7f7f\">                </span>\n",
       "</pre>\n"
      ],
      "text/plain": [
       "\u001b[2;36m          \u001b[0m\u001b[2;36m \u001b[0m\u001b[34mINFO    \u001b[0m Scaling Spin0ToTauTau_2j_scalar_g1_HT300_M125_nodmx_v0_TuneCP5_MLM by          \u001b]8;id=646346;file:///tmp/ipykernel_18646/2088555353.py\u001b\\\u001b[2m2088555353.py\u001b[0m\u001b]8;;\u001b\\\u001b[2m:\u001b[0m\u001b]8;id=220657;file:///tmp/ipykernel_18646/2088555353.py#34\u001b\\\u001b[2m34\u001b[0m\u001b]8;;\u001b\\\n",
       "\u001b[2;36m           \u001b[0m         \u001b[1;36m19.520000000\u001b[0m \u001b[1m(\u001b[0mlumi = \u001b[1;36m19.52\u001b[0m, xs = nan, sumw = \u001b[1;36m84352.000\u001b[0m\u001b[1m)\u001b[0m                        \u001b[2m                \u001b[0m\n"
      ]
     },
     "metadata": {},
     "output_type": "display_data"
    },
    {
     "name": "stdout",
     "output_type": "stream",
     "text": [
      "Spin0ToTauTau_2j_scalar_g1_HT300_M125_nodmx_v0_TuneCP5_MLM_nomatch\n"
     ]
    },
    {
     "data": {
      "text/html": [
       "<pre style=\"white-space:pre;overflow-x:auto;line-height:normal;font-family:Menlo,'DejaVu Sans Mono',consolas,'Courier New',monospace\"><span style=\"color: #7fbfbf; text-decoration-color: #7fbfbf\">           </span><span style=\"color: #000080; text-decoration-color: #000080\">INFO    </span> Readign sample:                                                                <a href=\"file:///tmp/ipykernel_18646/2088555353.py\" target=\"_blank\"><span style=\"color: #7f7f7f; text-decoration-color: #7f7f7f\">2088555353.py</span></a><span style=\"color: #7f7f7f; text-decoration-color: #7f7f7f\">:</span><a href=\"file:///tmp/ipykernel_18646/2088555353.py#23\" target=\"_blank\"><span style=\"color: #7f7f7f; text-decoration-color: #7f7f7f\">23</span></a>\n",
       "<span style=\"color: #7fbfbf; text-decoration-color: #7fbfbf\">           </span>         Spin0ToTauTau_2j_scalar_g1_HT300_M125_nodmx_v0_TuneCP5_MLM_nomatch, from:      <span style=\"color: #7f7f7f; text-decoration-color: #7f7f7f\">                </span>\n",
       "<span style=\"color: #7fbfbf; text-decoration-color: #7fbfbf\">           </span>         inputs16APV/hists_sum_Spin0ToTauTau_2j_scalar_g1_HT300_M125_nodmx_v0_TuneCP5_M <span style=\"color: #7f7f7f; text-decoration-color: #7f7f7f\">                </span>\n",
       "<span style=\"color: #7fbfbf; text-decoration-color: #7fbfbf\">           </span>         LM_nomatch.hist                                                                <span style=\"color: #7f7f7f; text-decoration-color: #7f7f7f\">                </span>\n",
       "</pre>\n"
      ],
      "text/plain": [
       "\u001b[2;36m          \u001b[0m\u001b[2;36m \u001b[0m\u001b[34mINFO    \u001b[0m Readign sample:                                                                \u001b]8;id=528554;file:///tmp/ipykernel_18646/2088555353.py\u001b\\\u001b[2m2088555353.py\u001b[0m\u001b]8;;\u001b\\\u001b[2m:\u001b[0m\u001b]8;id=459049;file:///tmp/ipykernel_18646/2088555353.py#23\u001b\\\u001b[2m23\u001b[0m\u001b]8;;\u001b\\\n",
       "\u001b[2;36m           \u001b[0m         Spin0ToTauTau_2j_scalar_g1_HT300_M125_nodmx_v0_TuneCP5_MLM_nomatch, from:      \u001b[2m                \u001b[0m\n",
       "\u001b[2;36m           \u001b[0m         inputs16APV/hists_sum_Spin0ToTauTau_2j_scalar_g1_HT300_M125_nodmx_v0_TuneCP5_M \u001b[2m                \u001b[0m\n",
       "\u001b[2;36m           \u001b[0m         LM_nomatch.hist                                                                \u001b[2m                \u001b[0m\n"
      ]
     },
     "metadata": {},
     "output_type": "display_data"
    },
    {
     "name": "stdout",
     "output_type": "stream",
     "text": [
      "Spin0ToTauTau_2j_scalar_g1_HT300_M150_nodmx_v0_TuneCP5_MLM\n"
     ]
    },
    {
     "data": {
      "text/html": [
       "<pre style=\"white-space:pre;overflow-x:auto;line-height:normal;font-family:Menlo,'DejaVu Sans Mono',consolas,'Courier New',monospace\"><span style=\"color: #7fbfbf; text-decoration-color: #7fbfbf\">           </span><span style=\"color: #000080; text-decoration-color: #000080\">INFO    </span> Readign sample: Spin0ToTauTau_2j_scalar_g1_HT300_M150_nodmx_v0_TuneCP5_MLM,    <a href=\"file:///tmp/ipykernel_18646/2088555353.py\" target=\"_blank\"><span style=\"color: #7f7f7f; text-decoration-color: #7f7f7f\">2088555353.py</span></a><span style=\"color: #7f7f7f; text-decoration-color: #7f7f7f\">:</span><a href=\"file:///tmp/ipykernel_18646/2088555353.py#23\" target=\"_blank\"><span style=\"color: #7f7f7f; text-decoration-color: #7f7f7f\">23</span></a>\n",
       "<span style=\"color: #7fbfbf; text-decoration-color: #7fbfbf\">           </span>         from:                                                                          <span style=\"color: #7f7f7f; text-decoration-color: #7f7f7f\">                </span>\n",
       "<span style=\"color: #7fbfbf; text-decoration-color: #7fbfbf\">           </span>         inputs16APV/hists_sum_Spin0ToTauTau_2j_scalar_g1_HT300_M150_nodmx_v0_TuneCP5_M <span style=\"color: #7f7f7f; text-decoration-color: #7f7f7f\">                </span>\n",
       "<span style=\"color: #7fbfbf; text-decoration-color: #7fbfbf\">           </span>         LM.hist                                                                        <span style=\"color: #7f7f7f; text-decoration-color: #7f7f7f\">                </span>\n",
       "</pre>\n"
      ],
      "text/plain": [
       "\u001b[2;36m          \u001b[0m\u001b[2;36m \u001b[0m\u001b[34mINFO    \u001b[0m Readign sample: Spin0ToTauTau_2j_scalar_g1_HT300_M150_nodmx_v0_TuneCP5_MLM,    \u001b]8;id=673788;file:///tmp/ipykernel_18646/2088555353.py\u001b\\\u001b[2m2088555353.py\u001b[0m\u001b]8;;\u001b\\\u001b[2m:\u001b[0m\u001b]8;id=783293;file:///tmp/ipykernel_18646/2088555353.py#23\u001b\\\u001b[2m23\u001b[0m\u001b]8;;\u001b\\\n",
       "\u001b[2;36m           \u001b[0m         from:                                                                          \u001b[2m                \u001b[0m\n",
       "\u001b[2;36m           \u001b[0m         inputs16APV/hists_sum_Spin0ToTauTau_2j_scalar_g1_HT300_M150_nodmx_v0_TuneCP5_M \u001b[2m                \u001b[0m\n",
       "\u001b[2;36m           \u001b[0m         LM.hist                                                                        \u001b[2m                \u001b[0m\n"
      ]
     },
     "metadata": {},
     "output_type": "display_data"
    },
    {
     "data": {
      "text/html": [
       "<pre style=\"white-space:pre;overflow-x:auto;line-height:normal;font-family:Menlo,'DejaVu Sans Mono',consolas,'Courier New',monospace\"><span style=\"color: #7fbfbf; text-decoration-color: #7fbfbf\">[15:02:49] </span><span style=\"color: #000080; text-decoration-color: #000080\">INFO    </span> Scaling Spin0ToTauTau_2j_scalar_g1_HT300_M150_nodmx_v0_TuneCP5_MLM by          <a href=\"file:///tmp/ipykernel_18646/2088555353.py\" target=\"_blank\"><span style=\"color: #7f7f7f; text-decoration-color: #7f7f7f\">2088555353.py</span></a><span style=\"color: #7f7f7f; text-decoration-color: #7f7f7f\">:</span><a href=\"file:///tmp/ipykernel_18646/2088555353.py#34\" target=\"_blank\"><span style=\"color: #7f7f7f; text-decoration-color: #7f7f7f\">34</span></a>\n",
       "<span style=\"color: #7fbfbf; text-decoration-color: #7fbfbf\">           </span>         <span style=\"color: #008080; text-decoration-color: #008080; font-weight: bold\">19.520000000</span> <span style=\"font-weight: bold\">(</span>lumi = <span style=\"color: #008080; text-decoration-color: #008080; font-weight: bold\">19.52</span>, xs = nan, sumw = <span style=\"color: #008080; text-decoration-color: #008080; font-weight: bold\">83347.000</span><span style=\"font-weight: bold\">)</span>                        <span style=\"color: #7f7f7f; text-decoration-color: #7f7f7f\">                </span>\n",
       "</pre>\n"
      ],
      "text/plain": [
       "\u001b[2;36m[15:02:49]\u001b[0m\u001b[2;36m \u001b[0m\u001b[34mINFO    \u001b[0m Scaling Spin0ToTauTau_2j_scalar_g1_HT300_M150_nodmx_v0_TuneCP5_MLM by          \u001b]8;id=593287;file:///tmp/ipykernel_18646/2088555353.py\u001b\\\u001b[2m2088555353.py\u001b[0m\u001b]8;;\u001b\\\u001b[2m:\u001b[0m\u001b]8;id=520254;file:///tmp/ipykernel_18646/2088555353.py#34\u001b\\\u001b[2m34\u001b[0m\u001b]8;;\u001b\\\n",
       "\u001b[2;36m           \u001b[0m         \u001b[1;36m19.520000000\u001b[0m \u001b[1m(\u001b[0mlumi = \u001b[1;36m19.52\u001b[0m, xs = nan, sumw = \u001b[1;36m83347.000\u001b[0m\u001b[1m)\u001b[0m                        \u001b[2m                \u001b[0m\n"
      ]
     },
     "metadata": {},
     "output_type": "display_data"
    },
    {
     "name": "stdout",
     "output_type": "stream",
     "text": [
      "Spin0ToTauTau_2j_scalar_g1_HT300_M150_nodmx_v0_TuneCP5_MLM_nomatch\n"
     ]
    },
    {
     "data": {
      "text/html": [
       "<pre style=\"white-space:pre;overflow-x:auto;line-height:normal;font-family:Menlo,'DejaVu Sans Mono',consolas,'Courier New',monospace\"><span style=\"color: #7fbfbf; text-decoration-color: #7fbfbf\">           </span><span style=\"color: #000080; text-decoration-color: #000080\">INFO    </span> Readign sample:                                                                <a href=\"file:///tmp/ipykernel_18646/2088555353.py\" target=\"_blank\"><span style=\"color: #7f7f7f; text-decoration-color: #7f7f7f\">2088555353.py</span></a><span style=\"color: #7f7f7f; text-decoration-color: #7f7f7f\">:</span><a href=\"file:///tmp/ipykernel_18646/2088555353.py#23\" target=\"_blank\"><span style=\"color: #7f7f7f; text-decoration-color: #7f7f7f\">23</span></a>\n",
       "<span style=\"color: #7fbfbf; text-decoration-color: #7fbfbf\">           </span>         Spin0ToTauTau_2j_scalar_g1_HT300_M150_nodmx_v0_TuneCP5_MLM_nomatch, from:      <span style=\"color: #7f7f7f; text-decoration-color: #7f7f7f\">                </span>\n",
       "<span style=\"color: #7fbfbf; text-decoration-color: #7fbfbf\">           </span>         inputs16APV/hists_sum_Spin0ToTauTau_2j_scalar_g1_HT300_M150_nodmx_v0_TuneCP5_M <span style=\"color: #7f7f7f; text-decoration-color: #7f7f7f\">                </span>\n",
       "<span style=\"color: #7fbfbf; text-decoration-color: #7fbfbf\">           </span>         LM_nomatch.hist                                                                <span style=\"color: #7f7f7f; text-decoration-color: #7f7f7f\">                </span>\n",
       "</pre>\n"
      ],
      "text/plain": [
       "\u001b[2;36m          \u001b[0m\u001b[2;36m \u001b[0m\u001b[34mINFO    \u001b[0m Readign sample:                                                                \u001b]8;id=346458;file:///tmp/ipykernel_18646/2088555353.py\u001b\\\u001b[2m2088555353.py\u001b[0m\u001b]8;;\u001b\\\u001b[2m:\u001b[0m\u001b]8;id=951677;file:///tmp/ipykernel_18646/2088555353.py#23\u001b\\\u001b[2m23\u001b[0m\u001b]8;;\u001b\\\n",
       "\u001b[2;36m           \u001b[0m         Spin0ToTauTau_2j_scalar_g1_HT300_M150_nodmx_v0_TuneCP5_MLM_nomatch, from:      \u001b[2m                \u001b[0m\n",
       "\u001b[2;36m           \u001b[0m         inputs16APV/hists_sum_Spin0ToTauTau_2j_scalar_g1_HT300_M150_nodmx_v0_TuneCP5_M \u001b[2m                \u001b[0m\n",
       "\u001b[2;36m           \u001b[0m         LM_nomatch.hist                                                                \u001b[2m                \u001b[0m\n"
      ]
     },
     "metadata": {},
     "output_type": "display_data"
    },
    {
     "name": "stdout",
     "output_type": "stream",
     "text": [
      "Spin0ToTauTau_2j_scalar_g1_HT300_M200_nodmx_v0_TuneCP5_MLM\n"
     ]
    },
    {
     "data": {
      "text/html": [
       "<pre style=\"white-space:pre;overflow-x:auto;line-height:normal;font-family:Menlo,'DejaVu Sans Mono',consolas,'Courier New',monospace\"><span style=\"color: #7fbfbf; text-decoration-color: #7fbfbf\">           </span><span style=\"color: #000080; text-decoration-color: #000080\">INFO    </span> Readign sample: Spin0ToTauTau_2j_scalar_g1_HT300_M200_nodmx_v0_TuneCP5_MLM,    <a href=\"file:///tmp/ipykernel_18646/2088555353.py\" target=\"_blank\"><span style=\"color: #7f7f7f; text-decoration-color: #7f7f7f\">2088555353.py</span></a><span style=\"color: #7f7f7f; text-decoration-color: #7f7f7f\">:</span><a href=\"file:///tmp/ipykernel_18646/2088555353.py#23\" target=\"_blank\"><span style=\"color: #7f7f7f; text-decoration-color: #7f7f7f\">23</span></a>\n",
       "<span style=\"color: #7fbfbf; text-decoration-color: #7fbfbf\">           </span>         from:                                                                          <span style=\"color: #7f7f7f; text-decoration-color: #7f7f7f\">                </span>\n",
       "<span style=\"color: #7fbfbf; text-decoration-color: #7fbfbf\">           </span>         inputs16APV/hists_sum_Spin0ToTauTau_2j_scalar_g1_HT300_M200_nodmx_v0_TuneCP5_M <span style=\"color: #7f7f7f; text-decoration-color: #7f7f7f\">                </span>\n",
       "<span style=\"color: #7fbfbf; text-decoration-color: #7fbfbf\">           </span>         LM.hist                                                                        <span style=\"color: #7f7f7f; text-decoration-color: #7f7f7f\">                </span>\n",
       "</pre>\n"
      ],
      "text/plain": [
       "\u001b[2;36m          \u001b[0m\u001b[2;36m \u001b[0m\u001b[34mINFO    \u001b[0m Readign sample: Spin0ToTauTau_2j_scalar_g1_HT300_M200_nodmx_v0_TuneCP5_MLM,    \u001b]8;id=941656;file:///tmp/ipykernel_18646/2088555353.py\u001b\\\u001b[2m2088555353.py\u001b[0m\u001b]8;;\u001b\\\u001b[2m:\u001b[0m\u001b]8;id=403098;file:///tmp/ipykernel_18646/2088555353.py#23\u001b\\\u001b[2m23\u001b[0m\u001b]8;;\u001b\\\n",
       "\u001b[2;36m           \u001b[0m         from:                                                                          \u001b[2m                \u001b[0m\n",
       "\u001b[2;36m           \u001b[0m         inputs16APV/hists_sum_Spin0ToTauTau_2j_scalar_g1_HT300_M200_nodmx_v0_TuneCP5_M \u001b[2m                \u001b[0m\n",
       "\u001b[2;36m           \u001b[0m         LM.hist                                                                        \u001b[2m                \u001b[0m\n"
      ]
     },
     "metadata": {},
     "output_type": "display_data"
    },
    {
     "data": {
      "text/html": [
       "<pre style=\"white-space:pre;overflow-x:auto;line-height:normal;font-family:Menlo,'DejaVu Sans Mono',consolas,'Courier New',monospace\"><span style=\"color: #7fbfbf; text-decoration-color: #7fbfbf\">           </span><span style=\"color: #000080; text-decoration-color: #000080\">INFO    </span> Scaling Spin0ToTauTau_2j_scalar_g1_HT300_M200_nodmx_v0_TuneCP5_MLM by          <a href=\"file:///tmp/ipykernel_18646/2088555353.py\" target=\"_blank\"><span style=\"color: #7f7f7f; text-decoration-color: #7f7f7f\">2088555353.py</span></a><span style=\"color: #7f7f7f; text-decoration-color: #7f7f7f\">:</span><a href=\"file:///tmp/ipykernel_18646/2088555353.py#34\" target=\"_blank\"><span style=\"color: #7f7f7f; text-decoration-color: #7f7f7f\">34</span></a>\n",
       "<span style=\"color: #7fbfbf; text-decoration-color: #7fbfbf\">           </span>         <span style=\"color: #008080; text-decoration-color: #008080; font-weight: bold\">19.520000000</span> <span style=\"font-weight: bold\">(</span>lumi = <span style=\"color: #008080; text-decoration-color: #008080; font-weight: bold\">19.52</span>, xs = nan, sumw = <span style=\"color: #008080; text-decoration-color: #008080; font-weight: bold\">77403.000</span><span style=\"font-weight: bold\">)</span>                        <span style=\"color: #7f7f7f; text-decoration-color: #7f7f7f\">                </span>\n",
       "</pre>\n"
      ],
      "text/plain": [
       "\u001b[2;36m          \u001b[0m\u001b[2;36m \u001b[0m\u001b[34mINFO    \u001b[0m Scaling Spin0ToTauTau_2j_scalar_g1_HT300_M200_nodmx_v0_TuneCP5_MLM by          \u001b]8;id=421383;file:///tmp/ipykernel_18646/2088555353.py\u001b\\\u001b[2m2088555353.py\u001b[0m\u001b]8;;\u001b\\\u001b[2m:\u001b[0m\u001b]8;id=291874;file:///tmp/ipykernel_18646/2088555353.py#34\u001b\\\u001b[2m34\u001b[0m\u001b]8;;\u001b\\\n",
       "\u001b[2;36m           \u001b[0m         \u001b[1;36m19.520000000\u001b[0m \u001b[1m(\u001b[0mlumi = \u001b[1;36m19.52\u001b[0m, xs = nan, sumw = \u001b[1;36m77403.000\u001b[0m\u001b[1m)\u001b[0m                        \u001b[2m                \u001b[0m\n"
      ]
     },
     "metadata": {},
     "output_type": "display_data"
    },
    {
     "name": "stdout",
     "output_type": "stream",
     "text": [
      "Spin0ToTauTau_2j_scalar_g1_HT300_M200_nodmx_v0_TuneCP5_MLM_nomatch\n"
     ]
    },
    {
     "data": {
      "text/html": [
       "<pre style=\"white-space:pre;overflow-x:auto;line-height:normal;font-family:Menlo,'DejaVu Sans Mono',consolas,'Courier New',monospace\"><span style=\"color: #7fbfbf; text-decoration-color: #7fbfbf\">           </span><span style=\"color: #000080; text-decoration-color: #000080\">INFO    </span> Readign sample:                                                                <a href=\"file:///tmp/ipykernel_18646/2088555353.py\" target=\"_blank\"><span style=\"color: #7f7f7f; text-decoration-color: #7f7f7f\">2088555353.py</span></a><span style=\"color: #7f7f7f; text-decoration-color: #7f7f7f\">:</span><a href=\"file:///tmp/ipykernel_18646/2088555353.py#23\" target=\"_blank\"><span style=\"color: #7f7f7f; text-decoration-color: #7f7f7f\">23</span></a>\n",
       "<span style=\"color: #7fbfbf; text-decoration-color: #7fbfbf\">           </span>         Spin0ToTauTau_2j_scalar_g1_HT300_M200_nodmx_v0_TuneCP5_MLM_nomatch, from:      <span style=\"color: #7f7f7f; text-decoration-color: #7f7f7f\">                </span>\n",
       "<span style=\"color: #7fbfbf; text-decoration-color: #7fbfbf\">           </span>         inputs16APV/hists_sum_Spin0ToTauTau_2j_scalar_g1_HT300_M200_nodmx_v0_TuneCP5_M <span style=\"color: #7f7f7f; text-decoration-color: #7f7f7f\">                </span>\n",
       "<span style=\"color: #7fbfbf; text-decoration-color: #7fbfbf\">           </span>         LM_nomatch.hist                                                                <span style=\"color: #7f7f7f; text-decoration-color: #7f7f7f\">                </span>\n",
       "</pre>\n"
      ],
      "text/plain": [
       "\u001b[2;36m          \u001b[0m\u001b[2;36m \u001b[0m\u001b[34mINFO    \u001b[0m Readign sample:                                                                \u001b]8;id=104729;file:///tmp/ipykernel_18646/2088555353.py\u001b\\\u001b[2m2088555353.py\u001b[0m\u001b]8;;\u001b\\\u001b[2m:\u001b[0m\u001b]8;id=886144;file:///tmp/ipykernel_18646/2088555353.py#23\u001b\\\u001b[2m23\u001b[0m\u001b]8;;\u001b\\\n",
       "\u001b[2;36m           \u001b[0m         Spin0ToTauTau_2j_scalar_g1_HT300_M200_nodmx_v0_TuneCP5_MLM_nomatch, from:      \u001b[2m                \u001b[0m\n",
       "\u001b[2;36m           \u001b[0m         inputs16APV/hists_sum_Spin0ToTauTau_2j_scalar_g1_HT300_M200_nodmx_v0_TuneCP5_M \u001b[2m                \u001b[0m\n",
       "\u001b[2;36m           \u001b[0m         LM_nomatch.hist                                                                \u001b[2m                \u001b[0m\n"
      ]
     },
     "metadata": {},
     "output_type": "display_data"
    },
    {
     "name": "stdout",
     "output_type": "stream",
     "text": [
      "Spin0ToTauTau_2j_scalar_g1_HT300_M250_nodmx_v0_TuneCP5_MLM\n"
     ]
    },
    {
     "data": {
      "text/html": [
       "<pre style=\"white-space:pre;overflow-x:auto;line-height:normal;font-family:Menlo,'DejaVu Sans Mono',consolas,'Courier New',monospace\"><span style=\"color: #7fbfbf; text-decoration-color: #7fbfbf\">           </span><span style=\"color: #000080; text-decoration-color: #000080\">INFO    </span> Readign sample: Spin0ToTauTau_2j_scalar_g1_HT300_M250_nodmx_v0_TuneCP5_MLM,    <a href=\"file:///tmp/ipykernel_18646/2088555353.py\" target=\"_blank\"><span style=\"color: #7f7f7f; text-decoration-color: #7f7f7f\">2088555353.py</span></a><span style=\"color: #7f7f7f; text-decoration-color: #7f7f7f\">:</span><a href=\"file:///tmp/ipykernel_18646/2088555353.py#23\" target=\"_blank\"><span style=\"color: #7f7f7f; text-decoration-color: #7f7f7f\">23</span></a>\n",
       "<span style=\"color: #7fbfbf; text-decoration-color: #7fbfbf\">           </span>         from:                                                                          <span style=\"color: #7f7f7f; text-decoration-color: #7f7f7f\">                </span>\n",
       "<span style=\"color: #7fbfbf; text-decoration-color: #7fbfbf\">           </span>         inputs16APV/hists_sum_Spin0ToTauTau_2j_scalar_g1_HT300_M250_nodmx_v0_TuneCP5_M <span style=\"color: #7f7f7f; text-decoration-color: #7f7f7f\">                </span>\n",
       "<span style=\"color: #7fbfbf; text-decoration-color: #7fbfbf\">           </span>         LM.hist                                                                        <span style=\"color: #7f7f7f; text-decoration-color: #7f7f7f\">                </span>\n",
       "</pre>\n"
      ],
      "text/plain": [
       "\u001b[2;36m          \u001b[0m\u001b[2;36m \u001b[0m\u001b[34mINFO    \u001b[0m Readign sample: Spin0ToTauTau_2j_scalar_g1_HT300_M250_nodmx_v0_TuneCP5_MLM,    \u001b]8;id=965876;file:///tmp/ipykernel_18646/2088555353.py\u001b\\\u001b[2m2088555353.py\u001b[0m\u001b]8;;\u001b\\\u001b[2m:\u001b[0m\u001b]8;id=436334;file:///tmp/ipykernel_18646/2088555353.py#23\u001b\\\u001b[2m23\u001b[0m\u001b]8;;\u001b\\\n",
       "\u001b[2;36m           \u001b[0m         from:                                                                          \u001b[2m                \u001b[0m\n",
       "\u001b[2;36m           \u001b[0m         inputs16APV/hists_sum_Spin0ToTauTau_2j_scalar_g1_HT300_M250_nodmx_v0_TuneCP5_M \u001b[2m                \u001b[0m\n",
       "\u001b[2;36m           \u001b[0m         LM.hist                                                                        \u001b[2m                \u001b[0m\n"
      ]
     },
     "metadata": {},
     "output_type": "display_data"
    },
    {
     "data": {
      "text/html": [
       "<pre style=\"white-space:pre;overflow-x:auto;line-height:normal;font-family:Menlo,'DejaVu Sans Mono',consolas,'Courier New',monospace\"><span style=\"color: #7fbfbf; text-decoration-color: #7fbfbf\">           </span><span style=\"color: #000080; text-decoration-color: #000080\">INFO    </span> Scaling Spin0ToTauTau_2j_scalar_g1_HT300_M250_nodmx_v0_TuneCP5_MLM by          <a href=\"file:///tmp/ipykernel_18646/2088555353.py\" target=\"_blank\"><span style=\"color: #7f7f7f; text-decoration-color: #7f7f7f\">2088555353.py</span></a><span style=\"color: #7f7f7f; text-decoration-color: #7f7f7f\">:</span><a href=\"file:///tmp/ipykernel_18646/2088555353.py#34\" target=\"_blank\"><span style=\"color: #7f7f7f; text-decoration-color: #7f7f7f\">34</span></a>\n",
       "<span style=\"color: #7fbfbf; text-decoration-color: #7fbfbf\">           </span>         <span style=\"color: #008080; text-decoration-color: #008080; font-weight: bold\">19.520000000</span> <span style=\"font-weight: bold\">(</span>lumi = <span style=\"color: #008080; text-decoration-color: #008080; font-weight: bold\">19.52</span>, xs = nan, sumw = <span style=\"color: #008080; text-decoration-color: #008080; font-weight: bold\">79952.000</span><span style=\"font-weight: bold\">)</span>                        <span style=\"color: #7f7f7f; text-decoration-color: #7f7f7f\">                </span>\n",
       "</pre>\n"
      ],
      "text/plain": [
       "\u001b[2;36m          \u001b[0m\u001b[2;36m \u001b[0m\u001b[34mINFO    \u001b[0m Scaling Spin0ToTauTau_2j_scalar_g1_HT300_M250_nodmx_v0_TuneCP5_MLM by          \u001b]8;id=616588;file:///tmp/ipykernel_18646/2088555353.py\u001b\\\u001b[2m2088555353.py\u001b[0m\u001b]8;;\u001b\\\u001b[2m:\u001b[0m\u001b]8;id=562397;file:///tmp/ipykernel_18646/2088555353.py#34\u001b\\\u001b[2m34\u001b[0m\u001b]8;;\u001b\\\n",
       "\u001b[2;36m           \u001b[0m         \u001b[1;36m19.520000000\u001b[0m \u001b[1m(\u001b[0mlumi = \u001b[1;36m19.52\u001b[0m, xs = nan, sumw = \u001b[1;36m79952.000\u001b[0m\u001b[1m)\u001b[0m                        \u001b[2m                \u001b[0m\n"
      ]
     },
     "metadata": {},
     "output_type": "display_data"
    },
    {
     "name": "stdout",
     "output_type": "stream",
     "text": [
      "Spin0ToTauTau_2j_scalar_g1_HT300_M250_nodmx_v0_TuneCP5_MLM_nomatch\n"
     ]
    },
    {
     "data": {
      "text/html": [
       "<pre style=\"white-space:pre;overflow-x:auto;line-height:normal;font-family:Menlo,'DejaVu Sans Mono',consolas,'Courier New',monospace\"><span style=\"color: #7fbfbf; text-decoration-color: #7fbfbf\">           </span><span style=\"color: #000080; text-decoration-color: #000080\">INFO    </span> Readign sample:                                                                <a href=\"file:///tmp/ipykernel_18646/2088555353.py\" target=\"_blank\"><span style=\"color: #7f7f7f; text-decoration-color: #7f7f7f\">2088555353.py</span></a><span style=\"color: #7f7f7f; text-decoration-color: #7f7f7f\">:</span><a href=\"file:///tmp/ipykernel_18646/2088555353.py#23\" target=\"_blank\"><span style=\"color: #7f7f7f; text-decoration-color: #7f7f7f\">23</span></a>\n",
       "<span style=\"color: #7fbfbf; text-decoration-color: #7fbfbf\">           </span>         Spin0ToTauTau_2j_scalar_g1_HT300_M250_nodmx_v0_TuneCP5_MLM_nomatch, from:      <span style=\"color: #7f7f7f; text-decoration-color: #7f7f7f\">                </span>\n",
       "<span style=\"color: #7fbfbf; text-decoration-color: #7fbfbf\">           </span>         inputs16APV/hists_sum_Spin0ToTauTau_2j_scalar_g1_HT300_M250_nodmx_v0_TuneCP5_M <span style=\"color: #7f7f7f; text-decoration-color: #7f7f7f\">                </span>\n",
       "<span style=\"color: #7fbfbf; text-decoration-color: #7fbfbf\">           </span>         LM_nomatch.hist                                                                <span style=\"color: #7f7f7f; text-decoration-color: #7f7f7f\">                </span>\n",
       "</pre>\n"
      ],
      "text/plain": [
       "\u001b[2;36m          \u001b[0m\u001b[2;36m \u001b[0m\u001b[34mINFO    \u001b[0m Readign sample:                                                                \u001b]8;id=587416;file:///tmp/ipykernel_18646/2088555353.py\u001b\\\u001b[2m2088555353.py\u001b[0m\u001b]8;;\u001b\\\u001b[2m:\u001b[0m\u001b]8;id=654497;file:///tmp/ipykernel_18646/2088555353.py#23\u001b\\\u001b[2m23\u001b[0m\u001b]8;;\u001b\\\n",
       "\u001b[2;36m           \u001b[0m         Spin0ToTauTau_2j_scalar_g1_HT300_M250_nodmx_v0_TuneCP5_MLM_nomatch, from:      \u001b[2m                \u001b[0m\n",
       "\u001b[2;36m           \u001b[0m         inputs16APV/hists_sum_Spin0ToTauTau_2j_scalar_g1_HT300_M250_nodmx_v0_TuneCP5_M \u001b[2m                \u001b[0m\n",
       "\u001b[2;36m           \u001b[0m         LM_nomatch.hist                                                                \u001b[2m                \u001b[0m\n"
      ]
     },
     "metadata": {},
     "output_type": "display_data"
    },
    {
     "name": "stdout",
     "output_type": "stream",
     "text": [
      "Spin0ToTauTau_2j_scalar_g1_HT300_M300_nodmx_v0_TuneCP5_MLM\n"
     ]
    },
    {
     "data": {
      "text/html": [
       "<pre style=\"white-space:pre;overflow-x:auto;line-height:normal;font-family:Menlo,'DejaVu Sans Mono',consolas,'Courier New',monospace\"><span style=\"color: #7fbfbf; text-decoration-color: #7fbfbf\">           </span><span style=\"color: #000080; text-decoration-color: #000080\">INFO    </span> Readign sample: Spin0ToTauTau_2j_scalar_g1_HT300_M300_nodmx_v0_TuneCP5_MLM,    <a href=\"file:///tmp/ipykernel_18646/2088555353.py\" target=\"_blank\"><span style=\"color: #7f7f7f; text-decoration-color: #7f7f7f\">2088555353.py</span></a><span style=\"color: #7f7f7f; text-decoration-color: #7f7f7f\">:</span><a href=\"file:///tmp/ipykernel_18646/2088555353.py#23\" target=\"_blank\"><span style=\"color: #7f7f7f; text-decoration-color: #7f7f7f\">23</span></a>\n",
       "<span style=\"color: #7fbfbf; text-decoration-color: #7fbfbf\">           </span>         from:                                                                          <span style=\"color: #7f7f7f; text-decoration-color: #7f7f7f\">                </span>\n",
       "<span style=\"color: #7fbfbf; text-decoration-color: #7fbfbf\">           </span>         inputs16APV/hists_sum_Spin0ToTauTau_2j_scalar_g1_HT300_M300_nodmx_v0_TuneCP5_M <span style=\"color: #7f7f7f; text-decoration-color: #7f7f7f\">                </span>\n",
       "<span style=\"color: #7fbfbf; text-decoration-color: #7fbfbf\">           </span>         LM.hist                                                                        <span style=\"color: #7f7f7f; text-decoration-color: #7f7f7f\">                </span>\n",
       "</pre>\n"
      ],
      "text/plain": [
       "\u001b[2;36m          \u001b[0m\u001b[2;36m \u001b[0m\u001b[34mINFO    \u001b[0m Readign sample: Spin0ToTauTau_2j_scalar_g1_HT300_M300_nodmx_v0_TuneCP5_MLM,    \u001b]8;id=535162;file:///tmp/ipykernel_18646/2088555353.py\u001b\\\u001b[2m2088555353.py\u001b[0m\u001b]8;;\u001b\\\u001b[2m:\u001b[0m\u001b]8;id=476231;file:///tmp/ipykernel_18646/2088555353.py#23\u001b\\\u001b[2m23\u001b[0m\u001b]8;;\u001b\\\n",
       "\u001b[2;36m           \u001b[0m         from:                                                                          \u001b[2m                \u001b[0m\n",
       "\u001b[2;36m           \u001b[0m         inputs16APV/hists_sum_Spin0ToTauTau_2j_scalar_g1_HT300_M300_nodmx_v0_TuneCP5_M \u001b[2m                \u001b[0m\n",
       "\u001b[2;36m           \u001b[0m         LM.hist                                                                        \u001b[2m                \u001b[0m\n"
      ]
     },
     "metadata": {},
     "output_type": "display_data"
    },
    {
     "data": {
      "text/html": [
       "<pre style=\"white-space:pre;overflow-x:auto;line-height:normal;font-family:Menlo,'DejaVu Sans Mono',consolas,'Courier New',monospace\"><span style=\"color: #7fbfbf; text-decoration-color: #7fbfbf\">           </span><span style=\"color: #000080; text-decoration-color: #000080\">INFO    </span> Scaling Spin0ToTauTau_2j_scalar_g1_HT300_M300_nodmx_v0_TuneCP5_MLM by          <a href=\"file:///tmp/ipykernel_18646/2088555353.py\" target=\"_blank\"><span style=\"color: #7f7f7f; text-decoration-color: #7f7f7f\">2088555353.py</span></a><span style=\"color: #7f7f7f; text-decoration-color: #7f7f7f\">:</span><a href=\"file:///tmp/ipykernel_18646/2088555353.py#34\" target=\"_blank\"><span style=\"color: #7f7f7f; text-decoration-color: #7f7f7f\">34</span></a>\n",
       "<span style=\"color: #7fbfbf; text-decoration-color: #7fbfbf\">           </span>         <span style=\"color: #008080; text-decoration-color: #008080; font-weight: bold\">19.520000000</span> <span style=\"font-weight: bold\">(</span>lumi = <span style=\"color: #008080; text-decoration-color: #008080; font-weight: bold\">19.52</span>, xs = nan, sumw = <span style=\"color: #008080; text-decoration-color: #008080; font-weight: bold\">72941.000</span><span style=\"font-weight: bold\">)</span>                        <span style=\"color: #7f7f7f; text-decoration-color: #7f7f7f\">                </span>\n",
       "</pre>\n"
      ],
      "text/plain": [
       "\u001b[2;36m          \u001b[0m\u001b[2;36m \u001b[0m\u001b[34mINFO    \u001b[0m Scaling Spin0ToTauTau_2j_scalar_g1_HT300_M300_nodmx_v0_TuneCP5_MLM by          \u001b]8;id=966793;file:///tmp/ipykernel_18646/2088555353.py\u001b\\\u001b[2m2088555353.py\u001b[0m\u001b]8;;\u001b\\\u001b[2m:\u001b[0m\u001b]8;id=859088;file:///tmp/ipykernel_18646/2088555353.py#34\u001b\\\u001b[2m34\u001b[0m\u001b]8;;\u001b\\\n",
       "\u001b[2;36m           \u001b[0m         \u001b[1;36m19.520000000\u001b[0m \u001b[1m(\u001b[0mlumi = \u001b[1;36m19.52\u001b[0m, xs = nan, sumw = \u001b[1;36m72941.000\u001b[0m\u001b[1m)\u001b[0m                        \u001b[2m                \u001b[0m\n"
      ]
     },
     "metadata": {},
     "output_type": "display_data"
    },
    {
     "name": "stdout",
     "output_type": "stream",
     "text": [
      "Spin0ToTauTau_2j_scalar_g1_HT300_M300_nodmx_v0_TuneCP5_MLM_nomatch\n"
     ]
    },
    {
     "data": {
      "text/html": [
       "<pre style=\"white-space:pre;overflow-x:auto;line-height:normal;font-family:Menlo,'DejaVu Sans Mono',consolas,'Courier New',monospace\"><span style=\"color: #7fbfbf; text-decoration-color: #7fbfbf\">           </span><span style=\"color: #000080; text-decoration-color: #000080\">INFO    </span> Readign sample:                                                                <a href=\"file:///tmp/ipykernel_18646/2088555353.py\" target=\"_blank\"><span style=\"color: #7f7f7f; text-decoration-color: #7f7f7f\">2088555353.py</span></a><span style=\"color: #7f7f7f; text-decoration-color: #7f7f7f\">:</span><a href=\"file:///tmp/ipykernel_18646/2088555353.py#23\" target=\"_blank\"><span style=\"color: #7f7f7f; text-decoration-color: #7f7f7f\">23</span></a>\n",
       "<span style=\"color: #7fbfbf; text-decoration-color: #7fbfbf\">           </span>         Spin0ToTauTau_2j_scalar_g1_HT300_M300_nodmx_v0_TuneCP5_MLM_nomatch, from:      <span style=\"color: #7f7f7f; text-decoration-color: #7f7f7f\">                </span>\n",
       "<span style=\"color: #7fbfbf; text-decoration-color: #7fbfbf\">           </span>         inputs16APV/hists_sum_Spin0ToTauTau_2j_scalar_g1_HT300_M300_nodmx_v0_TuneCP5_M <span style=\"color: #7f7f7f; text-decoration-color: #7f7f7f\">                </span>\n",
       "<span style=\"color: #7fbfbf; text-decoration-color: #7fbfbf\">           </span>         LM_nomatch.hist                                                                <span style=\"color: #7f7f7f; text-decoration-color: #7f7f7f\">                </span>\n",
       "</pre>\n"
      ],
      "text/plain": [
       "\u001b[2;36m          \u001b[0m\u001b[2;36m \u001b[0m\u001b[34mINFO    \u001b[0m Readign sample:                                                                \u001b]8;id=329890;file:///tmp/ipykernel_18646/2088555353.py\u001b\\\u001b[2m2088555353.py\u001b[0m\u001b]8;;\u001b\\\u001b[2m:\u001b[0m\u001b]8;id=546012;file:///tmp/ipykernel_18646/2088555353.py#23\u001b\\\u001b[2m23\u001b[0m\u001b]8;;\u001b\\\n",
       "\u001b[2;36m           \u001b[0m         Spin0ToTauTau_2j_scalar_g1_HT300_M300_nodmx_v0_TuneCP5_MLM_nomatch, from:      \u001b[2m                \u001b[0m\n",
       "\u001b[2;36m           \u001b[0m         inputs16APV/hists_sum_Spin0ToTauTau_2j_scalar_g1_HT300_M300_nodmx_v0_TuneCP5_M \u001b[2m                \u001b[0m\n",
       "\u001b[2;36m           \u001b[0m         LM_nomatch.hist                                                                \u001b[2m                \u001b[0m\n"
      ]
     },
     "metadata": {},
     "output_type": "display_data"
    },
    {
     "name": "stdout",
     "output_type": "stream",
     "text": [
      "MET_Run2016B_ver2_HIPM\n"
     ]
    },
    {
     "data": {
      "text/html": [
       "<pre style=\"white-space:pre;overflow-x:auto;line-height:normal;font-family:Menlo,'DejaVu Sans Mono',consolas,'Courier New',monospace\"><span style=\"color: #7fbfbf; text-decoration-color: #7fbfbf\">           </span><span style=\"color: #000080; text-decoration-color: #000080\">INFO    </span> Readign sample: MET_Run2016B_ver2_HIPM, from:                                  <a href=\"file:///tmp/ipykernel_18646/2088555353.py\" target=\"_blank\"><span style=\"color: #7f7f7f; text-decoration-color: #7f7f7f\">2088555353.py</span></a><span style=\"color: #7f7f7f; text-decoration-color: #7f7f7f\">:</span><a href=\"file:///tmp/ipykernel_18646/2088555353.py#23\" target=\"_blank\"><span style=\"color: #7f7f7f; text-decoration-color: #7f7f7f\">23</span></a>\n",
       "<span style=\"color: #7fbfbf; text-decoration-color: #7fbfbf\">           </span>         inputs16APV/hists_sum_MET_Run2016B_ver2_HIPM.hist                              <span style=\"color: #7f7f7f; text-decoration-color: #7f7f7f\">                </span>\n",
       "</pre>\n"
      ],
      "text/plain": [
       "\u001b[2;36m          \u001b[0m\u001b[2;36m \u001b[0m\u001b[34mINFO    \u001b[0m Readign sample: MET_Run2016B_ver2_HIPM, from:                                  \u001b]8;id=801819;file:///tmp/ipykernel_18646/2088555353.py\u001b\\\u001b[2m2088555353.py\u001b[0m\u001b]8;;\u001b\\\u001b[2m:\u001b[0m\u001b]8;id=68513;file:///tmp/ipykernel_18646/2088555353.py#23\u001b\\\u001b[2m23\u001b[0m\u001b]8;;\u001b\\\n",
       "\u001b[2;36m           \u001b[0m         inputs16APV/hists_sum_MET_Run2016B_ver2_HIPM.hist                              \u001b[2m                \u001b[0m\n"
      ]
     },
     "metadata": {},
     "output_type": "display_data"
    },
    {
     "data": {
      "text/html": [
       "<pre style=\"white-space:pre;overflow-x:auto;line-height:normal;font-family:Menlo,'DejaVu Sans Mono',consolas,'Courier New',monospace\"><span style=\"color: #7fbfbf; text-decoration-color: #7fbfbf\">           </span><span style=\"color: #000080; text-decoration-color: #000080\">INFO    </span> Scaling MET_Run2016B_ver2_HIPM by <span style=\"color: #008080; text-decoration-color: #008080; font-weight: bold\">1.000000000</span> <span style=\"font-weight: bold\">(</span>lumi = <span style=\"color: #008080; text-decoration-color: #008080; font-weight: bold\">19.52</span>, xs = nan, sumw =  <a href=\"file:///tmp/ipykernel_18646/2088555353.py\" target=\"_blank\"><span style=\"color: #7f7f7f; text-decoration-color: #7f7f7f\">2088555353.py</span></a><span style=\"color: #7f7f7f; text-decoration-color: #7f7f7f\">:</span><a href=\"file:///tmp/ipykernel_18646/2088555353.py#34\" target=\"_blank\"><span style=\"color: #7f7f7f; text-decoration-color: #7f7f7f\">34</span></a>\n",
       "<span style=\"color: #7fbfbf; text-decoration-color: #7fbfbf\">           </span>         <span style=\"color: #008080; text-decoration-color: #008080; font-weight: bold\">0.000</span><span style=\"font-weight: bold\">)</span>                                                                         <span style=\"color: #7f7f7f; text-decoration-color: #7f7f7f\">                </span>\n",
       "</pre>\n"
      ],
      "text/plain": [
       "\u001b[2;36m          \u001b[0m\u001b[2;36m \u001b[0m\u001b[34mINFO    \u001b[0m Scaling MET_Run2016B_ver2_HIPM by \u001b[1;36m1.000000000\u001b[0m \u001b[1m(\u001b[0mlumi = \u001b[1;36m19.52\u001b[0m, xs = nan, sumw =  \u001b]8;id=685478;file:///tmp/ipykernel_18646/2088555353.py\u001b\\\u001b[2m2088555353.py\u001b[0m\u001b]8;;\u001b\\\u001b[2m:\u001b[0m\u001b]8;id=676145;file:///tmp/ipykernel_18646/2088555353.py#34\u001b\\\u001b[2m34\u001b[0m\u001b]8;;\u001b\\\n",
       "\u001b[2;36m           \u001b[0m         \u001b[1;36m0.000\u001b[0m\u001b[1m)\u001b[0m                                                                         \u001b[2m                \u001b[0m\n"
      ]
     },
     "metadata": {},
     "output_type": "display_data"
    },
    {
     "name": "stdout",
     "output_type": "stream",
     "text": [
      "MET_Run2016C_HIPM\n"
     ]
    },
    {
     "data": {
      "text/html": [
       "<pre style=\"white-space:pre;overflow-x:auto;line-height:normal;font-family:Menlo,'DejaVu Sans Mono',consolas,'Courier New',monospace\"><span style=\"color: #7fbfbf; text-decoration-color: #7fbfbf\">           </span><span style=\"color: #000080; text-decoration-color: #000080\">INFO    </span> Readign sample: MET_Run2016C_HIPM, from:                                       <a href=\"file:///tmp/ipykernel_18646/2088555353.py\" target=\"_blank\"><span style=\"color: #7f7f7f; text-decoration-color: #7f7f7f\">2088555353.py</span></a><span style=\"color: #7f7f7f; text-decoration-color: #7f7f7f\">:</span><a href=\"file:///tmp/ipykernel_18646/2088555353.py#23\" target=\"_blank\"><span style=\"color: #7f7f7f; text-decoration-color: #7f7f7f\">23</span></a>\n",
       "<span style=\"color: #7fbfbf; text-decoration-color: #7fbfbf\">           </span>         inputs16APV/hists_sum_MET_Run2016C_HIPM.hist                                   <span style=\"color: #7f7f7f; text-decoration-color: #7f7f7f\">                </span>\n",
       "</pre>\n"
      ],
      "text/plain": [
       "\u001b[2;36m          \u001b[0m\u001b[2;36m \u001b[0m\u001b[34mINFO    \u001b[0m Readign sample: MET_Run2016C_HIPM, from:                                       \u001b]8;id=532048;file:///tmp/ipykernel_18646/2088555353.py\u001b\\\u001b[2m2088555353.py\u001b[0m\u001b]8;;\u001b\\\u001b[2m:\u001b[0m\u001b]8;id=612457;file:///tmp/ipykernel_18646/2088555353.py#23\u001b\\\u001b[2m23\u001b[0m\u001b]8;;\u001b\\\n",
       "\u001b[2;36m           \u001b[0m         inputs16APV/hists_sum_MET_Run2016C_HIPM.hist                                   \u001b[2m                \u001b[0m\n"
      ]
     },
     "metadata": {},
     "output_type": "display_data"
    },
    {
     "data": {
      "text/html": [
       "<pre style=\"white-space:pre;overflow-x:auto;line-height:normal;font-family:Menlo,'DejaVu Sans Mono',consolas,'Courier New',monospace\"><span style=\"color: #7fbfbf; text-decoration-color: #7fbfbf\">           </span><span style=\"color: #000080; text-decoration-color: #000080\">INFO    </span> Scaling MET_Run2016C_HIPM by <span style=\"color: #008080; text-decoration-color: #008080; font-weight: bold\">1.000000000</span> <span style=\"font-weight: bold\">(</span>lumi = <span style=\"color: #008080; text-decoration-color: #008080; font-weight: bold\">19.52</span>, xs = nan, sumw =       <a href=\"file:///tmp/ipykernel_18646/2088555353.py\" target=\"_blank\"><span style=\"color: #7f7f7f; text-decoration-color: #7f7f7f\">2088555353.py</span></a><span style=\"color: #7f7f7f; text-decoration-color: #7f7f7f\">:</span><a href=\"file:///tmp/ipykernel_18646/2088555353.py#34\" target=\"_blank\"><span style=\"color: #7f7f7f; text-decoration-color: #7f7f7f\">34</span></a>\n",
       "<span style=\"color: #7fbfbf; text-decoration-color: #7fbfbf\">           </span>         <span style=\"color: #008080; text-decoration-color: #008080; font-weight: bold\">0.000</span><span style=\"font-weight: bold\">)</span>                                                                         <span style=\"color: #7f7f7f; text-decoration-color: #7f7f7f\">                </span>\n",
       "</pre>\n"
      ],
      "text/plain": [
       "\u001b[2;36m          \u001b[0m\u001b[2;36m \u001b[0m\u001b[34mINFO    \u001b[0m Scaling MET_Run2016C_HIPM by \u001b[1;36m1.000000000\u001b[0m \u001b[1m(\u001b[0mlumi = \u001b[1;36m19.52\u001b[0m, xs = nan, sumw =       \u001b]8;id=347709;file:///tmp/ipykernel_18646/2088555353.py\u001b\\\u001b[2m2088555353.py\u001b[0m\u001b]8;;\u001b\\\u001b[2m:\u001b[0m\u001b]8;id=930208;file:///tmp/ipykernel_18646/2088555353.py#34\u001b\\\u001b[2m34\u001b[0m\u001b]8;;\u001b\\\n",
       "\u001b[2;36m           \u001b[0m         \u001b[1;36m0.000\u001b[0m\u001b[1m)\u001b[0m                                                                         \u001b[2m                \u001b[0m\n"
      ]
     },
     "metadata": {},
     "output_type": "display_data"
    },
    {
     "name": "stdout",
     "output_type": "stream",
     "text": [
      "MET_Run2016D_HIPM\n"
     ]
    },
    {
     "data": {
      "text/html": [
       "<pre style=\"white-space:pre;overflow-x:auto;line-height:normal;font-family:Menlo,'DejaVu Sans Mono',consolas,'Courier New',monospace\"><span style=\"color: #7fbfbf; text-decoration-color: #7fbfbf\">           </span><span style=\"color: #000080; text-decoration-color: #000080\">INFO    </span> Readign sample: MET_Run2016D_HIPM, from:                                       <a href=\"file:///tmp/ipykernel_18646/2088555353.py\" target=\"_blank\"><span style=\"color: #7f7f7f; text-decoration-color: #7f7f7f\">2088555353.py</span></a><span style=\"color: #7f7f7f; text-decoration-color: #7f7f7f\">:</span><a href=\"file:///tmp/ipykernel_18646/2088555353.py#23\" target=\"_blank\"><span style=\"color: #7f7f7f; text-decoration-color: #7f7f7f\">23</span></a>\n",
       "<span style=\"color: #7fbfbf; text-decoration-color: #7fbfbf\">           </span>         inputs16APV/hists_sum_MET_Run2016D_HIPM.hist                                   <span style=\"color: #7f7f7f; text-decoration-color: #7f7f7f\">                </span>\n",
       "</pre>\n"
      ],
      "text/plain": [
       "\u001b[2;36m          \u001b[0m\u001b[2;36m \u001b[0m\u001b[34mINFO    \u001b[0m Readign sample: MET_Run2016D_HIPM, from:                                       \u001b]8;id=120948;file:///tmp/ipykernel_18646/2088555353.py\u001b\\\u001b[2m2088555353.py\u001b[0m\u001b]8;;\u001b\\\u001b[2m:\u001b[0m\u001b]8;id=61794;file:///tmp/ipykernel_18646/2088555353.py#23\u001b\\\u001b[2m23\u001b[0m\u001b]8;;\u001b\\\n",
       "\u001b[2;36m           \u001b[0m         inputs16APV/hists_sum_MET_Run2016D_HIPM.hist                                   \u001b[2m                \u001b[0m\n"
      ]
     },
     "metadata": {},
     "output_type": "display_data"
    },
    {
     "data": {
      "text/html": [
       "<pre style=\"white-space:pre;overflow-x:auto;line-height:normal;font-family:Menlo,'DejaVu Sans Mono',consolas,'Courier New',monospace\"><span style=\"color: #7fbfbf; text-decoration-color: #7fbfbf\">           </span><span style=\"color: #000080; text-decoration-color: #000080\">INFO    </span> Scaling MET_Run2016D_HIPM by <span style=\"color: #008080; text-decoration-color: #008080; font-weight: bold\">1.000000000</span> <span style=\"font-weight: bold\">(</span>lumi = <span style=\"color: #008080; text-decoration-color: #008080; font-weight: bold\">19.52</span>, xs = nan, sumw =       <a href=\"file:///tmp/ipykernel_18646/2088555353.py\" target=\"_blank\"><span style=\"color: #7f7f7f; text-decoration-color: #7f7f7f\">2088555353.py</span></a><span style=\"color: #7f7f7f; text-decoration-color: #7f7f7f\">:</span><a href=\"file:///tmp/ipykernel_18646/2088555353.py#34\" target=\"_blank\"><span style=\"color: #7f7f7f; text-decoration-color: #7f7f7f\">34</span></a>\n",
       "<span style=\"color: #7fbfbf; text-decoration-color: #7fbfbf\">           </span>         <span style=\"color: #008080; text-decoration-color: #008080; font-weight: bold\">0.000</span><span style=\"font-weight: bold\">)</span>                                                                         <span style=\"color: #7f7f7f; text-decoration-color: #7f7f7f\">                </span>\n",
       "</pre>\n"
      ],
      "text/plain": [
       "\u001b[2;36m          \u001b[0m\u001b[2;36m \u001b[0m\u001b[34mINFO    \u001b[0m Scaling MET_Run2016D_HIPM by \u001b[1;36m1.000000000\u001b[0m \u001b[1m(\u001b[0mlumi = \u001b[1;36m19.52\u001b[0m, xs = nan, sumw =       \u001b]8;id=893507;file:///tmp/ipykernel_18646/2088555353.py\u001b\\\u001b[2m2088555353.py\u001b[0m\u001b]8;;\u001b\\\u001b[2m:\u001b[0m\u001b]8;id=182741;file:///tmp/ipykernel_18646/2088555353.py#34\u001b\\\u001b[2m34\u001b[0m\u001b]8;;\u001b\\\n",
       "\u001b[2;36m           \u001b[0m         \u001b[1;36m0.000\u001b[0m\u001b[1m)\u001b[0m                                                                         \u001b[2m                \u001b[0m\n"
      ]
     },
     "metadata": {},
     "output_type": "display_data"
    },
    {
     "name": "stdout",
     "output_type": "stream",
     "text": [
      "MET_Run2016E_HIPM\n"
     ]
    },
    {
     "data": {
      "text/html": [
       "<pre style=\"white-space:pre;overflow-x:auto;line-height:normal;font-family:Menlo,'DejaVu Sans Mono',consolas,'Courier New',monospace\"><span style=\"color: #7fbfbf; text-decoration-color: #7fbfbf\">           </span><span style=\"color: #000080; text-decoration-color: #000080\">INFO    </span> Readign sample: MET_Run2016E_HIPM, from:                                       <a href=\"file:///tmp/ipykernel_18646/2088555353.py\" target=\"_blank\"><span style=\"color: #7f7f7f; text-decoration-color: #7f7f7f\">2088555353.py</span></a><span style=\"color: #7f7f7f; text-decoration-color: #7f7f7f\">:</span><a href=\"file:///tmp/ipykernel_18646/2088555353.py#23\" target=\"_blank\"><span style=\"color: #7f7f7f; text-decoration-color: #7f7f7f\">23</span></a>\n",
       "<span style=\"color: #7fbfbf; text-decoration-color: #7fbfbf\">           </span>         inputs16APV/hists_sum_MET_Run2016E_HIPM.hist                                   <span style=\"color: #7f7f7f; text-decoration-color: #7f7f7f\">                </span>\n",
       "</pre>\n"
      ],
      "text/plain": [
       "\u001b[2;36m          \u001b[0m\u001b[2;36m \u001b[0m\u001b[34mINFO    \u001b[0m Readign sample: MET_Run2016E_HIPM, from:                                       \u001b]8;id=651563;file:///tmp/ipykernel_18646/2088555353.py\u001b\\\u001b[2m2088555353.py\u001b[0m\u001b]8;;\u001b\\\u001b[2m:\u001b[0m\u001b]8;id=159946;file:///tmp/ipykernel_18646/2088555353.py#23\u001b\\\u001b[2m23\u001b[0m\u001b]8;;\u001b\\\n",
       "\u001b[2;36m           \u001b[0m         inputs16APV/hists_sum_MET_Run2016E_HIPM.hist                                   \u001b[2m                \u001b[0m\n"
      ]
     },
     "metadata": {},
     "output_type": "display_data"
    },
    {
     "data": {
      "text/html": [
       "<pre style=\"white-space:pre;overflow-x:auto;line-height:normal;font-family:Menlo,'DejaVu Sans Mono',consolas,'Courier New',monospace\"><span style=\"color: #7fbfbf; text-decoration-color: #7fbfbf\">           </span><span style=\"color: #000080; text-decoration-color: #000080\">INFO    </span> Scaling MET_Run2016E_HIPM by <span style=\"color: #008080; text-decoration-color: #008080; font-weight: bold\">1.000000000</span> <span style=\"font-weight: bold\">(</span>lumi = <span style=\"color: #008080; text-decoration-color: #008080; font-weight: bold\">19.52</span>, xs = nan, sumw =       <a href=\"file:///tmp/ipykernel_18646/2088555353.py\" target=\"_blank\"><span style=\"color: #7f7f7f; text-decoration-color: #7f7f7f\">2088555353.py</span></a><span style=\"color: #7f7f7f; text-decoration-color: #7f7f7f\">:</span><a href=\"file:///tmp/ipykernel_18646/2088555353.py#34\" target=\"_blank\"><span style=\"color: #7f7f7f; text-decoration-color: #7f7f7f\">34</span></a>\n",
       "<span style=\"color: #7fbfbf; text-decoration-color: #7fbfbf\">           </span>         <span style=\"color: #008080; text-decoration-color: #008080; font-weight: bold\">0.000</span><span style=\"font-weight: bold\">)</span>                                                                         <span style=\"color: #7f7f7f; text-decoration-color: #7f7f7f\">                </span>\n",
       "</pre>\n"
      ],
      "text/plain": [
       "\u001b[2;36m          \u001b[0m\u001b[2;36m \u001b[0m\u001b[34mINFO    \u001b[0m Scaling MET_Run2016E_HIPM by \u001b[1;36m1.000000000\u001b[0m \u001b[1m(\u001b[0mlumi = \u001b[1;36m19.52\u001b[0m, xs = nan, sumw =       \u001b]8;id=982574;file:///tmp/ipykernel_18646/2088555353.py\u001b\\\u001b[2m2088555353.py\u001b[0m\u001b]8;;\u001b\\\u001b[2m:\u001b[0m\u001b]8;id=820050;file:///tmp/ipykernel_18646/2088555353.py#34\u001b\\\u001b[2m34\u001b[0m\u001b]8;;\u001b\\\n",
       "\u001b[2;36m           \u001b[0m         \u001b[1;36m0.000\u001b[0m\u001b[1m)\u001b[0m                                                                         \u001b[2m                \u001b[0m\n"
      ]
     },
     "metadata": {},
     "output_type": "display_data"
    },
    {
     "name": "stdout",
     "output_type": "stream",
     "text": [
      "MET_Run2016F_HIPM\n"
     ]
    },
    {
     "data": {
      "text/html": [
       "<pre style=\"white-space:pre;overflow-x:auto;line-height:normal;font-family:Menlo,'DejaVu Sans Mono',consolas,'Courier New',monospace\"><span style=\"color: #7fbfbf; text-decoration-color: #7fbfbf\">           </span><span style=\"color: #000080; text-decoration-color: #000080\">INFO    </span> Readign sample: MET_Run2016F_HIPM, from:                                       <a href=\"file:///tmp/ipykernel_18646/2088555353.py\" target=\"_blank\"><span style=\"color: #7f7f7f; text-decoration-color: #7f7f7f\">2088555353.py</span></a><span style=\"color: #7f7f7f; text-decoration-color: #7f7f7f\">:</span><a href=\"file:///tmp/ipykernel_18646/2088555353.py#23\" target=\"_blank\"><span style=\"color: #7f7f7f; text-decoration-color: #7f7f7f\">23</span></a>\n",
       "<span style=\"color: #7fbfbf; text-decoration-color: #7fbfbf\">           </span>         inputs16APV/hists_sum_MET_Run2016F_HIPM.hist                                   <span style=\"color: #7f7f7f; text-decoration-color: #7f7f7f\">                </span>\n",
       "</pre>\n"
      ],
      "text/plain": [
       "\u001b[2;36m          \u001b[0m\u001b[2;36m \u001b[0m\u001b[34mINFO    \u001b[0m Readign sample: MET_Run2016F_HIPM, from:                                       \u001b]8;id=824974;file:///tmp/ipykernel_18646/2088555353.py\u001b\\\u001b[2m2088555353.py\u001b[0m\u001b]8;;\u001b\\\u001b[2m:\u001b[0m\u001b]8;id=610198;file:///tmp/ipykernel_18646/2088555353.py#23\u001b\\\u001b[2m23\u001b[0m\u001b]8;;\u001b\\\n",
       "\u001b[2;36m           \u001b[0m         inputs16APV/hists_sum_MET_Run2016F_HIPM.hist                                   \u001b[2m                \u001b[0m\n"
      ]
     },
     "metadata": {},
     "output_type": "display_data"
    },
    {
     "data": {
      "text/html": [
       "<pre style=\"white-space:pre;overflow-x:auto;line-height:normal;font-family:Menlo,'DejaVu Sans Mono',consolas,'Courier New',monospace\"><span style=\"color: #7fbfbf; text-decoration-color: #7fbfbf\">           </span><span style=\"color: #000080; text-decoration-color: #000080\">INFO    </span> Scaling MET_Run2016F_HIPM by <span style=\"color: #008080; text-decoration-color: #008080; font-weight: bold\">1.000000000</span> <span style=\"font-weight: bold\">(</span>lumi = <span style=\"color: #008080; text-decoration-color: #008080; font-weight: bold\">19.52</span>, xs = nan, sumw =       <a href=\"file:///tmp/ipykernel_18646/2088555353.py\" target=\"_blank\"><span style=\"color: #7f7f7f; text-decoration-color: #7f7f7f\">2088555353.py</span></a><span style=\"color: #7f7f7f; text-decoration-color: #7f7f7f\">:</span><a href=\"file:///tmp/ipykernel_18646/2088555353.py#34\" target=\"_blank\"><span style=\"color: #7f7f7f; text-decoration-color: #7f7f7f\">34</span></a>\n",
       "<span style=\"color: #7fbfbf; text-decoration-color: #7fbfbf\">           </span>         <span style=\"color: #008080; text-decoration-color: #008080; font-weight: bold\">0.000</span><span style=\"font-weight: bold\">)</span>                                                                         <span style=\"color: #7f7f7f; text-decoration-color: #7f7f7f\">                </span>\n",
       "</pre>\n"
      ],
      "text/plain": [
       "\u001b[2;36m          \u001b[0m\u001b[2;36m \u001b[0m\u001b[34mINFO    \u001b[0m Scaling MET_Run2016F_HIPM by \u001b[1;36m1.000000000\u001b[0m \u001b[1m(\u001b[0mlumi = \u001b[1;36m19.52\u001b[0m, xs = nan, sumw =       \u001b]8;id=624524;file:///tmp/ipykernel_18646/2088555353.py\u001b\\\u001b[2m2088555353.py\u001b[0m\u001b]8;;\u001b\\\u001b[2m:\u001b[0m\u001b]8;id=565841;file:///tmp/ipykernel_18646/2088555353.py#34\u001b\\\u001b[2m34\u001b[0m\u001b]8;;\u001b\\\n",
       "\u001b[2;36m           \u001b[0m         \u001b[1;36m0.000\u001b[0m\u001b[1m)\u001b[0m                                                                         \u001b[2m                \u001b[0m\n"
      ]
     },
     "metadata": {},
     "output_type": "display_data"
    },
    {
     "name": "stdout",
     "output_type": "stream",
     "text": [
      "SingleElectron_Run2016B_ver2_HIPM\n"
     ]
    },
    {
     "data": {
      "text/html": [
       "<pre style=\"white-space:pre;overflow-x:auto;line-height:normal;font-family:Menlo,'DejaVu Sans Mono',consolas,'Courier New',monospace\"><span style=\"color: #7fbfbf; text-decoration-color: #7fbfbf\">           </span><span style=\"color: #000080; text-decoration-color: #000080\">INFO    </span> Readign sample: SingleElectron_Run2016B_ver2_HIPM, from:                       <a href=\"file:///tmp/ipykernel_18646/2088555353.py\" target=\"_blank\"><span style=\"color: #7f7f7f; text-decoration-color: #7f7f7f\">2088555353.py</span></a><span style=\"color: #7f7f7f; text-decoration-color: #7f7f7f\">:</span><a href=\"file:///tmp/ipykernel_18646/2088555353.py#23\" target=\"_blank\"><span style=\"color: #7f7f7f; text-decoration-color: #7f7f7f\">23</span></a>\n",
       "<span style=\"color: #7fbfbf; text-decoration-color: #7fbfbf\">           </span>         inputs16APV/hists_sum_SingleElectron_Run2016B_ver2_HIPM.hist                   <span style=\"color: #7f7f7f; text-decoration-color: #7f7f7f\">                </span>\n",
       "</pre>\n"
      ],
      "text/plain": [
       "\u001b[2;36m          \u001b[0m\u001b[2;36m \u001b[0m\u001b[34mINFO    \u001b[0m Readign sample: SingleElectron_Run2016B_ver2_HIPM, from:                       \u001b]8;id=48454;file:///tmp/ipykernel_18646/2088555353.py\u001b\\\u001b[2m2088555353.py\u001b[0m\u001b]8;;\u001b\\\u001b[2m:\u001b[0m\u001b]8;id=879792;file:///tmp/ipykernel_18646/2088555353.py#23\u001b\\\u001b[2m23\u001b[0m\u001b]8;;\u001b\\\n",
       "\u001b[2;36m           \u001b[0m         inputs16APV/hists_sum_SingleElectron_Run2016B_ver2_HIPM.hist                   \u001b[2m                \u001b[0m\n"
      ]
     },
     "metadata": {},
     "output_type": "display_data"
    },
    {
     "data": {
      "text/html": [
       "<pre style=\"white-space:pre;overflow-x:auto;line-height:normal;font-family:Menlo,'DejaVu Sans Mono',consolas,'Courier New',monospace\"><span style=\"color: #7fbfbf; text-decoration-color: #7fbfbf\">           </span><span style=\"color: #000080; text-decoration-color: #000080\">INFO    </span> Scaling SingleElectron_Run2016B_ver2_HIPM by <span style=\"color: #008080; text-decoration-color: #008080; font-weight: bold\">1.000000000</span> <span style=\"font-weight: bold\">(</span>lumi = <span style=\"color: #008080; text-decoration-color: #008080; font-weight: bold\">19.52</span>, xs =   <a href=\"file:///tmp/ipykernel_18646/2088555353.py\" target=\"_blank\"><span style=\"color: #7f7f7f; text-decoration-color: #7f7f7f\">2088555353.py</span></a><span style=\"color: #7f7f7f; text-decoration-color: #7f7f7f\">:</span><a href=\"file:///tmp/ipykernel_18646/2088555353.py#34\" target=\"_blank\"><span style=\"color: #7f7f7f; text-decoration-color: #7f7f7f\">34</span></a>\n",
       "<span style=\"color: #7fbfbf; text-decoration-color: #7fbfbf\">           </span>         nan, sumw = <span style=\"color: #008080; text-decoration-color: #008080; font-weight: bold\">0.000</span><span style=\"font-weight: bold\">)</span>                                                             <span style=\"color: #7f7f7f; text-decoration-color: #7f7f7f\">                </span>\n",
       "</pre>\n"
      ],
      "text/plain": [
       "\u001b[2;36m          \u001b[0m\u001b[2;36m \u001b[0m\u001b[34mINFO    \u001b[0m Scaling SingleElectron_Run2016B_ver2_HIPM by \u001b[1;36m1.000000000\u001b[0m \u001b[1m(\u001b[0mlumi = \u001b[1;36m19.52\u001b[0m, xs =   \u001b]8;id=163573;file:///tmp/ipykernel_18646/2088555353.py\u001b\\\u001b[2m2088555353.py\u001b[0m\u001b]8;;\u001b\\\u001b[2m:\u001b[0m\u001b]8;id=781168;file:///tmp/ipykernel_18646/2088555353.py#34\u001b\\\u001b[2m34\u001b[0m\u001b]8;;\u001b\\\n",
       "\u001b[2;36m           \u001b[0m         nan, sumw = \u001b[1;36m0.000\u001b[0m\u001b[1m)\u001b[0m                                                             \u001b[2m                \u001b[0m\n"
      ]
     },
     "metadata": {},
     "output_type": "display_data"
    },
    {
     "name": "stdout",
     "output_type": "stream",
     "text": [
      "SingleElectron_Run2016C_HIPM\n"
     ]
    },
    {
     "data": {
      "text/html": [
       "<pre style=\"white-space:pre;overflow-x:auto;line-height:normal;font-family:Menlo,'DejaVu Sans Mono',consolas,'Courier New',monospace\"><span style=\"color: #7fbfbf; text-decoration-color: #7fbfbf\">           </span><span style=\"color: #000080; text-decoration-color: #000080\">INFO    </span> Readign sample: SingleElectron_Run2016C_HIPM, from:                            <a href=\"file:///tmp/ipykernel_18646/2088555353.py\" target=\"_blank\"><span style=\"color: #7f7f7f; text-decoration-color: #7f7f7f\">2088555353.py</span></a><span style=\"color: #7f7f7f; text-decoration-color: #7f7f7f\">:</span><a href=\"file:///tmp/ipykernel_18646/2088555353.py#23\" target=\"_blank\"><span style=\"color: #7f7f7f; text-decoration-color: #7f7f7f\">23</span></a>\n",
       "<span style=\"color: #7fbfbf; text-decoration-color: #7fbfbf\">           </span>         inputs16APV/hists_sum_SingleElectron_Run2016C_HIPM.hist                        <span style=\"color: #7f7f7f; text-decoration-color: #7f7f7f\">                </span>\n",
       "</pre>\n"
      ],
      "text/plain": [
       "\u001b[2;36m          \u001b[0m\u001b[2;36m \u001b[0m\u001b[34mINFO    \u001b[0m Readign sample: SingleElectron_Run2016C_HIPM, from:                            \u001b]8;id=909926;file:///tmp/ipykernel_18646/2088555353.py\u001b\\\u001b[2m2088555353.py\u001b[0m\u001b]8;;\u001b\\\u001b[2m:\u001b[0m\u001b]8;id=770431;file:///tmp/ipykernel_18646/2088555353.py#23\u001b\\\u001b[2m23\u001b[0m\u001b]8;;\u001b\\\n",
       "\u001b[2;36m           \u001b[0m         inputs16APV/hists_sum_SingleElectron_Run2016C_HIPM.hist                        \u001b[2m                \u001b[0m\n"
      ]
     },
     "metadata": {},
     "output_type": "display_data"
    },
    {
     "data": {
      "text/html": [
       "<pre style=\"white-space:pre;overflow-x:auto;line-height:normal;font-family:Menlo,'DejaVu Sans Mono',consolas,'Courier New',monospace\"><span style=\"color: #7fbfbf; text-decoration-color: #7fbfbf\">           </span><span style=\"color: #000080; text-decoration-color: #000080\">INFO    </span> Scaling SingleElectron_Run2016C_HIPM by <span style=\"color: #008080; text-decoration-color: #008080; font-weight: bold\">1.000000000</span> <span style=\"font-weight: bold\">(</span>lumi = <span style=\"color: #008080; text-decoration-color: #008080; font-weight: bold\">19.52</span>, xs = nan,   <a href=\"file:///tmp/ipykernel_18646/2088555353.py\" target=\"_blank\"><span style=\"color: #7f7f7f; text-decoration-color: #7f7f7f\">2088555353.py</span></a><span style=\"color: #7f7f7f; text-decoration-color: #7f7f7f\">:</span><a href=\"file:///tmp/ipykernel_18646/2088555353.py#34\" target=\"_blank\"><span style=\"color: #7f7f7f; text-decoration-color: #7f7f7f\">34</span></a>\n",
       "<span style=\"color: #7fbfbf; text-decoration-color: #7fbfbf\">           </span>         sumw = <span style=\"color: #008080; text-decoration-color: #008080; font-weight: bold\">0.000</span><span style=\"font-weight: bold\">)</span>                                                                  <span style=\"color: #7f7f7f; text-decoration-color: #7f7f7f\">                </span>\n",
       "</pre>\n"
      ],
      "text/plain": [
       "\u001b[2;36m          \u001b[0m\u001b[2;36m \u001b[0m\u001b[34mINFO    \u001b[0m Scaling SingleElectron_Run2016C_HIPM by \u001b[1;36m1.000000000\u001b[0m \u001b[1m(\u001b[0mlumi = \u001b[1;36m19.52\u001b[0m, xs = nan,   \u001b]8;id=712088;file:///tmp/ipykernel_18646/2088555353.py\u001b\\\u001b[2m2088555353.py\u001b[0m\u001b]8;;\u001b\\\u001b[2m:\u001b[0m\u001b]8;id=745181;file:///tmp/ipykernel_18646/2088555353.py#34\u001b\\\u001b[2m34\u001b[0m\u001b]8;;\u001b\\\n",
       "\u001b[2;36m           \u001b[0m         sumw = \u001b[1;36m0.000\u001b[0m\u001b[1m)\u001b[0m                                                                  \u001b[2m                \u001b[0m\n"
      ]
     },
     "metadata": {},
     "output_type": "display_data"
    },
    {
     "name": "stdout",
     "output_type": "stream",
     "text": [
      "SingleElectron_Run2016D_HIPM\n"
     ]
    },
    {
     "data": {
      "text/html": [
       "<pre style=\"white-space:pre;overflow-x:auto;line-height:normal;font-family:Menlo,'DejaVu Sans Mono',consolas,'Courier New',monospace\"><span style=\"color: #7fbfbf; text-decoration-color: #7fbfbf\">           </span><span style=\"color: #000080; text-decoration-color: #000080\">INFO    </span> Readign sample: SingleElectron_Run2016D_HIPM, from:                            <a href=\"file:///tmp/ipykernel_18646/2088555353.py\" target=\"_blank\"><span style=\"color: #7f7f7f; text-decoration-color: #7f7f7f\">2088555353.py</span></a><span style=\"color: #7f7f7f; text-decoration-color: #7f7f7f\">:</span><a href=\"file:///tmp/ipykernel_18646/2088555353.py#23\" target=\"_blank\"><span style=\"color: #7f7f7f; text-decoration-color: #7f7f7f\">23</span></a>\n",
       "<span style=\"color: #7fbfbf; text-decoration-color: #7fbfbf\">           </span>         inputs16APV/hists_sum_SingleElectron_Run2016D_HIPM.hist                        <span style=\"color: #7f7f7f; text-decoration-color: #7f7f7f\">                </span>\n",
       "</pre>\n"
      ],
      "text/plain": [
       "\u001b[2;36m          \u001b[0m\u001b[2;36m \u001b[0m\u001b[34mINFO    \u001b[0m Readign sample: SingleElectron_Run2016D_HIPM, from:                            \u001b]8;id=513009;file:///tmp/ipykernel_18646/2088555353.py\u001b\\\u001b[2m2088555353.py\u001b[0m\u001b]8;;\u001b\\\u001b[2m:\u001b[0m\u001b]8;id=784736;file:///tmp/ipykernel_18646/2088555353.py#23\u001b\\\u001b[2m23\u001b[0m\u001b]8;;\u001b\\\n",
       "\u001b[2;36m           \u001b[0m         inputs16APV/hists_sum_SingleElectron_Run2016D_HIPM.hist                        \u001b[2m                \u001b[0m\n"
      ]
     },
     "metadata": {},
     "output_type": "display_data"
    },
    {
     "data": {
      "text/html": [
       "<pre style=\"white-space:pre;overflow-x:auto;line-height:normal;font-family:Menlo,'DejaVu Sans Mono',consolas,'Courier New',monospace\"><span style=\"color: #7fbfbf; text-decoration-color: #7fbfbf\">           </span><span style=\"color: #000080; text-decoration-color: #000080\">INFO    </span> Scaling SingleElectron_Run2016D_HIPM by <span style=\"color: #008080; text-decoration-color: #008080; font-weight: bold\">1.000000000</span> <span style=\"font-weight: bold\">(</span>lumi = <span style=\"color: #008080; text-decoration-color: #008080; font-weight: bold\">19.52</span>, xs = nan,   <a href=\"file:///tmp/ipykernel_18646/2088555353.py\" target=\"_blank\"><span style=\"color: #7f7f7f; text-decoration-color: #7f7f7f\">2088555353.py</span></a><span style=\"color: #7f7f7f; text-decoration-color: #7f7f7f\">:</span><a href=\"file:///tmp/ipykernel_18646/2088555353.py#34\" target=\"_blank\"><span style=\"color: #7f7f7f; text-decoration-color: #7f7f7f\">34</span></a>\n",
       "<span style=\"color: #7fbfbf; text-decoration-color: #7fbfbf\">           </span>         sumw = <span style=\"color: #008080; text-decoration-color: #008080; font-weight: bold\">0.000</span><span style=\"font-weight: bold\">)</span>                                                                  <span style=\"color: #7f7f7f; text-decoration-color: #7f7f7f\">                </span>\n",
       "</pre>\n"
      ],
      "text/plain": [
       "\u001b[2;36m          \u001b[0m\u001b[2;36m \u001b[0m\u001b[34mINFO    \u001b[0m Scaling SingleElectron_Run2016D_HIPM by \u001b[1;36m1.000000000\u001b[0m \u001b[1m(\u001b[0mlumi = \u001b[1;36m19.52\u001b[0m, xs = nan,   \u001b]8;id=659074;file:///tmp/ipykernel_18646/2088555353.py\u001b\\\u001b[2m2088555353.py\u001b[0m\u001b]8;;\u001b\\\u001b[2m:\u001b[0m\u001b]8;id=986227;file:///tmp/ipykernel_18646/2088555353.py#34\u001b\\\u001b[2m34\u001b[0m\u001b]8;;\u001b\\\n",
       "\u001b[2;36m           \u001b[0m         sumw = \u001b[1;36m0.000\u001b[0m\u001b[1m)\u001b[0m                                                                  \u001b[2m                \u001b[0m\n"
      ]
     },
     "metadata": {},
     "output_type": "display_data"
    },
    {
     "name": "stdout",
     "output_type": "stream",
     "text": [
      "SingleElectron_Run2016E_HIPM\n"
     ]
    },
    {
     "data": {
      "text/html": [
       "<pre style=\"white-space:pre;overflow-x:auto;line-height:normal;font-family:Menlo,'DejaVu Sans Mono',consolas,'Courier New',monospace\"><span style=\"color: #7fbfbf; text-decoration-color: #7fbfbf\">           </span><span style=\"color: #000080; text-decoration-color: #000080\">INFO    </span> Readign sample: SingleElectron_Run2016E_HIPM, from:                            <a href=\"file:///tmp/ipykernel_18646/2088555353.py\" target=\"_blank\"><span style=\"color: #7f7f7f; text-decoration-color: #7f7f7f\">2088555353.py</span></a><span style=\"color: #7f7f7f; text-decoration-color: #7f7f7f\">:</span><a href=\"file:///tmp/ipykernel_18646/2088555353.py#23\" target=\"_blank\"><span style=\"color: #7f7f7f; text-decoration-color: #7f7f7f\">23</span></a>\n",
       "<span style=\"color: #7fbfbf; text-decoration-color: #7fbfbf\">           </span>         inputs16APV/hists_sum_SingleElectron_Run2016E_HIPM.hist                        <span style=\"color: #7f7f7f; text-decoration-color: #7f7f7f\">                </span>\n",
       "</pre>\n"
      ],
      "text/plain": [
       "\u001b[2;36m          \u001b[0m\u001b[2;36m \u001b[0m\u001b[34mINFO    \u001b[0m Readign sample: SingleElectron_Run2016E_HIPM, from:                            \u001b]8;id=82005;file:///tmp/ipykernel_18646/2088555353.py\u001b\\\u001b[2m2088555353.py\u001b[0m\u001b]8;;\u001b\\\u001b[2m:\u001b[0m\u001b]8;id=995348;file:///tmp/ipykernel_18646/2088555353.py#23\u001b\\\u001b[2m23\u001b[0m\u001b]8;;\u001b\\\n",
       "\u001b[2;36m           \u001b[0m         inputs16APV/hists_sum_SingleElectron_Run2016E_HIPM.hist                        \u001b[2m                \u001b[0m\n"
      ]
     },
     "metadata": {},
     "output_type": "display_data"
    },
    {
     "data": {
      "text/html": [
       "<pre style=\"white-space:pre;overflow-x:auto;line-height:normal;font-family:Menlo,'DejaVu Sans Mono',consolas,'Courier New',monospace\"><span style=\"color: #7fbfbf; text-decoration-color: #7fbfbf\">           </span><span style=\"color: #000080; text-decoration-color: #000080\">INFO    </span> Scaling SingleElectron_Run2016E_HIPM by <span style=\"color: #008080; text-decoration-color: #008080; font-weight: bold\">1.000000000</span> <span style=\"font-weight: bold\">(</span>lumi = <span style=\"color: #008080; text-decoration-color: #008080; font-weight: bold\">19.52</span>, xs = nan,   <a href=\"file:///tmp/ipykernel_18646/2088555353.py\" target=\"_blank\"><span style=\"color: #7f7f7f; text-decoration-color: #7f7f7f\">2088555353.py</span></a><span style=\"color: #7f7f7f; text-decoration-color: #7f7f7f\">:</span><a href=\"file:///tmp/ipykernel_18646/2088555353.py#34\" target=\"_blank\"><span style=\"color: #7f7f7f; text-decoration-color: #7f7f7f\">34</span></a>\n",
       "<span style=\"color: #7fbfbf; text-decoration-color: #7fbfbf\">           </span>         sumw = <span style=\"color: #008080; text-decoration-color: #008080; font-weight: bold\">0.000</span><span style=\"font-weight: bold\">)</span>                                                                  <span style=\"color: #7f7f7f; text-decoration-color: #7f7f7f\">                </span>\n",
       "</pre>\n"
      ],
      "text/plain": [
       "\u001b[2;36m          \u001b[0m\u001b[2;36m \u001b[0m\u001b[34mINFO    \u001b[0m Scaling SingleElectron_Run2016E_HIPM by \u001b[1;36m1.000000000\u001b[0m \u001b[1m(\u001b[0mlumi = \u001b[1;36m19.52\u001b[0m, xs = nan,   \u001b]8;id=475383;file:///tmp/ipykernel_18646/2088555353.py\u001b\\\u001b[2m2088555353.py\u001b[0m\u001b]8;;\u001b\\\u001b[2m:\u001b[0m\u001b]8;id=774132;file:///tmp/ipykernel_18646/2088555353.py#34\u001b\\\u001b[2m34\u001b[0m\u001b]8;;\u001b\\\n",
       "\u001b[2;36m           \u001b[0m         sumw = \u001b[1;36m0.000\u001b[0m\u001b[1m)\u001b[0m                                                                  \u001b[2m                \u001b[0m\n"
      ]
     },
     "metadata": {},
     "output_type": "display_data"
    },
    {
     "name": "stdout",
     "output_type": "stream",
     "text": [
      "SingleElectron_Run2016F_HIPM\n"
     ]
    },
    {
     "data": {
      "text/html": [
       "<pre style=\"white-space:pre;overflow-x:auto;line-height:normal;font-family:Menlo,'DejaVu Sans Mono',consolas,'Courier New',monospace\"><span style=\"color: #7fbfbf; text-decoration-color: #7fbfbf\">           </span><span style=\"color: #000080; text-decoration-color: #000080\">INFO    </span> Readign sample: SingleElectron_Run2016F_HIPM, from:                            <a href=\"file:///tmp/ipykernel_18646/2088555353.py\" target=\"_blank\"><span style=\"color: #7f7f7f; text-decoration-color: #7f7f7f\">2088555353.py</span></a><span style=\"color: #7f7f7f; text-decoration-color: #7f7f7f\">:</span><a href=\"file:///tmp/ipykernel_18646/2088555353.py#23\" target=\"_blank\"><span style=\"color: #7f7f7f; text-decoration-color: #7f7f7f\">23</span></a>\n",
       "<span style=\"color: #7fbfbf; text-decoration-color: #7fbfbf\">           </span>         inputs16APV/hists_sum_SingleElectron_Run2016F_HIPM.hist                        <span style=\"color: #7f7f7f; text-decoration-color: #7f7f7f\">                </span>\n",
       "</pre>\n"
      ],
      "text/plain": [
       "\u001b[2;36m          \u001b[0m\u001b[2;36m \u001b[0m\u001b[34mINFO    \u001b[0m Readign sample: SingleElectron_Run2016F_HIPM, from:                            \u001b]8;id=267114;file:///tmp/ipykernel_18646/2088555353.py\u001b\\\u001b[2m2088555353.py\u001b[0m\u001b]8;;\u001b\\\u001b[2m:\u001b[0m\u001b]8;id=219272;file:///tmp/ipykernel_18646/2088555353.py#23\u001b\\\u001b[2m23\u001b[0m\u001b]8;;\u001b\\\n",
       "\u001b[2;36m           \u001b[0m         inputs16APV/hists_sum_SingleElectron_Run2016F_HIPM.hist                        \u001b[2m                \u001b[0m\n"
      ]
     },
     "metadata": {},
     "output_type": "display_data"
    },
    {
     "data": {
      "text/html": [
       "<pre style=\"white-space:pre;overflow-x:auto;line-height:normal;font-family:Menlo,'DejaVu Sans Mono',consolas,'Courier New',monospace\"><span style=\"color: #7fbfbf; text-decoration-color: #7fbfbf\">           </span><span style=\"color: #000080; text-decoration-color: #000080\">INFO    </span> Scaling SingleElectron_Run2016F_HIPM by <span style=\"color: #008080; text-decoration-color: #008080; font-weight: bold\">1.000000000</span> <span style=\"font-weight: bold\">(</span>lumi = <span style=\"color: #008080; text-decoration-color: #008080; font-weight: bold\">19.52</span>, xs = nan,   <a href=\"file:///tmp/ipykernel_18646/2088555353.py\" target=\"_blank\"><span style=\"color: #7f7f7f; text-decoration-color: #7f7f7f\">2088555353.py</span></a><span style=\"color: #7f7f7f; text-decoration-color: #7f7f7f\">:</span><a href=\"file:///tmp/ipykernel_18646/2088555353.py#34\" target=\"_blank\"><span style=\"color: #7f7f7f; text-decoration-color: #7f7f7f\">34</span></a>\n",
       "<span style=\"color: #7fbfbf; text-decoration-color: #7fbfbf\">           </span>         sumw = <span style=\"color: #008080; text-decoration-color: #008080; font-weight: bold\">0.000</span><span style=\"font-weight: bold\">)</span>                                                                  <span style=\"color: #7f7f7f; text-decoration-color: #7f7f7f\">                </span>\n",
       "</pre>\n"
      ],
      "text/plain": [
       "\u001b[2;36m          \u001b[0m\u001b[2;36m \u001b[0m\u001b[34mINFO    \u001b[0m Scaling SingleElectron_Run2016F_HIPM by \u001b[1;36m1.000000000\u001b[0m \u001b[1m(\u001b[0mlumi = \u001b[1;36m19.52\u001b[0m, xs = nan,   \u001b]8;id=137454;file:///tmp/ipykernel_18646/2088555353.py\u001b\\\u001b[2m2088555353.py\u001b[0m\u001b]8;;\u001b\\\u001b[2m:\u001b[0m\u001b]8;id=894691;file:///tmp/ipykernel_18646/2088555353.py#34\u001b\\\u001b[2m34\u001b[0m\u001b]8;;\u001b\\\n",
       "\u001b[2;36m           \u001b[0m         sumw = \u001b[1;36m0.000\u001b[0m\u001b[1m)\u001b[0m                                                                  \u001b[2m                \u001b[0m\n"
      ]
     },
     "metadata": {},
     "output_type": "display_data"
    },
    {
     "name": "stdout",
     "output_type": "stream",
     "text": [
      "SingleMuon_Run2016B_ver2_HIPM\n"
     ]
    },
    {
     "data": {
      "text/html": [
       "<pre style=\"white-space:pre;overflow-x:auto;line-height:normal;font-family:Menlo,'DejaVu Sans Mono',consolas,'Courier New',monospace\"><span style=\"color: #7fbfbf; text-decoration-color: #7fbfbf\">           </span><span style=\"color: #000080; text-decoration-color: #000080\">INFO    </span> Readign sample: SingleMuon_Run2016B_ver2_HIPM, from:                           <a href=\"file:///tmp/ipykernel_18646/2088555353.py\" target=\"_blank\"><span style=\"color: #7f7f7f; text-decoration-color: #7f7f7f\">2088555353.py</span></a><span style=\"color: #7f7f7f; text-decoration-color: #7f7f7f\">:</span><a href=\"file:///tmp/ipykernel_18646/2088555353.py#23\" target=\"_blank\"><span style=\"color: #7f7f7f; text-decoration-color: #7f7f7f\">23</span></a>\n",
       "<span style=\"color: #7fbfbf; text-decoration-color: #7fbfbf\">           </span>         inputs16APV/hists_sum_SingleMuon_Run2016B_ver2_HIPM.hist                       <span style=\"color: #7f7f7f; text-decoration-color: #7f7f7f\">                </span>\n",
       "</pre>\n"
      ],
      "text/plain": [
       "\u001b[2;36m          \u001b[0m\u001b[2;36m \u001b[0m\u001b[34mINFO    \u001b[0m Readign sample: SingleMuon_Run2016B_ver2_HIPM, from:                           \u001b]8;id=147925;file:///tmp/ipykernel_18646/2088555353.py\u001b\\\u001b[2m2088555353.py\u001b[0m\u001b]8;;\u001b\\\u001b[2m:\u001b[0m\u001b]8;id=44466;file:///tmp/ipykernel_18646/2088555353.py#23\u001b\\\u001b[2m23\u001b[0m\u001b]8;;\u001b\\\n",
       "\u001b[2;36m           \u001b[0m         inputs16APV/hists_sum_SingleMuon_Run2016B_ver2_HIPM.hist                       \u001b[2m                \u001b[0m\n"
      ]
     },
     "metadata": {},
     "output_type": "display_data"
    },
    {
     "data": {
      "text/html": [
       "<pre style=\"white-space:pre;overflow-x:auto;line-height:normal;font-family:Menlo,'DejaVu Sans Mono',consolas,'Courier New',monospace\"><span style=\"color: #7fbfbf; text-decoration-color: #7fbfbf\">           </span><span style=\"color: #000080; text-decoration-color: #000080\">INFO    </span> Scaling SingleMuon_Run2016B_ver2_HIPM by <span style=\"color: #008080; text-decoration-color: #008080; font-weight: bold\">1.000000000</span> <span style=\"font-weight: bold\">(</span>lumi = <span style=\"color: #008080; text-decoration-color: #008080; font-weight: bold\">19.52</span>, xs = nan,  <a href=\"file:///tmp/ipykernel_18646/2088555353.py\" target=\"_blank\"><span style=\"color: #7f7f7f; text-decoration-color: #7f7f7f\">2088555353.py</span></a><span style=\"color: #7f7f7f; text-decoration-color: #7f7f7f\">:</span><a href=\"file:///tmp/ipykernel_18646/2088555353.py#34\" target=\"_blank\"><span style=\"color: #7f7f7f; text-decoration-color: #7f7f7f\">34</span></a>\n",
       "<span style=\"color: #7fbfbf; text-decoration-color: #7fbfbf\">           </span>         sumw = <span style=\"color: #008080; text-decoration-color: #008080; font-weight: bold\">0.000</span><span style=\"font-weight: bold\">)</span>                                                                  <span style=\"color: #7f7f7f; text-decoration-color: #7f7f7f\">                </span>\n",
       "</pre>\n"
      ],
      "text/plain": [
       "\u001b[2;36m          \u001b[0m\u001b[2;36m \u001b[0m\u001b[34mINFO    \u001b[0m Scaling SingleMuon_Run2016B_ver2_HIPM by \u001b[1;36m1.000000000\u001b[0m \u001b[1m(\u001b[0mlumi = \u001b[1;36m19.52\u001b[0m, xs = nan,  \u001b]8;id=437904;file:///tmp/ipykernel_18646/2088555353.py\u001b\\\u001b[2m2088555353.py\u001b[0m\u001b]8;;\u001b\\\u001b[2m:\u001b[0m\u001b]8;id=295254;file:///tmp/ipykernel_18646/2088555353.py#34\u001b\\\u001b[2m34\u001b[0m\u001b]8;;\u001b\\\n",
       "\u001b[2;36m           \u001b[0m         sumw = \u001b[1;36m0.000\u001b[0m\u001b[1m)\u001b[0m                                                                  \u001b[2m                \u001b[0m\n"
      ]
     },
     "metadata": {},
     "output_type": "display_data"
    },
    {
     "name": "stdout",
     "output_type": "stream",
     "text": [
      "SingleMuon_Run2016C_HIPM\n"
     ]
    },
    {
     "data": {
      "text/html": [
       "<pre style=\"white-space:pre;overflow-x:auto;line-height:normal;font-family:Menlo,'DejaVu Sans Mono',consolas,'Courier New',monospace\"><span style=\"color: #7fbfbf; text-decoration-color: #7fbfbf\">           </span><span style=\"color: #000080; text-decoration-color: #000080\">INFO    </span> Readign sample: SingleMuon_Run2016C_HIPM, from:                                <a href=\"file:///tmp/ipykernel_18646/2088555353.py\" target=\"_blank\"><span style=\"color: #7f7f7f; text-decoration-color: #7f7f7f\">2088555353.py</span></a><span style=\"color: #7f7f7f; text-decoration-color: #7f7f7f\">:</span><a href=\"file:///tmp/ipykernel_18646/2088555353.py#23\" target=\"_blank\"><span style=\"color: #7f7f7f; text-decoration-color: #7f7f7f\">23</span></a>\n",
       "<span style=\"color: #7fbfbf; text-decoration-color: #7fbfbf\">           </span>         inputs16APV/hists_sum_SingleMuon_Run2016C_HIPM.hist                            <span style=\"color: #7f7f7f; text-decoration-color: #7f7f7f\">                </span>\n",
       "</pre>\n"
      ],
      "text/plain": [
       "\u001b[2;36m          \u001b[0m\u001b[2;36m \u001b[0m\u001b[34mINFO    \u001b[0m Readign sample: SingleMuon_Run2016C_HIPM, from:                                \u001b]8;id=939977;file:///tmp/ipykernel_18646/2088555353.py\u001b\\\u001b[2m2088555353.py\u001b[0m\u001b]8;;\u001b\\\u001b[2m:\u001b[0m\u001b]8;id=581127;file:///tmp/ipykernel_18646/2088555353.py#23\u001b\\\u001b[2m23\u001b[0m\u001b]8;;\u001b\\\n",
       "\u001b[2;36m           \u001b[0m         inputs16APV/hists_sum_SingleMuon_Run2016C_HIPM.hist                            \u001b[2m                \u001b[0m\n"
      ]
     },
     "metadata": {},
     "output_type": "display_data"
    },
    {
     "data": {
      "text/html": [
       "<pre style=\"white-space:pre;overflow-x:auto;line-height:normal;font-family:Menlo,'DejaVu Sans Mono',consolas,'Courier New',monospace\"><span style=\"color: #7fbfbf; text-decoration-color: #7fbfbf\">           </span><span style=\"color: #000080; text-decoration-color: #000080\">INFO    </span> Scaling SingleMuon_Run2016C_HIPM by <span style=\"color: #008080; text-decoration-color: #008080; font-weight: bold\">1.000000000</span> <span style=\"font-weight: bold\">(</span>lumi = <span style=\"color: #008080; text-decoration-color: #008080; font-weight: bold\">19.52</span>, xs = nan, sumw  <a href=\"file:///tmp/ipykernel_18646/2088555353.py\" target=\"_blank\"><span style=\"color: #7f7f7f; text-decoration-color: #7f7f7f\">2088555353.py</span></a><span style=\"color: #7f7f7f; text-decoration-color: #7f7f7f\">:</span><a href=\"file:///tmp/ipykernel_18646/2088555353.py#34\" target=\"_blank\"><span style=\"color: #7f7f7f; text-decoration-color: #7f7f7f\">34</span></a>\n",
       "<span style=\"color: #7fbfbf; text-decoration-color: #7fbfbf\">           </span>         = <span style=\"color: #008080; text-decoration-color: #008080; font-weight: bold\">0.000</span><span style=\"font-weight: bold\">)</span>                                                                       <span style=\"color: #7f7f7f; text-decoration-color: #7f7f7f\">                </span>\n",
       "</pre>\n"
      ],
      "text/plain": [
       "\u001b[2;36m          \u001b[0m\u001b[2;36m \u001b[0m\u001b[34mINFO    \u001b[0m Scaling SingleMuon_Run2016C_HIPM by \u001b[1;36m1.000000000\u001b[0m \u001b[1m(\u001b[0mlumi = \u001b[1;36m19.52\u001b[0m, xs = nan, sumw  \u001b]8;id=932169;file:///tmp/ipykernel_18646/2088555353.py\u001b\\\u001b[2m2088555353.py\u001b[0m\u001b]8;;\u001b\\\u001b[2m:\u001b[0m\u001b]8;id=489028;file:///tmp/ipykernel_18646/2088555353.py#34\u001b\\\u001b[2m34\u001b[0m\u001b]8;;\u001b\\\n",
       "\u001b[2;36m           \u001b[0m         = \u001b[1;36m0.000\u001b[0m\u001b[1m)\u001b[0m                                                                       \u001b[2m                \u001b[0m\n"
      ]
     },
     "metadata": {},
     "output_type": "display_data"
    },
    {
     "name": "stdout",
     "output_type": "stream",
     "text": [
      "SingleMuon_Run2016D_HIPM\n"
     ]
    },
    {
     "data": {
      "text/html": [
       "<pre style=\"white-space:pre;overflow-x:auto;line-height:normal;font-family:Menlo,'DejaVu Sans Mono',consolas,'Courier New',monospace\"><span style=\"color: #7fbfbf; text-decoration-color: #7fbfbf\">           </span><span style=\"color: #000080; text-decoration-color: #000080\">INFO    </span> Readign sample: SingleMuon_Run2016D_HIPM, from:                                <a href=\"file:///tmp/ipykernel_18646/2088555353.py\" target=\"_blank\"><span style=\"color: #7f7f7f; text-decoration-color: #7f7f7f\">2088555353.py</span></a><span style=\"color: #7f7f7f; text-decoration-color: #7f7f7f\">:</span><a href=\"file:///tmp/ipykernel_18646/2088555353.py#23\" target=\"_blank\"><span style=\"color: #7f7f7f; text-decoration-color: #7f7f7f\">23</span></a>\n",
       "<span style=\"color: #7fbfbf; text-decoration-color: #7fbfbf\">           </span>         inputs16APV/hists_sum_SingleMuon_Run2016D_HIPM.hist                            <span style=\"color: #7f7f7f; text-decoration-color: #7f7f7f\">                </span>\n",
       "</pre>\n"
      ],
      "text/plain": [
       "\u001b[2;36m          \u001b[0m\u001b[2;36m \u001b[0m\u001b[34mINFO    \u001b[0m Readign sample: SingleMuon_Run2016D_HIPM, from:                                \u001b]8;id=412589;file:///tmp/ipykernel_18646/2088555353.py\u001b\\\u001b[2m2088555353.py\u001b[0m\u001b]8;;\u001b\\\u001b[2m:\u001b[0m\u001b]8;id=787046;file:///tmp/ipykernel_18646/2088555353.py#23\u001b\\\u001b[2m23\u001b[0m\u001b]8;;\u001b\\\n",
       "\u001b[2;36m           \u001b[0m         inputs16APV/hists_sum_SingleMuon_Run2016D_HIPM.hist                            \u001b[2m                \u001b[0m\n"
      ]
     },
     "metadata": {},
     "output_type": "display_data"
    },
    {
     "data": {
      "text/html": [
       "<pre style=\"white-space:pre;overflow-x:auto;line-height:normal;font-family:Menlo,'DejaVu Sans Mono',consolas,'Courier New',monospace\"><span style=\"color: #7fbfbf; text-decoration-color: #7fbfbf\">           </span><span style=\"color: #000080; text-decoration-color: #000080\">INFO    </span> Scaling SingleMuon_Run2016D_HIPM by <span style=\"color: #008080; text-decoration-color: #008080; font-weight: bold\">1.000000000</span> <span style=\"font-weight: bold\">(</span>lumi = <span style=\"color: #008080; text-decoration-color: #008080; font-weight: bold\">19.52</span>, xs = nan, sumw  <a href=\"file:///tmp/ipykernel_18646/2088555353.py\" target=\"_blank\"><span style=\"color: #7f7f7f; text-decoration-color: #7f7f7f\">2088555353.py</span></a><span style=\"color: #7f7f7f; text-decoration-color: #7f7f7f\">:</span><a href=\"file:///tmp/ipykernel_18646/2088555353.py#34\" target=\"_blank\"><span style=\"color: #7f7f7f; text-decoration-color: #7f7f7f\">34</span></a>\n",
       "<span style=\"color: #7fbfbf; text-decoration-color: #7fbfbf\">           </span>         = <span style=\"color: #008080; text-decoration-color: #008080; font-weight: bold\">0.000</span><span style=\"font-weight: bold\">)</span>                                                                       <span style=\"color: #7f7f7f; text-decoration-color: #7f7f7f\">                </span>\n",
       "</pre>\n"
      ],
      "text/plain": [
       "\u001b[2;36m          \u001b[0m\u001b[2;36m \u001b[0m\u001b[34mINFO    \u001b[0m Scaling SingleMuon_Run2016D_HIPM by \u001b[1;36m1.000000000\u001b[0m \u001b[1m(\u001b[0mlumi = \u001b[1;36m19.52\u001b[0m, xs = nan, sumw  \u001b]8;id=649325;file:///tmp/ipykernel_18646/2088555353.py\u001b\\\u001b[2m2088555353.py\u001b[0m\u001b]8;;\u001b\\\u001b[2m:\u001b[0m\u001b]8;id=377247;file:///tmp/ipykernel_18646/2088555353.py#34\u001b\\\u001b[2m34\u001b[0m\u001b]8;;\u001b\\\n",
       "\u001b[2;36m           \u001b[0m         = \u001b[1;36m0.000\u001b[0m\u001b[1m)\u001b[0m                                                                       \u001b[2m                \u001b[0m\n"
      ]
     },
     "metadata": {},
     "output_type": "display_data"
    },
    {
     "name": "stdout",
     "output_type": "stream",
     "text": [
      "SingleMuon_Run2016E_HIPM\n"
     ]
    },
    {
     "data": {
      "text/html": [
       "<pre style=\"white-space:pre;overflow-x:auto;line-height:normal;font-family:Menlo,'DejaVu Sans Mono',consolas,'Courier New',monospace\"><span style=\"color: #7fbfbf; text-decoration-color: #7fbfbf\">           </span><span style=\"color: #000080; text-decoration-color: #000080\">INFO    </span> Readign sample: SingleMuon_Run2016E_HIPM, from:                                <a href=\"file:///tmp/ipykernel_18646/2088555353.py\" target=\"_blank\"><span style=\"color: #7f7f7f; text-decoration-color: #7f7f7f\">2088555353.py</span></a><span style=\"color: #7f7f7f; text-decoration-color: #7f7f7f\">:</span><a href=\"file:///tmp/ipykernel_18646/2088555353.py#23\" target=\"_blank\"><span style=\"color: #7f7f7f; text-decoration-color: #7f7f7f\">23</span></a>\n",
       "<span style=\"color: #7fbfbf; text-decoration-color: #7fbfbf\">           </span>         inputs16APV/hists_sum_SingleMuon_Run2016E_HIPM.hist                            <span style=\"color: #7f7f7f; text-decoration-color: #7f7f7f\">                </span>\n",
       "</pre>\n"
      ],
      "text/plain": [
       "\u001b[2;36m          \u001b[0m\u001b[2;36m \u001b[0m\u001b[34mINFO    \u001b[0m Readign sample: SingleMuon_Run2016E_HIPM, from:                                \u001b]8;id=165993;file:///tmp/ipykernel_18646/2088555353.py\u001b\\\u001b[2m2088555353.py\u001b[0m\u001b]8;;\u001b\\\u001b[2m:\u001b[0m\u001b]8;id=927200;file:///tmp/ipykernel_18646/2088555353.py#23\u001b\\\u001b[2m23\u001b[0m\u001b]8;;\u001b\\\n",
       "\u001b[2;36m           \u001b[0m         inputs16APV/hists_sum_SingleMuon_Run2016E_HIPM.hist                            \u001b[2m                \u001b[0m\n"
      ]
     },
     "metadata": {},
     "output_type": "display_data"
    },
    {
     "data": {
      "text/html": [
       "<pre style=\"white-space:pre;overflow-x:auto;line-height:normal;font-family:Menlo,'DejaVu Sans Mono',consolas,'Courier New',monospace\"><span style=\"color: #7fbfbf; text-decoration-color: #7fbfbf\">           </span><span style=\"color: #000080; text-decoration-color: #000080\">INFO    </span> Scaling SingleMuon_Run2016E_HIPM by <span style=\"color: #008080; text-decoration-color: #008080; font-weight: bold\">1.000000000</span> <span style=\"font-weight: bold\">(</span>lumi = <span style=\"color: #008080; text-decoration-color: #008080; font-weight: bold\">19.52</span>, xs = nan, sumw  <a href=\"file:///tmp/ipykernel_18646/2088555353.py\" target=\"_blank\"><span style=\"color: #7f7f7f; text-decoration-color: #7f7f7f\">2088555353.py</span></a><span style=\"color: #7f7f7f; text-decoration-color: #7f7f7f\">:</span><a href=\"file:///tmp/ipykernel_18646/2088555353.py#34\" target=\"_blank\"><span style=\"color: #7f7f7f; text-decoration-color: #7f7f7f\">34</span></a>\n",
       "<span style=\"color: #7fbfbf; text-decoration-color: #7fbfbf\">           </span>         = <span style=\"color: #008080; text-decoration-color: #008080; font-weight: bold\">0.000</span><span style=\"font-weight: bold\">)</span>                                                                       <span style=\"color: #7f7f7f; text-decoration-color: #7f7f7f\">                </span>\n",
       "</pre>\n"
      ],
      "text/plain": [
       "\u001b[2;36m          \u001b[0m\u001b[2;36m \u001b[0m\u001b[34mINFO    \u001b[0m Scaling SingleMuon_Run2016E_HIPM by \u001b[1;36m1.000000000\u001b[0m \u001b[1m(\u001b[0mlumi = \u001b[1;36m19.52\u001b[0m, xs = nan, sumw  \u001b]8;id=443600;file:///tmp/ipykernel_18646/2088555353.py\u001b\\\u001b[2m2088555353.py\u001b[0m\u001b]8;;\u001b\\\u001b[2m:\u001b[0m\u001b]8;id=423257;file:///tmp/ipykernel_18646/2088555353.py#34\u001b\\\u001b[2m34\u001b[0m\u001b]8;;\u001b\\\n",
       "\u001b[2;36m           \u001b[0m         = \u001b[1;36m0.000\u001b[0m\u001b[1m)\u001b[0m                                                                       \u001b[2m                \u001b[0m\n"
      ]
     },
     "metadata": {},
     "output_type": "display_data"
    },
    {
     "name": "stdout",
     "output_type": "stream",
     "text": [
      "SingleMuon_Run2016F_HIPM\n"
     ]
    },
    {
     "data": {
      "text/html": [
       "<pre style=\"white-space:pre;overflow-x:auto;line-height:normal;font-family:Menlo,'DejaVu Sans Mono',consolas,'Courier New',monospace\"><span style=\"color: #7fbfbf; text-decoration-color: #7fbfbf\">           </span><span style=\"color: #000080; text-decoration-color: #000080\">INFO    </span> Readign sample: SingleMuon_Run2016F_HIPM, from:                                <a href=\"file:///tmp/ipykernel_18646/2088555353.py\" target=\"_blank\"><span style=\"color: #7f7f7f; text-decoration-color: #7f7f7f\">2088555353.py</span></a><span style=\"color: #7f7f7f; text-decoration-color: #7f7f7f\">:</span><a href=\"file:///tmp/ipykernel_18646/2088555353.py#23\" target=\"_blank\"><span style=\"color: #7f7f7f; text-decoration-color: #7f7f7f\">23</span></a>\n",
       "<span style=\"color: #7fbfbf; text-decoration-color: #7fbfbf\">           </span>         inputs16APV/hists_sum_SingleMuon_Run2016F_HIPM.hist                            <span style=\"color: #7f7f7f; text-decoration-color: #7f7f7f\">                </span>\n",
       "</pre>\n"
      ],
      "text/plain": [
       "\u001b[2;36m          \u001b[0m\u001b[2;36m \u001b[0m\u001b[34mINFO    \u001b[0m Readign sample: SingleMuon_Run2016F_HIPM, from:                                \u001b]8;id=153925;file:///tmp/ipykernel_18646/2088555353.py\u001b\\\u001b[2m2088555353.py\u001b[0m\u001b]8;;\u001b\\\u001b[2m:\u001b[0m\u001b]8;id=110048;file:///tmp/ipykernel_18646/2088555353.py#23\u001b\\\u001b[2m23\u001b[0m\u001b]8;;\u001b\\\n",
       "\u001b[2;36m           \u001b[0m         inputs16APV/hists_sum_SingleMuon_Run2016F_HIPM.hist                            \u001b[2m                \u001b[0m\n"
      ]
     },
     "metadata": {},
     "output_type": "display_data"
    },
    {
     "data": {
      "text/html": [
       "<pre style=\"white-space:pre;overflow-x:auto;line-height:normal;font-family:Menlo,'DejaVu Sans Mono',consolas,'Courier New',monospace\"><span style=\"color: #7fbfbf; text-decoration-color: #7fbfbf\">           </span><span style=\"color: #000080; text-decoration-color: #000080\">INFO    </span> Scaling SingleMuon_Run2016F_HIPM by <span style=\"color: #008080; text-decoration-color: #008080; font-weight: bold\">1.000000000</span> <span style=\"font-weight: bold\">(</span>lumi = <span style=\"color: #008080; text-decoration-color: #008080; font-weight: bold\">19.52</span>, xs = nan, sumw  <a href=\"file:///tmp/ipykernel_18646/2088555353.py\" target=\"_blank\"><span style=\"color: #7f7f7f; text-decoration-color: #7f7f7f\">2088555353.py</span></a><span style=\"color: #7f7f7f; text-decoration-color: #7f7f7f\">:</span><a href=\"file:///tmp/ipykernel_18646/2088555353.py#34\" target=\"_blank\"><span style=\"color: #7f7f7f; text-decoration-color: #7f7f7f\">34</span></a>\n",
       "<span style=\"color: #7fbfbf; text-decoration-color: #7fbfbf\">           </span>         = <span style=\"color: #008080; text-decoration-color: #008080; font-weight: bold\">0.000</span><span style=\"font-weight: bold\">)</span>                                                                       <span style=\"color: #7f7f7f; text-decoration-color: #7f7f7f\">                </span>\n",
       "</pre>\n"
      ],
      "text/plain": [
       "\u001b[2;36m          \u001b[0m\u001b[2;36m \u001b[0m\u001b[34mINFO    \u001b[0m Scaling SingleMuon_Run2016F_HIPM by \u001b[1;36m1.000000000\u001b[0m \u001b[1m(\u001b[0mlumi = \u001b[1;36m19.52\u001b[0m, xs = nan, sumw  \u001b]8;id=354018;file:///tmp/ipykernel_18646/2088555353.py\u001b\\\u001b[2m2088555353.py\u001b[0m\u001b]8;;\u001b\\\u001b[2m:\u001b[0m\u001b]8;id=365039;file:///tmp/ipykernel_18646/2088555353.py#34\u001b\\\u001b[2m34\u001b[0m\u001b]8;;\u001b\\\n",
       "\u001b[2;36m           \u001b[0m         = \u001b[1;36m0.000\u001b[0m\u001b[1m)\u001b[0m                                                                       \u001b[2m                \u001b[0m\n"
      ]
     },
     "metadata": {},
     "output_type": "display_data"
    },
    {
     "name": "stdout",
     "output_type": "stream",
     "text": [
      "MET_Run2016F\n"
     ]
    },
    {
     "data": {
      "text/html": [
       "<pre style=\"white-space:pre;overflow-x:auto;line-height:normal;font-family:Menlo,'DejaVu Sans Mono',consolas,'Courier New',monospace\"><span style=\"color: #7fbfbf; text-decoration-color: #7fbfbf\">           </span><span style=\"color: #000080; text-decoration-color: #000080\">INFO    </span> Readign sample: MET_Run2016F, from: inputs16APV/hists_sum_MET_Run2016F.hist    <a href=\"file:///tmp/ipykernel_18646/2088555353.py\" target=\"_blank\"><span style=\"color: #7f7f7f; text-decoration-color: #7f7f7f\">2088555353.py</span></a><span style=\"color: #7f7f7f; text-decoration-color: #7f7f7f\">:</span><a href=\"file:///tmp/ipykernel_18646/2088555353.py#23\" target=\"_blank\"><span style=\"color: #7f7f7f; text-decoration-color: #7f7f7f\">23</span></a>\n",
       "</pre>\n"
      ],
      "text/plain": [
       "\u001b[2;36m          \u001b[0m\u001b[2;36m \u001b[0m\u001b[34mINFO    \u001b[0m Readign sample: MET_Run2016F, from: inputs16APV/hists_sum_MET_Run2016F.hist    \u001b]8;id=765382;file:///tmp/ipykernel_18646/2088555353.py\u001b\\\u001b[2m2088555353.py\u001b[0m\u001b]8;;\u001b\\\u001b[2m:\u001b[0m\u001b]8;id=276789;file:///tmp/ipykernel_18646/2088555353.py#23\u001b\\\u001b[2m23\u001b[0m\u001b]8;;\u001b\\\n"
      ]
     },
     "metadata": {},
     "output_type": "display_data"
    },
    {
     "name": "stdout",
     "output_type": "stream",
     "text": [
      "MET_Run2016G\n"
     ]
    },
    {
     "data": {
      "text/html": [
       "<pre style=\"white-space:pre;overflow-x:auto;line-height:normal;font-family:Menlo,'DejaVu Sans Mono',consolas,'Courier New',monospace\"><span style=\"color: #7fbfbf; text-decoration-color: #7fbfbf\">           </span><span style=\"color: #000080; text-decoration-color: #000080\">INFO    </span> Readign sample: MET_Run2016G, from: inputs16APV/hists_sum_MET_Run2016G.hist    <a href=\"file:///tmp/ipykernel_18646/2088555353.py\" target=\"_blank\"><span style=\"color: #7f7f7f; text-decoration-color: #7f7f7f\">2088555353.py</span></a><span style=\"color: #7f7f7f; text-decoration-color: #7f7f7f\">:</span><a href=\"file:///tmp/ipykernel_18646/2088555353.py#23\" target=\"_blank\"><span style=\"color: #7f7f7f; text-decoration-color: #7f7f7f\">23</span></a>\n",
       "</pre>\n"
      ],
      "text/plain": [
       "\u001b[2;36m          \u001b[0m\u001b[2;36m \u001b[0m\u001b[34mINFO    \u001b[0m Readign sample: MET_Run2016G, from: inputs16APV/hists_sum_MET_Run2016G.hist    \u001b]8;id=712640;file:///tmp/ipykernel_18646/2088555353.py\u001b\\\u001b[2m2088555353.py\u001b[0m\u001b]8;;\u001b\\\u001b[2m:\u001b[0m\u001b]8;id=401950;file:///tmp/ipykernel_18646/2088555353.py#23\u001b\\\u001b[2m23\u001b[0m\u001b]8;;\u001b\\\n"
      ]
     },
     "metadata": {},
     "output_type": "display_data"
    },
    {
     "name": "stdout",
     "output_type": "stream",
     "text": [
      "MET_Run2016H\n"
     ]
    },
    {
     "data": {
      "text/html": [
       "<pre style=\"white-space:pre;overflow-x:auto;line-height:normal;font-family:Menlo,'DejaVu Sans Mono',consolas,'Courier New',monospace\"><span style=\"color: #7fbfbf; text-decoration-color: #7fbfbf\">           </span><span style=\"color: #000080; text-decoration-color: #000080\">INFO    </span> Readign sample: MET_Run2016H, from: inputs16APV/hists_sum_MET_Run2016H.hist    <a href=\"file:///tmp/ipykernel_18646/2088555353.py\" target=\"_blank\"><span style=\"color: #7f7f7f; text-decoration-color: #7f7f7f\">2088555353.py</span></a><span style=\"color: #7f7f7f; text-decoration-color: #7f7f7f\">:</span><a href=\"file:///tmp/ipykernel_18646/2088555353.py#23\" target=\"_blank\"><span style=\"color: #7f7f7f; text-decoration-color: #7f7f7f\">23</span></a>\n",
       "</pre>\n"
      ],
      "text/plain": [
       "\u001b[2;36m          \u001b[0m\u001b[2;36m \u001b[0m\u001b[34mINFO    \u001b[0m Readign sample: MET_Run2016H, from: inputs16APV/hists_sum_MET_Run2016H.hist    \u001b]8;id=637502;file:///tmp/ipykernel_18646/2088555353.py\u001b\\\u001b[2m2088555353.py\u001b[0m\u001b]8;;\u001b\\\u001b[2m:\u001b[0m\u001b]8;id=18750;file:///tmp/ipykernel_18646/2088555353.py#23\u001b\\\u001b[2m23\u001b[0m\u001b]8;;\u001b\\\n"
      ]
     },
     "metadata": {},
     "output_type": "display_data"
    },
    {
     "name": "stdout",
     "output_type": "stream",
     "text": [
      "SingleElectron_Run2016F\n"
     ]
    },
    {
     "data": {
      "text/html": [
       "<pre style=\"white-space:pre;overflow-x:auto;line-height:normal;font-family:Menlo,'DejaVu Sans Mono',consolas,'Courier New',monospace\"><span style=\"color: #7fbfbf; text-decoration-color: #7fbfbf\">           </span><span style=\"color: #000080; text-decoration-color: #000080\">INFO    </span> Readign sample: SingleElectron_Run2016F, from:                                 <a href=\"file:///tmp/ipykernel_18646/2088555353.py\" target=\"_blank\"><span style=\"color: #7f7f7f; text-decoration-color: #7f7f7f\">2088555353.py</span></a><span style=\"color: #7f7f7f; text-decoration-color: #7f7f7f\">:</span><a href=\"file:///tmp/ipykernel_18646/2088555353.py#23\" target=\"_blank\"><span style=\"color: #7f7f7f; text-decoration-color: #7f7f7f\">23</span></a>\n",
       "<span style=\"color: #7fbfbf; text-decoration-color: #7fbfbf\">           </span>         inputs16APV/hists_sum_SingleElectron_Run2016F.hist                             <span style=\"color: #7f7f7f; text-decoration-color: #7f7f7f\">                </span>\n",
       "</pre>\n"
      ],
      "text/plain": [
       "\u001b[2;36m          \u001b[0m\u001b[2;36m \u001b[0m\u001b[34mINFO    \u001b[0m Readign sample: SingleElectron_Run2016F, from:                                 \u001b]8;id=143093;file:///tmp/ipykernel_18646/2088555353.py\u001b\\\u001b[2m2088555353.py\u001b[0m\u001b]8;;\u001b\\\u001b[2m:\u001b[0m\u001b]8;id=328747;file:///tmp/ipykernel_18646/2088555353.py#23\u001b\\\u001b[2m23\u001b[0m\u001b]8;;\u001b\\\n",
       "\u001b[2;36m           \u001b[0m         inputs16APV/hists_sum_SingleElectron_Run2016F.hist                             \u001b[2m                \u001b[0m\n"
      ]
     },
     "metadata": {},
     "output_type": "display_data"
    },
    {
     "name": "stdout",
     "output_type": "stream",
     "text": [
      "SingleElectron_Run2016G\n"
     ]
    },
    {
     "data": {
      "text/html": [
       "<pre style=\"white-space:pre;overflow-x:auto;line-height:normal;font-family:Menlo,'DejaVu Sans Mono',consolas,'Courier New',monospace\"><span style=\"color: #7fbfbf; text-decoration-color: #7fbfbf\">           </span><span style=\"color: #000080; text-decoration-color: #000080\">INFO    </span> Readign sample: SingleElectron_Run2016G, from:                                 <a href=\"file:///tmp/ipykernel_18646/2088555353.py\" target=\"_blank\"><span style=\"color: #7f7f7f; text-decoration-color: #7f7f7f\">2088555353.py</span></a><span style=\"color: #7f7f7f; text-decoration-color: #7f7f7f\">:</span><a href=\"file:///tmp/ipykernel_18646/2088555353.py#23\" target=\"_blank\"><span style=\"color: #7f7f7f; text-decoration-color: #7f7f7f\">23</span></a>\n",
       "<span style=\"color: #7fbfbf; text-decoration-color: #7fbfbf\">           </span>         inputs16APV/hists_sum_SingleElectron_Run2016G.hist                             <span style=\"color: #7f7f7f; text-decoration-color: #7f7f7f\">                </span>\n",
       "</pre>\n"
      ],
      "text/plain": [
       "\u001b[2;36m          \u001b[0m\u001b[2;36m \u001b[0m\u001b[34mINFO    \u001b[0m Readign sample: SingleElectron_Run2016G, from:                                 \u001b]8;id=170446;file:///tmp/ipykernel_18646/2088555353.py\u001b\\\u001b[2m2088555353.py\u001b[0m\u001b]8;;\u001b\\\u001b[2m:\u001b[0m\u001b]8;id=397022;file:///tmp/ipykernel_18646/2088555353.py#23\u001b\\\u001b[2m23\u001b[0m\u001b]8;;\u001b\\\n",
       "\u001b[2;36m           \u001b[0m         inputs16APV/hists_sum_SingleElectron_Run2016G.hist                             \u001b[2m                \u001b[0m\n"
      ]
     },
     "metadata": {},
     "output_type": "display_data"
    },
    {
     "name": "stdout",
     "output_type": "stream",
     "text": [
      "SingleElectron_Run2016H\n"
     ]
    },
    {
     "data": {
      "text/html": [
       "<pre style=\"white-space:pre;overflow-x:auto;line-height:normal;font-family:Menlo,'DejaVu Sans Mono',consolas,'Courier New',monospace\"><span style=\"color: #7fbfbf; text-decoration-color: #7fbfbf\">           </span><span style=\"color: #000080; text-decoration-color: #000080\">INFO    </span> Readign sample: SingleElectron_Run2016H, from:                                 <a href=\"file:///tmp/ipykernel_18646/2088555353.py\" target=\"_blank\"><span style=\"color: #7f7f7f; text-decoration-color: #7f7f7f\">2088555353.py</span></a><span style=\"color: #7f7f7f; text-decoration-color: #7f7f7f\">:</span><a href=\"file:///tmp/ipykernel_18646/2088555353.py#23\" target=\"_blank\"><span style=\"color: #7f7f7f; text-decoration-color: #7f7f7f\">23</span></a>\n",
       "<span style=\"color: #7fbfbf; text-decoration-color: #7fbfbf\">           </span>         inputs16APV/hists_sum_SingleElectron_Run2016H.hist                             <span style=\"color: #7f7f7f; text-decoration-color: #7f7f7f\">                </span>\n",
       "</pre>\n"
      ],
      "text/plain": [
       "\u001b[2;36m          \u001b[0m\u001b[2;36m \u001b[0m\u001b[34mINFO    \u001b[0m Readign sample: SingleElectron_Run2016H, from:                                 \u001b]8;id=495481;file:///tmp/ipykernel_18646/2088555353.py\u001b\\\u001b[2m2088555353.py\u001b[0m\u001b]8;;\u001b\\\u001b[2m:\u001b[0m\u001b]8;id=331952;file:///tmp/ipykernel_18646/2088555353.py#23\u001b\\\u001b[2m23\u001b[0m\u001b]8;;\u001b\\\n",
       "\u001b[2;36m           \u001b[0m         inputs16APV/hists_sum_SingleElectron_Run2016H.hist                             \u001b[2m                \u001b[0m\n"
      ]
     },
     "metadata": {},
     "output_type": "display_data"
    },
    {
     "name": "stdout",
     "output_type": "stream",
     "text": [
      "SingleMuon_Run2016F\n"
     ]
    },
    {
     "data": {
      "text/html": [
       "<pre style=\"white-space:pre;overflow-x:auto;line-height:normal;font-family:Menlo,'DejaVu Sans Mono',consolas,'Courier New',monospace\"><span style=\"color: #7fbfbf; text-decoration-color: #7fbfbf\">           </span><span style=\"color: #000080; text-decoration-color: #000080\">INFO    </span> Readign sample: SingleMuon_Run2016F, from:                                     <a href=\"file:///tmp/ipykernel_18646/2088555353.py\" target=\"_blank\"><span style=\"color: #7f7f7f; text-decoration-color: #7f7f7f\">2088555353.py</span></a><span style=\"color: #7f7f7f; text-decoration-color: #7f7f7f\">:</span><a href=\"file:///tmp/ipykernel_18646/2088555353.py#23\" target=\"_blank\"><span style=\"color: #7f7f7f; text-decoration-color: #7f7f7f\">23</span></a>\n",
       "<span style=\"color: #7fbfbf; text-decoration-color: #7fbfbf\">           </span>         inputs16APV/hists_sum_SingleMuon_Run2016F.hist                                 <span style=\"color: #7f7f7f; text-decoration-color: #7f7f7f\">                </span>\n",
       "</pre>\n"
      ],
      "text/plain": [
       "\u001b[2;36m          \u001b[0m\u001b[2;36m \u001b[0m\u001b[34mINFO    \u001b[0m Readign sample: SingleMuon_Run2016F, from:                                     \u001b]8;id=749309;file:///tmp/ipykernel_18646/2088555353.py\u001b\\\u001b[2m2088555353.py\u001b[0m\u001b]8;;\u001b\\\u001b[2m:\u001b[0m\u001b]8;id=687386;file:///tmp/ipykernel_18646/2088555353.py#23\u001b\\\u001b[2m23\u001b[0m\u001b]8;;\u001b\\\n",
       "\u001b[2;36m           \u001b[0m         inputs16APV/hists_sum_SingleMuon_Run2016F.hist                                 \u001b[2m                \u001b[0m\n"
      ]
     },
     "metadata": {},
     "output_type": "display_data"
    },
    {
     "name": "stdout",
     "output_type": "stream",
     "text": [
      "SingleMuon_Run2016G\n"
     ]
    },
    {
     "data": {
      "text/html": [
       "<pre style=\"white-space:pre;overflow-x:auto;line-height:normal;font-family:Menlo,'DejaVu Sans Mono',consolas,'Courier New',monospace\"><span style=\"color: #7fbfbf; text-decoration-color: #7fbfbf\">           </span><span style=\"color: #000080; text-decoration-color: #000080\">INFO    </span> Readign sample: SingleMuon_Run2016G, from:                                     <a href=\"file:///tmp/ipykernel_18646/2088555353.py\" target=\"_blank\"><span style=\"color: #7f7f7f; text-decoration-color: #7f7f7f\">2088555353.py</span></a><span style=\"color: #7f7f7f; text-decoration-color: #7f7f7f\">:</span><a href=\"file:///tmp/ipykernel_18646/2088555353.py#23\" target=\"_blank\"><span style=\"color: #7f7f7f; text-decoration-color: #7f7f7f\">23</span></a>\n",
       "<span style=\"color: #7fbfbf; text-decoration-color: #7fbfbf\">           </span>         inputs16APV/hists_sum_SingleMuon_Run2016G.hist                                 <span style=\"color: #7f7f7f; text-decoration-color: #7f7f7f\">                </span>\n",
       "</pre>\n"
      ],
      "text/plain": [
       "\u001b[2;36m          \u001b[0m\u001b[2;36m \u001b[0m\u001b[34mINFO    \u001b[0m Readign sample: SingleMuon_Run2016G, from:                                     \u001b]8;id=17803;file:///tmp/ipykernel_18646/2088555353.py\u001b\\\u001b[2m2088555353.py\u001b[0m\u001b]8;;\u001b\\\u001b[2m:\u001b[0m\u001b]8;id=489483;file:///tmp/ipykernel_18646/2088555353.py#23\u001b\\\u001b[2m23\u001b[0m\u001b]8;;\u001b\\\n",
       "\u001b[2;36m           \u001b[0m         inputs16APV/hists_sum_SingleMuon_Run2016G.hist                                 \u001b[2m                \u001b[0m\n"
      ]
     },
     "metadata": {},
     "output_type": "display_data"
    },
    {
     "name": "stdout",
     "output_type": "stream",
     "text": [
      "SingleMuon_Run2016H\n"
     ]
    },
    {
     "data": {
      "text/html": [
       "<pre style=\"white-space:pre;overflow-x:auto;line-height:normal;font-family:Menlo,'DejaVu Sans Mono',consolas,'Courier New',monospace\"><span style=\"color: #7fbfbf; text-decoration-color: #7fbfbf\">           </span><span style=\"color: #000080; text-decoration-color: #000080\">INFO    </span> Readign sample: SingleMuon_Run2016H, from:                                     <a href=\"file:///tmp/ipykernel_18646/2088555353.py\" target=\"_blank\"><span style=\"color: #7f7f7f; text-decoration-color: #7f7f7f\">2088555353.py</span></a><span style=\"color: #7f7f7f; text-decoration-color: #7f7f7f\">:</span><a href=\"file:///tmp/ipykernel_18646/2088555353.py#23\" target=\"_blank\"><span style=\"color: #7f7f7f; text-decoration-color: #7f7f7f\">23</span></a>\n",
       "<span style=\"color: #7fbfbf; text-decoration-color: #7fbfbf\">           </span>         inputs16APV/hists_sum_SingleMuon_Run2016H.hist                                 <span style=\"color: #7f7f7f; text-decoration-color: #7f7f7f\">                </span>\n",
       "</pre>\n"
      ],
      "text/plain": [
       "\u001b[2;36m          \u001b[0m\u001b[2;36m \u001b[0m\u001b[34mINFO    \u001b[0m Readign sample: SingleMuon_Run2016H, from:                                     \u001b]8;id=602155;file:///tmp/ipykernel_18646/2088555353.py\u001b\\\u001b[2m2088555353.py\u001b[0m\u001b]8;;\u001b\\\u001b[2m:\u001b[0m\u001b]8;id=6934;file:///tmp/ipykernel_18646/2088555353.py#23\u001b\\\u001b[2m23\u001b[0m\u001b]8;;\u001b\\\n",
       "\u001b[2;36m           \u001b[0m         inputs16APV/hists_sum_SingleMuon_Run2016H.hist                                 \u001b[2m                \u001b[0m\n"
      ]
     },
     "metadata": {},
     "output_type": "display_data"
    },
    {
     "name": "stdout",
     "output_type": "stream",
     "text": [
      "SingleElectron_Run2017B\n"
     ]
    },
    {
     "data": {
      "text/html": [
       "<pre style=\"white-space:pre;overflow-x:auto;line-height:normal;font-family:Menlo,'DejaVu Sans Mono',consolas,'Courier New',monospace\"><span style=\"color: #7fbfbf; text-decoration-color: #7fbfbf\">           </span><span style=\"color: #000080; text-decoration-color: #000080\">INFO    </span> Readign sample: SingleElectron_Run2017B, from:                                 <a href=\"file:///tmp/ipykernel_18646/2088555353.py\" target=\"_blank\"><span style=\"color: #7f7f7f; text-decoration-color: #7f7f7f\">2088555353.py</span></a><span style=\"color: #7f7f7f; text-decoration-color: #7f7f7f\">:</span><a href=\"file:///tmp/ipykernel_18646/2088555353.py#23\" target=\"_blank\"><span style=\"color: #7f7f7f; text-decoration-color: #7f7f7f\">23</span></a>\n",
       "<span style=\"color: #7fbfbf; text-decoration-color: #7fbfbf\">           </span>         inputs16APV/hists_sum_SingleElectron_Run2017B.hist                             <span style=\"color: #7f7f7f; text-decoration-color: #7f7f7f\">                </span>\n",
       "</pre>\n"
      ],
      "text/plain": [
       "\u001b[2;36m          \u001b[0m\u001b[2;36m \u001b[0m\u001b[34mINFO    \u001b[0m Readign sample: SingleElectron_Run2017B, from:                                 \u001b]8;id=613620;file:///tmp/ipykernel_18646/2088555353.py\u001b\\\u001b[2m2088555353.py\u001b[0m\u001b]8;;\u001b\\\u001b[2m:\u001b[0m\u001b]8;id=377268;file:///tmp/ipykernel_18646/2088555353.py#23\u001b\\\u001b[2m23\u001b[0m\u001b]8;;\u001b\\\n",
       "\u001b[2;36m           \u001b[0m         inputs16APV/hists_sum_SingleElectron_Run2017B.hist                             \u001b[2m                \u001b[0m\n"
      ]
     },
     "metadata": {},
     "output_type": "display_data"
    },
    {
     "name": "stdout",
     "output_type": "stream",
     "text": [
      "SingleElectron_Run2017C\n"
     ]
    },
    {
     "data": {
      "text/html": [
       "<pre style=\"white-space:pre;overflow-x:auto;line-height:normal;font-family:Menlo,'DejaVu Sans Mono',consolas,'Courier New',monospace\"><span style=\"color: #7fbfbf; text-decoration-color: #7fbfbf\">           </span><span style=\"color: #000080; text-decoration-color: #000080\">INFO    </span> Readign sample: SingleElectron_Run2017C, from:                                 <a href=\"file:///tmp/ipykernel_18646/2088555353.py\" target=\"_blank\"><span style=\"color: #7f7f7f; text-decoration-color: #7f7f7f\">2088555353.py</span></a><span style=\"color: #7f7f7f; text-decoration-color: #7f7f7f\">:</span><a href=\"file:///tmp/ipykernel_18646/2088555353.py#23\" target=\"_blank\"><span style=\"color: #7f7f7f; text-decoration-color: #7f7f7f\">23</span></a>\n",
       "<span style=\"color: #7fbfbf; text-decoration-color: #7fbfbf\">           </span>         inputs16APV/hists_sum_SingleElectron_Run2017C.hist                             <span style=\"color: #7f7f7f; text-decoration-color: #7f7f7f\">                </span>\n",
       "</pre>\n"
      ],
      "text/plain": [
       "\u001b[2;36m          \u001b[0m\u001b[2;36m \u001b[0m\u001b[34mINFO    \u001b[0m Readign sample: SingleElectron_Run2017C, from:                                 \u001b]8;id=384767;file:///tmp/ipykernel_18646/2088555353.py\u001b\\\u001b[2m2088555353.py\u001b[0m\u001b]8;;\u001b\\\u001b[2m:\u001b[0m\u001b]8;id=498917;file:///tmp/ipykernel_18646/2088555353.py#23\u001b\\\u001b[2m23\u001b[0m\u001b]8;;\u001b\\\n",
       "\u001b[2;36m           \u001b[0m         inputs16APV/hists_sum_SingleElectron_Run2017C.hist                             \u001b[2m                \u001b[0m\n"
      ]
     },
     "metadata": {},
     "output_type": "display_data"
    },
    {
     "name": "stdout",
     "output_type": "stream",
     "text": [
      "SingleElectron_Run2017D\n"
     ]
    },
    {
     "data": {
      "text/html": [
       "<pre style=\"white-space:pre;overflow-x:auto;line-height:normal;font-family:Menlo,'DejaVu Sans Mono',consolas,'Courier New',monospace\"><span style=\"color: #7fbfbf; text-decoration-color: #7fbfbf\">           </span><span style=\"color: #000080; text-decoration-color: #000080\">INFO    </span> Readign sample: SingleElectron_Run2017D, from:                                 <a href=\"file:///tmp/ipykernel_18646/2088555353.py\" target=\"_blank\"><span style=\"color: #7f7f7f; text-decoration-color: #7f7f7f\">2088555353.py</span></a><span style=\"color: #7f7f7f; text-decoration-color: #7f7f7f\">:</span><a href=\"file:///tmp/ipykernel_18646/2088555353.py#23\" target=\"_blank\"><span style=\"color: #7f7f7f; text-decoration-color: #7f7f7f\">23</span></a>\n",
       "<span style=\"color: #7fbfbf; text-decoration-color: #7fbfbf\">           </span>         inputs16APV/hists_sum_SingleElectron_Run2017D.hist                             <span style=\"color: #7f7f7f; text-decoration-color: #7f7f7f\">                </span>\n",
       "</pre>\n"
      ],
      "text/plain": [
       "\u001b[2;36m          \u001b[0m\u001b[2;36m \u001b[0m\u001b[34mINFO    \u001b[0m Readign sample: SingleElectron_Run2017D, from:                                 \u001b]8;id=636425;file:///tmp/ipykernel_18646/2088555353.py\u001b\\\u001b[2m2088555353.py\u001b[0m\u001b]8;;\u001b\\\u001b[2m:\u001b[0m\u001b]8;id=38000;file:///tmp/ipykernel_18646/2088555353.py#23\u001b\\\u001b[2m23\u001b[0m\u001b]8;;\u001b\\\n",
       "\u001b[2;36m           \u001b[0m         inputs16APV/hists_sum_SingleElectron_Run2017D.hist                             \u001b[2m                \u001b[0m\n"
      ]
     },
     "metadata": {},
     "output_type": "display_data"
    },
    {
     "name": "stdout",
     "output_type": "stream",
     "text": [
      "SingleElectron_Run2017E\n"
     ]
    },
    {
     "data": {
      "text/html": [
       "<pre style=\"white-space:pre;overflow-x:auto;line-height:normal;font-family:Menlo,'DejaVu Sans Mono',consolas,'Courier New',monospace\"><span style=\"color: #7fbfbf; text-decoration-color: #7fbfbf\">           </span><span style=\"color: #000080; text-decoration-color: #000080\">INFO    </span> Readign sample: SingleElectron_Run2017E, from:                                 <a href=\"file:///tmp/ipykernel_18646/2088555353.py\" target=\"_blank\"><span style=\"color: #7f7f7f; text-decoration-color: #7f7f7f\">2088555353.py</span></a><span style=\"color: #7f7f7f; text-decoration-color: #7f7f7f\">:</span><a href=\"file:///tmp/ipykernel_18646/2088555353.py#23\" target=\"_blank\"><span style=\"color: #7f7f7f; text-decoration-color: #7f7f7f\">23</span></a>\n",
       "<span style=\"color: #7fbfbf; text-decoration-color: #7fbfbf\">           </span>         inputs16APV/hists_sum_SingleElectron_Run2017E.hist                             <span style=\"color: #7f7f7f; text-decoration-color: #7f7f7f\">                </span>\n",
       "</pre>\n"
      ],
      "text/plain": [
       "\u001b[2;36m          \u001b[0m\u001b[2;36m \u001b[0m\u001b[34mINFO    \u001b[0m Readign sample: SingleElectron_Run2017E, from:                                 \u001b]8;id=52399;file:///tmp/ipykernel_18646/2088555353.py\u001b\\\u001b[2m2088555353.py\u001b[0m\u001b]8;;\u001b\\\u001b[2m:\u001b[0m\u001b]8;id=585934;file:///tmp/ipykernel_18646/2088555353.py#23\u001b\\\u001b[2m23\u001b[0m\u001b]8;;\u001b\\\n",
       "\u001b[2;36m           \u001b[0m         inputs16APV/hists_sum_SingleElectron_Run2017E.hist                             \u001b[2m                \u001b[0m\n"
      ]
     },
     "metadata": {},
     "output_type": "display_data"
    },
    {
     "name": "stdout",
     "output_type": "stream",
     "text": [
      "SingleElectron_Run2017F\n"
     ]
    },
    {
     "data": {
      "text/html": [
       "<pre style=\"white-space:pre;overflow-x:auto;line-height:normal;font-family:Menlo,'DejaVu Sans Mono',consolas,'Courier New',monospace\"><span style=\"color: #7fbfbf; text-decoration-color: #7fbfbf\">           </span><span style=\"color: #000080; text-decoration-color: #000080\">INFO    </span> Readign sample: SingleElectron_Run2017F, from:                                 <a href=\"file:///tmp/ipykernel_18646/2088555353.py\" target=\"_blank\"><span style=\"color: #7f7f7f; text-decoration-color: #7f7f7f\">2088555353.py</span></a><span style=\"color: #7f7f7f; text-decoration-color: #7f7f7f\">:</span><a href=\"file:///tmp/ipykernel_18646/2088555353.py#23\" target=\"_blank\"><span style=\"color: #7f7f7f; text-decoration-color: #7f7f7f\">23</span></a>\n",
       "<span style=\"color: #7fbfbf; text-decoration-color: #7fbfbf\">           </span>         inputs16APV/hists_sum_SingleElectron_Run2017F.hist                             <span style=\"color: #7f7f7f; text-decoration-color: #7f7f7f\">                </span>\n",
       "</pre>\n"
      ],
      "text/plain": [
       "\u001b[2;36m          \u001b[0m\u001b[2;36m \u001b[0m\u001b[34mINFO    \u001b[0m Readign sample: SingleElectron_Run2017F, from:                                 \u001b]8;id=571238;file:///tmp/ipykernel_18646/2088555353.py\u001b\\\u001b[2m2088555353.py\u001b[0m\u001b]8;;\u001b\\\u001b[2m:\u001b[0m\u001b]8;id=466793;file:///tmp/ipykernel_18646/2088555353.py#23\u001b\\\u001b[2m23\u001b[0m\u001b]8;;\u001b\\\n",
       "\u001b[2;36m           \u001b[0m         inputs16APV/hists_sum_SingleElectron_Run2017F.hist                             \u001b[2m                \u001b[0m\n"
      ]
     },
     "metadata": {},
     "output_type": "display_data"
    },
    {
     "name": "stdout",
     "output_type": "stream",
     "text": [
      "SingleMuon_Run2017B\n"
     ]
    },
    {
     "data": {
      "text/html": [
       "<pre style=\"white-space:pre;overflow-x:auto;line-height:normal;font-family:Menlo,'DejaVu Sans Mono',consolas,'Courier New',monospace\"><span style=\"color: #7fbfbf; text-decoration-color: #7fbfbf\">           </span><span style=\"color: #000080; text-decoration-color: #000080\">INFO    </span> Readign sample: SingleMuon_Run2017B, from:                                     <a href=\"file:///tmp/ipykernel_18646/2088555353.py\" target=\"_blank\"><span style=\"color: #7f7f7f; text-decoration-color: #7f7f7f\">2088555353.py</span></a><span style=\"color: #7f7f7f; text-decoration-color: #7f7f7f\">:</span><a href=\"file:///tmp/ipykernel_18646/2088555353.py#23\" target=\"_blank\"><span style=\"color: #7f7f7f; text-decoration-color: #7f7f7f\">23</span></a>\n",
       "<span style=\"color: #7fbfbf; text-decoration-color: #7fbfbf\">           </span>         inputs16APV/hists_sum_SingleMuon_Run2017B.hist                                 <span style=\"color: #7f7f7f; text-decoration-color: #7f7f7f\">                </span>\n",
       "</pre>\n"
      ],
      "text/plain": [
       "\u001b[2;36m          \u001b[0m\u001b[2;36m \u001b[0m\u001b[34mINFO    \u001b[0m Readign sample: SingleMuon_Run2017B, from:                                     \u001b]8;id=41892;file:///tmp/ipykernel_18646/2088555353.py\u001b\\\u001b[2m2088555353.py\u001b[0m\u001b]8;;\u001b\\\u001b[2m:\u001b[0m\u001b]8;id=893478;file:///tmp/ipykernel_18646/2088555353.py#23\u001b\\\u001b[2m23\u001b[0m\u001b]8;;\u001b\\\n",
       "\u001b[2;36m           \u001b[0m         inputs16APV/hists_sum_SingleMuon_Run2017B.hist                                 \u001b[2m                \u001b[0m\n"
      ]
     },
     "metadata": {},
     "output_type": "display_data"
    },
    {
     "name": "stdout",
     "output_type": "stream",
     "text": [
      "SingleMuon_Run2017C\n"
     ]
    },
    {
     "data": {
      "text/html": [
       "<pre style=\"white-space:pre;overflow-x:auto;line-height:normal;font-family:Menlo,'DejaVu Sans Mono',consolas,'Courier New',monospace\"><span style=\"color: #7fbfbf; text-decoration-color: #7fbfbf\">           </span><span style=\"color: #000080; text-decoration-color: #000080\">INFO    </span> Readign sample: SingleMuon_Run2017C, from:                                     <a href=\"file:///tmp/ipykernel_18646/2088555353.py\" target=\"_blank\"><span style=\"color: #7f7f7f; text-decoration-color: #7f7f7f\">2088555353.py</span></a><span style=\"color: #7f7f7f; text-decoration-color: #7f7f7f\">:</span><a href=\"file:///tmp/ipykernel_18646/2088555353.py#23\" target=\"_blank\"><span style=\"color: #7f7f7f; text-decoration-color: #7f7f7f\">23</span></a>\n",
       "<span style=\"color: #7fbfbf; text-decoration-color: #7fbfbf\">           </span>         inputs16APV/hists_sum_SingleMuon_Run2017C.hist                                 <span style=\"color: #7f7f7f; text-decoration-color: #7f7f7f\">                </span>\n",
       "</pre>\n"
      ],
      "text/plain": [
       "\u001b[2;36m          \u001b[0m\u001b[2;36m \u001b[0m\u001b[34mINFO    \u001b[0m Readign sample: SingleMuon_Run2017C, from:                                     \u001b]8;id=822253;file:///tmp/ipykernel_18646/2088555353.py\u001b\\\u001b[2m2088555353.py\u001b[0m\u001b]8;;\u001b\\\u001b[2m:\u001b[0m\u001b]8;id=812299;file:///tmp/ipykernel_18646/2088555353.py#23\u001b\\\u001b[2m23\u001b[0m\u001b]8;;\u001b\\\n",
       "\u001b[2;36m           \u001b[0m         inputs16APV/hists_sum_SingleMuon_Run2017C.hist                                 \u001b[2m                \u001b[0m\n"
      ]
     },
     "metadata": {},
     "output_type": "display_data"
    },
    {
     "name": "stdout",
     "output_type": "stream",
     "text": [
      "SingleMuon_Run2017D\n"
     ]
    },
    {
     "data": {
      "text/html": [
       "<pre style=\"white-space:pre;overflow-x:auto;line-height:normal;font-family:Menlo,'DejaVu Sans Mono',consolas,'Courier New',monospace\"><span style=\"color: #7fbfbf; text-decoration-color: #7fbfbf\">           </span><span style=\"color: #000080; text-decoration-color: #000080\">INFO    </span> Readign sample: SingleMuon_Run2017D, from:                                     <a href=\"file:///tmp/ipykernel_18646/2088555353.py\" target=\"_blank\"><span style=\"color: #7f7f7f; text-decoration-color: #7f7f7f\">2088555353.py</span></a><span style=\"color: #7f7f7f; text-decoration-color: #7f7f7f\">:</span><a href=\"file:///tmp/ipykernel_18646/2088555353.py#23\" target=\"_blank\"><span style=\"color: #7f7f7f; text-decoration-color: #7f7f7f\">23</span></a>\n",
       "<span style=\"color: #7fbfbf; text-decoration-color: #7fbfbf\">           </span>         inputs16APV/hists_sum_SingleMuon_Run2017D.hist                                 <span style=\"color: #7f7f7f; text-decoration-color: #7f7f7f\">                </span>\n",
       "</pre>\n"
      ],
      "text/plain": [
       "\u001b[2;36m          \u001b[0m\u001b[2;36m \u001b[0m\u001b[34mINFO    \u001b[0m Readign sample: SingleMuon_Run2017D, from:                                     \u001b]8;id=761698;file:///tmp/ipykernel_18646/2088555353.py\u001b\\\u001b[2m2088555353.py\u001b[0m\u001b]8;;\u001b\\\u001b[2m:\u001b[0m\u001b]8;id=902879;file:///tmp/ipykernel_18646/2088555353.py#23\u001b\\\u001b[2m23\u001b[0m\u001b]8;;\u001b\\\n",
       "\u001b[2;36m           \u001b[0m         inputs16APV/hists_sum_SingleMuon_Run2017D.hist                                 \u001b[2m                \u001b[0m\n"
      ]
     },
     "metadata": {},
     "output_type": "display_data"
    },
    {
     "name": "stdout",
     "output_type": "stream",
     "text": [
      "SingleMuon_Run2017E\n"
     ]
    },
    {
     "data": {
      "text/html": [
       "<pre style=\"white-space:pre;overflow-x:auto;line-height:normal;font-family:Menlo,'DejaVu Sans Mono',consolas,'Courier New',monospace\"><span style=\"color: #7fbfbf; text-decoration-color: #7fbfbf\">           </span><span style=\"color: #000080; text-decoration-color: #000080\">INFO    </span> Readign sample: SingleMuon_Run2017E, from:                                     <a href=\"file:///tmp/ipykernel_18646/2088555353.py\" target=\"_blank\"><span style=\"color: #7f7f7f; text-decoration-color: #7f7f7f\">2088555353.py</span></a><span style=\"color: #7f7f7f; text-decoration-color: #7f7f7f\">:</span><a href=\"file:///tmp/ipykernel_18646/2088555353.py#23\" target=\"_blank\"><span style=\"color: #7f7f7f; text-decoration-color: #7f7f7f\">23</span></a>\n",
       "<span style=\"color: #7fbfbf; text-decoration-color: #7fbfbf\">           </span>         inputs16APV/hists_sum_SingleMuon_Run2017E.hist                                 <span style=\"color: #7f7f7f; text-decoration-color: #7f7f7f\">                </span>\n",
       "</pre>\n"
      ],
      "text/plain": [
       "\u001b[2;36m          \u001b[0m\u001b[2;36m \u001b[0m\u001b[34mINFO    \u001b[0m Readign sample: SingleMuon_Run2017E, from:                                     \u001b]8;id=91565;file:///tmp/ipykernel_18646/2088555353.py\u001b\\\u001b[2m2088555353.py\u001b[0m\u001b]8;;\u001b\\\u001b[2m:\u001b[0m\u001b]8;id=113140;file:///tmp/ipykernel_18646/2088555353.py#23\u001b\\\u001b[2m23\u001b[0m\u001b]8;;\u001b\\\n",
       "\u001b[2;36m           \u001b[0m         inputs16APV/hists_sum_SingleMuon_Run2017E.hist                                 \u001b[2m                \u001b[0m\n"
      ]
     },
     "metadata": {},
     "output_type": "display_data"
    },
    {
     "name": "stdout",
     "output_type": "stream",
     "text": [
      "SingleMuon_Run2017F\n"
     ]
    },
    {
     "data": {
      "text/html": [
       "<pre style=\"white-space:pre;overflow-x:auto;line-height:normal;font-family:Menlo,'DejaVu Sans Mono',consolas,'Courier New',monospace\"><span style=\"color: #7fbfbf; text-decoration-color: #7fbfbf\">           </span><span style=\"color: #000080; text-decoration-color: #000080\">INFO    </span> Readign sample: SingleMuon_Run2017F, from:                                     <a href=\"file:///tmp/ipykernel_18646/2088555353.py\" target=\"_blank\"><span style=\"color: #7f7f7f; text-decoration-color: #7f7f7f\">2088555353.py</span></a><span style=\"color: #7f7f7f; text-decoration-color: #7f7f7f\">:</span><a href=\"file:///tmp/ipykernel_18646/2088555353.py#23\" target=\"_blank\"><span style=\"color: #7f7f7f; text-decoration-color: #7f7f7f\">23</span></a>\n",
       "<span style=\"color: #7fbfbf; text-decoration-color: #7fbfbf\">           </span>         inputs16APV/hists_sum_SingleMuon_Run2017F.hist                                 <span style=\"color: #7f7f7f; text-decoration-color: #7f7f7f\">                </span>\n",
       "</pre>\n"
      ],
      "text/plain": [
       "\u001b[2;36m          \u001b[0m\u001b[2;36m \u001b[0m\u001b[34mINFO    \u001b[0m Readign sample: SingleMuon_Run2017F, from:                                     \u001b]8;id=997512;file:///tmp/ipykernel_18646/2088555353.py\u001b\\\u001b[2m2088555353.py\u001b[0m\u001b]8;;\u001b\\\u001b[2m:\u001b[0m\u001b]8;id=824241;file:///tmp/ipykernel_18646/2088555353.py#23\u001b\\\u001b[2m23\u001b[0m\u001b]8;;\u001b\\\n",
       "\u001b[2;36m           \u001b[0m         inputs16APV/hists_sum_SingleMuon_Run2017F.hist                                 \u001b[2m                \u001b[0m\n"
      ]
     },
     "metadata": {},
     "output_type": "display_data"
    },
    {
     "name": "stdout",
     "output_type": "stream",
     "text": [
      "MET_Run2017B\n"
     ]
    },
    {
     "data": {
      "text/html": [
       "<pre style=\"white-space:pre;overflow-x:auto;line-height:normal;font-family:Menlo,'DejaVu Sans Mono',consolas,'Courier New',monospace\"><span style=\"color: #7fbfbf; text-decoration-color: #7fbfbf\">           </span><span style=\"color: #000080; text-decoration-color: #000080\">INFO    </span> Readign sample: MET_Run2017B, from: inputs16APV/hists_sum_MET_Run2017B.hist    <a href=\"file:///tmp/ipykernel_18646/2088555353.py\" target=\"_blank\"><span style=\"color: #7f7f7f; text-decoration-color: #7f7f7f\">2088555353.py</span></a><span style=\"color: #7f7f7f; text-decoration-color: #7f7f7f\">:</span><a href=\"file:///tmp/ipykernel_18646/2088555353.py#23\" target=\"_blank\"><span style=\"color: #7f7f7f; text-decoration-color: #7f7f7f\">23</span></a>\n",
       "</pre>\n"
      ],
      "text/plain": [
       "\u001b[2;36m          \u001b[0m\u001b[2;36m \u001b[0m\u001b[34mINFO    \u001b[0m Readign sample: MET_Run2017B, from: inputs16APV/hists_sum_MET_Run2017B.hist    \u001b]8;id=693336;file:///tmp/ipykernel_18646/2088555353.py\u001b\\\u001b[2m2088555353.py\u001b[0m\u001b]8;;\u001b\\\u001b[2m:\u001b[0m\u001b]8;id=724971;file:///tmp/ipykernel_18646/2088555353.py#23\u001b\\\u001b[2m23\u001b[0m\u001b]8;;\u001b\\\n"
      ]
     },
     "metadata": {},
     "output_type": "display_data"
    },
    {
     "name": "stdout",
     "output_type": "stream",
     "text": [
      "MET_Run2017C\n"
     ]
    },
    {
     "data": {
      "text/html": [
       "<pre style=\"white-space:pre;overflow-x:auto;line-height:normal;font-family:Menlo,'DejaVu Sans Mono',consolas,'Courier New',monospace\"><span style=\"color: #7fbfbf; text-decoration-color: #7fbfbf\">           </span><span style=\"color: #000080; text-decoration-color: #000080\">INFO    </span> Readign sample: MET_Run2017C, from: inputs16APV/hists_sum_MET_Run2017C.hist    <a href=\"file:///tmp/ipykernel_18646/2088555353.py\" target=\"_blank\"><span style=\"color: #7f7f7f; text-decoration-color: #7f7f7f\">2088555353.py</span></a><span style=\"color: #7f7f7f; text-decoration-color: #7f7f7f\">:</span><a href=\"file:///tmp/ipykernel_18646/2088555353.py#23\" target=\"_blank\"><span style=\"color: #7f7f7f; text-decoration-color: #7f7f7f\">23</span></a>\n",
       "</pre>\n"
      ],
      "text/plain": [
       "\u001b[2;36m          \u001b[0m\u001b[2;36m \u001b[0m\u001b[34mINFO    \u001b[0m Readign sample: MET_Run2017C, from: inputs16APV/hists_sum_MET_Run2017C.hist    \u001b]8;id=346618;file:///tmp/ipykernel_18646/2088555353.py\u001b\\\u001b[2m2088555353.py\u001b[0m\u001b]8;;\u001b\\\u001b[2m:\u001b[0m\u001b]8;id=631423;file:///tmp/ipykernel_18646/2088555353.py#23\u001b\\\u001b[2m23\u001b[0m\u001b]8;;\u001b\\\n"
      ]
     },
     "metadata": {},
     "output_type": "display_data"
    },
    {
     "name": "stdout",
     "output_type": "stream",
     "text": [
      "MET_Run2017D\n"
     ]
    },
    {
     "data": {
      "text/html": [
       "<pre style=\"white-space:pre;overflow-x:auto;line-height:normal;font-family:Menlo,'DejaVu Sans Mono',consolas,'Courier New',monospace\"><span style=\"color: #7fbfbf; text-decoration-color: #7fbfbf\">           </span><span style=\"color: #000080; text-decoration-color: #000080\">INFO    </span> Readign sample: MET_Run2017D, from: inputs16APV/hists_sum_MET_Run2017D.hist    <a href=\"file:///tmp/ipykernel_18646/2088555353.py\" target=\"_blank\"><span style=\"color: #7f7f7f; text-decoration-color: #7f7f7f\">2088555353.py</span></a><span style=\"color: #7f7f7f; text-decoration-color: #7f7f7f\">:</span><a href=\"file:///tmp/ipykernel_18646/2088555353.py#23\" target=\"_blank\"><span style=\"color: #7f7f7f; text-decoration-color: #7f7f7f\">23</span></a>\n",
       "</pre>\n"
      ],
      "text/plain": [
       "\u001b[2;36m          \u001b[0m\u001b[2;36m \u001b[0m\u001b[34mINFO    \u001b[0m Readign sample: MET_Run2017D, from: inputs16APV/hists_sum_MET_Run2017D.hist    \u001b]8;id=266742;file:///tmp/ipykernel_18646/2088555353.py\u001b\\\u001b[2m2088555353.py\u001b[0m\u001b]8;;\u001b\\\u001b[2m:\u001b[0m\u001b]8;id=722104;file:///tmp/ipykernel_18646/2088555353.py#23\u001b\\\u001b[2m23\u001b[0m\u001b]8;;\u001b\\\n"
      ]
     },
     "metadata": {},
     "output_type": "display_data"
    },
    {
     "name": "stdout",
     "output_type": "stream",
     "text": [
      "MET_Run2017E\n"
     ]
    },
    {
     "data": {
      "text/html": [
       "<pre style=\"white-space:pre;overflow-x:auto;line-height:normal;font-family:Menlo,'DejaVu Sans Mono',consolas,'Courier New',monospace\"><span style=\"color: #7fbfbf; text-decoration-color: #7fbfbf\">           </span><span style=\"color: #000080; text-decoration-color: #000080\">INFO    </span> Readign sample: MET_Run2017E, from: inputs16APV/hists_sum_MET_Run2017E.hist    <a href=\"file:///tmp/ipykernel_18646/2088555353.py\" target=\"_blank\"><span style=\"color: #7f7f7f; text-decoration-color: #7f7f7f\">2088555353.py</span></a><span style=\"color: #7f7f7f; text-decoration-color: #7f7f7f\">:</span><a href=\"file:///tmp/ipykernel_18646/2088555353.py#23\" target=\"_blank\"><span style=\"color: #7f7f7f; text-decoration-color: #7f7f7f\">23</span></a>\n",
       "</pre>\n"
      ],
      "text/plain": [
       "\u001b[2;36m          \u001b[0m\u001b[2;36m \u001b[0m\u001b[34mINFO    \u001b[0m Readign sample: MET_Run2017E, from: inputs16APV/hists_sum_MET_Run2017E.hist    \u001b]8;id=245822;file:///tmp/ipykernel_18646/2088555353.py\u001b\\\u001b[2m2088555353.py\u001b[0m\u001b]8;;\u001b\\\u001b[2m:\u001b[0m\u001b]8;id=430533;file:///tmp/ipykernel_18646/2088555353.py#23\u001b\\\u001b[2m23\u001b[0m\u001b]8;;\u001b\\\n"
      ]
     },
     "metadata": {},
     "output_type": "display_data"
    },
    {
     "name": "stdout",
     "output_type": "stream",
     "text": [
      "MET_Run2017F\n"
     ]
    },
    {
     "data": {
      "text/html": [
       "<pre style=\"white-space:pre;overflow-x:auto;line-height:normal;font-family:Menlo,'DejaVu Sans Mono',consolas,'Courier New',monospace\"><span style=\"color: #7fbfbf; text-decoration-color: #7fbfbf\">           </span><span style=\"color: #000080; text-decoration-color: #000080\">INFO    </span> Readign sample: MET_Run2017F, from: inputs16APV/hists_sum_MET_Run2017F.hist    <a href=\"file:///tmp/ipykernel_18646/2088555353.py\" target=\"_blank\"><span style=\"color: #7f7f7f; text-decoration-color: #7f7f7f\">2088555353.py</span></a><span style=\"color: #7f7f7f; text-decoration-color: #7f7f7f\">:</span><a href=\"file:///tmp/ipykernel_18646/2088555353.py#23\" target=\"_blank\"><span style=\"color: #7f7f7f; text-decoration-color: #7f7f7f\">23</span></a>\n",
       "</pre>\n"
      ],
      "text/plain": [
       "\u001b[2;36m          \u001b[0m\u001b[2;36m \u001b[0m\u001b[34mINFO    \u001b[0m Readign sample: MET_Run2017F, from: inputs16APV/hists_sum_MET_Run2017F.hist    \u001b]8;id=376260;file:///tmp/ipykernel_18646/2088555353.py\u001b\\\u001b[2m2088555353.py\u001b[0m\u001b]8;;\u001b\\\u001b[2m:\u001b[0m\u001b]8;id=553950;file:///tmp/ipykernel_18646/2088555353.py#23\u001b\\\u001b[2m23\u001b[0m\u001b]8;;\u001b\\\n"
      ]
     },
     "metadata": {},
     "output_type": "display_data"
    },
    {
     "name": "stdout",
     "output_type": "stream",
     "text": [
      "SingleMuon_Run2018A\n"
     ]
    },
    {
     "data": {
      "text/html": [
       "<pre style=\"white-space:pre;overflow-x:auto;line-height:normal;font-family:Menlo,'DejaVu Sans Mono',consolas,'Courier New',monospace\"><span style=\"color: #7fbfbf; text-decoration-color: #7fbfbf\">           </span><span style=\"color: #000080; text-decoration-color: #000080\">INFO    </span> Readign sample: SingleMuon_Run2018A, from:                                     <a href=\"file:///tmp/ipykernel_18646/2088555353.py\" target=\"_blank\"><span style=\"color: #7f7f7f; text-decoration-color: #7f7f7f\">2088555353.py</span></a><span style=\"color: #7f7f7f; text-decoration-color: #7f7f7f\">:</span><a href=\"file:///tmp/ipykernel_18646/2088555353.py#23\" target=\"_blank\"><span style=\"color: #7f7f7f; text-decoration-color: #7f7f7f\">23</span></a>\n",
       "<span style=\"color: #7fbfbf; text-decoration-color: #7fbfbf\">           </span>         inputs16APV/hists_sum_SingleMuon_Run2018A.hist                                 <span style=\"color: #7f7f7f; text-decoration-color: #7f7f7f\">                </span>\n",
       "</pre>\n"
      ],
      "text/plain": [
       "\u001b[2;36m          \u001b[0m\u001b[2;36m \u001b[0m\u001b[34mINFO    \u001b[0m Readign sample: SingleMuon_Run2018A, from:                                     \u001b]8;id=188868;file:///tmp/ipykernel_18646/2088555353.py\u001b\\\u001b[2m2088555353.py\u001b[0m\u001b]8;;\u001b\\\u001b[2m:\u001b[0m\u001b]8;id=117311;file:///tmp/ipykernel_18646/2088555353.py#23\u001b\\\u001b[2m23\u001b[0m\u001b]8;;\u001b\\\n",
       "\u001b[2;36m           \u001b[0m         inputs16APV/hists_sum_SingleMuon_Run2018A.hist                                 \u001b[2m                \u001b[0m\n"
      ]
     },
     "metadata": {},
     "output_type": "display_data"
    },
    {
     "name": "stdout",
     "output_type": "stream",
     "text": [
      "SingleMuon_Run2018B\n"
     ]
    },
    {
     "data": {
      "text/html": [
       "<pre style=\"white-space:pre;overflow-x:auto;line-height:normal;font-family:Menlo,'DejaVu Sans Mono',consolas,'Courier New',monospace\"><span style=\"color: #7fbfbf; text-decoration-color: #7fbfbf\">           </span><span style=\"color: #000080; text-decoration-color: #000080\">INFO    </span> Readign sample: SingleMuon_Run2018B, from:                                     <a href=\"file:///tmp/ipykernel_18646/2088555353.py\" target=\"_blank\"><span style=\"color: #7f7f7f; text-decoration-color: #7f7f7f\">2088555353.py</span></a><span style=\"color: #7f7f7f; text-decoration-color: #7f7f7f\">:</span><a href=\"file:///tmp/ipykernel_18646/2088555353.py#23\" target=\"_blank\"><span style=\"color: #7f7f7f; text-decoration-color: #7f7f7f\">23</span></a>\n",
       "<span style=\"color: #7fbfbf; text-decoration-color: #7fbfbf\">           </span>         inputs16APV/hists_sum_SingleMuon_Run2018B.hist                                 <span style=\"color: #7f7f7f; text-decoration-color: #7f7f7f\">                </span>\n",
       "</pre>\n"
      ],
      "text/plain": [
       "\u001b[2;36m          \u001b[0m\u001b[2;36m \u001b[0m\u001b[34mINFO    \u001b[0m Readign sample: SingleMuon_Run2018B, from:                                     \u001b]8;id=845490;file:///tmp/ipykernel_18646/2088555353.py\u001b\\\u001b[2m2088555353.py\u001b[0m\u001b]8;;\u001b\\\u001b[2m:\u001b[0m\u001b]8;id=965245;file:///tmp/ipykernel_18646/2088555353.py#23\u001b\\\u001b[2m23\u001b[0m\u001b]8;;\u001b\\\n",
       "\u001b[2;36m           \u001b[0m         inputs16APV/hists_sum_SingleMuon_Run2018B.hist                                 \u001b[2m                \u001b[0m\n"
      ]
     },
     "metadata": {},
     "output_type": "display_data"
    },
    {
     "name": "stdout",
     "output_type": "stream",
     "text": [
      "SingleMuon_Run2018C\n"
     ]
    },
    {
     "data": {
      "text/html": [
       "<pre style=\"white-space:pre;overflow-x:auto;line-height:normal;font-family:Menlo,'DejaVu Sans Mono',consolas,'Courier New',monospace\"><span style=\"color: #7fbfbf; text-decoration-color: #7fbfbf\">[15:02:50] </span><span style=\"color: #000080; text-decoration-color: #000080\">INFO    </span> Readign sample: SingleMuon_Run2018C, from:                                     <a href=\"file:///tmp/ipykernel_18646/2088555353.py\" target=\"_blank\"><span style=\"color: #7f7f7f; text-decoration-color: #7f7f7f\">2088555353.py</span></a><span style=\"color: #7f7f7f; text-decoration-color: #7f7f7f\">:</span><a href=\"file:///tmp/ipykernel_18646/2088555353.py#23\" target=\"_blank\"><span style=\"color: #7f7f7f; text-decoration-color: #7f7f7f\">23</span></a>\n",
       "<span style=\"color: #7fbfbf; text-decoration-color: #7fbfbf\">           </span>         inputs16APV/hists_sum_SingleMuon_Run2018C.hist                                 <span style=\"color: #7f7f7f; text-decoration-color: #7f7f7f\">                </span>\n",
       "</pre>\n"
      ],
      "text/plain": [
       "\u001b[2;36m[15:02:50]\u001b[0m\u001b[2;36m \u001b[0m\u001b[34mINFO    \u001b[0m Readign sample: SingleMuon_Run2018C, from:                                     \u001b]8;id=287811;file:///tmp/ipykernel_18646/2088555353.py\u001b\\\u001b[2m2088555353.py\u001b[0m\u001b]8;;\u001b\\\u001b[2m:\u001b[0m\u001b]8;id=130167;file:///tmp/ipykernel_18646/2088555353.py#23\u001b\\\u001b[2m23\u001b[0m\u001b]8;;\u001b\\\n",
       "\u001b[2;36m           \u001b[0m         inputs16APV/hists_sum_SingleMuon_Run2018C.hist                                 \u001b[2m                \u001b[0m\n"
      ]
     },
     "metadata": {},
     "output_type": "display_data"
    },
    {
     "name": "stdout",
     "output_type": "stream",
     "text": [
      "SingleMuon_Run2018D\n"
     ]
    },
    {
     "data": {
      "text/html": [
       "<pre style=\"white-space:pre;overflow-x:auto;line-height:normal;font-family:Menlo,'DejaVu Sans Mono',consolas,'Courier New',monospace\"><span style=\"color: #7fbfbf; text-decoration-color: #7fbfbf\">           </span><span style=\"color: #000080; text-decoration-color: #000080\">INFO    </span> Readign sample: SingleMuon_Run2018D, from:                                     <a href=\"file:///tmp/ipykernel_18646/2088555353.py\" target=\"_blank\"><span style=\"color: #7f7f7f; text-decoration-color: #7f7f7f\">2088555353.py</span></a><span style=\"color: #7f7f7f; text-decoration-color: #7f7f7f\">:</span><a href=\"file:///tmp/ipykernel_18646/2088555353.py#23\" target=\"_blank\"><span style=\"color: #7f7f7f; text-decoration-color: #7f7f7f\">23</span></a>\n",
       "<span style=\"color: #7fbfbf; text-decoration-color: #7fbfbf\">           </span>         inputs16APV/hists_sum_SingleMuon_Run2018D.hist                                 <span style=\"color: #7f7f7f; text-decoration-color: #7f7f7f\">                </span>\n",
       "</pre>\n"
      ],
      "text/plain": [
       "\u001b[2;36m          \u001b[0m\u001b[2;36m \u001b[0m\u001b[34mINFO    \u001b[0m Readign sample: SingleMuon_Run2018D, from:                                     \u001b]8;id=635865;file:///tmp/ipykernel_18646/2088555353.py\u001b\\\u001b[2m2088555353.py\u001b[0m\u001b]8;;\u001b\\\u001b[2m:\u001b[0m\u001b]8;id=163956;file:///tmp/ipykernel_18646/2088555353.py#23\u001b\\\u001b[2m23\u001b[0m\u001b]8;;\u001b\\\n",
       "\u001b[2;36m           \u001b[0m         inputs16APV/hists_sum_SingleMuon_Run2018D.hist                                 \u001b[2m                \u001b[0m\n"
      ]
     },
     "metadata": {},
     "output_type": "display_data"
    },
    {
     "name": "stdout",
     "output_type": "stream",
     "text": [
      "MET_Run2018A\n"
     ]
    },
    {
     "data": {
      "text/html": [
       "<pre style=\"white-space:pre;overflow-x:auto;line-height:normal;font-family:Menlo,'DejaVu Sans Mono',consolas,'Courier New',monospace\"><span style=\"color: #7fbfbf; text-decoration-color: #7fbfbf\">           </span><span style=\"color: #000080; text-decoration-color: #000080\">INFO    </span> Readign sample: MET_Run2018A, from: inputs16APV/hists_sum_MET_Run2018A.hist    <a href=\"file:///tmp/ipykernel_18646/2088555353.py\" target=\"_blank\"><span style=\"color: #7f7f7f; text-decoration-color: #7f7f7f\">2088555353.py</span></a><span style=\"color: #7f7f7f; text-decoration-color: #7f7f7f\">:</span><a href=\"file:///tmp/ipykernel_18646/2088555353.py#23\" target=\"_blank\"><span style=\"color: #7f7f7f; text-decoration-color: #7f7f7f\">23</span></a>\n",
       "</pre>\n"
      ],
      "text/plain": [
       "\u001b[2;36m          \u001b[0m\u001b[2;36m \u001b[0m\u001b[34mINFO    \u001b[0m Readign sample: MET_Run2018A, from: inputs16APV/hists_sum_MET_Run2018A.hist    \u001b]8;id=712138;file:///tmp/ipykernel_18646/2088555353.py\u001b\\\u001b[2m2088555353.py\u001b[0m\u001b]8;;\u001b\\\u001b[2m:\u001b[0m\u001b]8;id=44986;file:///tmp/ipykernel_18646/2088555353.py#23\u001b\\\u001b[2m23\u001b[0m\u001b]8;;\u001b\\\n"
      ]
     },
     "metadata": {},
     "output_type": "display_data"
    },
    {
     "name": "stdout",
     "output_type": "stream",
     "text": [
      "MET_Run2018B\n"
     ]
    },
    {
     "data": {
      "text/html": [
       "<pre style=\"white-space:pre;overflow-x:auto;line-height:normal;font-family:Menlo,'DejaVu Sans Mono',consolas,'Courier New',monospace\"><span style=\"color: #7fbfbf; text-decoration-color: #7fbfbf\">           </span><span style=\"color: #000080; text-decoration-color: #000080\">INFO    </span> Readign sample: MET_Run2018B, from: inputs16APV/hists_sum_MET_Run2018B.hist    <a href=\"file:///tmp/ipykernel_18646/2088555353.py\" target=\"_blank\"><span style=\"color: #7f7f7f; text-decoration-color: #7f7f7f\">2088555353.py</span></a><span style=\"color: #7f7f7f; text-decoration-color: #7f7f7f\">:</span><a href=\"file:///tmp/ipykernel_18646/2088555353.py#23\" target=\"_blank\"><span style=\"color: #7f7f7f; text-decoration-color: #7f7f7f\">23</span></a>\n",
       "</pre>\n"
      ],
      "text/plain": [
       "\u001b[2;36m          \u001b[0m\u001b[2;36m \u001b[0m\u001b[34mINFO    \u001b[0m Readign sample: MET_Run2018B, from: inputs16APV/hists_sum_MET_Run2018B.hist    \u001b]8;id=580211;file:///tmp/ipykernel_18646/2088555353.py\u001b\\\u001b[2m2088555353.py\u001b[0m\u001b]8;;\u001b\\\u001b[2m:\u001b[0m\u001b]8;id=368450;file:///tmp/ipykernel_18646/2088555353.py#23\u001b\\\u001b[2m23\u001b[0m\u001b]8;;\u001b\\\n"
      ]
     },
     "metadata": {},
     "output_type": "display_data"
    },
    {
     "name": "stdout",
     "output_type": "stream",
     "text": [
      "MET_Run2018C\n"
     ]
    },
    {
     "data": {
      "text/html": [
       "<pre style=\"white-space:pre;overflow-x:auto;line-height:normal;font-family:Menlo,'DejaVu Sans Mono',consolas,'Courier New',monospace\"><span style=\"color: #7fbfbf; text-decoration-color: #7fbfbf\">           </span><span style=\"color: #000080; text-decoration-color: #000080\">INFO    </span> Readign sample: MET_Run2018C, from: inputs16APV/hists_sum_MET_Run2018C.hist    <a href=\"file:///tmp/ipykernel_18646/2088555353.py\" target=\"_blank\"><span style=\"color: #7f7f7f; text-decoration-color: #7f7f7f\">2088555353.py</span></a><span style=\"color: #7f7f7f; text-decoration-color: #7f7f7f\">:</span><a href=\"file:///tmp/ipykernel_18646/2088555353.py#23\" target=\"_blank\"><span style=\"color: #7f7f7f; text-decoration-color: #7f7f7f\">23</span></a>\n",
       "</pre>\n"
      ],
      "text/plain": [
       "\u001b[2;36m          \u001b[0m\u001b[2;36m \u001b[0m\u001b[34mINFO    \u001b[0m Readign sample: MET_Run2018C, from: inputs16APV/hists_sum_MET_Run2018C.hist    \u001b]8;id=404116;file:///tmp/ipykernel_18646/2088555353.py\u001b\\\u001b[2m2088555353.py\u001b[0m\u001b]8;;\u001b\\\u001b[2m:\u001b[0m\u001b]8;id=387617;file:///tmp/ipykernel_18646/2088555353.py#23\u001b\\\u001b[2m23\u001b[0m\u001b]8;;\u001b\\\n"
      ]
     },
     "metadata": {},
     "output_type": "display_data"
    },
    {
     "name": "stdout",
     "output_type": "stream",
     "text": [
      "MET_Run2018D\n"
     ]
    },
    {
     "data": {
      "text/html": [
       "<pre style=\"white-space:pre;overflow-x:auto;line-height:normal;font-family:Menlo,'DejaVu Sans Mono',consolas,'Courier New',monospace\"><span style=\"color: #7fbfbf; text-decoration-color: #7fbfbf\">           </span><span style=\"color: #000080; text-decoration-color: #000080\">INFO    </span> Readign sample: MET_Run2018D, from: inputs16APV/hists_sum_MET_Run2018D.hist    <a href=\"file:///tmp/ipykernel_18646/2088555353.py\" target=\"_blank\"><span style=\"color: #7f7f7f; text-decoration-color: #7f7f7f\">2088555353.py</span></a><span style=\"color: #7f7f7f; text-decoration-color: #7f7f7f\">:</span><a href=\"file:///tmp/ipykernel_18646/2088555353.py#23\" target=\"_blank\"><span style=\"color: #7f7f7f; text-decoration-color: #7f7f7f\">23</span></a>\n",
       "</pre>\n"
      ],
      "text/plain": [
       "\u001b[2;36m          \u001b[0m\u001b[2;36m \u001b[0m\u001b[34mINFO    \u001b[0m Readign sample: MET_Run2018D, from: inputs16APV/hists_sum_MET_Run2018D.hist    \u001b]8;id=984522;file:///tmp/ipykernel_18646/2088555353.py\u001b\\\u001b[2m2088555353.py\u001b[0m\u001b]8;;\u001b\\\u001b[2m:\u001b[0m\u001b]8;id=564357;file:///tmp/ipykernel_18646/2088555353.py#23\u001b\\\u001b[2m23\u001b[0m\u001b]8;;\u001b\\\n"
      ]
     },
     "metadata": {},
     "output_type": "display_data"
    },
    {
     "name": "stdout",
     "output_type": "stream",
     "text": [
      "EGamma_Run2018A\n"
     ]
    },
    {
     "data": {
      "text/html": [
       "<pre style=\"white-space:pre;overflow-x:auto;line-height:normal;font-family:Menlo,'DejaVu Sans Mono',consolas,'Courier New',monospace\"><span style=\"color: #7fbfbf; text-decoration-color: #7fbfbf\">           </span><span style=\"color: #000080; text-decoration-color: #000080\">INFO    </span> Readign sample: EGamma_Run2018A, from:                                         <a href=\"file:///tmp/ipykernel_18646/2088555353.py\" target=\"_blank\"><span style=\"color: #7f7f7f; text-decoration-color: #7f7f7f\">2088555353.py</span></a><span style=\"color: #7f7f7f; text-decoration-color: #7f7f7f\">:</span><a href=\"file:///tmp/ipykernel_18646/2088555353.py#23\" target=\"_blank\"><span style=\"color: #7f7f7f; text-decoration-color: #7f7f7f\">23</span></a>\n",
       "<span style=\"color: #7fbfbf; text-decoration-color: #7fbfbf\">           </span>         inputs16APV/hists_sum_EGamma_Run2018A.hist                                     <span style=\"color: #7f7f7f; text-decoration-color: #7f7f7f\">                </span>\n",
       "</pre>\n"
      ],
      "text/plain": [
       "\u001b[2;36m          \u001b[0m\u001b[2;36m \u001b[0m\u001b[34mINFO    \u001b[0m Readign sample: EGamma_Run2018A, from:                                         \u001b]8;id=647959;file:///tmp/ipykernel_18646/2088555353.py\u001b\\\u001b[2m2088555353.py\u001b[0m\u001b]8;;\u001b\\\u001b[2m:\u001b[0m\u001b]8;id=207601;file:///tmp/ipykernel_18646/2088555353.py#23\u001b\\\u001b[2m23\u001b[0m\u001b]8;;\u001b\\\n",
       "\u001b[2;36m           \u001b[0m         inputs16APV/hists_sum_EGamma_Run2018A.hist                                     \u001b[2m                \u001b[0m\n"
      ]
     },
     "metadata": {},
     "output_type": "display_data"
    },
    {
     "name": "stdout",
     "output_type": "stream",
     "text": [
      "EGamma_Run2018B\n"
     ]
    },
    {
     "data": {
      "text/html": [
       "<pre style=\"white-space:pre;overflow-x:auto;line-height:normal;font-family:Menlo,'DejaVu Sans Mono',consolas,'Courier New',monospace\"><span style=\"color: #7fbfbf; text-decoration-color: #7fbfbf\">           </span><span style=\"color: #000080; text-decoration-color: #000080\">INFO    </span> Readign sample: EGamma_Run2018B, from:                                         <a href=\"file:///tmp/ipykernel_18646/2088555353.py\" target=\"_blank\"><span style=\"color: #7f7f7f; text-decoration-color: #7f7f7f\">2088555353.py</span></a><span style=\"color: #7f7f7f; text-decoration-color: #7f7f7f\">:</span><a href=\"file:///tmp/ipykernel_18646/2088555353.py#23\" target=\"_blank\"><span style=\"color: #7f7f7f; text-decoration-color: #7f7f7f\">23</span></a>\n",
       "<span style=\"color: #7fbfbf; text-decoration-color: #7fbfbf\">           </span>         inputs16APV/hists_sum_EGamma_Run2018B.hist                                     <span style=\"color: #7f7f7f; text-decoration-color: #7f7f7f\">                </span>\n",
       "</pre>\n"
      ],
      "text/plain": [
       "\u001b[2;36m          \u001b[0m\u001b[2;36m \u001b[0m\u001b[34mINFO    \u001b[0m Readign sample: EGamma_Run2018B, from:                                         \u001b]8;id=164662;file:///tmp/ipykernel_18646/2088555353.py\u001b\\\u001b[2m2088555353.py\u001b[0m\u001b]8;;\u001b\\\u001b[2m:\u001b[0m\u001b]8;id=177946;file:///tmp/ipykernel_18646/2088555353.py#23\u001b\\\u001b[2m23\u001b[0m\u001b]8;;\u001b\\\n",
       "\u001b[2;36m           \u001b[0m         inputs16APV/hists_sum_EGamma_Run2018B.hist                                     \u001b[2m                \u001b[0m\n"
      ]
     },
     "metadata": {},
     "output_type": "display_data"
    },
    {
     "name": "stdout",
     "output_type": "stream",
     "text": [
      "EGamma_Run2018C\n"
     ]
    },
    {
     "data": {
      "text/html": [
       "<pre style=\"white-space:pre;overflow-x:auto;line-height:normal;font-family:Menlo,'DejaVu Sans Mono',consolas,'Courier New',monospace\"><span style=\"color: #7fbfbf; text-decoration-color: #7fbfbf\">           </span><span style=\"color: #000080; text-decoration-color: #000080\">INFO    </span> Readign sample: EGamma_Run2018C, from:                                         <a href=\"file:///tmp/ipykernel_18646/2088555353.py\" target=\"_blank\"><span style=\"color: #7f7f7f; text-decoration-color: #7f7f7f\">2088555353.py</span></a><span style=\"color: #7f7f7f; text-decoration-color: #7f7f7f\">:</span><a href=\"file:///tmp/ipykernel_18646/2088555353.py#23\" target=\"_blank\"><span style=\"color: #7f7f7f; text-decoration-color: #7f7f7f\">23</span></a>\n",
       "<span style=\"color: #7fbfbf; text-decoration-color: #7fbfbf\">           </span>         inputs16APV/hists_sum_EGamma_Run2018C.hist                                     <span style=\"color: #7f7f7f; text-decoration-color: #7f7f7f\">                </span>\n",
       "</pre>\n"
      ],
      "text/plain": [
       "\u001b[2;36m          \u001b[0m\u001b[2;36m \u001b[0m\u001b[34mINFO    \u001b[0m Readign sample: EGamma_Run2018C, from:                                         \u001b]8;id=40914;file:///tmp/ipykernel_18646/2088555353.py\u001b\\\u001b[2m2088555353.py\u001b[0m\u001b]8;;\u001b\\\u001b[2m:\u001b[0m\u001b]8;id=187690;file:///tmp/ipykernel_18646/2088555353.py#23\u001b\\\u001b[2m23\u001b[0m\u001b]8;;\u001b\\\n",
       "\u001b[2;36m           \u001b[0m         inputs16APV/hists_sum_EGamma_Run2018C.hist                                     \u001b[2m                \u001b[0m\n"
      ]
     },
     "metadata": {},
     "output_type": "display_data"
    },
    {
     "name": "stdout",
     "output_type": "stream",
     "text": [
      "EGamma_Run2018D\n"
     ]
    },
    {
     "data": {
      "text/html": [
       "<pre style=\"white-space:pre;overflow-x:auto;line-height:normal;font-family:Menlo,'DejaVu Sans Mono',consolas,'Courier New',monospace\"><span style=\"color: #7fbfbf; text-decoration-color: #7fbfbf\">           </span><span style=\"color: #000080; text-decoration-color: #000080\">INFO    </span> Readign sample: EGamma_Run2018D, from:                                         <a href=\"file:///tmp/ipykernel_18646/2088555353.py\" target=\"_blank\"><span style=\"color: #7f7f7f; text-decoration-color: #7f7f7f\">2088555353.py</span></a><span style=\"color: #7f7f7f; text-decoration-color: #7f7f7f\">:</span><a href=\"file:///tmp/ipykernel_18646/2088555353.py#23\" target=\"_blank\"><span style=\"color: #7f7f7f; text-decoration-color: #7f7f7f\">23</span></a>\n",
       "<span style=\"color: #7fbfbf; text-decoration-color: #7fbfbf\">           </span>         inputs16APV/hists_sum_EGamma_Run2018D.hist                                     <span style=\"color: #7f7f7f; text-decoration-color: #7f7f7f\">                </span>\n",
       "</pre>\n"
      ],
      "text/plain": [
       "\u001b[2;36m          \u001b[0m\u001b[2;36m \u001b[0m\u001b[34mINFO    \u001b[0m Readign sample: EGamma_Run2018D, from:                                         \u001b]8;id=139953;file:///tmp/ipykernel_18646/2088555353.py\u001b\\\u001b[2m2088555353.py\u001b[0m\u001b]8;;\u001b\\\u001b[2m:\u001b[0m\u001b]8;id=524513;file:///tmp/ipykernel_18646/2088555353.py#23\u001b\\\u001b[2m23\u001b[0m\u001b]8;;\u001b\\\n",
       "\u001b[2;36m           \u001b[0m         inputs16APV/hists_sum_EGamma_Run2018D.hist                                     \u001b[2m                \u001b[0m\n"
      ]
     },
     "metadata": {},
     "output_type": "display_data"
    }
   ],
   "source": [
    "lumi_dict = {\n",
    "    \"2016APV\": 19.52,\n",
    "    \"2016\": 16.81,\n",
    "    \"2017\": 41.48,\n",
    "    \"2018\": 59.83,\n",
    "}\n",
    "year = '2016APV'\n",
    "lumi = lumi_dict[year]\n",
    "scaled_all = {}\n",
    "for process, samples in processmap.process_map.items():\n",
    "    if process in [\"zee\", \"zmm\", \"zll\"]:\n",
    "        continue\n",
    "    # if process == \"zll\":\n",
    "    #     continue\n",
    "    scaled_process = {}\n",
    "    for sample in samples:\n",
    "        if process in [\"zee\", \"zem\", \"zmm\", \"ztt\"]:\n",
    "            bare_sample = '_'.join(sample.split('_')[:-1])\n",
    "        else:\n",
    "            bare_sample = sample\n",
    "        print(sample)\n",
    "        path = f\"inputs16APV/hists_sum_{bare_sample}.hist\"\n",
    "        log.info(f\"Readign sample: {sample}, from: {path}\")\n",
    "        if os.path.exists(path):\n",
    "            with open(path, \"rb\") as f:\n",
    "                loaded = pickle.load(f)\n",
    "            nd_hist = loaded['met_nn_kin'].to_hist()\n",
    "            sumw = loaded['sumw'][bare_sample]\n",
    "            if \"Run\" in sample:\n",
    "                _factor = 1.\n",
    "                xs = np.nan\n",
    "            else:\n",
    "                _factor = lumi\n",
    "            log.info(f\"Scaling {sample} by {_factor:.9f} (lumi = {lumi}, xs = {xs:.3f}, sumw = {sumw:.3f})\")\n",
    "            raw_scaled = nd_hist * _factor\n",
    "            # raw_scaled = nd_hist\n",
    "            # print(raw_scaled)\n",
    "            scaled_process[sample] = copy.deepcopy(raw_scaled[{'dataset': sample}])\n",
    "    scaled_all[process] = scaled_process\n",
    "    # break\n",
    "# nd_sample_hist\n",
    "# scaled_all"
   ]
  },
  {
   "cell_type": "code",
   "execution_count": 110,
   "id": "d1a8ee81-28ef-44dc-b3e1-95aff04c58c9",
   "metadata": {},
   "outputs": [
    {
     "data": {
      "text/plain": [
       "dict_keys(['DYJetsToLL_Pt-50To100_Zem', 'DYJetsToLL_Pt-100To250_Zem', 'DYJetsToLL_Pt-250To400_Zem', 'DYJetsToLL_Pt-400To650_Zem', 'DYJetsToLL_Pt-650ToInf_Zem'])"
      ]
     },
     "execution_count": 110,
     "metadata": {},
     "output_type": "execute_result"
    }
   ],
   "source": [
    "scaled_all['zem'].keys()"
   ]
  },
  {
   "cell_type": "code",
   "execution_count": 111,
   "id": "1a4e4dd3-cc5f-4866-ad07-46a38a55263e",
   "metadata": {},
   "outputs": [],
   "source": [
    "merged_all = {}\n",
    "for process in scaled_all.keys():\n",
    "    merged_all[process] = sum([scaled_all[process][dataset] for dataset in scaled_all[process].keys()])"
   ]
  },
  {
   "cell_type": "code",
   "execution_count": 112,
   "id": "d56599df-8975-420d-835a-153af37b22b0",
   "metadata": {},
   "outputs": [
    {
     "data": {
      "text/plain": [
       "('hadhad_signal_met', slice(150j, None, <built-in function sum>))"
      ]
     },
     "execution_count": 112,
     "metadata": {},
     "output_type": "execute_result"
    }
   ],
   "source": [
    "region_map = {}\n",
    "metcut_map = {}\n",
    "s = hist.tag.Slicer()\n",
    "loc = hist.tag.loc\n",
    "_cat = \"hadhad\"\n",
    "had_th_lo, had_th_hi = 75.0, 150.0j\n",
    "region_map[_cat] = {\n",
    "    \"sig\": {\n",
    "        \"nom\": {\n",
    "            'region': f\"{_cat}_signal_met\",\n",
    "            'met': s[had_th_hi::sum],\n",
    "        },\n",
    "        \"fail\": {\n",
    "            'region': f\"{_cat}_cr_dphi_inv\",\n",
    "            'met': s[had_th_hi::sum],\n",
    "        },\n",
    "    },\n",
    "    \"top_cr\": {\n",
    "        \"nom\": {\n",
    "            'region': f\"{_cat}_cr_b_mu_iso\",\n",
    "            'met': s[had_th_hi::sum],\n",
    "        },\n",
    "        \"fail\": {\n",
    "            'region': f\"{_cat}_cr_b_mu_iso_dphi_inv\",\n",
    "            'met': s[had_th_hi::sum],\n",
    "        },\n",
    "    },\n",
    "    \"wlnu_cr\": {\n",
    "        \"nom\": {\n",
    "            'region': f\"{_cat}_cr_mu_iso\",\n",
    "            'met': s[had_th_hi::sum],\n",
    "        },\n",
    "        \"fail\": {\n",
    "            'region': f\"{_cat}_cr_mu_iso_dphi_inv\",\n",
    "            'met': s[had_th_hi::sum],\n",
    "        },\n",
    "    },\n",
    "    \"qcd_cr\": {\n",
    "        \"nom\": {\n",
    "            'region': f\"{_cat}_cr_mu\",\n",
    "            'met': s[had_th_hi::sum],\n",
    "        },\n",
    "        \"fail\": {\n",
    "            'region': f\"{_cat}_cr_mu_dphi_inv\",\n",
    "            'met': s[had_th_hi::sum],\n",
    "        },\n",
    "    },\n",
    "}\n",
    "lep_th_lo, lep_th_hi = 50.0j, 750.0j\n",
    "for _cat in [\"hadel\", \"hadmu\"]:\n",
    "    region_map[_cat] = {\n",
    "        \"sig\": {\n",
    "            \"nom\": {\n",
    "                'region': f\"{_cat}_signal\",\n",
    "                'met': s[lep_th_hi::sum],\n",
    "            },\n",
    "            \"fail\": {\n",
    "                'region': f\"{_cat}_signal\",\n",
    "                'met': s[lep_th_lo:lep_th_hi:sum],\n",
    "            },\n",
    "        },\n",
    "        \"top_cr\": {\n",
    "            \"nom\": {\n",
    "                'region': f\"{_cat}_cr_b\",\n",
    "                'met': s[lep_th_hi::sum],\n",
    "            },\n",
    "            \"fail\": {\n",
    "                'region': f\"{_cat}_cr_b_dphi_inv\",\n",
    "                'met': s[lep_th_lo:lep_th_hi:sum],\n",
    "            },\n",
    "        },\n",
    "        \"wlnu_cr\": {\n",
    "            \"nom\": {\n",
    "                'region': f\"{_cat}_cr_w\",\n",
    "                'met': s[lep_th_hi::sum],\n",
    "            },\n",
    "            \"fail\": {\n",
    "                'region': f\"{_cat}_cr_w_dphi_inv\",\n",
    "                'met': s[lep_th_lo:lep_th_hi:sum],\n",
    "            },\n",
    "        },\n",
    "        \"qcd_cr\": {\n",
    "            \"nom\": {\n",
    "                'region': f\"{_cat}_cr_qcd\",\n",
    "                'met': s[lep_th_hi::sum],\n",
    "            },\n",
    "            \"fail\": {\n",
    "                'region': f\"{_cat}_cr_qcd\",\n",
    "                'met': s[lep_th_lo:lep_th_hi:sum],\n",
    "            },\n",
    "        },\n",
    "    }\n",
    "\n",
    "region_map['hadhad']['sig']['nom']['region'], region_map['hadhad']['sig']['nom']['met']"
   ]
  },
  {
   "cell_type": "code",
   "execution_count": 113,
   "id": "afeb2dce-ef43-4fd0-891f-249f3f389c35",
   "metadata": {},
   "outputs": [],
   "source": [
    "channels = ['hadel', 'hadmu', 'hadhad']\n",
    "regions = [\"sig\", \"top_cr\", \"wlnu_cr\", \"qcd_cr\"]\n",
    "\n",
    "nnCuts = {\n",
    "    \"hadhad\": 0.9999j,\n",
    "    \"hadel\": 0.98j,\n",
    "    \"hadmu\": 0.98j,\n",
    "}\n",
    "nnLooseCuts = {\n",
    "        \"hadhad\": 0.995j,\n",
    "        \"hadel\": 0.9j,\n",
    "        \"hadmu\": 0.9j,\n",
    "    }"
   ]
  },
  {
   "cell_type": "code",
   "execution_count": 114,
   "id": "00dc4ca1-be21-4667-9bea-0482a8e33d67",
   "metadata": {},
   "outputs": [],
   "source": [
    "# # make templates\n",
    "# for sample in merged_all.keys():\n",
    "#     for channel in channels:\n",
    "#         fig, axs = plt.subplots(1, 3, figsize=(15, 5))\n",
    "#         axs = axs.flatten()\n",
    "#         for i, region in enumerate([\"sig\", \"top_cr\", \"wlnu_cr\"]):\n",
    "#             nnCut, nnLooseCut = nnCuts[channel], nnLooseCuts[channel]\n",
    "#             presliced2d = merged_all[sample][{'systematic': 'nominal', \n",
    "#                        'h_pt': sum, \n",
    "#                        'region': region_map[channel][region]['nom']['region'],\n",
    "#                        'met_pt': region_map[channel][region]['nom']['met'],\n",
    "#                       }]\n",
    "#             tpass = presliced2d[{'nn_disc': s[nnCut::sum]}]\n",
    "#             tloose = presliced2d[{'nn_disc': s[nnLooseCut:nnCut:sum]}]\n",
    "#             tfail = presliced2d[{'nn_disc': s[:nnLooseCut:sum]}]\n",
    "    \n",
    "#             axs[i].set_title(region)\n",
    "#             fig.suptitle(f\"{channel}: {sample}\")\n",
    "#             tpass.plot(yerr=False, ax=axs[i], label='Pass')\n",
    "#             tloose.plot(yerr=False, ax=axs[i], label=\"Loose\"), \n",
    "#             tfail.plot(yerr=False, ax=axs[i], label=\"Fail\"), \n",
    "#             axs[i].legend()"
   ]
  },
  {
   "cell_type": "code",
   "execution_count": 115,
   "id": "d95e5294-cf0a-46ba-acf6-6c2d333a9c43",
   "metadata": {},
   "outputs": [],
   "source": [
    "r = np.array([  0.,  10.,  20.,  30.,  40.,  50.,  60.,  70.,  80.,  90., 100.,\n",
    "       110., 120., 130., 140., 150., 200., 250., 300., 350., 400.])"
   ]
  },
  {
   "cell_type": "code",
   "execution_count": 183,
   "id": "876523a2-fb1a-4b68-a3f3-126122c7dc98",
   "metadata": {},
   "outputs": [
    {
     "data": {
      "text/plain": [
       "['JER', 'JES', 'L1PreFiring', 'UES', 'pileup_weight']"
      ]
     },
     "execution_count": 183,
     "metadata": {},
     "output_type": "execute_result"
    }
   ],
   "source": [
    "\n",
    "rsysts"
   ]
  },
  {
   "cell_type": "code",
   "execution_count": 191,
   "id": "26af6a0a-93b4-42b9-87e1-aeeb2062b1bb",
   "metadata": {},
   "outputs": [
    {
     "name": "stderr",
     "output_type": "stream",
     "text": [
      "100%|██████████████████████████████████████████████████████████████████████████████████████████████████████████████████████████████████████████████| 24/24 [00:03<00:00,  6.74it/s]\n",
      "100%|██████████████████████████████████████████████████████████████████████████████████████████████████████████████████████████████████████████████| 24/24 [00:03<00:00,  6.59it/s]\n",
      "100%|██████████████████████████████████████████████████████████████████████████████████████████████████████████████████████████████████████████████| 24/24 [00:03<00:00,  6.73it/s]\n"
     ]
    }
   ],
   "source": [
    "fitted_temps = {}\n",
    "# make templates\n",
    "for channel in channels:\n",
    "    fitted_temps[channel] = {}\n",
    "    for process in tqdm.tqdm(scaled_all.keys()):\n",
    "        fitted_temps[channel][process] = {}\n",
    "        for sample in scaled_all[process].keys():\n",
    "            fitted_temps[channel][process][sample] = {}\n",
    "            # fig, axs = plt.subplots(4, 3, figsize=(15, 10), sharex=True)\n",
    "            # fig.subplots_adjust(hspace=0)\n",
    "            for i, region in enumerate([\"sig\", \"top_cr\", \"wlnu_cr\"]):\n",
    "                rsysts = list(scaled_all[process][sample].axes['systematic'])\n",
    "                # rsysts = sorted(list(set([s.rstrip(\"Up\").rstrip(\"Down\") for s in rsysts])))\n",
    "                fitted_temps[channel][process][sample][region] = {}\n",
    "                for syst in rsysts:                \n",
    "                    nnCut, nnLooseCut = nnCuts[channel], nnLooseCuts[channel]\n",
    "                    presliced2d = scaled_all[process][sample][{'systematic': syst, \n",
    "                               'h_pt': sum, \n",
    "                               'region': region_map[channel][region]['nom']['region'],\n",
    "                               'met_pt': region_map[channel][region]['nom']['met'],\n",
    "                              }]\n",
    "                    tpass = presliced2d[{'nn_disc': s[nnCut::sum]}]\n",
    "                    tloose = presliced2d[{'nn_disc': s[nnLooseCut:nnCut:sum]}]\n",
    "                    tfail = presliced2d[{'nn_disc': s[:nnLooseCut:sum]}]\n",
    "                    if True:\n",
    "                        re2 = np.r_[tpass.axes[0].edges[:15:2], tpass.axes[0].edges[16:]]\n",
    "                        tpass = tpass[hist.rebin(edges=re2)]\n",
    "                        tloose = tloose[hist.rebin(edges=re2)]\n",
    "                        tfail = tfail[hist.rebin(edges=re2)]\n",
    "                    fitted_temps[channel][process][sample][region] = {\n",
    "                        'pass': tpass,\n",
    "                        'loose': tloose,\n",
    "                        'fail': tfail,\n",
    "                    }\n",
    "            #     axs[0, i].set_title(region)\n",
    "            #     fig.suptitle(f\"{channel}: {process} / {sample}\")\n",
    "            #     _yerr = True\n",
    "            #     _density = False\n",
    "            #     _binwnorm = None\n",
    "            #     w2method='sqrt'\n",
    "            #     tpass.plot(yerr=_yerr, ax=axs[0, i], label='Pass', density=_density, binwnorm=_binwnorm, w2method=w2method)\n",
    "            #     tloose.plot(yerr=_yerr, ax=axs[1, i], label=\"Loose\", density=_density, binwnorm=_binwnorm, w2method=w2method)\n",
    "            #     tfail.plot(yerr=_yerr, ax=axs[2, i], label=\"Fail\", density=_density, binwnorm=_binwnorm, w2method=w2method)\n",
    "            #     _merged = tpass + tloose + tfail\n",
    "            #     _merged.plot(yerr=_yerr, ax=axs[3, i], label=\"No NN cut\", density=_density, binwnorm=_binwnorm, w2method=w2method)\n",
    "            # for ax in axs.flatten():\n",
    "            #     ax.legend()"
   ]
  },
  {
   "cell_type": "code",
   "execution_count": 192,
   "id": "621ba0f9-9ee1-4d83-8741-0e673695d20e",
   "metadata": {},
   "outputs": [],
   "source": [
    "hep.style.use(\"CMS\")"
   ]
  },
  {
   "cell_type": "code",
   "execution_count": 167,
   "id": "e32a0860-2f77-4ddc-bea0-d010019198fe",
   "metadata": {
    "scrolled": true
   },
   "outputs": [],
   "source": [
    "# for channel in channels:\n",
    "#     for process in fitted_temps[channel].keys():\n",
    "#         for scaled_or_not in [False]:\n",
    "#             fig, axs = plt.subplots(3, 3, figsize=(15, 10), sharex=True, sharey='row')\n",
    "#             fig.subplots_adjust(hspace=0, wspace=0)\n",
    "#             for i, region in enumerate([\"sig\", \"top_cr\", \"wlnu_cr\"]):\n",
    "#                 for j, nnreg in enumerate(['pass', 'loose', 'fail']):\n",
    "#                     _tmps = {}\n",
    "#                     for sample in fitted_temps[channel][process]:\n",
    "#                          _tmps[sample] = fitted_temps[channel][process][sample][region][nnreg]\n",
    "#                     tot_h = sum(_tmps.values())\n",
    "#                     sub_hs = list(_tmps.values())\n",
    "#                     sub_hs_labels = list(_tmps.keys())\n",
    "#                     ax=axs[j, i]\n",
    "#                     hep.histplot(sub_hs, stack=True, yerr=False, histtype='fill', alpha=0.7, label=sub_hs_labels, sort='label_r', ax=ax)\n",
    "#                     axs[j, 0].set_ylabel(nnreg)\n",
    "#                 axs[0, i].set_title(region)\n",
    "#             axs[0,2].legend(title=f\"{channel}: {process}\", bbox_to_anchor=(1,1), loc='upper left')\n",
    "#             hep.yscale_legend(ax=axs[0,2])"
   ]
  },
  {
   "cell_type": "code",
   "execution_count": 193,
   "id": "4c47a4eb-1e51-43b7-95c3-37872ca6950d",
   "metadata": {},
   "outputs": [],
   "source": [
    "def fetch_temp(channel, region, nnreg, process, syst='nominal', rebin=None):\n",
    "    if not isinstance(process, list):\n",
    "        process = [process]\n",
    "    _temps = []\n",
    "    for p in process:\n",
    "        for sample in fitted_temps[channel][p].keys():\n",
    "            _temps.append(fitted_temps[channel][p][sample][region][nnreg][syst])\n",
    "    _temp = sum(_temps)\n",
    "    if rebin is not None:\n",
    "        # print([_temp.axes[0].edges[0], _temp.axes[0].edges[-1]])\n",
    "        _temp = _temp[hist.rebin(edges=[_temp.axes[0].edges[0], _temp.axes[0].edges[-1]])]\n",
    "    return _temp"
   ]
  },
  {
   "cell_type": "code",
   "execution_count": 194,
   "id": "61bccec7-6d6e-43ee-bb1b-d32ce7cf9781",
   "metadata": {},
   "outputs": [
    {
     "data": {
      "text/plain": [
       "19.52"
      ]
     },
     "execution_count": 194,
     "metadata": {},
     "output_type": "execute_result"
    }
   ],
   "source": [
    "lumi"
   ]
  },
  {
   "cell_type": "code",
   "execution_count": 195,
   "id": "534c51c3-702e-4246-b1a9-b0e4878efaf4",
   "metadata": {},
   "outputs": [
    {
     "ename": "IndexError",
     "evalue": "Must be a slice, an integer, or follow the locator protocol.",
     "output_type": "error",
     "traceback": [
      "\u001b[31m---------------------------------------------------------------------------\u001b[39m",
      "\u001b[31mIndexError\u001b[39m                                Traceback (most recent call last)",
      "\u001b[36mCell\u001b[39m\u001b[36m \u001b[39m\u001b[32mIn[195]\u001b[39m\u001b[32m, line 103\u001b[39m\n\u001b[32m     99\u001b[39m         pickle.dump(model, fout)\n\u001b[32m    101\u001b[39m     model.renderCombine(os.path.join(\u001b[38;5;28mstr\u001b[39m(tmpdir), \u001b[33m\"\u001b[39m\u001b[33mtestModel\u001b[39m\u001b[33m\"\u001b[39m))\n\u001b[32m--> \u001b[39m\u001b[32m103\u001b[39m \u001b[43mtest_rhalphabet\u001b[49m\u001b[43m(\u001b[49m\u001b[33;43m\"\u001b[39;49m\u001b[33;43mtestfit\u001b[39;49m\u001b[33;43m\"\u001b[39;49m\u001b[43m)\u001b[49m\n",
      "\u001b[36mCell\u001b[39m\u001b[36m \u001b[39m\u001b[32mIn[195]\u001b[39m\u001b[32m, line 19\u001b[39m, in \u001b[36mtest_rhalphabet\u001b[39m\u001b[34m(tmpdir)\u001b[39m\n\u001b[32m     17\u001b[39m sys_tt = rl.NuisanceParameter(\u001b[33m\"\u001b[39m\u001b[33mCMS_norm_top\u001b[39m\u001b[33m\"\u001b[39m, \u001b[33m\"\u001b[39m\u001b[33mlnN\u001b[39m\u001b[33m\"\u001b[39m)\n\u001b[32m     18\u001b[39m sys_w = rl.NuisanceParameter(\u001b[33m\"\u001b[39m\u001b[33mCMS_norm_w\u001b[39m\u001b[33m\"\u001b[39m, \u001b[33m\"\u001b[39m\u001b[33mlnN\u001b[39m\u001b[33m\"\u001b[39m)\n\u001b[32m---> \u001b[39m\u001b[32m19\u001b[39m msd = rl.Observable(\u001b[33m\"\u001b[39m\u001b[33mmassreg\u001b[39m\u001b[33m\"\u001b[39m, \u001b[43mfetch_temp\u001b[49m\u001b[43m(\u001b[49m\u001b[33;43m'\u001b[39;49m\u001b[33;43mhadel\u001b[39;49m\u001b[33;43m'\u001b[39;49m\u001b[43m,\u001b[49m\u001b[43m \u001b[49m\u001b[33;43m'\u001b[39;49m\u001b[33;43msig\u001b[39;49m\u001b[33;43m'\u001b[39;49m\u001b[43m,\u001b[49m\u001b[43m \u001b[49m\u001b[33;43m'\u001b[39;49m\u001b[33;43mpass\u001b[39;49m\u001b[33;43m'\u001b[39;49m\u001b[43m,\u001b[49m\u001b[43m \u001b[49m\u001b[33;43m'\u001b[39;49m\u001b[33;43mdata\u001b[39;49m\u001b[33;43m'\u001b[39;49m\u001b[43m,\u001b[49m\u001b[43m \u001b[49m\u001b[43mrebin\u001b[49m\u001b[43m)\u001b[49m.axes[\u001b[32m0\u001b[39m].edges)\n\u001b[32m     21\u001b[39m \u001b[38;5;66;03m# build actual fit model now\u001b[39;00m\n\u001b[32m     22\u001b[39m model = rl.Model(\u001b[33m\"\u001b[39m\u001b[33mtestModel\u001b[39m\u001b[33m\"\u001b[39m)\n",
      "\u001b[36mCell\u001b[39m\u001b[36m \u001b[39m\u001b[32mIn[193]\u001b[39m\u001b[32m, line 7\u001b[39m, in \u001b[36mfetch_temp\u001b[39m\u001b[34m(channel, region, nnreg, process, syst, rebin)\u001b[39m\n\u001b[32m      5\u001b[39m \u001b[38;5;28;01mfor\u001b[39;00m p \u001b[38;5;129;01min\u001b[39;00m process:\n\u001b[32m      6\u001b[39m     \u001b[38;5;28;01mfor\u001b[39;00m sample \u001b[38;5;129;01min\u001b[39;00m fitted_temps[channel][p].keys():\n\u001b[32m----> \u001b[39m\u001b[32m7\u001b[39m         _temps.append(\u001b[43mfitted_temps\u001b[49m\u001b[43m[\u001b[49m\u001b[43mchannel\u001b[49m\u001b[43m]\u001b[49m\u001b[43m[\u001b[49m\u001b[43mp\u001b[49m\u001b[43m]\u001b[49m\u001b[43m[\u001b[49m\u001b[43msample\u001b[49m\u001b[43m]\u001b[49m\u001b[43m[\u001b[49m\u001b[43mregion\u001b[49m\u001b[43m]\u001b[49m\u001b[43m[\u001b[49m\u001b[43mnnreg\u001b[49m\u001b[43m]\u001b[49m\u001b[43m[\u001b[49m\u001b[43msyst\u001b[49m\u001b[43m]\u001b[49m)\n\u001b[32m      8\u001b[39m _temp = \u001b[38;5;28msum\u001b[39m(_temps)\n\u001b[32m      9\u001b[39m \u001b[38;5;28;01mif\u001b[39;00m rebin \u001b[38;5;129;01mis\u001b[39;00m \u001b[38;5;129;01mnot\u001b[39;00m \u001b[38;5;28;01mNone\u001b[39;00m:\n\u001b[32m     10\u001b[39m     \u001b[38;5;66;03m# print([_temp.axes[0].edges[0], _temp.axes[0].edges[-1]])\u001b[39;00m\n",
      "\u001b[36mFile \u001b[39m\u001b[32m~/software/miniforge3/envs/combinenew/lib/python3.11/site-packages/hist/basehist.py:417\u001b[39m, in \u001b[36mBaseHist.__getitem__\u001b[39m\u001b[34m(self, index)\u001b[39m\n\u001b[32m    410\u001b[39m \u001b[38;5;28;01mdef\u001b[39;00m\u001b[38;5;250m \u001b[39m\u001b[34m__getitem__\u001b[39m(  \u001b[38;5;66;03m# type: ignore[override]\u001b[39;00m\n\u001b[32m    411\u001b[39m     \u001b[38;5;28mself\u001b[39m, index: IndexingExpr\n\u001b[32m    412\u001b[39m ) -> Self | \u001b[38;5;28mfloat\u001b[39m | bh.accumulators.Accumulator:\n\u001b[32m    413\u001b[39m \u001b[38;5;250m    \u001b[39m\u001b[33;03m\"\"\"\u001b[39;00m\n\u001b[32m    414\u001b[39m \u001b[33;03m    Get histogram item.\u001b[39;00m\n\u001b[32m    415\u001b[39m \u001b[33;03m    \"\"\"\u001b[39;00m\n\u001b[32m--> \u001b[39m\u001b[32m417\u001b[39m     \u001b[38;5;28;01mreturn\u001b[39;00m \u001b[38;5;28;43msuper\u001b[39;49m\u001b[43m(\u001b[49m\u001b[43m)\u001b[49m\u001b[43m.\u001b[49m\u001b[34;43m__getitem__\u001b[39;49m\u001b[43m(\u001b[49m\u001b[38;5;28;43mself\u001b[39;49m\u001b[43m.\u001b[49m\u001b[43m_index_transform\u001b[49m\u001b[43m(\u001b[49m\u001b[43mindex\u001b[49m\u001b[43m)\u001b[49m\u001b[43m)\u001b[49m\n",
      "\u001b[36mFile \u001b[39m\u001b[32m~/software/miniforge3/envs/combinenew/lib/python3.11/site-packages/boost_histogram/histogram.py:896\u001b[39m, in \u001b[36mHistogram.__getitem__\u001b[39m\u001b[34m(self, index)\u001b[39m\n\u001b[32m    893\u001b[39m     \u001b[38;5;28;01mcontinue\u001b[39;00m\n\u001b[32m    895\u001b[39m \u001b[38;5;28;01mif\u001b[39;00m \u001b[38;5;129;01mnot\u001b[39;00m \u001b[38;5;28misinstance\u001b[39m(ind, \u001b[38;5;28mslice\u001b[39m):\n\u001b[32m--> \u001b[39m\u001b[32m896\u001b[39m     \u001b[38;5;28;01mraise\u001b[39;00m \u001b[38;5;167;01mIndexError\u001b[39;00m(\n\u001b[32m    897\u001b[39m         \u001b[33m\"\u001b[39m\u001b[33mMust be a slice, an integer, or follow the locator protocol.\u001b[39m\u001b[33m\"\u001b[39m\n\u001b[32m    898\u001b[39m     )\n\u001b[32m    900\u001b[39m \u001b[38;5;66;03m# If the dictionary brackets are forgotten, it's easy to put a slice\u001b[39;00m\n\u001b[32m    901\u001b[39m \u001b[38;5;66;03m# into a slice - adding a nicer error message in that case\u001b[39;00m\n\u001b[32m    902\u001b[39m \u001b[38;5;28;01mif\u001b[39;00m \u001b[38;5;28many\u001b[39m(\u001b[38;5;28misinstance\u001b[39m(v, \u001b[38;5;28mslice\u001b[39m) \u001b[38;5;28;01mfor\u001b[39;00m v \u001b[38;5;129;01min\u001b[39;00m (ind.start, ind.stop, ind.step)):\n",
      "\u001b[31mIndexError\u001b[39m: Must be a slice, an integer, or follow the locator protocol."
     ]
    }
   ],
   "source": [
    "from __future__ import print_function, division\n",
    "import sys\n",
    "import os\n",
    "import rhalphalib as rl\n",
    "import numpy as np\n",
    "import scipy.stats\n",
    "import pickle\n",
    "import ROOT\n",
    "\n",
    "rl.util.install_roofit_helpers()\n",
    "# rl.ParametericSample.PreferRooParametricHist = False\n",
    "\n",
    "rebin = None\n",
    "year='2016APV'\n",
    "def test_rhalphabet(tmpdir):\n",
    "    lumi = rl.NuisanceParameter(\"CMS_lumi\", \"lnN\")\n",
    "    sys_tt = rl.NuisanceParameter(\"CMS_norm_top\", \"lnN\")\n",
    "    sys_w = rl.NuisanceParameter(\"CMS_norm_w\", \"lnN\")\n",
    "    msd = rl.Observable(\"massreg\", fetch_temp('hadel', 'sig', 'pass', 'data', rebin).axes[0].edges)\n",
    "\n",
    "    # build actual fit model now\n",
    "    model = rl.Model(\"testModel\")\n",
    "\n",
    "    # ['zem', 'ztt', 'wjets', 'vqq', 'qcd', 'st', 'vv', \n",
    "    # 'h125', \n",
    "    #'phi10', 'phi20', 'phi30', 'phi40', 'phi50', 'phi75', 'phi100', 'phi125', 'phi150', 'phi200', 'phi250', 'phi300', 'data'] \n",
    "    merge_map = {\n",
    "        'top': ['tt-dilep', 'tt-semilep', 'tt-had', 'st'],\n",
    "        'wlnu': ['wjets'],\n",
    "        'vother': ['zem', 'vqq', 'vv'],\n",
    "        \n",
    "    }\n",
    "    # # DY efficiency\n",
    "    # dyeffSF = rl.IndependentParameter(f\"{year}_dyeffSF\", 1.0, 0, 3)\n",
    "    # dyLeffSF = rl.IndependentParameter(f\"{year}_dyLeffSF\", 1.0, 0, 3)\n",
    "    \n",
    "    # # Top efficiency\n",
    "    # topeffSF = rl.IndependentParameter(f\"{year}_topeffSF\", 1.0, 0, 3)\n",
    "    # topLeffSF = rl.IndependentParameter(f\"{year}_topLeffSF\", 1.0, 0, 3)\n",
    "\n",
    "    # # WJets efficiency\n",
    "    # wlnueffSF = rl.IndependentParameter(f\"{year}_wlnueffSF_{cat}\", 1.0, 0, 3)\n",
    "    # wlnuLeffSF = rl.IndependentParameter(f\"{year}_wlnuLeffSF_{cat}\", 1.0, 0, 3)\n",
    "    \n",
    "    for channel in channels[:1]:\n",
    "        for i, region in enumerate([\"sig\", \"top_cr\", \"wlnu_cr\"]):\n",
    "            for j, nnreg in enumerate(['pass', 'loose', 'fail']):\n",
    "                ch = rl.Channel(f\"{channel}{region.replace('_', '')}{nnreg}\")\n",
    "                model.addChannel(ch)\n",
    "                \n",
    "                for sName in ['ztt', 'qcd', 'h125'] + ['wlnu', 'top', 'vother']:\n",
    "                    if sName in merge_map.keys():\n",
    "                        sNameFetch = merge_map[sName]\n",
    "                    else:\n",
    "                        sNameFetch = sName\n",
    "                    templ = fetch_temp(channel, region, nnreg, sNameFetch, rebin) \n",
    "                    _mask = templ.values() < 0\n",
    "                    templ.view().value[_mask] = 0.0\n",
    "                    templ.view().variance[_mask] = 0.0\n",
    "                    if np.sum(templ.values()) < 0.000001:\n",
    "                        continue\n",
    "                    stype = rl.Sample.SIGNAL if sName == \"h125\" else rl.Sample.BACKGROUND\n",
    "                    sample = rl.TemplateSample(ch.name + \"_\" + sName, stype, templ)\n",
    "                    sample.setParamEffect(lumi, 1.3)\n",
    "\n",
    "                    if sName in ['top']:\n",
    "                        sample.setParamEffect(sys_tt, 1.3)\n",
    "                    if sName in ['wlnu']:\n",
    "                        sample.setParamEffect(sys_w, 1.3)\n",
    "\n",
    "                    # sample.autoMCStats(epsilon=1e-4)\n",
    "                    ch.addSample(sample)\n",
    "                ch.autoMCStats()\n",
    "\n",
    "          \n",
    "                data_obs = fetch_temp(channel, region, nnreg, 'data', rebin)\n",
    "                data_templ = (data_obs.values(), msd.binning, msd.name)\n",
    "                # data_obs = fetch_temp(channel, region, nnreg, ['zem', 'ztt', 'wjets', 'vqq', 'qcd', 'tt-dilep', 'tt-semilep', 'tt-had', 'st', 'vv', 'h125'])\n",
    "                # print(data_obs)\n",
    "                # data_templ = (np.round(data_obs.values()), data_obs.axes[0].edges, data_obs.axes[0].name)\n",
    "                ch.setObservation(data_templ)\n",
    "\n",
    "            # tqqpass.getExpectation(nominal=True).sum() / tqqfail.getExpectation(nominal=True).sum()\n",
    "\n",
    "\n",
    "        # tqqpass = passCh[\"tqq\"]\n",
    "        # tqqfail = failCh[\"tqq\"]\n",
    "        # tqqPF = tqqpass.getExpectation(nominal=True).sum() / tqqfail.getExpectation(nominal=True).sum()\n",
    "        # tqqpass.setParamEffect(tqqeffSF, 1 * tqqeffSF)\n",
    "        # tqqfail.setParamEffect(tqqeffSF, (1 - tqqeffSF) * tqqPF + 1)\n",
    "        # tqqpass.setParamEffect(tqqnormSF, 1 * tqqnormSF)\n",
    "        # tqqfail.setParamEffect(tqqnormSF, 1 * tqqnormSF)\n",
    "    model.t2w_config = (\"-P HiggsAnalysis.CombinedLimit.PhysicsModel:multiSignalModel  --PO verbose \"\n",
    "                            \"--PO 'map=.*/*h125*:r[1,-500,500]' \")\n",
    "    \n",
    "    import os\n",
    "    os.makedirs(tmpdir, exist_ok=True)\n",
    "    with open(os.path.join(str(tmpdir), \"testModel.pkl\"), \"wb\") as fout:\n",
    "        pickle.dump(model, fout)\n",
    "\n",
    "    model.renderCombine(os.path.join(str(tmpdir), \"testModel\"))\n",
    "\n",
    "test_rhalphabet(\"testfit\")"
   ]
  },
  {
   "cell_type": "code",
   "execution_count": null,
   "id": "b0022b15-65cb-4d70-bf6a-2e2859a79bad",
   "metadata": {},
   "outputs": [],
   "source": [
    "templ"
   ]
  },
  {
   "cell_type": "code",
   "execution_count": null,
   "id": "b4baeb83-229f-4c2a-9b0c-9f6e51d6a910",
   "metadata": {},
   "outputs": [],
   "source": []
  },
  {
   "cell_type": "code",
   "execution_count": null,
   "id": "7a20757c-9c7e-4ae2-9385-4d2b3ba35518",
   "metadata": {},
   "outputs": [],
   "source": []
  },
  {
   "cell_type": "code",
   "execution_count": null,
   "id": "82f21bec-b569-4e41-a02a-78490bfee666",
   "metadata": {},
   "outputs": [],
   "source": []
  }
 ],
 "metadata": {
  "kernelspec": {
   "display_name": "Python [conda env:combinenew]",
   "language": "python",
   "name": "conda-env-combinenew-py"
  },
  "language_info": {
   "codemirror_mode": {
    "name": "ipython",
    "version": 3
   },
   "file_extension": ".py",
   "mimetype": "text/x-python",
   "name": "python",
   "nbconvert_exporter": "python",
   "pygments_lexer": "ipython3",
   "version": "3.11.11"
  }
 },
 "nbformat": 4,
 "nbformat_minor": 5
}
